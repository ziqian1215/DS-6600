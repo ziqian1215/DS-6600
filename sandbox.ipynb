{
 "cells": [
  {
   "cell_type": "code",
   "execution_count": 1,
   "metadata": {},
   "outputs": [],
   "source": [
    "from contrans import contrans"
   ]
  },
  {
   "cell_type": "code",
   "execution_count": 2,
   "metadata": {},
   "outputs": [],
   "source": [
    "ct = contrans()"
   ]
  },
  {
   "cell_type": "code",
   "execution_count": 3,
   "metadata": {},
   "outputs": [],
   "source": [
    "ct.get_crosswalk()"
   ]
  },
  {
   "cell_type": "code",
   "execution_count": 4,
   "metadata": {},
   "outputs": [
    {
     "data": {
      "application/vnd.microsoft.datawrangler.viewer.v0+json": {
       "columns": [
        {
         "name": "index",
         "rawType": "int64",
         "type": "integer"
        },
        {
         "name": "comparison_member",
         "rawType": "object",
         "type": "string"
        },
        {
         "name": "agree",
         "rawType": "float64",
         "type": "float"
        }
       ],
       "ref": "2f1b0359-9f66-465e-b9f3-12f5707b97d9",
       "rows": [
        [
         "156787",
         "JOHNSON, Mike",
         "0.9473684210526316"
        ],
        [
         "156711",
         "AMODEI, Mark E.",
         "0.9395017793594306"
        ],
        [
         "156700",
         "WOMACK, Steve",
         "0.9323843416370108"
        ],
        [
         "156776",
         "BERGMAN, John",
         "0.9323843416370108"
        ],
        [
         "156708",
         "FLEISCHMANN, Chuck",
         "0.9323843416370108"
        ],
        [
         "157059",
         "LUCAS, Frank D.",
         "0.9323843416370108"
        ],
        [
         "156690",
         "THOMPSON, Glenn",
         "0.9323843416370108"
        ],
        [
         "156981",
         "MALOY, Celeste",
         "0.9288256227758008"
        ],
        [
         "156881",
         "KIM, Young",
         "0.9288256227758008"
        ],
        [
         "156645",
         "ISSA, Darrell",
         "0.9288256227758008"
        ],
        [
         "156753",
         "MOOLENAAR, John",
         "0.9288256227758008"
        ],
        [
         "156972",
         "STRONG, Dale",
         "0.9252669039145908"
        ],
        [
         "157053",
         "CALVERT, Ken",
         "0.9252669039145908"
        ],
        [
         "156908",
         "CAREY, Mike",
         "0.9252669039145908"
        ],
        [
         "156869",
         "FEENSTRA, Randy",
         "0.9252669039145908"
        ],
        [
         "156743",
         "HILL, French",
         "0.9252669039145908"
        ],
        [
         "156862",
         "BENTZ, Cliff",
         "0.9252669039145908"
        ],
        [
         "156863",
         "BICE, Stephanie I.",
         "0.9217081850533808"
        ],
        [
         "156637",
         "ROGERS, Harold Dallas (Hal)",
         "0.9217081850533808"
        ],
        [
         "156769",
         "WESTERMAN, Bruce Eugene",
         "0.9217081850533808"
        ],
        [
         "156679",
         "LATTA, Robert E.",
         "0.9181494661921707"
        ],
        [
         "156906",
         "ELLZEY, Jake",
         "0.9181494661921707"
        ],
        [
         "156895",
         "PFLUGER, August",
         "0.9181494661921707"
        ],
        [
         "156848",
         "STEIL, Bryan",
         "0.9181494661921707"
        ],
        [
         "156894",
         "OWENS, Burgess",
         "0.9181494661921707"
        ],
        [
         "156686",
         "GUTHRIE, Brett",
         "0.9181494661921707"
        ],
        [
         "157049",
         "PATRONIS, Jimmy",
         "0.9175257731958762"
        ],
        [
         "157009",
         "HARIDOPOLOS, Mike",
         "0.9145907473309608"
        ],
        [
         "156658",
         "COLE, Tom",
         "0.9145907473309608"
        ],
        [
         "156944",
         "KIGGANS, Jennifer",
         "0.9145907473309608"
        ],
        [
         "156674",
         "SMITH, Adrian",
         "0.9145907473309608"
        ],
        [
         "156943",
         "KEAN, Thomas",
         "0.9145907473309608"
        ],
        [
         "156878",
         "HINSON, Ashley",
         "0.9110320284697508"
        ],
        [
         "156665",
         "McCAUL, Michael T.",
         "0.9110320284697508"
        ],
        [
         "156914",
         "ALFORD, Mark",
         "0.9110320284697508"
        ],
        [
         "156803",
         "BALDERSON, Troy",
         "0.9110320284697508"
        ],
        [
         "156999",
         "EVANS, Gabe",
         "0.9110320284697508"
        ],
        [
         "156774",
         "BACON, Donald J.",
         "0.9074733096085408"
        ],
        [
         "156807",
         "BAIRD, James",
         "0.9074733096085408"
        ],
        [
         "156726",
         "WAGNER, Ann",
         "0.9074733096085408"
        ],
        [
         "156910",
         "FLOOD, Mike",
         "0.9074733096085408"
        ],
        [
         "156890",
         "MOORE, Blake D.",
         "0.9074733096085408"
        ],
        [
         "157019",
         "MACKENZIE, Ryan",
         "0.9074733096085408"
        ],
        [
         "157041",
         "TAYLOR, David J.",
         "0.9074733096085408"
        ],
        [
         "156673",
         "WALBERG, Tim",
         "0.9074733096085408"
        ],
        [
         "156945",
         "KILEY, Kevin",
         "0.9074733096085408"
        ],
        [
         "157024",
         "MCDOWELL, Addison P.",
         "0.9074733096085408"
        ],
        [
         "156825",
         "GUEST, Michael",
         "0.9039145907473308"
        ],
        [
         "156893",
         "OBERNOLTE, Jay",
         "0.9039145907473308"
        ],
        [
         "157012",
         "HURD, Jeff",
         "0.9039145907473308"
        ]
       ],
       "shape": {
        "columns": 2,
        "rows": 442
       }
      },
      "text/html": [
       "<div>\n",
       "<style scoped>\n",
       "    .dataframe tbody tr th:only-of-type {\n",
       "        vertical-align: middle;\n",
       "    }\n",
       "\n",
       "    .dataframe tbody tr th {\n",
       "        vertical-align: top;\n",
       "    }\n",
       "\n",
       "    .dataframe thead th {\n",
       "        text-align: right;\n",
       "    }\n",
       "</style>\n",
       "<table border=\"1\" class=\"dataframe\">\n",
       "  <thead>\n",
       "    <tr style=\"text-align: right;\">\n",
       "      <th></th>\n",
       "      <th>comparison_member</th>\n",
       "      <th>agree</th>\n",
       "    </tr>\n",
       "  </thead>\n",
       "  <tbody>\n",
       "    <tr>\n",
       "      <th>156787</th>\n",
       "      <td>JOHNSON, Mike</td>\n",
       "      <td>0.947368</td>\n",
       "    </tr>\n",
       "    <tr>\n",
       "      <th>156711</th>\n",
       "      <td>AMODEI, Mark E.</td>\n",
       "      <td>0.939502</td>\n",
       "    </tr>\n",
       "    <tr>\n",
       "      <th>156700</th>\n",
       "      <td>WOMACK, Steve</td>\n",
       "      <td>0.932384</td>\n",
       "    </tr>\n",
       "    <tr>\n",
       "      <th>156776</th>\n",
       "      <td>BERGMAN, John</td>\n",
       "      <td>0.932384</td>\n",
       "    </tr>\n",
       "    <tr>\n",
       "      <th>156708</th>\n",
       "      <td>FLEISCHMANN, Chuck</td>\n",
       "      <td>0.932384</td>\n",
       "    </tr>\n",
       "    <tr>\n",
       "      <th>...</th>\n",
       "      <td>...</td>\n",
       "      <td>...</td>\n",
       "    </tr>\n",
       "    <tr>\n",
       "      <th>156702</th>\n",
       "      <td>WILSON, Frederica</td>\n",
       "      <td>0.238434</td>\n",
       "    </tr>\n",
       "    <tr>\n",
       "      <th>156691</th>\n",
       "      <td>CONNOLLY, Gerald E. (Gerry)</td>\n",
       "      <td>0.227941</td>\n",
       "    </tr>\n",
       "    <tr>\n",
       "      <th>156845</th>\n",
       "      <td>SHERRILL, Mikie</td>\n",
       "      <td>0.174377</td>\n",
       "    </tr>\n",
       "    <tr>\n",
       "      <th>157050</th>\n",
       "      <td>WALKINSHAW, James R.</td>\n",
       "      <td>0.157895</td>\n",
       "    </tr>\n",
       "    <tr>\n",
       "      <th>156652</th>\n",
       "      <td>GRIJALVA, Raúl M.</td>\n",
       "      <td>0.000000</td>\n",
       "    </tr>\n",
       "  </tbody>\n",
       "</table>\n",
       "<p>442 rows × 2 columns</p>\n",
       "</div>"
      ],
      "text/plain": [
       "                  comparison_member     agree\n",
       "156787                JOHNSON, Mike  0.947368\n",
       "156711              AMODEI, Mark E.  0.939502\n",
       "156700                WOMACK, Steve  0.932384\n",
       "156776                BERGMAN, John  0.932384\n",
       "156708           FLEISCHMANN, Chuck  0.932384\n",
       "...                             ...       ...\n",
       "156702            WILSON, Frederica  0.238434\n",
       "156691  CONNOLLY, Gerald E. (Gerry)  0.227941\n",
       "156845              SHERRILL, Mikie  0.174377\n",
       "157050         WALKINSHAW, James R.  0.157895\n",
       "156652            GRIJALVA, Raúl M.  0.000000\n",
       "\n",
       "[442 rows x 2 columns]"
      ]
     },
     "execution_count": 4,
     "metadata": {},
     "output_type": "execute_result"
    }
   ],
   "source": [
    "memberinfo = ct.get_member_info(chamber='House', state='CA', district=20)\n",
    "ct.vote_similarity_to_member(memberinfo)"
   ]
  }
 ],
 "metadata": {
  "kernelspec": {
   "display_name": "ds6600",
   "language": "python",
   "name": "python3"
  },
  "language_info": {
   "codemirror_mode": {
    "name": "ipython",
    "version": 3
   },
   "file_extension": ".py",
   "mimetype": "text/x-python",
   "name": "python",
   "nbconvert_exporter": "python",
   "pygments_lexer": "ipython3",
   "version": "3.13.5"
  }
 },
 "nbformat": 4,
 "nbformat_minor": 2
}
