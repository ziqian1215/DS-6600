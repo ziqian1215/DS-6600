{
 "cells": [
  {
   "cell_type": "code",
   "execution_count": 3,
   "metadata": {},
   "outputs": [],
   "source": [
    "import numpy as np\n",
    "import pandas as pd\n",
    "import requests\n",
    "import json\n",
    "import dotenv\n",
    "import os"
   ]
  },
  {
   "cell_type": "markdown",
   "metadata": {},
   "source": [
    "## Getting Biographical Data from the Congress API\n",
    "\n",
    "The most important skill is reading the API documentation efficiently.\n",
    "\n",
    "Look ONLY for these five things:\n",
    "\n",
    "1. Root: the begining part of all URLs associated with this API for getting data back (I often find this in example first)\n",
    "\n",
    "https://api.congress.gov/v3\n",
    "\n",
    "2. Endpoint: the second part of the URL, generally it points to a specific data set to be returned\n",
    "\n",
    "/member/{bioguideID}\n",
    "\n",
    "The curly braces mean:fill this in for wichever member of congress you want\n",
    "\n",
    "3. The headers: data that WE give to the ApI to identity ourselves, and provide othe information if requested\n",
    " * User Agent string: a string that identifies your software. If you are writing a Bot, what is you bot's name, and what methids are you using to access this API.\n",
    "\n",
    " The standard convertion is:\n",
    "\n",
    " 'botname/version (email) python-requests/request-package-version'"
   ]
  },
  {
   "cell_type": "code",
   "execution_count": 5,
   "metadata": {},
   "outputs": [
    {
     "data": {
      "text/plain": [
       "{'User-Agent': 'targ/0.0 (wna6mj@virginia.edu) python-requests/2.32.5'}"
      ]
     },
     "execution_count": 5,
     "metadata": {},
     "output_type": "execute_result"
    }
   ],
   "source": [
    "botname = 'targ'\n",
    "version = '0.0'\n",
    "email = 'wna6mj@virginia.edu'\n",
    "useragent = f'{botname}/{version} ({email}) python-requests/{requests.__version__}'\n",
    "headers = {'User-Agent':useragent}\n",
    "headers"
   ]
  },
  {
   "cell_type": "markdown",
   "metadata": {},
   "source": [
    "4. API Parameters: there are ways to contro; what data is requested. The parameters are generally listed in the documentation for each endpoint. 3 kinds of parameters:\n",
    "\n",
    "* Query parameters: should be listed in a dictionary and passed to the `params` argument of ` requests.get()`\n",
    "\n",
    "* Path parameter: are part of the endpoint (such as bioguideId)\n",
    "\n",
    "* Global parameters: apply to any use fo the API regardless if endpoint. Often that includes your API key. Can be in eith the headers ot the params\n",
    "\n",
    "5. If an API key is needed, how to get one, and how will you let the API know the key?\n",
    "\n",
    "API keys should be saved in a .env file in the same folder as your code. Use `dotenv` package to load the key into your code without ever displaying/exposing your key."
   ]
  },
  {
   "cell_type": "code",
   "execution_count": 27,
   "metadata": {},
   "outputs": [],
   "source": [
    "dotenv.load_dotenv()\n",
    "congresskey =  os.getenv('congresskey')"
   ]
  },
  {
   "cell_type": "code",
   "execution_count": 28,
   "metadata": {},
   "outputs": [],
   "source": [
    "params = {'format': 'json',\n",
    "          'api_key': congresskey}"
   ]
  },
  {
   "cell_type": "markdown",
   "metadata": {},
   "source": [
    "Put is all togethere"
   ]
  },
  {
   "cell_type": "code",
   "execution_count": 29,
   "metadata": {},
   "outputs": [
    {
     "data": {
      "text/plain": [
       "<Response [200]>"
      ]
     },
     "execution_count": 29,
     "metadata": {},
     "output_type": "execute_result"
    }
   ],
   "source": [
    "bioguideId = 'M001239'\n",
    "root = 'https://api.congress.gov/v3'\n",
    "endpoint = f'/member/{bioguideId}'\n",
    "\n",
    "r = requests.get(root + endpoint,\n",
    "                 headers = headers,\n",
    "                 params = params)\n",
    "\n",
    "r"
   ]
  },
  {
   "cell_type": "code",
   "execution_count": 30,
   "metadata": {},
   "outputs": [
    {
     "data": {
      "text/plain": [
       "{'member': {'addressInformation': {'city': 'Washington',\n",
       "   'district': 'DC',\n",
       "   'officeAddress': '1013 Longworth House Office Building',\n",
       "   'phoneNumber': '(202) 225-4711',\n",
       "   'zipCode': 20515},\n",
       "  'bioguideId': 'M001239',\n",
       "  'birthYear': '1968',\n",
       "  'cosponsoredLegislation': {'count': 170,\n",
       "   'url': 'https://api.congress.gov/v3/member/M001239/cosponsored-legislation'},\n",
       "  'currentMember': True,\n",
       "  'depiction': {'attribution': 'Image courtesy of the Member',\n",
       "   'imageUrl': 'https://www.congress.gov/img/member/67744ba20b34857ecc909149_200.jpg'},\n",
       "  'directOrderName': 'John J. McGuire III',\n",
       "  'district': 5,\n",
       "  'firstName': 'John',\n",
       "  'honorificName': 'Mr.',\n",
       "  'invertedOrderName': 'McGuire, John J.',\n",
       "  'lastName': 'McGuire',\n",
       "  'middleName': 'J.',\n",
       "  'officialWebsiteUrl': 'https://mcguire.house.gov/',\n",
       "  'partyHistory': [{'partyAbbreviation': 'R',\n",
       "    'partyName': 'Republican',\n",
       "    'startYear': 2025}],\n",
       "  'previousNames': [{'directOrderName': 'John McGuire',\n",
       "    'endDate': '2025-01-10T17:36:18Z',\n",
       "    'firstName': 'John',\n",
       "    'honorificName': 'Mr.',\n",
       "    'invertedOrderName': 'McGuire, John',\n",
       "    'lastName': 'McGuire',\n",
       "    'middleName': 'J.',\n",
       "    'startDate': '2025-01-03T17:00:00Z'},\n",
       "   {'directOrderName': 'John McGuire',\n",
       "    'endDate': '2025-01-17T04:59:59Z',\n",
       "    'firstName': 'John',\n",
       "    'honorificName': 'Mr.',\n",
       "    'invertedOrderName': 'McGuire, John',\n",
       "    'lastName': 'McGuire',\n",
       "    'middleName': 'J.',\n",
       "    'startDate': '2025-01-10T17:36:19Z'},\n",
       "   {'directOrderName': 'John McGuire',\n",
       "    'endDate': '2025-04-28T13:04:26Z',\n",
       "    'firstName': 'John',\n",
       "    'honorificName': 'Mr.',\n",
       "    'invertedOrderName': 'McGuire, John',\n",
       "    'lastName': 'McGuire',\n",
       "    'middleName': 'J.',\n",
       "    'startDate': '2025-01-17T05:00:00Z'},\n",
       "   {'directOrderName': 'John J. McGuire III',\n",
       "    'firstName': 'John',\n",
       "    'honorificName': 'Mr.',\n",
       "    'invertedOrderName': 'McGuire, John J.',\n",
       "    'lastName': 'McGuire',\n",
       "    'middleName': 'J.',\n",
       "    'startDate': '2025-04-28T13:04:27Z'}],\n",
       "  'sponsoredLegislation': {'count': 9,\n",
       "   'url': 'https://api.congress.gov/v3/member/M001239/sponsored-legislation'},\n",
       "  'state': 'Virginia',\n",
       "  'suffixName': 'III',\n",
       "  'terms': [{'chamber': 'House of Representatives',\n",
       "    'congress': 119,\n",
       "    'district': 5,\n",
       "    'memberType': 'Representative',\n",
       "    'startYear': 2025,\n",
       "    'stateCode': 'VA',\n",
       "    'stateName': 'Virginia'}],\n",
       "  'updateDate': '2025-09-24T07:40:20Z'},\n",
       " 'request': {'bioguideId': 'm001239',\n",
       "  'contentType': 'application/json',\n",
       "  'format': 'json'}}"
      ]
     },
     "execution_count": 30,
     "metadata": {},
     "output_type": "execute_result"
    }
   ],
   "source": [
    "r.json()"
   ]
  },
  {
   "cell_type": "markdown",
   "metadata": {},
   "source": [
    "### Sponsored legislation"
   ]
  },
  {
   "cell_type": "code",
   "execution_count": 31,
   "metadata": {},
   "outputs": [
    {
     "data": {
      "text/plain": [
       "'/member/M001239/sponsored-legislation'"
      ]
     },
     "execution_count": 31,
     "metadata": {},
     "output_type": "execute_result"
    }
   ],
   "source": [
    "endpoint = f'/member/{bioguideId}/sponsored-legislation'\n",
    "endpoint"
   ]
  },
  {
   "cell_type": "code",
   "execution_count": 32,
   "metadata": {},
   "outputs": [],
   "source": [
    "params = {'format': 'json',\n",
    "          'offset': 0,\n",
    "          'limit': 250,\n",
    "          'api_key': congresskey}"
   ]
  },
  {
   "cell_type": "code",
   "execution_count": 33,
   "metadata": {},
   "outputs": [
    {
     "data": {
      "text/plain": [
       "<Response [200]>"
      ]
     },
     "execution_count": 33,
     "metadata": {},
     "output_type": "execute_result"
    }
   ],
   "source": [
    "r = requests.get(root + endpoint,\n",
    "                 headers=headers,\n",
    "                 params=params)\n",
    "r"
   ]
  },
  {
   "cell_type": "code",
   "execution_count": 34,
   "metadata": {},
   "outputs": [],
   "source": [
    "myjson = r.json()"
   ]
  },
  {
   "cell_type": "code",
   "execution_count": 14,
   "metadata": {},
   "outputs": [],
   "source": [
    "#myjson['sponsoredLegislation']\n",
    "\n",
    "sponsoredLegislation_df = pd.json_normalize(myjson, record_path=['sponsoredLegislation'])"
   ]
  },
  {
   "cell_type": "code",
   "execution_count": 15,
   "metadata": {},
   "outputs": [
    {
     "name": "stdout",
     "output_type": "stream",
     "text": [
      "To amend the Internal Revenue Code of 1986 to modify the tax on remittance transfers.\n",
      "To change the name of the Department of Defense to the \"Department of War\", and for other purposes.\n",
      "Border Wall Status Act\n",
      "Make the District of Columbia Safe and Beautiful Act\n",
      "FAIR Act\n",
      "VA Data Transparency and Trust Act\n",
      "Manned Aircraft Clarification Act\n",
      "Uranium for Energy Independence Act of 2025\n",
      "Agricultural and Forestry Hauling Efficiency Act\n"
     ]
    }
   ],
   "source": [
    "for x in sponsoredLegislation_df['title']:\n",
    "    print(x)"
   ]
  },
  {
   "cell_type": "code",
   "execution_count": 16,
   "metadata": {},
   "outputs": [
    {
     "data": {
      "text/plain": [
       "<Response [200]>"
      ]
     },
     "execution_count": 16,
     "metadata": {},
     "output_type": "execute_result"
    }
   ],
   "source": [
    "r = requests.get(sponsoredLegislation_df['url'][3],\n",
    "                 headers=headers,\n",
    "                 params=params)\n",
    "r"
   ]
  },
  {
   "cell_type": "code",
   "execution_count": 17,
   "metadata": {},
   "outputs": [
    {
     "data": {
      "text/plain": [
       "{'bill': {'actions': {'count': 6,\n",
       "   'url': 'https://api.congress.gov/v3/bill/119/hr/5103/actions?format=json'},\n",
       "  'committees': {'count': 2,\n",
       "   'url': 'https://api.congress.gov/v3/bill/119/hr/5103/committees?format=json'},\n",
       "  'congress': 119,\n",
       "  'constitutionalAuthorityStatementText': '<pre>\\n[Congressional Record Volume 171, Number 144 (Wednesday, September 3, 2025)]\\n[House]\\nFrom the Congressional Record Online through the Government Publishing Office [<a href=\"https://www.gpo.gov\">www.gpo.gov</a>]\\nBy Mr. McGUIRE:\\nH.R. 5103.\\nCongress has the power to enact this legislation pursuant\\nto the following:\\nArticle I, Section 8\\n[Page H3829]\\n</pre>',\n",
       "  'cosponsors': {'count': 3,\n",
       "   'countIncludingWithdrawnCosponsors': 3,\n",
       "   'url': 'https://api.congress.gov/v3/bill/119/hr/5103/cosponsors?format=json'},\n",
       "  'introducedDate': '2025-09-03',\n",
       "  'latestAction': {'actionDate': '2025-09-10',\n",
       "   'text': 'Ordered to be Reported (Amended) by the Yeas and Nays: 25 - 19.'},\n",
       "  'legislationUrl': 'https://www.congress.gov/bill/119th-congress/house-bill/5103',\n",
       "  'number': '5103',\n",
       "  'originChamber': 'House',\n",
       "  'originChamberCode': 'H',\n",
       "  'policyArea': {'name': 'Public Lands and Natural Resources'},\n",
       "  'sponsors': [{'bioguideId': 'M001239',\n",
       "    'district': 5,\n",
       "    'firstName': 'John',\n",
       "    'fullName': 'Rep. McGuire, John J. [R-VA-5]',\n",
       "    'isByRequest': 'N',\n",
       "    'lastName': 'McGuire',\n",
       "    'middleName': 'J.',\n",
       "    'party': 'R',\n",
       "    'state': 'VA',\n",
       "    'url': 'https://api.congress.gov/v3/member/M001239?format=json'}],\n",
       "  'subjects': {'count': 14,\n",
       "   'url': 'https://api.congress.gov/v3/bill/119/hr/5103/subjects?format=json'},\n",
       "  'summaries': {'count': 1,\n",
       "   'url': 'https://api.congress.gov/v3/bill/119/hr/5103/summaries?format=json'},\n",
       "  'textVersions': {'count': 1,\n",
       "   'url': 'https://api.congress.gov/v3/bill/119/hr/5103/text?format=json'},\n",
       "  'title': 'Make the District of Columbia Safe and Beautiful Act',\n",
       "  'titles': {'count': 3,\n",
       "   'url': 'https://api.congress.gov/v3/bill/119/hr/5103/titles?format=json'},\n",
       "  'type': 'HR',\n",
       "  'updateDate': '2025-09-29T13:58:13Z',\n",
       "  'updateDateIncludingText': '2025-09-29T13:58:13Z'},\n",
       " 'request': {'billNumber': '5103',\n",
       "  'billType': 'hr',\n",
       "  'congress': '119',\n",
       "  'contentType': 'application/json',\n",
       "  'format': 'json'}}"
      ]
     },
     "execution_count": 17,
     "metadata": {},
     "output_type": "execute_result"
    }
   ],
   "source": [
    "r.json()"
   ]
  },
  {
   "cell_type": "markdown",
   "metadata": {},
   "source": [
    "### FEC Data for financial campaign contributions"
   ]
  },
  {
   "cell_type": "code",
   "execution_count": 125,
   "metadata": {},
   "outputs": [],
   "source": [
    "dotenv.load_dotenv()\n",
    "feckey = os.getenv('feckey')"
   ]
  },
  {
   "cell_type": "code",
   "execution_count": 126,
   "metadata": {},
   "outputs": [
    {
     "data": {
      "text/plain": [
       "<Response [200]>"
      ]
     },
     "execution_count": 126,
     "metadata": {},
     "output_type": "execute_result"
    }
   ],
   "source": [
    "root = 'https://api.open.fec.gov'\n",
    "endpoint = '/v1/candidates/search/'\n",
    "\n",
    "params = {'api_key': feckey,\n",
    "          'q': 'John McGuire',\n",
    "          'state': 'VA',\n",
    "          'district': '5',\n",
    "          'office': 'H',\n",
    "          'year': '2024'}\n",
    "r = requests.get(root + endpoint,\n",
    "                 params=params,\n",
    "                 headers=headers)\n",
    "r"
   ]
  },
  {
   "cell_type": "code",
   "execution_count": 127,
   "metadata": {},
   "outputs": [
    {
     "data": {
      "text/plain": [
       "'H0VA07133'"
      ]
     },
     "execution_count": 127,
     "metadata": {},
     "output_type": "execute_result"
    }
   ],
   "source": [
    "myjson = r.json()\n",
    "candidate_id = myjson['results'][0]['candidate_id']\n",
    "candidate_id"
   ]
  },
  {
   "cell_type": "code",
   "execution_count": 128,
   "metadata": {},
   "outputs": [
    {
     "data": {
      "text/plain": [
       "<Response [200]>"
      ]
     },
     "execution_count": 128,
     "metadata": {},
     "output_type": "execute_result"
    }
   ],
   "source": [
    "endpoint = f'/v1/candidate/{candidate_id}/committees/'\n",
    "params = {'api_key': feckey,\n",
    "          'cycle': 2024}\n",
    "\n",
    "r = requests.get(root + endpoint,\n",
    "                 params=params,\n",
    "                 headers=headers)\n",
    "r   "
   ]
  },
  {
   "cell_type": "code",
   "execution_count": 129,
   "metadata": {},
   "outputs": [
    {
     "data": {
      "text/plain": [
       "['MCGUIRE FOR VIRGINIA', 'MCGUIRE RECOUNT COMMITTEE']"
      ]
     },
     "execution_count": 129,
     "metadata": {},
     "output_type": "execute_result"
    }
   ],
   "source": [
    "[x['name'] for x in r.json()[\"results\"]]"
   ]
  },
  {
   "cell_type": "code",
   "execution_count": 130,
   "metadata": {},
   "outputs": [
    {
     "data": {
      "text/plain": [
       "['C00856831', 'C00900118']"
      ]
     },
     "execution_count": 130,
     "metadata": {},
     "output_type": "execute_result"
    }
   ],
   "source": [
    "committee_ids = [x['committee_id'] for x in r.json()['results']]\n",
    "committee_ids"
   ]
  },
  {
   "cell_type": "code",
   "execution_count": 142,
   "metadata": {},
   "outputs": [
    {
     "data": {
      "text/plain": [
       "<Response [200]>"
      ]
     },
     "execution_count": 142,
     "metadata": {},
     "output_type": "execute_result"
    }
   ],
   "source": [
    "endpoint = '/v1/schedules/schedule_a/'\n",
    "params = {'api_key': feckey,\n",
    "          'committee_id': committee_ids[0],\n",
    "          'per_page': 100,\n",
    "          'sort': '-contribution_receipt_amount'}\n",
    "\n",
    "r = requests.get(root + endpoint,\n",
    "                 params=params,\n",
    "                 headers=headers)\n",
    "r"
   ]
  },
  {
   "cell_type": "code",
   "execution_count": 143,
   "metadata": {},
   "outputs": [
    {
     "data": {
      "application/vnd.microsoft.datawrangler.viewer.v0+json": {
       "columns": [
        {
         "name": "index",
         "rawType": "int64",
         "type": "integer"
        },
        {
         "name": "contributor_name",
         "rawType": "object",
         "type": "string"
        },
        {
         "name": "contributor_aggregate_ytd",
         "rawType": "float64",
         "type": "float"
        },
        {
         "name": "memo_text",
         "rawType": "object",
         "type": "unknown"
        },
        {
         "name": "pdf_url",
         "rawType": "object",
         "type": "string"
        }
       ],
       "ref": "06ebfb53-67be-4f35-920e-a0f2b53e4dcd",
       "rows": [
        [
         "0",
         "MCGUIRE VICTORY FUND",
         "279791.09",
         null,
         "https://docquery.fec.gov/cgi-bin/fecimg/?202406119648929674"
        ],
        [
         "1",
         "MCGUIRE VICTORY FUND",
         "119484.1",
         null,
         "https://docquery.fec.gov/cgi-bin/fecimg/?202401319601166548"
        ],
        [
         "2",
         "MCGUIRE VICTORY FUND",
         "397795.08",
         null,
         "https://docquery.fec.gov/cgi-bin/fecimg/?202407249665723490"
        ],
        [
         "3",
         "MCGUIRE VICTORY FUND",
         "66488.21",
         "TRANSFER FROM JOINT FUNDRAISER",
         "https://docquery.fec.gov/cgi-bin/fecimg/?202509099789856406"
        ],
        [
         "4",
         "MCGUIRE VICTORY FUND",
         "279791.09",
         null,
         "https://docquery.fec.gov/cgi-bin/fecimg/?202406119648929700"
        ],
        [
         "5",
         "MCGUIRE VICTORY FUND",
         "397795.08",
         null,
         "https://docquery.fec.gov/cgi-bin/fecimg/?202407249665723486"
        ],
        [
         "6",
         "MCGUIRE VICTORY FUND",
         "119484.1",
         null,
         "https://docquery.fec.gov/cgi-bin/fecimg/?202401319601166544"
        ],
        [
         "7",
         "MCGUIRE VICTORY FUND",
         "41804.92",
         "TRANSFER FROM JOINT FUNDRAISER",
         "https://docquery.fec.gov/cgi-bin/fecimg/?202509099789856323"
        ],
        [
         "8",
         "MCGUIRE VICTORY FUND",
         "72433.73",
         "TRANSFER FROM JOINT FUNDRAISER",
         "https://docquery.fec.gov/cgi-bin/fecimg/?202509099789856424"
        ],
        [
         "9",
         "MCGUIRE VICTORY FUND",
         "20580.88",
         "TRANSFER FROM JOINT FUNDRAISER",
         "https://docquery.fec.gov/cgi-bin/fecimg/?202509099789856330"
        ],
        [
         "10",
         "MCGUIRE VICTORY FUND",
         "509421.86",
         null,
         "https://docquery.fec.gov/cgi-bin/fecimg/?202412049720254814"
        ],
        [
         "11",
         "MCGUIRE VICTORY FUND",
         "478421.86",
         null,
         "https://docquery.fec.gov/cgi-bin/fecimg/?202412049720254802"
        ],
        [
         "12",
         "MCGUIRE VICTORY FUND",
         "458421.86",
         null,
         "https://docquery.fec.gov/cgi-bin/fecimg/?202408159666199621"
        ],
        [
         "13",
         "MCGUIRE VICTORY FUND",
         "41804.92",
         "TRANSFER FROM JOINT FUNDRAISER",
         "https://docquery.fec.gov/cgi-bin/fecimg/?202509099789856327"
        ],
        [
         "14",
         "MCGUIRE VICTORY FUND",
         "417276.53",
         null,
         "https://docquery.fec.gov/cgi-bin/fecimg/?202408159666199613"
        ],
        [
         "15",
         "GOOD, JOHN JR.",
         "6600.0",
         null,
         "https://docquery.fec.gov/cgi-bin/fecimg/?202412049720254765"
        ],
        [
         "16",
         "MCGUIRE VICTORY FUND",
         "433276.53",
         null,
         "https://docquery.fec.gov/cgi-bin/fecimg/?202408159666199617"
        ],
        [
         "17",
         "JOUHET, FREDERIC",
         "6600.0",
         null,
         "https://docquery.fec.gov/cgi-bin/fecimg/?202401319601166529"
        ],
        [
         "18",
         "MCGUIRE VICTORY FUND",
         "489421.86",
         null,
         "https://docquery.fec.gov/cgi-bin/fecimg/?202412049720254803"
        ],
        [
         "19",
         "MAFRIGE, DAVID Z.",
         "6500.0",
         null,
         "https://docquery.fec.gov/cgi-bin/fecimg/?202509099789856303"
        ],
        [
         "20",
         "HOLTZMAN, WILLIAM",
         "6600.0",
         null,
         "https://docquery.fec.gov/cgi-bin/fecimg/?202408159666199593"
        ],
        [
         "21",
         "REPUBLICAN JEWISH COALITION-PAC (RJC-PAC)",
         "10000.0",
         null,
         "https://docquery.fec.gov/cgi-bin/fecimg/?202407249665723484"
        ],
        [
         "22",
         "RANSON, ROBERT",
         "6600.0",
         null,
         "https://docquery.fec.gov/cgi-bin/fecimg/?202407249665723408"
        ],
        [
         "23",
         "FRIESE, DONALD",
         "6400.0",
         null,
         "https://docquery.fec.gov/cgi-bin/fecimg/?202407249665723314"
        ],
        [
         "24",
         "MAFRIGE, DAVID Z.",
         "6600.0",
         null,
         "https://docquery.fec.gov/cgi-bin/fecimg/?202406119648929660"
        ],
        [
         "25",
         "PETRINE, JAMES",
         "6600.0",
         null,
         "https://docquery.fec.gov/cgi-bin/fecimg/?202503219754469142"
        ],
        [
         "26",
         "FOSTER, WATT",
         "6600.0",
         null,
         "https://docquery.fec.gov/cgi-bin/fecimg/?202503219754469416"
        ],
        [
         "27",
         "MCGUIRE VICTORY FUND",
         "458421.86",
         null,
         "https://docquery.fec.gov/cgi-bin/fecimg/?202408159666199624"
        ],
        [
         "28",
         "REHNERT, GEOFFREY",
         "7000.0",
         null,
         "https://docquery.fec.gov/cgi-bin/fecimg/?202509099789856386"
        ],
        [
         "29",
         "PEROT, ROSS",
         "7000.0",
         null,
         "https://docquery.fec.gov/cgi-bin/fecimg/?202509099789856306"
        ],
        [
         "30",
         "WINRED",
         "40465.89",
         "TOTAL EARMARKED THROUGH CONDUIT. PAC LIMIT NOT AFFECTED.",
         "https://docquery.fec.gov/cgi-bin/fecimg/?202412049720255127"
        ],
        [
         "31",
         "WATSON, GEORGIA",
         "3300.0",
         null,
         "https://docquery.fec.gov/cgi-bin/fecimg/?202412049720255126"
        ],
        [
         "32",
         "LONG, CHARLES",
         "6600.0",
         null,
         "https://docquery.fec.gov/cgi-bin/fecimg/?202509099789856382"
        ],
        [
         "33",
         "KIDAN, ADAM",
         "6600.0",
         null,
         "https://docquery.fec.gov/cgi-bin/fecimg/?202509099789856380"
        ],
        [
         "34",
         "CURT, WALTER",
         "3500.0",
         null,
         "https://docquery.fec.gov/cgi-bin/fecimg/?202509099789856372"
        ],
        [
         "35",
         "STAHL, LEWIS ARNOLD",
         "6600.0",
         null,
         "https://docquery.fec.gov/cgi-bin/fecimg/?202509099789856308"
        ],
        [
         "36",
         "MUSK, ELON",
         "6600.0",
         null,
         "https://docquery.fec.gov/cgi-bin/fecimg/?202509099789856305"
        ],
        [
         "37",
         "COVINGTON, GARY N",
         "6600.0",
         null,
         "https://docquery.fec.gov/cgi-bin/fecimg/?202509099789856297"
        ],
        [
         "38",
         "TOPPER, LEWIS",
         "3300.0",
         null,
         "https://docquery.fec.gov/cgi-bin/fecimg/?202408159666199604"
        ],
        [
         "39",
         "MCKNIGHT, DREW",
         "6600.0",
         null,
         "https://docquery.fec.gov/cgi-bin/fecimg/?202408159666199598"
        ],
        [
         "40",
         "TAYLOR, MARGARETTA J",
         "6600.0",
         null,
         "https://docquery.fec.gov/cgi-bin/fecimg/?202407249665723466"
        ],
        [
         "41",
         "MILLER, MATT",
         "6600.0",
         null,
         "https://docquery.fec.gov/cgi-bin/fecimg/?202407249665723383"
        ],
        [
         "42",
         "DEMOCRACY ENGINE, INC., PAC",
         "252264.86",
         "TOTAL EARMARKED THROUGH CONDUIT. PAC LIMIT NOT AFFECTED.",
         "https://docquery.fec.gov/cgi-bin/fecimg/?202407249665723312"
        ],
        [
         "43",
         "FRANK, TENA",
         "6600.0",
         null,
         "https://docquery.fec.gov/cgi-bin/fecimg/?202407249665723311"
        ],
        [
         "44",
         "WINRED",
         "21429.0",
         "TOTAL EARMARKED THROUGH CONDUIT. PAC LIMIT NOT AFFECTED.",
         "https://docquery.fec.gov/cgi-bin/fecimg/?202407249665723307"
        ],
        [
         "45",
         "FISHER, SHERRILYN",
         "6600.0",
         null,
         "https://docquery.fec.gov/cgi-bin/fecimg/?202407249665723307"
        ],
        [
         "46",
         "WINRED",
         "21429.0",
         "TOTAL EARMARKED THROUGH CONDUIT. PAC LIMIT NOT AFFECTED.",
         "https://docquery.fec.gov/cgi-bin/fecimg/?202407249665723306"
        ],
        [
         "47",
         "FISHER, KENNETH",
         "6600.0",
         null,
         "https://docquery.fec.gov/cgi-bin/fecimg/?202407249665723306"
        ],
        [
         "48",
         "STEDMAN, STUART W",
         "6600.0",
         null,
         "https://docquery.fec.gov/cgi-bin/fecimg/?202406119648929668"
        ],
        [
         "49",
         "STEDMAN, ELIZA",
         "6600.0",
         null,
         "https://docquery.fec.gov/cgi-bin/fecimg/?202406119648929667"
        ]
       ],
       "shape": {
        "columns": 4,
        "rows": 100
       }
      },
      "text/html": [
       "<div>\n",
       "<style scoped>\n",
       "    .dataframe tbody tr th:only-of-type {\n",
       "        vertical-align: middle;\n",
       "    }\n",
       "\n",
       "    .dataframe tbody tr th {\n",
       "        vertical-align: top;\n",
       "    }\n",
       "\n",
       "    .dataframe thead th {\n",
       "        text-align: right;\n",
       "    }\n",
       "</style>\n",
       "<table border=\"1\" class=\"dataframe\">\n",
       "  <thead>\n",
       "    <tr style=\"text-align: right;\">\n",
       "      <th></th>\n",
       "      <th>contributor_name</th>\n",
       "      <th>contributor_aggregate_ytd</th>\n",
       "      <th>memo_text</th>\n",
       "      <th>pdf_url</th>\n",
       "    </tr>\n",
       "  </thead>\n",
       "  <tbody>\n",
       "    <tr>\n",
       "      <th>0</th>\n",
       "      <td>MCGUIRE VICTORY FUND</td>\n",
       "      <td>279791.09</td>\n",
       "      <td>None</td>\n",
       "      <td>https://docquery.fec.gov/cgi-bin/fecimg/?20240...</td>\n",
       "    </tr>\n",
       "    <tr>\n",
       "      <th>1</th>\n",
       "      <td>MCGUIRE VICTORY FUND</td>\n",
       "      <td>119484.10</td>\n",
       "      <td>None</td>\n",
       "      <td>https://docquery.fec.gov/cgi-bin/fecimg/?20240...</td>\n",
       "    </tr>\n",
       "    <tr>\n",
       "      <th>2</th>\n",
       "      <td>MCGUIRE VICTORY FUND</td>\n",
       "      <td>397795.08</td>\n",
       "      <td>None</td>\n",
       "      <td>https://docquery.fec.gov/cgi-bin/fecimg/?20240...</td>\n",
       "    </tr>\n",
       "    <tr>\n",
       "      <th>3</th>\n",
       "      <td>MCGUIRE VICTORY FUND</td>\n",
       "      <td>66488.21</td>\n",
       "      <td>TRANSFER FROM JOINT FUNDRAISER</td>\n",
       "      <td>https://docquery.fec.gov/cgi-bin/fecimg/?20250...</td>\n",
       "    </tr>\n",
       "    <tr>\n",
       "      <th>4</th>\n",
       "      <td>MCGUIRE VICTORY FUND</td>\n",
       "      <td>279791.09</td>\n",
       "      <td>None</td>\n",
       "      <td>https://docquery.fec.gov/cgi-bin/fecimg/?20240...</td>\n",
       "    </tr>\n",
       "    <tr>\n",
       "      <th>...</th>\n",
       "      <td>...</td>\n",
       "      <td>...</td>\n",
       "      <td>...</td>\n",
       "      <td>...</td>\n",
       "    </tr>\n",
       "    <tr>\n",
       "      <th>95</th>\n",
       "      <td>AMERICAN SECURITY PAC</td>\n",
       "      <td>5000.00</td>\n",
       "      <td>None</td>\n",
       "      <td>https://docquery.fec.gov/cgi-bin/fecimg/?20240...</td>\n",
       "    </tr>\n",
       "    <tr>\n",
       "      <th>96</th>\n",
       "      <td>MAJORITY COMMITTEE PAC--MC PAC</td>\n",
       "      <td>10000.00</td>\n",
       "      <td>None</td>\n",
       "      <td>https://docquery.fec.gov/cgi-bin/fecimg/?20240...</td>\n",
       "    </tr>\n",
       "    <tr>\n",
       "      <th>97</th>\n",
       "      <td>MAJORITY COMMITTEE PAC--MC PAC</td>\n",
       "      <td>10000.00</td>\n",
       "      <td>None</td>\n",
       "      <td>https://docquery.fec.gov/cgi-bin/fecimg/?20240...</td>\n",
       "    </tr>\n",
       "    <tr>\n",
       "      <th>98</th>\n",
       "      <td>THE EYE OF THE TIGER PAC</td>\n",
       "      <td>10000.00</td>\n",
       "      <td>None</td>\n",
       "      <td>https://docquery.fec.gov/cgi-bin/fecimg/?20250...</td>\n",
       "    </tr>\n",
       "    <tr>\n",
       "      <th>99</th>\n",
       "      <td>THE EYE OF THE TIGER PAC</td>\n",
       "      <td>10000.00</td>\n",
       "      <td>None</td>\n",
       "      <td>https://docquery.fec.gov/cgi-bin/fecimg/?20250...</td>\n",
       "    </tr>\n",
       "  </tbody>\n",
       "</table>\n",
       "<p>100 rows × 4 columns</p>\n",
       "</div>"
      ],
      "text/plain": [
       "                  contributor_name  contributor_aggregate_ytd  \\\n",
       "0             MCGUIRE VICTORY FUND                  279791.09   \n",
       "1             MCGUIRE VICTORY FUND                  119484.10   \n",
       "2             MCGUIRE VICTORY FUND                  397795.08   \n",
       "3             MCGUIRE VICTORY FUND                   66488.21   \n",
       "4             MCGUIRE VICTORY FUND                  279791.09   \n",
       "..                             ...                        ...   \n",
       "95           AMERICAN SECURITY PAC                    5000.00   \n",
       "96  MAJORITY COMMITTEE PAC--MC PAC                   10000.00   \n",
       "97  MAJORITY COMMITTEE PAC--MC PAC                   10000.00   \n",
       "98        THE EYE OF THE TIGER PAC                   10000.00   \n",
       "99        THE EYE OF THE TIGER PAC                   10000.00   \n",
       "\n",
       "                         memo_text  \\\n",
       "0                             None   \n",
       "1                             None   \n",
       "2                             None   \n",
       "3   TRANSFER FROM JOINT FUNDRAISER   \n",
       "4                             None   \n",
       "..                             ...   \n",
       "95                            None   \n",
       "96                            None   \n",
       "97                            None   \n",
       "98                            None   \n",
       "99                            None   \n",
       "\n",
       "                                              pdf_url  \n",
       "0   https://docquery.fec.gov/cgi-bin/fecimg/?20240...  \n",
       "1   https://docquery.fec.gov/cgi-bin/fecimg/?20240...  \n",
       "2   https://docquery.fec.gov/cgi-bin/fecimg/?20240...  \n",
       "3   https://docquery.fec.gov/cgi-bin/fecimg/?20250...  \n",
       "4   https://docquery.fec.gov/cgi-bin/fecimg/?20240...  \n",
       "..                                                ...  \n",
       "95  https://docquery.fec.gov/cgi-bin/fecimg/?20240...  \n",
       "96  https://docquery.fec.gov/cgi-bin/fecimg/?20240...  \n",
       "97  https://docquery.fec.gov/cgi-bin/fecimg/?20240...  \n",
       "98  https://docquery.fec.gov/cgi-bin/fecimg/?20250...  \n",
       "99  https://docquery.fec.gov/cgi-bin/fecimg/?20250...  \n",
       "\n",
       "[100 rows x 4 columns]"
      ]
     },
     "execution_count": 143,
     "metadata": {},
     "output_type": "execute_result"
    }
   ],
   "source": [
    "contrib_dict = [{'contributor_name': x['contributor_name'],\n",
    "                'contributor_aggregate_ytd': x['contributor_aggregate_ytd'],\n",
    "                'memo_text': x['memo_text'],\n",
    "                'pdf_url': x['pdf_url']} for x in r.json()['results']]\n",
    "\n",
    "pd.DataFrame(contrib_dict)\n"
   ]
  },
  {
   "cell_type": "code",
   "execution_count": 133,
   "metadata": {},
   "outputs": [],
   "source": [
    "lastindex = r.json()['pagination']['last_indexes']"
   ]
  },
  {
   "cell_type": "code",
   "execution_count": 134,
   "metadata": {},
   "outputs": [
    {
     "data": {
      "text/plain": [
       "{'last_contribution_receipt_amount': '1000.00',\n",
       " 'last_index': '4071720251209144543'}"
      ]
     },
     "execution_count": 134,
     "metadata": {},
     "output_type": "execute_result"
    }
   ],
   "source": [
    "lastindex"
   ]
  },
  {
   "cell_type": "code",
   "execution_count": 120,
   "metadata": {},
   "outputs": [],
   "source": [
    "params['last_contribution_receipt_amount']=lastindex['last_contribution_receipt_amount']\n",
    "params['last_index']=lastindex['last_index']"
   ]
  },
  {
   "cell_type": "code",
   "execution_count": 121,
   "metadata": {},
   "outputs": [
    {
     "data": {
      "text/plain": [
       "<Response [200]>"
      ]
     },
     "execution_count": 121,
     "metadata": {},
     "output_type": "execute_result"
    }
   ],
   "source": [
    "r = requests.get(root + endpoint,\n",
    "                 params=params,\n",
    "                 headers=headers)\n",
    "r"
   ]
  },
  {
   "cell_type": "code",
   "execution_count": 144,
   "metadata": {},
   "outputs": [
    {
     "data": {
      "application/vnd.microsoft.datawrangler.viewer.v0+json": {
       "columns": [
        {
         "name": "index",
         "rawType": "int64",
         "type": "integer"
        },
        {
         "name": "contributor_name",
         "rawType": "object",
         "type": "string"
        },
        {
         "name": "contributor_aggregate_ytd",
         "rawType": "float64",
         "type": "float"
        },
        {
         "name": "memo_text",
         "rawType": "object",
         "type": "unknown"
        },
        {
         "name": "pdf_url",
         "rawType": "object",
         "type": "string"
        }
       ],
       "ref": "a75f97b4-01da-4471-ac1d-c68212fb2d2a",
       "rows": [
        [
         "0",
         "MCGUIRE VICTORY FUND",
         "279791.09",
         null,
         "https://docquery.fec.gov/cgi-bin/fecimg/?202406119648929674"
        ],
        [
         "1",
         "MCGUIRE VICTORY FUND",
         "119484.1",
         null,
         "https://docquery.fec.gov/cgi-bin/fecimg/?202401319601166548"
        ],
        [
         "2",
         "MCGUIRE VICTORY FUND",
         "397795.08",
         null,
         "https://docquery.fec.gov/cgi-bin/fecimg/?202407249665723490"
        ],
        [
         "3",
         "MCGUIRE VICTORY FUND",
         "66488.21",
         "TRANSFER FROM JOINT FUNDRAISER",
         "https://docquery.fec.gov/cgi-bin/fecimg/?202509099789856406"
        ],
        [
         "4",
         "MCGUIRE VICTORY FUND",
         "279791.09",
         null,
         "https://docquery.fec.gov/cgi-bin/fecimg/?202406119648929700"
        ],
        [
         "5",
         "MCGUIRE VICTORY FUND",
         "397795.08",
         null,
         "https://docquery.fec.gov/cgi-bin/fecimg/?202407249665723486"
        ],
        [
         "6",
         "MCGUIRE VICTORY FUND",
         "119484.1",
         null,
         "https://docquery.fec.gov/cgi-bin/fecimg/?202401319601166544"
        ],
        [
         "7",
         "MCGUIRE VICTORY FUND",
         "41804.92",
         "TRANSFER FROM JOINT FUNDRAISER",
         "https://docquery.fec.gov/cgi-bin/fecimg/?202509099789856323"
        ],
        [
         "8",
         "MCGUIRE VICTORY FUND",
         "72433.73",
         "TRANSFER FROM JOINT FUNDRAISER",
         "https://docquery.fec.gov/cgi-bin/fecimg/?202509099789856424"
        ],
        [
         "9",
         "MCGUIRE VICTORY FUND",
         "20580.88",
         "TRANSFER FROM JOINT FUNDRAISER",
         "https://docquery.fec.gov/cgi-bin/fecimg/?202509099789856330"
        ],
        [
         "10",
         "MCGUIRE VICTORY FUND",
         "509421.86",
         null,
         "https://docquery.fec.gov/cgi-bin/fecimg/?202412049720254814"
        ],
        [
         "11",
         "MCGUIRE VICTORY FUND",
         "478421.86",
         null,
         "https://docquery.fec.gov/cgi-bin/fecimg/?202412049720254802"
        ],
        [
         "12",
         "MCGUIRE VICTORY FUND",
         "458421.86",
         null,
         "https://docquery.fec.gov/cgi-bin/fecimg/?202408159666199621"
        ],
        [
         "13",
         "MCGUIRE VICTORY FUND",
         "41804.92",
         "TRANSFER FROM JOINT FUNDRAISER",
         "https://docquery.fec.gov/cgi-bin/fecimg/?202509099789856327"
        ],
        [
         "14",
         "MCGUIRE VICTORY FUND",
         "417276.53",
         null,
         "https://docquery.fec.gov/cgi-bin/fecimg/?202408159666199613"
        ],
        [
         "15",
         "GOOD, JOHN JR.",
         "6600.0",
         null,
         "https://docquery.fec.gov/cgi-bin/fecimg/?202412049720254765"
        ],
        [
         "16",
         "MCGUIRE VICTORY FUND",
         "433276.53",
         null,
         "https://docquery.fec.gov/cgi-bin/fecimg/?202408159666199617"
        ],
        [
         "17",
         "JOUHET, FREDERIC",
         "6600.0",
         null,
         "https://docquery.fec.gov/cgi-bin/fecimg/?202401319601166529"
        ],
        [
         "18",
         "MCGUIRE VICTORY FUND",
         "489421.86",
         null,
         "https://docquery.fec.gov/cgi-bin/fecimg/?202412049720254803"
        ],
        [
         "19",
         "MAFRIGE, DAVID Z.",
         "6500.0",
         null,
         "https://docquery.fec.gov/cgi-bin/fecimg/?202509099789856303"
        ],
        [
         "20",
         "HOLTZMAN, WILLIAM",
         "6600.0",
         null,
         "https://docquery.fec.gov/cgi-bin/fecimg/?202408159666199593"
        ],
        [
         "21",
         "REPUBLICAN JEWISH COALITION-PAC (RJC-PAC)",
         "10000.0",
         null,
         "https://docquery.fec.gov/cgi-bin/fecimg/?202407249665723484"
        ],
        [
         "22",
         "RANSON, ROBERT",
         "6600.0",
         null,
         "https://docquery.fec.gov/cgi-bin/fecimg/?202407249665723408"
        ],
        [
         "23",
         "FRIESE, DONALD",
         "6400.0",
         null,
         "https://docquery.fec.gov/cgi-bin/fecimg/?202407249665723314"
        ],
        [
         "24",
         "MAFRIGE, DAVID Z.",
         "6600.0",
         null,
         "https://docquery.fec.gov/cgi-bin/fecimg/?202406119648929660"
        ],
        [
         "25",
         "PETRINE, JAMES",
         "6600.0",
         null,
         "https://docquery.fec.gov/cgi-bin/fecimg/?202503219754469142"
        ],
        [
         "26",
         "FOSTER, WATT",
         "6600.0",
         null,
         "https://docquery.fec.gov/cgi-bin/fecimg/?202503219754469416"
        ],
        [
         "27",
         "MCGUIRE VICTORY FUND",
         "458421.86",
         null,
         "https://docquery.fec.gov/cgi-bin/fecimg/?202408159666199624"
        ],
        [
         "28",
         "REHNERT, GEOFFREY",
         "7000.0",
         null,
         "https://docquery.fec.gov/cgi-bin/fecimg/?202509099789856386"
        ],
        [
         "29",
         "PEROT, ROSS",
         "7000.0",
         null,
         "https://docquery.fec.gov/cgi-bin/fecimg/?202509099789856306"
        ],
        [
         "30",
         "WINRED",
         "40465.89",
         "TOTAL EARMARKED THROUGH CONDUIT. PAC LIMIT NOT AFFECTED.",
         "https://docquery.fec.gov/cgi-bin/fecimg/?202412049720255127"
        ],
        [
         "31",
         "WATSON, GEORGIA",
         "3300.0",
         null,
         "https://docquery.fec.gov/cgi-bin/fecimg/?202412049720255126"
        ],
        [
         "32",
         "LONG, CHARLES",
         "6600.0",
         null,
         "https://docquery.fec.gov/cgi-bin/fecimg/?202509099789856382"
        ],
        [
         "33",
         "KIDAN, ADAM",
         "6600.0",
         null,
         "https://docquery.fec.gov/cgi-bin/fecimg/?202509099789856380"
        ],
        [
         "34",
         "CURT, WALTER",
         "3500.0",
         null,
         "https://docquery.fec.gov/cgi-bin/fecimg/?202509099789856372"
        ],
        [
         "35",
         "STAHL, LEWIS ARNOLD",
         "6600.0",
         null,
         "https://docquery.fec.gov/cgi-bin/fecimg/?202509099789856308"
        ],
        [
         "36",
         "MUSK, ELON",
         "6600.0",
         null,
         "https://docquery.fec.gov/cgi-bin/fecimg/?202509099789856305"
        ],
        [
         "37",
         "COVINGTON, GARY N",
         "6600.0",
         null,
         "https://docquery.fec.gov/cgi-bin/fecimg/?202509099789856297"
        ],
        [
         "38",
         "TOPPER, LEWIS",
         "3300.0",
         null,
         "https://docquery.fec.gov/cgi-bin/fecimg/?202408159666199604"
        ],
        [
         "39",
         "MCKNIGHT, DREW",
         "6600.0",
         null,
         "https://docquery.fec.gov/cgi-bin/fecimg/?202408159666199598"
        ],
        [
         "40",
         "TAYLOR, MARGARETTA J",
         "6600.0",
         null,
         "https://docquery.fec.gov/cgi-bin/fecimg/?202407249665723466"
        ],
        [
         "41",
         "MILLER, MATT",
         "6600.0",
         null,
         "https://docquery.fec.gov/cgi-bin/fecimg/?202407249665723383"
        ],
        [
         "42",
         "DEMOCRACY ENGINE, INC., PAC",
         "252264.86",
         "TOTAL EARMARKED THROUGH CONDUIT. PAC LIMIT NOT AFFECTED.",
         "https://docquery.fec.gov/cgi-bin/fecimg/?202407249665723312"
        ],
        [
         "43",
         "FRANK, TENA",
         "6600.0",
         null,
         "https://docquery.fec.gov/cgi-bin/fecimg/?202407249665723311"
        ],
        [
         "44",
         "WINRED",
         "21429.0",
         "TOTAL EARMARKED THROUGH CONDUIT. PAC LIMIT NOT AFFECTED.",
         "https://docquery.fec.gov/cgi-bin/fecimg/?202407249665723307"
        ],
        [
         "45",
         "FISHER, SHERRILYN",
         "6600.0",
         null,
         "https://docquery.fec.gov/cgi-bin/fecimg/?202407249665723307"
        ],
        [
         "46",
         "WINRED",
         "21429.0",
         "TOTAL EARMARKED THROUGH CONDUIT. PAC LIMIT NOT AFFECTED.",
         "https://docquery.fec.gov/cgi-bin/fecimg/?202407249665723306"
        ],
        [
         "47",
         "FISHER, KENNETH",
         "6600.0",
         null,
         "https://docquery.fec.gov/cgi-bin/fecimg/?202407249665723306"
        ],
        [
         "48",
         "STEDMAN, STUART W",
         "6600.0",
         null,
         "https://docquery.fec.gov/cgi-bin/fecimg/?202406119648929668"
        ],
        [
         "49",
         "STEDMAN, ELIZA",
         "6600.0",
         null,
         "https://docquery.fec.gov/cgi-bin/fecimg/?202406119648929667"
        ]
       ],
       "shape": {
        "columns": 4,
        "rows": 100
       }
      },
      "text/html": [
       "<div>\n",
       "<style scoped>\n",
       "    .dataframe tbody tr th:only-of-type {\n",
       "        vertical-align: middle;\n",
       "    }\n",
       "\n",
       "    .dataframe tbody tr th {\n",
       "        vertical-align: top;\n",
       "    }\n",
       "\n",
       "    .dataframe thead th {\n",
       "        text-align: right;\n",
       "    }\n",
       "</style>\n",
       "<table border=\"1\" class=\"dataframe\">\n",
       "  <thead>\n",
       "    <tr style=\"text-align: right;\">\n",
       "      <th></th>\n",
       "      <th>contributor_name</th>\n",
       "      <th>contributor_aggregate_ytd</th>\n",
       "      <th>memo_text</th>\n",
       "      <th>pdf_url</th>\n",
       "    </tr>\n",
       "  </thead>\n",
       "  <tbody>\n",
       "    <tr>\n",
       "      <th>0</th>\n",
       "      <td>MCGUIRE VICTORY FUND</td>\n",
       "      <td>279791.09</td>\n",
       "      <td>None</td>\n",
       "      <td>https://docquery.fec.gov/cgi-bin/fecimg/?20240...</td>\n",
       "    </tr>\n",
       "    <tr>\n",
       "      <th>1</th>\n",
       "      <td>MCGUIRE VICTORY FUND</td>\n",
       "      <td>119484.10</td>\n",
       "      <td>None</td>\n",
       "      <td>https://docquery.fec.gov/cgi-bin/fecimg/?20240...</td>\n",
       "    </tr>\n",
       "    <tr>\n",
       "      <th>2</th>\n",
       "      <td>MCGUIRE VICTORY FUND</td>\n",
       "      <td>397795.08</td>\n",
       "      <td>None</td>\n",
       "      <td>https://docquery.fec.gov/cgi-bin/fecimg/?20240...</td>\n",
       "    </tr>\n",
       "    <tr>\n",
       "      <th>3</th>\n",
       "      <td>MCGUIRE VICTORY FUND</td>\n",
       "      <td>66488.21</td>\n",
       "      <td>TRANSFER FROM JOINT FUNDRAISER</td>\n",
       "      <td>https://docquery.fec.gov/cgi-bin/fecimg/?20250...</td>\n",
       "    </tr>\n",
       "    <tr>\n",
       "      <th>4</th>\n",
       "      <td>MCGUIRE VICTORY FUND</td>\n",
       "      <td>279791.09</td>\n",
       "      <td>None</td>\n",
       "      <td>https://docquery.fec.gov/cgi-bin/fecimg/?20240...</td>\n",
       "    </tr>\n",
       "    <tr>\n",
       "      <th>...</th>\n",
       "      <td>...</td>\n",
       "      <td>...</td>\n",
       "      <td>...</td>\n",
       "      <td>...</td>\n",
       "    </tr>\n",
       "    <tr>\n",
       "      <th>95</th>\n",
       "      <td>AMERICAN SECURITY PAC</td>\n",
       "      <td>5000.00</td>\n",
       "      <td>None</td>\n",
       "      <td>https://docquery.fec.gov/cgi-bin/fecimg/?20240...</td>\n",
       "    </tr>\n",
       "    <tr>\n",
       "      <th>96</th>\n",
       "      <td>MAJORITY COMMITTEE PAC--MC PAC</td>\n",
       "      <td>10000.00</td>\n",
       "      <td>None</td>\n",
       "      <td>https://docquery.fec.gov/cgi-bin/fecimg/?20240...</td>\n",
       "    </tr>\n",
       "    <tr>\n",
       "      <th>97</th>\n",
       "      <td>MAJORITY COMMITTEE PAC--MC PAC</td>\n",
       "      <td>10000.00</td>\n",
       "      <td>None</td>\n",
       "      <td>https://docquery.fec.gov/cgi-bin/fecimg/?20240...</td>\n",
       "    </tr>\n",
       "    <tr>\n",
       "      <th>98</th>\n",
       "      <td>THE EYE OF THE TIGER PAC</td>\n",
       "      <td>10000.00</td>\n",
       "      <td>None</td>\n",
       "      <td>https://docquery.fec.gov/cgi-bin/fecimg/?20250...</td>\n",
       "    </tr>\n",
       "    <tr>\n",
       "      <th>99</th>\n",
       "      <td>THE EYE OF THE TIGER PAC</td>\n",
       "      <td>10000.00</td>\n",
       "      <td>None</td>\n",
       "      <td>https://docquery.fec.gov/cgi-bin/fecimg/?20250...</td>\n",
       "    </tr>\n",
       "  </tbody>\n",
       "</table>\n",
       "<p>100 rows × 4 columns</p>\n",
       "</div>"
      ],
      "text/plain": [
       "                  contributor_name  contributor_aggregate_ytd  \\\n",
       "0             MCGUIRE VICTORY FUND                  279791.09   \n",
       "1             MCGUIRE VICTORY FUND                  119484.10   \n",
       "2             MCGUIRE VICTORY FUND                  397795.08   \n",
       "3             MCGUIRE VICTORY FUND                   66488.21   \n",
       "4             MCGUIRE VICTORY FUND                  279791.09   \n",
       "..                             ...                        ...   \n",
       "95           AMERICAN SECURITY PAC                    5000.00   \n",
       "96  MAJORITY COMMITTEE PAC--MC PAC                   10000.00   \n",
       "97  MAJORITY COMMITTEE PAC--MC PAC                   10000.00   \n",
       "98        THE EYE OF THE TIGER PAC                   10000.00   \n",
       "99        THE EYE OF THE TIGER PAC                   10000.00   \n",
       "\n",
       "                         memo_text  \\\n",
       "0                             None   \n",
       "1                             None   \n",
       "2                             None   \n",
       "3   TRANSFER FROM JOINT FUNDRAISER   \n",
       "4                             None   \n",
       "..                             ...   \n",
       "95                            None   \n",
       "96                            None   \n",
       "97                            None   \n",
       "98                            None   \n",
       "99                            None   \n",
       "\n",
       "                                              pdf_url  \n",
       "0   https://docquery.fec.gov/cgi-bin/fecimg/?20240...  \n",
       "1   https://docquery.fec.gov/cgi-bin/fecimg/?20240...  \n",
       "2   https://docquery.fec.gov/cgi-bin/fecimg/?20240...  \n",
       "3   https://docquery.fec.gov/cgi-bin/fecimg/?20250...  \n",
       "4   https://docquery.fec.gov/cgi-bin/fecimg/?20240...  \n",
       "..                                                ...  \n",
       "95  https://docquery.fec.gov/cgi-bin/fecimg/?20240...  \n",
       "96  https://docquery.fec.gov/cgi-bin/fecimg/?20240...  \n",
       "97  https://docquery.fec.gov/cgi-bin/fecimg/?20240...  \n",
       "98  https://docquery.fec.gov/cgi-bin/fecimg/?20250...  \n",
       "99  https://docquery.fec.gov/cgi-bin/fecimg/?20250...  \n",
       "\n",
       "[100 rows x 4 columns]"
      ]
     },
     "execution_count": 144,
     "metadata": {},
     "output_type": "execute_result"
    }
   ],
   "source": [
    "contrib_dict = [{'contributor_name': x['contributor_name'],\n",
    "                'contributor_aggregate_ytd': x['contributor_aggregate_ytd'],\n",
    "                'memo_text': x['memo_text'],\n",
    "                'pdf_url': x['pdf_url']} for x in r.json()['results']]\n",
    "\n",
    "pd.DataFrame(contrib_dict)"
   ]
  },
  {
   "cell_type": "markdown",
   "metadata": {},
   "source": [
    "### Loop over all contributions to McGuire"
   ]
  },
  {
   "cell_type": "code",
   "execution_count": 145,
   "metadata": {},
   "outputs": [
    {
     "name": "stdout",
     "output_type": "stream",
     "text": [
      "100\n",
      "200\n",
      "300\n",
      "400\n",
      "500\n",
      "600\n",
      "700\n",
      "800\n",
      "900\n",
      "1000\n",
      "1100\n",
      "1200\n",
      "1300\n",
      "1400\n",
      "1500\n",
      "1600\n",
      "1700\n",
      "1771\n"
     ]
    },
    {
     "data": {
      "application/vnd.microsoft.datawrangler.viewer.v0+json": {
       "columns": [
        {
         "name": "index",
         "rawType": "int64",
         "type": "integer"
        },
        {
         "name": "contributor_name",
         "rawType": "object",
         "type": "string"
        },
        {
         "name": "contributor_aggregate_ytd",
         "rawType": "float64",
         "type": "float"
        },
        {
         "name": "memo_text",
         "rawType": "object",
         "type": "unknown"
        },
        {
         "name": "pdf_url",
         "rawType": "object",
         "type": "string"
        }
       ],
       "ref": "8d0aed40-0328-42fe-a464-cdc133785ddd",
       "rows": [
        [
         "0",
         "MCGUIRE VICTORY FUND",
         "279791.09",
         null,
         "https://docquery.fec.gov/cgi-bin/fecimg/?202406119648929674"
        ],
        [
         "1",
         "MCGUIRE VICTORY FUND",
         "119484.1",
         null,
         "https://docquery.fec.gov/cgi-bin/fecimg/?202401319601166548"
        ],
        [
         "2",
         "MCGUIRE VICTORY FUND",
         "397795.08",
         null,
         "https://docquery.fec.gov/cgi-bin/fecimg/?202407249665723490"
        ],
        [
         "3",
         "MCGUIRE VICTORY FUND",
         "66488.21",
         "TRANSFER FROM JOINT FUNDRAISER",
         "https://docquery.fec.gov/cgi-bin/fecimg/?202509099789856406"
        ],
        [
         "4",
         "MCGUIRE VICTORY FUND",
         "279791.09",
         null,
         "https://docquery.fec.gov/cgi-bin/fecimg/?202406119648929700"
        ],
        [
         "5",
         "MCGUIRE VICTORY FUND",
         "397795.08",
         null,
         "https://docquery.fec.gov/cgi-bin/fecimg/?202407249665723486"
        ],
        [
         "6",
         "MCGUIRE VICTORY FUND",
         "119484.1",
         null,
         "https://docquery.fec.gov/cgi-bin/fecimg/?202401319601166544"
        ],
        [
         "7",
         "MCGUIRE VICTORY FUND",
         "41804.92",
         "TRANSFER FROM JOINT FUNDRAISER",
         "https://docquery.fec.gov/cgi-bin/fecimg/?202509099789856323"
        ],
        [
         "8",
         "MCGUIRE VICTORY FUND",
         "72433.73",
         "TRANSFER FROM JOINT FUNDRAISER",
         "https://docquery.fec.gov/cgi-bin/fecimg/?202509099789856424"
        ],
        [
         "9",
         "MCGUIRE VICTORY FUND",
         "20580.88",
         "TRANSFER FROM JOINT FUNDRAISER",
         "https://docquery.fec.gov/cgi-bin/fecimg/?202509099789856330"
        ],
        [
         "10",
         "MCGUIRE VICTORY FUND",
         "509421.86",
         null,
         "https://docquery.fec.gov/cgi-bin/fecimg/?202412049720254814"
        ],
        [
         "11",
         "MCGUIRE VICTORY FUND",
         "478421.86",
         null,
         "https://docquery.fec.gov/cgi-bin/fecimg/?202412049720254802"
        ],
        [
         "12",
         "MCGUIRE VICTORY FUND",
         "458421.86",
         null,
         "https://docquery.fec.gov/cgi-bin/fecimg/?202408159666199621"
        ],
        [
         "13",
         "MCGUIRE VICTORY FUND",
         "41804.92",
         "TRANSFER FROM JOINT FUNDRAISER",
         "https://docquery.fec.gov/cgi-bin/fecimg/?202509099789856327"
        ],
        [
         "14",
         "MCGUIRE VICTORY FUND",
         "417276.53",
         null,
         "https://docquery.fec.gov/cgi-bin/fecimg/?202408159666199613"
        ],
        [
         "15",
         "GOOD, JOHN JR.",
         "6600.0",
         null,
         "https://docquery.fec.gov/cgi-bin/fecimg/?202412049720254765"
        ],
        [
         "16",
         "MCGUIRE VICTORY FUND",
         "433276.53",
         null,
         "https://docquery.fec.gov/cgi-bin/fecimg/?202408159666199617"
        ],
        [
         "17",
         "JOUHET, FREDERIC",
         "6600.0",
         null,
         "https://docquery.fec.gov/cgi-bin/fecimg/?202401319601166529"
        ],
        [
         "18",
         "MCGUIRE VICTORY FUND",
         "489421.86",
         null,
         "https://docquery.fec.gov/cgi-bin/fecimg/?202412049720254803"
        ],
        [
         "19",
         "MAFRIGE, DAVID Z.",
         "6500.0",
         null,
         "https://docquery.fec.gov/cgi-bin/fecimg/?202509099789856303"
        ],
        [
         "20",
         "HOLTZMAN, WILLIAM",
         "6600.0",
         null,
         "https://docquery.fec.gov/cgi-bin/fecimg/?202408159666199593"
        ],
        [
         "21",
         "REPUBLICAN JEWISH COALITION-PAC (RJC-PAC)",
         "10000.0",
         null,
         "https://docquery.fec.gov/cgi-bin/fecimg/?202407249665723484"
        ],
        [
         "22",
         "RANSON, ROBERT",
         "6600.0",
         null,
         "https://docquery.fec.gov/cgi-bin/fecimg/?202407249665723408"
        ],
        [
         "23",
         "FRIESE, DONALD",
         "6400.0",
         null,
         "https://docquery.fec.gov/cgi-bin/fecimg/?202407249665723314"
        ],
        [
         "24",
         "MAFRIGE, DAVID Z.",
         "6600.0",
         null,
         "https://docquery.fec.gov/cgi-bin/fecimg/?202406119648929660"
        ],
        [
         "25",
         "PETRINE, JAMES",
         "6600.0",
         null,
         "https://docquery.fec.gov/cgi-bin/fecimg/?202503219754469142"
        ],
        [
         "26",
         "FOSTER, WATT",
         "6600.0",
         null,
         "https://docquery.fec.gov/cgi-bin/fecimg/?202503219754469416"
        ],
        [
         "27",
         "MCGUIRE VICTORY FUND",
         "458421.86",
         null,
         "https://docquery.fec.gov/cgi-bin/fecimg/?202408159666199624"
        ],
        [
         "28",
         "REHNERT, GEOFFREY",
         "7000.0",
         null,
         "https://docquery.fec.gov/cgi-bin/fecimg/?202509099789856386"
        ],
        [
         "29",
         "PEROT, ROSS",
         "7000.0",
         null,
         "https://docquery.fec.gov/cgi-bin/fecimg/?202509099789856306"
        ],
        [
         "30",
         "WINRED",
         "40465.89",
         "TOTAL EARMARKED THROUGH CONDUIT. PAC LIMIT NOT AFFECTED.",
         "https://docquery.fec.gov/cgi-bin/fecimg/?202412049720255127"
        ],
        [
         "31",
         "WATSON, GEORGIA",
         "3300.0",
         null,
         "https://docquery.fec.gov/cgi-bin/fecimg/?202412049720255126"
        ],
        [
         "32",
         "LONG, CHARLES",
         "6600.0",
         null,
         "https://docquery.fec.gov/cgi-bin/fecimg/?202509099789856382"
        ],
        [
         "33",
         "KIDAN, ADAM",
         "6600.0",
         null,
         "https://docquery.fec.gov/cgi-bin/fecimg/?202509099789856380"
        ],
        [
         "34",
         "CURT, WALTER",
         "3500.0",
         null,
         "https://docquery.fec.gov/cgi-bin/fecimg/?202509099789856372"
        ],
        [
         "35",
         "STAHL, LEWIS ARNOLD",
         "6600.0",
         null,
         "https://docquery.fec.gov/cgi-bin/fecimg/?202509099789856308"
        ],
        [
         "36",
         "MUSK, ELON",
         "6600.0",
         null,
         "https://docquery.fec.gov/cgi-bin/fecimg/?202509099789856305"
        ],
        [
         "37",
         "COVINGTON, GARY N",
         "6600.0",
         null,
         "https://docquery.fec.gov/cgi-bin/fecimg/?202509099789856297"
        ],
        [
         "38",
         "TOPPER, LEWIS",
         "3300.0",
         null,
         "https://docquery.fec.gov/cgi-bin/fecimg/?202408159666199604"
        ],
        [
         "39",
         "MCKNIGHT, DREW",
         "6600.0",
         null,
         "https://docquery.fec.gov/cgi-bin/fecimg/?202408159666199598"
        ],
        [
         "40",
         "TAYLOR, MARGARETTA J",
         "6600.0",
         null,
         "https://docquery.fec.gov/cgi-bin/fecimg/?202407249665723466"
        ],
        [
         "41",
         "MILLER, MATT",
         "6600.0",
         null,
         "https://docquery.fec.gov/cgi-bin/fecimg/?202407249665723383"
        ],
        [
         "42",
         "DEMOCRACY ENGINE, INC., PAC",
         "252264.86",
         "TOTAL EARMARKED THROUGH CONDUIT. PAC LIMIT NOT AFFECTED.",
         "https://docquery.fec.gov/cgi-bin/fecimg/?202407249665723312"
        ],
        [
         "43",
         "FRANK, TENA",
         "6600.0",
         null,
         "https://docquery.fec.gov/cgi-bin/fecimg/?202407249665723311"
        ],
        [
         "44",
         "WINRED",
         "21429.0",
         "TOTAL EARMARKED THROUGH CONDUIT. PAC LIMIT NOT AFFECTED.",
         "https://docquery.fec.gov/cgi-bin/fecimg/?202407249665723307"
        ],
        [
         "45",
         "FISHER, SHERRILYN",
         "6600.0",
         null,
         "https://docquery.fec.gov/cgi-bin/fecimg/?202407249665723307"
        ],
        [
         "46",
         "WINRED",
         "21429.0",
         "TOTAL EARMARKED THROUGH CONDUIT. PAC LIMIT NOT AFFECTED.",
         "https://docquery.fec.gov/cgi-bin/fecimg/?202407249665723306"
        ],
        [
         "47",
         "FISHER, KENNETH",
         "6600.0",
         null,
         "https://docquery.fec.gov/cgi-bin/fecimg/?202407249665723306"
        ],
        [
         "48",
         "STEDMAN, STUART W",
         "6600.0",
         null,
         "https://docquery.fec.gov/cgi-bin/fecimg/?202406119648929668"
        ],
        [
         "49",
         "STEDMAN, ELIZA",
         "6600.0",
         null,
         "https://docquery.fec.gov/cgi-bin/fecimg/?202406119648929667"
        ]
       ],
       "shape": {
        "columns": 4,
        "rows": 1771
       }
      },
      "text/html": [
       "<div>\n",
       "<style scoped>\n",
       "    .dataframe tbody tr th:only-of-type {\n",
       "        vertical-align: middle;\n",
       "    }\n",
       "\n",
       "    .dataframe tbody tr th {\n",
       "        vertical-align: top;\n",
       "    }\n",
       "\n",
       "    .dataframe thead th {\n",
       "        text-align: right;\n",
       "    }\n",
       "</style>\n",
       "<table border=\"1\" class=\"dataframe\">\n",
       "  <thead>\n",
       "    <tr style=\"text-align: right;\">\n",
       "      <th></th>\n",
       "      <th>contributor_name</th>\n",
       "      <th>contributor_aggregate_ytd</th>\n",
       "      <th>memo_text</th>\n",
       "      <th>pdf_url</th>\n",
       "    </tr>\n",
       "  </thead>\n",
       "  <tbody>\n",
       "    <tr>\n",
       "      <th>0</th>\n",
       "      <td>MCGUIRE VICTORY FUND</td>\n",
       "      <td>279791.09</td>\n",
       "      <td>None</td>\n",
       "      <td>https://docquery.fec.gov/cgi-bin/fecimg/?20240...</td>\n",
       "    </tr>\n",
       "    <tr>\n",
       "      <th>1</th>\n",
       "      <td>MCGUIRE VICTORY FUND</td>\n",
       "      <td>119484.10</td>\n",
       "      <td>None</td>\n",
       "      <td>https://docquery.fec.gov/cgi-bin/fecimg/?20240...</td>\n",
       "    </tr>\n",
       "    <tr>\n",
       "      <th>2</th>\n",
       "      <td>MCGUIRE VICTORY FUND</td>\n",
       "      <td>397795.08</td>\n",
       "      <td>None</td>\n",
       "      <td>https://docquery.fec.gov/cgi-bin/fecimg/?20240...</td>\n",
       "    </tr>\n",
       "    <tr>\n",
       "      <th>3</th>\n",
       "      <td>MCGUIRE VICTORY FUND</td>\n",
       "      <td>66488.21</td>\n",
       "      <td>TRANSFER FROM JOINT FUNDRAISER</td>\n",
       "      <td>https://docquery.fec.gov/cgi-bin/fecimg/?20250...</td>\n",
       "    </tr>\n",
       "    <tr>\n",
       "      <th>4</th>\n",
       "      <td>MCGUIRE VICTORY FUND</td>\n",
       "      <td>279791.09</td>\n",
       "      <td>None</td>\n",
       "      <td>https://docquery.fec.gov/cgi-bin/fecimg/?20240...</td>\n",
       "    </tr>\n",
       "    <tr>\n",
       "      <th>...</th>\n",
       "      <td>...</td>\n",
       "      <td>...</td>\n",
       "      <td>...</td>\n",
       "      <td>...</td>\n",
       "    </tr>\n",
       "    <tr>\n",
       "      <th>1766</th>\n",
       "      <td>REHNERT, GEOFFREY</td>\n",
       "      <td>7000.00</td>\n",
       "      <td>REDESIGNATION FROM</td>\n",
       "      <td>https://docquery.fec.gov/cgi-bin/fecimg/?20250...</td>\n",
       "    </tr>\n",
       "    <tr>\n",
       "      <th>1767</th>\n",
       "      <td>GOOD, JOHN P MR</td>\n",
       "      <td>7000.00</td>\n",
       "      <td>REDESIGNATION FROM</td>\n",
       "      <td>https://docquery.fec.gov/cgi-bin/fecimg/?20250...</td>\n",
       "    </tr>\n",
       "    <tr>\n",
       "      <th>1768</th>\n",
       "      <td>PEROT, ROSS</td>\n",
       "      <td>7000.00</td>\n",
       "      <td>MEMO: SPLIT OF-ROSS PEROT</td>\n",
       "      <td>https://docquery.fec.gov/cgi-bin/fecimg/?20250...</td>\n",
       "    </tr>\n",
       "    <tr>\n",
       "      <th>1769</th>\n",
       "      <td>MAFRIGE, DAVID Z.</td>\n",
       "      <td>6500.00</td>\n",
       "      <td>MEMO: SPLIT OF-DAVID Z. MAFRIGE</td>\n",
       "      <td>https://docquery.fec.gov/cgi-bin/fecimg/?20250...</td>\n",
       "    </tr>\n",
       "    <tr>\n",
       "      <th>1770</th>\n",
       "      <td>REPUBLICAN JEWISH COALITION-PAC (RJC-PAC)</td>\n",
       "      <td>10000.00</td>\n",
       "      <td>None</td>\n",
       "      <td>https://docquery.fec.gov/cgi-bin/fecimg/?20240...</td>\n",
       "    </tr>\n",
       "  </tbody>\n",
       "</table>\n",
       "<p>1771 rows × 4 columns</p>\n",
       "</div>"
      ],
      "text/plain": [
       "                               contributor_name  contributor_aggregate_ytd  \\\n",
       "0                          MCGUIRE VICTORY FUND                  279791.09   \n",
       "1                          MCGUIRE VICTORY FUND                  119484.10   \n",
       "2                          MCGUIRE VICTORY FUND                  397795.08   \n",
       "3                          MCGUIRE VICTORY FUND                   66488.21   \n",
       "4                          MCGUIRE VICTORY FUND                  279791.09   \n",
       "...                                         ...                        ...   \n",
       "1766                          REHNERT, GEOFFREY                    7000.00   \n",
       "1767                            GOOD, JOHN P MR                    7000.00   \n",
       "1768                                PEROT, ROSS                    7000.00   \n",
       "1769                          MAFRIGE, DAVID Z.                    6500.00   \n",
       "1770  REPUBLICAN JEWISH COALITION-PAC (RJC-PAC)                   10000.00   \n",
       "\n",
       "                            memo_text  \\\n",
       "0                                None   \n",
       "1                                None   \n",
       "2                                None   \n",
       "3      TRANSFER FROM JOINT FUNDRAISER   \n",
       "4                                None   \n",
       "...                               ...   \n",
       "1766               REDESIGNATION FROM   \n",
       "1767               REDESIGNATION FROM   \n",
       "1768        MEMO: SPLIT OF-ROSS PEROT   \n",
       "1769  MEMO: SPLIT OF-DAVID Z. MAFRIGE   \n",
       "1770                             None   \n",
       "\n",
       "                                                pdf_url  \n",
       "0     https://docquery.fec.gov/cgi-bin/fecimg/?20240...  \n",
       "1     https://docquery.fec.gov/cgi-bin/fecimg/?20240...  \n",
       "2     https://docquery.fec.gov/cgi-bin/fecimg/?20240...  \n",
       "3     https://docquery.fec.gov/cgi-bin/fecimg/?20250...  \n",
       "4     https://docquery.fec.gov/cgi-bin/fecimg/?20240...  \n",
       "...                                                 ...  \n",
       "1766  https://docquery.fec.gov/cgi-bin/fecimg/?20250...  \n",
       "1767  https://docquery.fec.gov/cgi-bin/fecimg/?20250...  \n",
       "1768  https://docquery.fec.gov/cgi-bin/fecimg/?20250...  \n",
       "1769  https://docquery.fec.gov/cgi-bin/fecimg/?20250...  \n",
       "1770  https://docquery.fec.gov/cgi-bin/fecimg/?20240...  \n",
       "\n",
       "[1771 rows x 4 columns]"
      ]
     },
     "execution_count": 145,
     "metadata": {},
     "output_type": "execute_result"
    }
   ],
   "source": [
    "contrib_df = pd.DataFrame()\n",
    "\n",
    "endpoint = '/v1/schedules/schedule_a/'\n",
    "params = {'api_key': feckey,\n",
    "          'committee_id': committee_ids[0],\n",
    "          'per_page': 100,\n",
    "          'sort': '-contribution_receipt_amount'}\n",
    "\n",
    "r = requests.get(root + endpoint,\n",
    "                 params=params,\n",
    "                 headers=headers)\n",
    "\n",
    "contrib_list = [{'contributor_name': x['contributor_name'],\n",
    "                'contributor_aggregate_ytd': x['contributor_aggregate_ytd'],\n",
    "                'memo_text': x['memo_text'],\n",
    "                'pdf_url': x['pdf_url']} for x in r.json()['results']]\n",
    "lastindex = r.json()['pagination']['last_indexes']\n",
    "\n",
    "newrecords = len(r.json()['results'])\n",
    "\n",
    "while newrecords > 0:\n",
    "    print(len(contrib_list))\n",
    "\n",
    "    params['last_contribution_receipt_amount']=lastindex['last_contribution_receipt_amount']\n",
    "    params['last_index']=lastindex['last_index']\n",
    "\n",
    "    r = requests.get(root + endpoint, params=params,headers=headers)\n",
    "\n",
    "    contrib_list = contrib_list + [{'contributor_name': x['contributor_name'],\n",
    "                'contributor_aggregate_ytd': x['contributor_aggregate_ytd'],\n",
    "                'memo_text': x['memo_text'],\n",
    "                'pdf_url': x['pdf_url']} for x in r.json()['results']]\n",
    "    \n",
    "    lastindex = r.json()['pagination']['last_indexes']\n",
    "\n",
    "    newrecords = len(r.json()['results'])\n",
    "\n",
    "\n",
    "contrib_df =pd.DataFrame(contrib_list)\n",
    "contrib_df"
   ]
  }
 ],
 "metadata": {
  "kernelspec": {
   "display_name": "ds6600",
   "language": "python",
   "name": "python3"
  },
  "language_info": {
   "codemirror_mode": {
    "name": "ipython",
    "version": 3
   },
   "file_extension": ".py",
   "mimetype": "text/x-python",
   "name": "python",
   "nbconvert_exporter": "python",
   "pygments_lexer": "ipython3",
   "version": "3.13.5"
  }
 },
 "nbformat": 4,
 "nbformat_minor": 2
}
