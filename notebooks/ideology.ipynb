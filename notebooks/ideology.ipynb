{
 "cells": [
  {
   "cell_type": "code",
   "execution_count": 1,
   "metadata": {},
   "outputs": [],
   "source": [
    "import numpy as numpy\n",
    "import pandas as pd"
   ]
  },
  {
   "cell_type": "code",
   "execution_count": 36,
   "metadata": {},
   "outputs": [
    {
     "data": {
      "application/vnd.microsoft.datawrangler.viewer.v0+json": {
       "columns": [
        {
         "name": "index",
         "rawType": "int64",
         "type": "integer"
        },
        {
         "name": "chamber",
         "rawType": "object",
         "type": "string"
        },
        {
         "name": "bioname",
         "rawType": "object",
         "type": "string"
        },
        {
         "name": "nominate_dim1",
         "rawType": "float64",
         "type": "float"
        },
        {
         "name": "party_code",
         "rawType": "int64",
         "type": "integer"
        }
       ],
       "ref": "b96bb80d-c6bd-4568-86bc-e2843c483489",
       "rows": [
        [
         "0",
         "House",
         "ROGERS, Mike Dennis",
         "0.378",
         "200"
        ],
        [
         "1",
         "House",
         "SEWELL, Terri",
         "-0.399",
         "100"
        ],
        [
         "2",
         "House",
         "PALMER, Gary James",
         "0.674",
         "200"
        ],
        [
         "3",
         "House",
         "MOORE, Barry",
         "0.643",
         "200"
        ],
        [
         "4",
         "House",
         "STRONG, Dale",
         "0.606",
         "200"
        ],
        [
         "5",
         "House",
         "FIGURES, Shomari",
         "-0.389",
         "100"
        ],
        [
         "6",
         "House",
         "ADERHOLT, Robert",
         "0.405",
         "200"
        ],
        [
         "7",
         "House",
         "BEGICH, Nicholas J., III",
         "0.572",
         "200"
        ],
        [
         "8",
         "House",
         "RADEWAGEN, Aumua Amata Coleman",
         "0.326",
         "200"
        ],
        [
         "9",
         "House",
         "GRIJALVA, Raúl M.",
         "-0.598",
         "100"
        ],
        [
         "10",
         "House",
         "GOSAR, Paul",
         "0.703",
         "200"
        ],
        [
         "11",
         "House",
         "SCHWEIKERT, David",
         "0.553",
         "200"
        ],
        [
         "12",
         "House",
         "BIGGS, Andrew S.",
         "0.818",
         "200"
        ],
        [
         "13",
         "House",
         "STANTON, Greg",
         "-0.276",
         "100"
        ],
        [
         "14",
         "House",
         "CISCOMANI, Juan",
         "0.292",
         "200"
        ],
        [
         "15",
         "House",
         "CRANE, Eli",
         "0.753",
         "200"
        ],
        [
         "16",
         "House",
         "ANSARI, Yassamin",
         "-0.628",
         "100"
        ],
        [
         "17",
         "House",
         "HAMADEH, Abraham J.",
         "0.647",
         "200"
        ],
        [
         "18",
         "House",
         "CRAWFORD, Rick",
         "0.461",
         "200"
        ],
        [
         "19",
         "House",
         "WOMACK, Steve",
         "0.348",
         "200"
        ],
        [
         "20",
         "House",
         "HILL, French",
         "0.436",
         "200"
        ],
        [
         "21",
         "House",
         "WESTERMAN, Bruce Eugene",
         "0.544",
         "200"
        ],
        [
         "22",
         "House",
         "PELOSI, Nancy",
         "-0.489",
         "100"
        ],
        [
         "23",
         "House",
         "ISSA, Darrell",
         "0.476",
         "200"
        ],
        [
         "24",
         "House",
         "SÁNCHEZ, Linda T.",
         "-0.508",
         "100"
        ],
        [
         "25",
         "House",
         "COSTA, Jim",
         "-0.198",
         "100"
        ],
        [
         "26",
         "House",
         "MATSUI, Doris",
         "-0.434",
         "100"
        ],
        [
         "27",
         "House",
         "McCLINTOCK, Tom",
         "0.671",
         "200"
        ],
        [
         "28",
         "House",
         "CHU, Judy",
         "-0.482",
         "100"
        ],
        [
         "29",
         "House",
         "GARAMENDI, John",
         "-0.314",
         "100"
        ],
        [
         "30",
         "House",
         "LaMALFA, Doug",
         "0.542",
         "200"
        ],
        [
         "31",
         "House",
         "HUFFMAN, Jared",
         "-0.431",
         "100"
        ],
        [
         "32",
         "House",
         "BERA, Ami",
         "-0.247",
         "100"
        ],
        [
         "33",
         "House",
         "SWALWELL, Eric",
         "-0.355",
         "100"
        ],
        [
         "34",
         "House",
         "VALADAO, David G.",
         "0.257",
         "200"
        ],
        [
         "35",
         "House",
         "BROWNLEY, Julia",
         "-0.303",
         "100"
        ],
        [
         "36",
         "House",
         "RUIZ, Raul",
         "-0.26",
         "100"
        ],
        [
         "37",
         "House",
         "TAKANO, Mark",
         "-0.458",
         "100"
        ],
        [
         "38",
         "House",
         "VARGAS, Juan",
         "-0.398",
         "100"
        ],
        [
         "39",
         "House",
         "PETERS, Scott",
         "-0.193",
         "100"
        ],
        [
         "40",
         "House",
         "DESAULNIER, Mark James",
         "-0.513",
         "100"
        ],
        [
         "41",
         "House",
         "AGUILAR, Peter Rey",
         "-0.323",
         "100"
        ],
        [
         "42",
         "House",
         "LIEU, Ted",
         "-0.374",
         "100"
        ],
        [
         "43",
         "House",
         "TORRES, Norma Judith",
         "-0.369",
         "100"
        ],
        [
         "44",
         "House",
         "BARRAGÁN, Nanette Diaz",
         "-0.502",
         "100"
        ],
        [
         "45",
         "House",
         "CARBAJAL, Salud",
         "-0.325",
         "100"
        ],
        [
         "46",
         "House",
         "CORREA, Jose Luis",
         "-0.286",
         "100"
        ],
        [
         "47",
         "House",
         "KHANNA, Rohit",
         "-0.456",
         "100"
        ],
        [
         "48",
         "House",
         "PANETTA, James Varni",
         "-0.29",
         "100"
        ],
        [
         "49",
         "House",
         "GOMEZ, Jimmy",
         "-0.526",
         "100"
        ]
       ],
       "shape": {
        "columns": 4,
        "rows": 443
       }
      },
      "text/html": [
       "<div>\n",
       "<style scoped>\n",
       "    .dataframe tbody tr th:only-of-type {\n",
       "        vertical-align: middle;\n",
       "    }\n",
       "\n",
       "    .dataframe tbody tr th {\n",
       "        vertical-align: top;\n",
       "    }\n",
       "\n",
       "    .dataframe thead th {\n",
       "        text-align: right;\n",
       "    }\n",
       "</style>\n",
       "<table border=\"1\" class=\"dataframe\">\n",
       "  <thead>\n",
       "    <tr style=\"text-align: right;\">\n",
       "      <th></th>\n",
       "      <th>chamber</th>\n",
       "      <th>bioname</th>\n",
       "      <th>nominate_dim1</th>\n",
       "      <th>party_code</th>\n",
       "    </tr>\n",
       "  </thead>\n",
       "  <tbody>\n",
       "    <tr>\n",
       "      <th>0</th>\n",
       "      <td>House</td>\n",
       "      <td>ROGERS, Mike Dennis</td>\n",
       "      <td>0.378</td>\n",
       "      <td>200</td>\n",
       "    </tr>\n",
       "    <tr>\n",
       "      <th>1</th>\n",
       "      <td>House</td>\n",
       "      <td>SEWELL, Terri</td>\n",
       "      <td>-0.399</td>\n",
       "      <td>100</td>\n",
       "    </tr>\n",
       "    <tr>\n",
       "      <th>2</th>\n",
       "      <td>House</td>\n",
       "      <td>PALMER, Gary James</td>\n",
       "      <td>0.674</td>\n",
       "      <td>200</td>\n",
       "    </tr>\n",
       "    <tr>\n",
       "      <th>3</th>\n",
       "      <td>House</td>\n",
       "      <td>MOORE, Barry</td>\n",
       "      <td>0.643</td>\n",
       "      <td>200</td>\n",
       "    </tr>\n",
       "    <tr>\n",
       "      <th>4</th>\n",
       "      <td>House</td>\n",
       "      <td>STRONG, Dale</td>\n",
       "      <td>0.606</td>\n",
       "      <td>200</td>\n",
       "    </tr>\n",
       "    <tr>\n",
       "      <th>...</th>\n",
       "      <td>...</td>\n",
       "      <td>...</td>\n",
       "      <td>...</td>\n",
       "      <td>...</td>\n",
       "    </tr>\n",
       "    <tr>\n",
       "      <th>438</th>\n",
       "      <td>House</td>\n",
       "      <td>TIFFANY, Thomas P.</td>\n",
       "      <td>0.639</td>\n",
       "      <td>200</td>\n",
       "    </tr>\n",
       "    <tr>\n",
       "      <th>439</th>\n",
       "      <td>House</td>\n",
       "      <td>FITZGERALD, Scott</td>\n",
       "      <td>0.599</td>\n",
       "      <td>200</td>\n",
       "    </tr>\n",
       "    <tr>\n",
       "      <th>440</th>\n",
       "      <td>House</td>\n",
       "      <td>VAN ORDEN, Derrick</td>\n",
       "      <td>0.380</td>\n",
       "      <td>200</td>\n",
       "    </tr>\n",
       "    <tr>\n",
       "      <th>441</th>\n",
       "      <td>House</td>\n",
       "      <td>WIED, Tony</td>\n",
       "      <td>0.481</td>\n",
       "      <td>200</td>\n",
       "    </tr>\n",
       "    <tr>\n",
       "      <th>442</th>\n",
       "      <td>House</td>\n",
       "      <td>HAGEMAN, Harriet</td>\n",
       "      <td>0.650</td>\n",
       "      <td>200</td>\n",
       "    </tr>\n",
       "  </tbody>\n",
       "</table>\n",
       "<p>443 rows × 4 columns</p>\n",
       "</div>"
      ],
      "text/plain": [
       "    chamber              bioname  nominate_dim1  party_code\n",
       "0     House  ROGERS, Mike Dennis          0.378         200\n",
       "1     House        SEWELL, Terri         -0.399         100\n",
       "2     House   PALMER, Gary James          0.674         200\n",
       "3     House         MOORE, Barry          0.643         200\n",
       "4     House         STRONG, Dale          0.606         200\n",
       "..      ...                  ...            ...         ...\n",
       "438   House   TIFFANY, Thomas P.          0.639         200\n",
       "439   House    FITZGERALD, Scott          0.599         200\n",
       "440   House   VAN ORDEN, Derrick          0.380         200\n",
       "441   House           WIED, Tony          0.481         200\n",
       "442   House     HAGEMAN, Harriet          0.650         200\n",
       "\n",
       "[443 rows x 4 columns]"
      ]
     },
     "execution_count": 36,
     "metadata": {},
     "output_type": "execute_result"
    }
   ],
   "source": [
    "url = \"https://voteview.com/static/data/out/members/H119_members.csv\"\n",
    "ideology = pd.read_csv(url)\n",
    "ideology.head(3).T\n",
    "\n",
    "cols_to_keep = ['chamber', 'bioname', 'nominate_dim1', \"party_code\"]\n",
    "crosswalk_cols = ['bioname', 'state_abbrev', 'district_code', 'icpsr', 'bioguide_id']\n",
    "\n",
    "crosswalk = ideology[crosswalk_cols]\n",
    "ideology = ideology[cols_to_keep]    \n",
    "ideology"
   ]
  },
  {
   "cell_type": "code",
   "execution_count": 25,
   "metadata": {},
   "outputs": [
    {
     "data": {
      "application/vnd.microsoft.datawrangler.viewer.v0+json": {
       "columns": [
        {
         "name": "party_code",
         "rawType": "int64",
         "type": "integer"
        },
        {
         "name": "count",
         "rawType": "int64",
         "type": "integer"
        }
       ],
       "ref": "e48b1e89-1b20-4a73-8f94-07c380b5f7d5",
       "rows": [
        [
         "200",
         "224"
        ],
        [
         "100",
         "219"
        ]
       ],
       "shape": {
        "columns": 1,
        "rows": 2
       }
      },
      "text/plain": [
       "party_code\n",
       "200    224\n",
       "100    219\n",
       "Name: count, dtype: int64"
      ]
     },
     "execution_count": 25,
     "metadata": {},
     "output_type": "execute_result"
    }
   ],
   "source": [
    "ideology['party_code'].value_counts()"
   ]
  },
  {
   "cell_type": "code",
   "execution_count": 37,
   "metadata": {},
   "outputs": [
    {
     "data": {
      "application/vnd.microsoft.datawrangler.viewer.v0+json": {
       "columns": [
        {
         "name": "index",
         "rawType": "int64",
         "type": "integer"
        },
        {
         "name": "chamber",
         "rawType": "object",
         "type": "string"
        },
        {
         "name": "bioname",
         "rawType": "object",
         "type": "string"
        },
        {
         "name": "nominate_dim1",
         "rawType": "float64",
         "type": "float"
        },
        {
         "name": "party_code",
         "rawType": "int64",
         "type": "integer"
        },
        {
         "name": "party",
         "rawType": "object",
         "type": "string"
        }
       ],
       "ref": "87dc35c4-0125-4ad9-bd13-a8e1b765d0df",
       "rows": [
        [
         "0",
         "House",
         "ROGERS, Mike Dennis",
         "0.378",
         "200",
         "Republican"
        ],
        [
         "1",
         "House",
         "SEWELL, Terri",
         "-0.399",
         "100",
         "Democrat"
        ],
        [
         "2",
         "House",
         "PALMER, Gary James",
         "0.674",
         "200",
         "Republican"
        ],
        [
         "3",
         "House",
         "MOORE, Barry",
         "0.643",
         "200",
         "Republican"
        ],
        [
         "4",
         "House",
         "STRONG, Dale",
         "0.606",
         "200",
         "Republican"
        ],
        [
         "5",
         "House",
         "FIGURES, Shomari",
         "-0.389",
         "100",
         "Democrat"
        ],
        [
         "6",
         "House",
         "ADERHOLT, Robert",
         "0.405",
         "200",
         "Republican"
        ],
        [
         "7",
         "House",
         "BEGICH, Nicholas J., III",
         "0.572",
         "200",
         "Republican"
        ],
        [
         "8",
         "House",
         "RADEWAGEN, Aumua Amata Coleman",
         "0.326",
         "200",
         "Republican"
        ],
        [
         "9",
         "House",
         "GRIJALVA, Raúl M.",
         "-0.598",
         "100",
         "Democrat"
        ],
        [
         "10",
         "House",
         "GOSAR, Paul",
         "0.703",
         "200",
         "Republican"
        ],
        [
         "11",
         "House",
         "SCHWEIKERT, David",
         "0.553",
         "200",
         "Republican"
        ],
        [
         "12",
         "House",
         "BIGGS, Andrew S.",
         "0.818",
         "200",
         "Republican"
        ],
        [
         "13",
         "House",
         "STANTON, Greg",
         "-0.276",
         "100",
         "Democrat"
        ],
        [
         "14",
         "House",
         "CISCOMANI, Juan",
         "0.292",
         "200",
         "Republican"
        ],
        [
         "15",
         "House",
         "CRANE, Eli",
         "0.753",
         "200",
         "Republican"
        ],
        [
         "16",
         "House",
         "ANSARI, Yassamin",
         "-0.628",
         "100",
         "Democrat"
        ],
        [
         "17",
         "House",
         "HAMADEH, Abraham J.",
         "0.647",
         "200",
         "Republican"
        ],
        [
         "18",
         "House",
         "CRAWFORD, Rick",
         "0.461",
         "200",
         "Republican"
        ],
        [
         "19",
         "House",
         "WOMACK, Steve",
         "0.348",
         "200",
         "Republican"
        ],
        [
         "20",
         "House",
         "HILL, French",
         "0.436",
         "200",
         "Republican"
        ],
        [
         "21",
         "House",
         "WESTERMAN, Bruce Eugene",
         "0.544",
         "200",
         "Republican"
        ],
        [
         "22",
         "House",
         "PELOSI, Nancy",
         "-0.489",
         "100",
         "Democrat"
        ],
        [
         "23",
         "House",
         "ISSA, Darrell",
         "0.476",
         "200",
         "Republican"
        ],
        [
         "24",
         "House",
         "SÁNCHEZ, Linda T.",
         "-0.508",
         "100",
         "Democrat"
        ],
        [
         "25",
         "House",
         "COSTA, Jim",
         "-0.198",
         "100",
         "Democrat"
        ],
        [
         "26",
         "House",
         "MATSUI, Doris",
         "-0.434",
         "100",
         "Democrat"
        ],
        [
         "27",
         "House",
         "McCLINTOCK, Tom",
         "0.671",
         "200",
         "Republican"
        ],
        [
         "28",
         "House",
         "CHU, Judy",
         "-0.482",
         "100",
         "Democrat"
        ],
        [
         "29",
         "House",
         "GARAMENDI, John",
         "-0.314",
         "100",
         "Democrat"
        ],
        [
         "30",
         "House",
         "LaMALFA, Doug",
         "0.542",
         "200",
         "Republican"
        ],
        [
         "31",
         "House",
         "HUFFMAN, Jared",
         "-0.431",
         "100",
         "Democrat"
        ],
        [
         "32",
         "House",
         "BERA, Ami",
         "-0.247",
         "100",
         "Democrat"
        ],
        [
         "33",
         "House",
         "SWALWELL, Eric",
         "-0.355",
         "100",
         "Democrat"
        ],
        [
         "34",
         "House",
         "VALADAO, David G.",
         "0.257",
         "200",
         "Republican"
        ],
        [
         "35",
         "House",
         "BROWNLEY, Julia",
         "-0.303",
         "100",
         "Democrat"
        ],
        [
         "36",
         "House",
         "RUIZ, Raul",
         "-0.26",
         "100",
         "Democrat"
        ],
        [
         "37",
         "House",
         "TAKANO, Mark",
         "-0.458",
         "100",
         "Democrat"
        ],
        [
         "38",
         "House",
         "VARGAS, Juan",
         "-0.398",
         "100",
         "Democrat"
        ],
        [
         "39",
         "House",
         "PETERS, Scott",
         "-0.193",
         "100",
         "Democrat"
        ],
        [
         "40",
         "House",
         "DESAULNIER, Mark James",
         "-0.513",
         "100",
         "Democrat"
        ],
        [
         "41",
         "House",
         "AGUILAR, Peter Rey",
         "-0.323",
         "100",
         "Democrat"
        ],
        [
         "42",
         "House",
         "LIEU, Ted",
         "-0.374",
         "100",
         "Democrat"
        ],
        [
         "43",
         "House",
         "TORRES, Norma Judith",
         "-0.369",
         "100",
         "Democrat"
        ],
        [
         "44",
         "House",
         "BARRAGÁN, Nanette Diaz",
         "-0.502",
         "100",
         "Democrat"
        ],
        [
         "45",
         "House",
         "CARBAJAL, Salud",
         "-0.325",
         "100",
         "Democrat"
        ],
        [
         "46",
         "House",
         "CORREA, Jose Luis",
         "-0.286",
         "100",
         "Democrat"
        ],
        [
         "47",
         "House",
         "KHANNA, Rohit",
         "-0.456",
         "100",
         "Democrat"
        ],
        [
         "48",
         "House",
         "PANETTA, James Varni",
         "-0.29",
         "100",
         "Democrat"
        ],
        [
         "49",
         "House",
         "GOMEZ, Jimmy",
         "-0.526",
         "100",
         "Democrat"
        ]
       ],
       "shape": {
        "columns": 5,
        "rows": 443
       }
      },
      "text/html": [
       "<div>\n",
       "<style scoped>\n",
       "    .dataframe tbody tr th:only-of-type {\n",
       "        vertical-align: middle;\n",
       "    }\n",
       "\n",
       "    .dataframe tbody tr th {\n",
       "        vertical-align: top;\n",
       "    }\n",
       "\n",
       "    .dataframe thead th {\n",
       "        text-align: right;\n",
       "    }\n",
       "</style>\n",
       "<table border=\"1\" class=\"dataframe\">\n",
       "  <thead>\n",
       "    <tr style=\"text-align: right;\">\n",
       "      <th></th>\n",
       "      <th>chamber</th>\n",
       "      <th>bioname</th>\n",
       "      <th>nominate_dim1</th>\n",
       "      <th>party_code</th>\n",
       "      <th>party</th>\n",
       "    </tr>\n",
       "  </thead>\n",
       "  <tbody>\n",
       "    <tr>\n",
       "      <th>0</th>\n",
       "      <td>House</td>\n",
       "      <td>ROGERS, Mike Dennis</td>\n",
       "      <td>0.378</td>\n",
       "      <td>200</td>\n",
       "      <td>Republican</td>\n",
       "    </tr>\n",
       "    <tr>\n",
       "      <th>1</th>\n",
       "      <td>House</td>\n",
       "      <td>SEWELL, Terri</td>\n",
       "      <td>-0.399</td>\n",
       "      <td>100</td>\n",
       "      <td>Democrat</td>\n",
       "    </tr>\n",
       "    <tr>\n",
       "      <th>2</th>\n",
       "      <td>House</td>\n",
       "      <td>PALMER, Gary James</td>\n",
       "      <td>0.674</td>\n",
       "      <td>200</td>\n",
       "      <td>Republican</td>\n",
       "    </tr>\n",
       "    <tr>\n",
       "      <th>3</th>\n",
       "      <td>House</td>\n",
       "      <td>MOORE, Barry</td>\n",
       "      <td>0.643</td>\n",
       "      <td>200</td>\n",
       "      <td>Republican</td>\n",
       "    </tr>\n",
       "    <tr>\n",
       "      <th>4</th>\n",
       "      <td>House</td>\n",
       "      <td>STRONG, Dale</td>\n",
       "      <td>0.606</td>\n",
       "      <td>200</td>\n",
       "      <td>Republican</td>\n",
       "    </tr>\n",
       "    <tr>\n",
       "      <th>...</th>\n",
       "      <td>...</td>\n",
       "      <td>...</td>\n",
       "      <td>...</td>\n",
       "      <td>...</td>\n",
       "      <td>...</td>\n",
       "    </tr>\n",
       "    <tr>\n",
       "      <th>438</th>\n",
       "      <td>House</td>\n",
       "      <td>TIFFANY, Thomas P.</td>\n",
       "      <td>0.639</td>\n",
       "      <td>200</td>\n",
       "      <td>Republican</td>\n",
       "    </tr>\n",
       "    <tr>\n",
       "      <th>439</th>\n",
       "      <td>House</td>\n",
       "      <td>FITZGERALD, Scott</td>\n",
       "      <td>0.599</td>\n",
       "      <td>200</td>\n",
       "      <td>Republican</td>\n",
       "    </tr>\n",
       "    <tr>\n",
       "      <th>440</th>\n",
       "      <td>House</td>\n",
       "      <td>VAN ORDEN, Derrick</td>\n",
       "      <td>0.380</td>\n",
       "      <td>200</td>\n",
       "      <td>Republican</td>\n",
       "    </tr>\n",
       "    <tr>\n",
       "      <th>441</th>\n",
       "      <td>House</td>\n",
       "      <td>WIED, Tony</td>\n",
       "      <td>0.481</td>\n",
       "      <td>200</td>\n",
       "      <td>Republican</td>\n",
       "    </tr>\n",
       "    <tr>\n",
       "      <th>442</th>\n",
       "      <td>House</td>\n",
       "      <td>HAGEMAN, Harriet</td>\n",
       "      <td>0.650</td>\n",
       "      <td>200</td>\n",
       "      <td>Republican</td>\n",
       "    </tr>\n",
       "  </tbody>\n",
       "</table>\n",
       "<p>443 rows × 5 columns</p>\n",
       "</div>"
      ],
      "text/plain": [
       "    chamber              bioname  nominate_dim1  party_code       party\n",
       "0     House  ROGERS, Mike Dennis          0.378         200  Republican\n",
       "1     House        SEWELL, Terri         -0.399         100    Democrat\n",
       "2     House   PALMER, Gary James          0.674         200  Republican\n",
       "3     House         MOORE, Barry          0.643         200  Republican\n",
       "4     House         STRONG, Dale          0.606         200  Republican\n",
       "..      ...                  ...            ...         ...         ...\n",
       "438   House   TIFFANY, Thomas P.          0.639         200  Republican\n",
       "439   House    FITZGERALD, Scott          0.599         200  Republican\n",
       "440   House   VAN ORDEN, Derrick          0.380         200  Republican\n",
       "441   House           WIED, Tony          0.481         200  Republican\n",
       "442   House     HAGEMAN, Harriet          0.650         200  Republican\n",
       "\n",
       "[443 rows x 5 columns]"
      ]
     },
     "execution_count": 37,
     "metadata": {},
     "output_type": "execute_result"
    }
   ],
   "source": [
    "replace_map = {200: 'Republican', 100: 'Democrat'}\n",
    "\n",
    "ideology['party'] = ideology['party_code'].replace(replace_map)\n",
    "ideology['party_code'].value_counts()\n",
    "ideology"
   ]
  },
  {
   "cell_type": "code",
   "execution_count": 38,
   "metadata": {},
   "outputs": [
    {
     "data": {
      "application/vnd.microsoft.datawrangler.viewer.v0+json": {
       "columns": [
        {
         "name": "index",
         "rawType": "int64",
         "type": "integer"
        },
        {
         "name": "chamber",
         "rawType": "object",
         "type": "string"
        },
        {
         "name": "bioname",
         "rawType": "object",
         "type": "string"
        },
        {
         "name": "nominate_dim1",
         "rawType": "float64",
         "type": "float"
        },
        {
         "name": "party",
         "rawType": "object",
         "type": "string"
        }
       ],
       "ref": "a9520ef9-e1db-4306-ac6f-9059a773daab",
       "rows": [
        [
         "0",
         "House",
         "ROGERS, Mike Dennis",
         "0.378",
         "Republican"
        ],
        [
         "1",
         "House",
         "SEWELL, Terri",
         "-0.399",
         "Democrat"
        ],
        [
         "2",
         "House",
         "PALMER, Gary James",
         "0.674",
         "Republican"
        ],
        [
         "3",
         "House",
         "MOORE, Barry",
         "0.643",
         "Republican"
        ],
        [
         "4",
         "House",
         "STRONG, Dale",
         "0.606",
         "Republican"
        ],
        [
         "5",
         "House",
         "FIGURES, Shomari",
         "-0.389",
         "Democrat"
        ],
        [
         "6",
         "House",
         "ADERHOLT, Robert",
         "0.405",
         "Republican"
        ],
        [
         "7",
         "House",
         "BEGICH, Nicholas J., III",
         "0.572",
         "Republican"
        ],
        [
         "8",
         "House",
         "RADEWAGEN, Aumua Amata Coleman",
         "0.326",
         "Republican"
        ],
        [
         "9",
         "House",
         "GRIJALVA, Raúl M.",
         "-0.598",
         "Democrat"
        ],
        [
         "10",
         "House",
         "GOSAR, Paul",
         "0.703",
         "Republican"
        ],
        [
         "11",
         "House",
         "SCHWEIKERT, David",
         "0.553",
         "Republican"
        ],
        [
         "12",
         "House",
         "BIGGS, Andrew S.",
         "0.818",
         "Republican"
        ],
        [
         "13",
         "House",
         "STANTON, Greg",
         "-0.276",
         "Democrat"
        ],
        [
         "14",
         "House",
         "CISCOMANI, Juan",
         "0.292",
         "Republican"
        ],
        [
         "15",
         "House",
         "CRANE, Eli",
         "0.753",
         "Republican"
        ],
        [
         "16",
         "House",
         "ANSARI, Yassamin",
         "-0.628",
         "Democrat"
        ],
        [
         "17",
         "House",
         "HAMADEH, Abraham J.",
         "0.647",
         "Republican"
        ],
        [
         "18",
         "House",
         "CRAWFORD, Rick",
         "0.461",
         "Republican"
        ],
        [
         "19",
         "House",
         "WOMACK, Steve",
         "0.348",
         "Republican"
        ],
        [
         "20",
         "House",
         "HILL, French",
         "0.436",
         "Republican"
        ],
        [
         "21",
         "House",
         "WESTERMAN, Bruce Eugene",
         "0.544",
         "Republican"
        ],
        [
         "22",
         "House",
         "PELOSI, Nancy",
         "-0.489",
         "Democrat"
        ],
        [
         "23",
         "House",
         "ISSA, Darrell",
         "0.476",
         "Republican"
        ],
        [
         "24",
         "House",
         "SÁNCHEZ, Linda T.",
         "-0.508",
         "Democrat"
        ],
        [
         "25",
         "House",
         "COSTA, Jim",
         "-0.198",
         "Democrat"
        ],
        [
         "26",
         "House",
         "MATSUI, Doris",
         "-0.434",
         "Democrat"
        ],
        [
         "27",
         "House",
         "McCLINTOCK, Tom",
         "0.671",
         "Republican"
        ],
        [
         "28",
         "House",
         "CHU, Judy",
         "-0.482",
         "Democrat"
        ],
        [
         "29",
         "House",
         "GARAMENDI, John",
         "-0.314",
         "Democrat"
        ],
        [
         "30",
         "House",
         "LaMALFA, Doug",
         "0.542",
         "Republican"
        ],
        [
         "31",
         "House",
         "HUFFMAN, Jared",
         "-0.431",
         "Democrat"
        ],
        [
         "32",
         "House",
         "BERA, Ami",
         "-0.247",
         "Democrat"
        ],
        [
         "33",
         "House",
         "SWALWELL, Eric",
         "-0.355",
         "Democrat"
        ],
        [
         "34",
         "House",
         "VALADAO, David G.",
         "0.257",
         "Republican"
        ],
        [
         "35",
         "House",
         "BROWNLEY, Julia",
         "-0.303",
         "Democrat"
        ],
        [
         "36",
         "House",
         "RUIZ, Raul",
         "-0.26",
         "Democrat"
        ],
        [
         "37",
         "House",
         "TAKANO, Mark",
         "-0.458",
         "Democrat"
        ],
        [
         "38",
         "House",
         "VARGAS, Juan",
         "-0.398",
         "Democrat"
        ],
        [
         "39",
         "House",
         "PETERS, Scott",
         "-0.193",
         "Democrat"
        ],
        [
         "40",
         "House",
         "DESAULNIER, Mark James",
         "-0.513",
         "Democrat"
        ],
        [
         "41",
         "House",
         "AGUILAR, Peter Rey",
         "-0.323",
         "Democrat"
        ],
        [
         "42",
         "House",
         "LIEU, Ted",
         "-0.374",
         "Democrat"
        ],
        [
         "43",
         "House",
         "TORRES, Norma Judith",
         "-0.369",
         "Democrat"
        ],
        [
         "44",
         "House",
         "BARRAGÁN, Nanette Diaz",
         "-0.502",
         "Democrat"
        ],
        [
         "45",
         "House",
         "CARBAJAL, Salud",
         "-0.325",
         "Democrat"
        ],
        [
         "46",
         "House",
         "CORREA, Jose Luis",
         "-0.286",
         "Democrat"
        ],
        [
         "47",
         "House",
         "KHANNA, Rohit",
         "-0.456",
         "Democrat"
        ],
        [
         "48",
         "House",
         "PANETTA, James Varni",
         "-0.29",
         "Democrat"
        ],
        [
         "49",
         "House",
         "GOMEZ, Jimmy",
         "-0.526",
         "Democrat"
        ]
       ],
       "shape": {
        "columns": 4,
        "rows": 443
       }
      },
      "text/html": [
       "<div>\n",
       "<style scoped>\n",
       "    .dataframe tbody tr th:only-of-type {\n",
       "        vertical-align: middle;\n",
       "    }\n",
       "\n",
       "    .dataframe tbody tr th {\n",
       "        vertical-align: top;\n",
       "    }\n",
       "\n",
       "    .dataframe thead th {\n",
       "        text-align: right;\n",
       "    }\n",
       "</style>\n",
       "<table border=\"1\" class=\"dataframe\">\n",
       "  <thead>\n",
       "    <tr style=\"text-align: right;\">\n",
       "      <th></th>\n",
       "      <th>chamber</th>\n",
       "      <th>bioname</th>\n",
       "      <th>nominate_dim1</th>\n",
       "      <th>party</th>\n",
       "    </tr>\n",
       "  </thead>\n",
       "  <tbody>\n",
       "    <tr>\n",
       "      <th>0</th>\n",
       "      <td>House</td>\n",
       "      <td>ROGERS, Mike Dennis</td>\n",
       "      <td>0.378</td>\n",
       "      <td>Republican</td>\n",
       "    </tr>\n",
       "    <tr>\n",
       "      <th>1</th>\n",
       "      <td>House</td>\n",
       "      <td>SEWELL, Terri</td>\n",
       "      <td>-0.399</td>\n",
       "      <td>Democrat</td>\n",
       "    </tr>\n",
       "    <tr>\n",
       "      <th>2</th>\n",
       "      <td>House</td>\n",
       "      <td>PALMER, Gary James</td>\n",
       "      <td>0.674</td>\n",
       "      <td>Republican</td>\n",
       "    </tr>\n",
       "    <tr>\n",
       "      <th>3</th>\n",
       "      <td>House</td>\n",
       "      <td>MOORE, Barry</td>\n",
       "      <td>0.643</td>\n",
       "      <td>Republican</td>\n",
       "    </tr>\n",
       "    <tr>\n",
       "      <th>4</th>\n",
       "      <td>House</td>\n",
       "      <td>STRONG, Dale</td>\n",
       "      <td>0.606</td>\n",
       "      <td>Republican</td>\n",
       "    </tr>\n",
       "    <tr>\n",
       "      <th>...</th>\n",
       "      <td>...</td>\n",
       "      <td>...</td>\n",
       "      <td>...</td>\n",
       "      <td>...</td>\n",
       "    </tr>\n",
       "    <tr>\n",
       "      <th>438</th>\n",
       "      <td>House</td>\n",
       "      <td>TIFFANY, Thomas P.</td>\n",
       "      <td>0.639</td>\n",
       "      <td>Republican</td>\n",
       "    </tr>\n",
       "    <tr>\n",
       "      <th>439</th>\n",
       "      <td>House</td>\n",
       "      <td>FITZGERALD, Scott</td>\n",
       "      <td>0.599</td>\n",
       "      <td>Republican</td>\n",
       "    </tr>\n",
       "    <tr>\n",
       "      <th>440</th>\n",
       "      <td>House</td>\n",
       "      <td>VAN ORDEN, Derrick</td>\n",
       "      <td>0.380</td>\n",
       "      <td>Republican</td>\n",
       "    </tr>\n",
       "    <tr>\n",
       "      <th>441</th>\n",
       "      <td>House</td>\n",
       "      <td>WIED, Tony</td>\n",
       "      <td>0.481</td>\n",
       "      <td>Republican</td>\n",
       "    </tr>\n",
       "    <tr>\n",
       "      <th>442</th>\n",
       "      <td>House</td>\n",
       "      <td>HAGEMAN, Harriet</td>\n",
       "      <td>0.650</td>\n",
       "      <td>Republican</td>\n",
       "    </tr>\n",
       "  </tbody>\n",
       "</table>\n",
       "<p>443 rows × 4 columns</p>\n",
       "</div>"
      ],
      "text/plain": [
       "    chamber              bioname  nominate_dim1       party\n",
       "0     House  ROGERS, Mike Dennis          0.378  Republican\n",
       "1     House        SEWELL, Terri         -0.399    Democrat\n",
       "2     House   PALMER, Gary James          0.674  Republican\n",
       "3     House         MOORE, Barry          0.643  Republican\n",
       "4     House         STRONG, Dale          0.606  Republican\n",
       "..      ...                  ...            ...         ...\n",
       "438   House   TIFFANY, Thomas P.          0.639  Republican\n",
       "439   House    FITZGERALD, Scott          0.599  Republican\n",
       "440   House   VAN ORDEN, Derrick          0.380  Republican\n",
       "441   House           WIED, Tony          0.481  Republican\n",
       "442   House     HAGEMAN, Harriet          0.650  Republican\n",
       "\n",
       "[443 rows x 4 columns]"
      ]
     },
     "execution_count": 38,
     "metadata": {},
     "output_type": "execute_result"
    }
   ],
   "source": [
    "ideology = ideology.drop(['party_code'], axis=1)\n",
    "ideology"
   ]
  },
  {
   "cell_type": "code",
   "execution_count": 39,
   "metadata": {},
   "outputs": [
    {
     "data": {
      "application/vnd.microsoft.datawrangler.viewer.v0+json": {
       "columns": [
        {
         "name": "index",
         "rawType": "int64",
         "type": "integer"
        },
        {
         "name": "chamber",
         "rawType": "object",
         "type": "string"
        },
        {
         "name": "bioname",
         "rawType": "object",
         "type": "string"
        },
        {
         "name": "left_right_ideology",
         "rawType": "float64",
         "type": "float"
        },
        {
         "name": "party",
         "rawType": "object",
         "type": "string"
        }
       ],
       "ref": "83fca5c3-26e5-4951-a9b1-3f4d06043bf6",
       "rows": [
        [
         "0",
         "House",
         "ROGERS, Mike Dennis",
         "0.378",
         "Republican"
        ],
        [
         "1",
         "House",
         "SEWELL, Terri",
         "-0.399",
         "Democrat"
        ],
        [
         "2",
         "House",
         "PALMER, Gary James",
         "0.674",
         "Republican"
        ],
        [
         "3",
         "House",
         "MOORE, Barry",
         "0.643",
         "Republican"
        ],
        [
         "4",
         "House",
         "STRONG, Dale",
         "0.606",
         "Republican"
        ],
        [
         "5",
         "House",
         "FIGURES, Shomari",
         "-0.389",
         "Democrat"
        ],
        [
         "6",
         "House",
         "ADERHOLT, Robert",
         "0.405",
         "Republican"
        ],
        [
         "7",
         "House",
         "BEGICH, Nicholas J., III",
         "0.572",
         "Republican"
        ],
        [
         "8",
         "House",
         "RADEWAGEN, Aumua Amata Coleman",
         "0.326",
         "Republican"
        ],
        [
         "9",
         "House",
         "GRIJALVA, Raúl M.",
         "-0.598",
         "Democrat"
        ],
        [
         "10",
         "House",
         "GOSAR, Paul",
         "0.703",
         "Republican"
        ],
        [
         "11",
         "House",
         "SCHWEIKERT, David",
         "0.553",
         "Republican"
        ],
        [
         "12",
         "House",
         "BIGGS, Andrew S.",
         "0.818",
         "Republican"
        ],
        [
         "13",
         "House",
         "STANTON, Greg",
         "-0.276",
         "Democrat"
        ],
        [
         "14",
         "House",
         "CISCOMANI, Juan",
         "0.292",
         "Republican"
        ],
        [
         "15",
         "House",
         "CRANE, Eli",
         "0.753",
         "Republican"
        ],
        [
         "16",
         "House",
         "ANSARI, Yassamin",
         "-0.628",
         "Democrat"
        ],
        [
         "17",
         "House",
         "HAMADEH, Abraham J.",
         "0.647",
         "Republican"
        ],
        [
         "18",
         "House",
         "CRAWFORD, Rick",
         "0.461",
         "Republican"
        ],
        [
         "19",
         "House",
         "WOMACK, Steve",
         "0.348",
         "Republican"
        ],
        [
         "20",
         "House",
         "HILL, French",
         "0.436",
         "Republican"
        ],
        [
         "21",
         "House",
         "WESTERMAN, Bruce Eugene",
         "0.544",
         "Republican"
        ],
        [
         "22",
         "House",
         "PELOSI, Nancy",
         "-0.489",
         "Democrat"
        ],
        [
         "23",
         "House",
         "ISSA, Darrell",
         "0.476",
         "Republican"
        ],
        [
         "24",
         "House",
         "SÁNCHEZ, Linda T.",
         "-0.508",
         "Democrat"
        ],
        [
         "25",
         "House",
         "COSTA, Jim",
         "-0.198",
         "Democrat"
        ],
        [
         "26",
         "House",
         "MATSUI, Doris",
         "-0.434",
         "Democrat"
        ],
        [
         "27",
         "House",
         "McCLINTOCK, Tom",
         "0.671",
         "Republican"
        ],
        [
         "28",
         "House",
         "CHU, Judy",
         "-0.482",
         "Democrat"
        ],
        [
         "29",
         "House",
         "GARAMENDI, John",
         "-0.314",
         "Democrat"
        ],
        [
         "30",
         "House",
         "LaMALFA, Doug",
         "0.542",
         "Republican"
        ],
        [
         "31",
         "House",
         "HUFFMAN, Jared",
         "-0.431",
         "Democrat"
        ],
        [
         "32",
         "House",
         "BERA, Ami",
         "-0.247",
         "Democrat"
        ],
        [
         "33",
         "House",
         "SWALWELL, Eric",
         "-0.355",
         "Democrat"
        ],
        [
         "34",
         "House",
         "VALADAO, David G.",
         "0.257",
         "Republican"
        ],
        [
         "35",
         "House",
         "BROWNLEY, Julia",
         "-0.303",
         "Democrat"
        ],
        [
         "36",
         "House",
         "RUIZ, Raul",
         "-0.26",
         "Democrat"
        ],
        [
         "37",
         "House",
         "TAKANO, Mark",
         "-0.458",
         "Democrat"
        ],
        [
         "38",
         "House",
         "VARGAS, Juan",
         "-0.398",
         "Democrat"
        ],
        [
         "39",
         "House",
         "PETERS, Scott",
         "-0.193",
         "Democrat"
        ],
        [
         "40",
         "House",
         "DESAULNIER, Mark James",
         "-0.513",
         "Democrat"
        ],
        [
         "41",
         "House",
         "AGUILAR, Peter Rey",
         "-0.323",
         "Democrat"
        ],
        [
         "42",
         "House",
         "LIEU, Ted",
         "-0.374",
         "Democrat"
        ],
        [
         "43",
         "House",
         "TORRES, Norma Judith",
         "-0.369",
         "Democrat"
        ],
        [
         "44",
         "House",
         "BARRAGÁN, Nanette Diaz",
         "-0.502",
         "Democrat"
        ],
        [
         "45",
         "House",
         "CARBAJAL, Salud",
         "-0.325",
         "Democrat"
        ],
        [
         "46",
         "House",
         "CORREA, Jose Luis",
         "-0.286",
         "Democrat"
        ],
        [
         "47",
         "House",
         "KHANNA, Rohit",
         "-0.456",
         "Democrat"
        ],
        [
         "48",
         "House",
         "PANETTA, James Varni",
         "-0.29",
         "Democrat"
        ],
        [
         "49",
         "House",
         "GOMEZ, Jimmy",
         "-0.526",
         "Democrat"
        ]
       ],
       "shape": {
        "columns": 4,
        "rows": 443
       }
      },
      "text/html": [
       "<div>\n",
       "<style scoped>\n",
       "    .dataframe tbody tr th:only-of-type {\n",
       "        vertical-align: middle;\n",
       "    }\n",
       "\n",
       "    .dataframe tbody tr th {\n",
       "        vertical-align: top;\n",
       "    }\n",
       "\n",
       "    .dataframe thead th {\n",
       "        text-align: right;\n",
       "    }\n",
       "</style>\n",
       "<table border=\"1\" class=\"dataframe\">\n",
       "  <thead>\n",
       "    <tr style=\"text-align: right;\">\n",
       "      <th></th>\n",
       "      <th>chamber</th>\n",
       "      <th>bioname</th>\n",
       "      <th>left_right_ideology</th>\n",
       "      <th>party</th>\n",
       "    </tr>\n",
       "  </thead>\n",
       "  <tbody>\n",
       "    <tr>\n",
       "      <th>0</th>\n",
       "      <td>House</td>\n",
       "      <td>ROGERS, Mike Dennis</td>\n",
       "      <td>0.378</td>\n",
       "      <td>Republican</td>\n",
       "    </tr>\n",
       "    <tr>\n",
       "      <th>1</th>\n",
       "      <td>House</td>\n",
       "      <td>SEWELL, Terri</td>\n",
       "      <td>-0.399</td>\n",
       "      <td>Democrat</td>\n",
       "    </tr>\n",
       "    <tr>\n",
       "      <th>2</th>\n",
       "      <td>House</td>\n",
       "      <td>PALMER, Gary James</td>\n",
       "      <td>0.674</td>\n",
       "      <td>Republican</td>\n",
       "    </tr>\n",
       "    <tr>\n",
       "      <th>3</th>\n",
       "      <td>House</td>\n",
       "      <td>MOORE, Barry</td>\n",
       "      <td>0.643</td>\n",
       "      <td>Republican</td>\n",
       "    </tr>\n",
       "    <tr>\n",
       "      <th>4</th>\n",
       "      <td>House</td>\n",
       "      <td>STRONG, Dale</td>\n",
       "      <td>0.606</td>\n",
       "      <td>Republican</td>\n",
       "    </tr>\n",
       "    <tr>\n",
       "      <th>...</th>\n",
       "      <td>...</td>\n",
       "      <td>...</td>\n",
       "      <td>...</td>\n",
       "      <td>...</td>\n",
       "    </tr>\n",
       "    <tr>\n",
       "      <th>438</th>\n",
       "      <td>House</td>\n",
       "      <td>TIFFANY, Thomas P.</td>\n",
       "      <td>0.639</td>\n",
       "      <td>Republican</td>\n",
       "    </tr>\n",
       "    <tr>\n",
       "      <th>439</th>\n",
       "      <td>House</td>\n",
       "      <td>FITZGERALD, Scott</td>\n",
       "      <td>0.599</td>\n",
       "      <td>Republican</td>\n",
       "    </tr>\n",
       "    <tr>\n",
       "      <th>440</th>\n",
       "      <td>House</td>\n",
       "      <td>VAN ORDEN, Derrick</td>\n",
       "      <td>0.380</td>\n",
       "      <td>Republican</td>\n",
       "    </tr>\n",
       "    <tr>\n",
       "      <th>441</th>\n",
       "      <td>House</td>\n",
       "      <td>WIED, Tony</td>\n",
       "      <td>0.481</td>\n",
       "      <td>Republican</td>\n",
       "    </tr>\n",
       "    <tr>\n",
       "      <th>442</th>\n",
       "      <td>House</td>\n",
       "      <td>HAGEMAN, Harriet</td>\n",
       "      <td>0.650</td>\n",
       "      <td>Republican</td>\n",
       "    </tr>\n",
       "  </tbody>\n",
       "</table>\n",
       "<p>443 rows × 4 columns</p>\n",
       "</div>"
      ],
      "text/plain": [
       "    chamber              bioname  left_right_ideology       party\n",
       "0     House  ROGERS, Mike Dennis                0.378  Republican\n",
       "1     House        SEWELL, Terri               -0.399    Democrat\n",
       "2     House   PALMER, Gary James                0.674  Republican\n",
       "3     House         MOORE, Barry                0.643  Republican\n",
       "4     House         STRONG, Dale                0.606  Republican\n",
       "..      ...                  ...                  ...         ...\n",
       "438   House   TIFFANY, Thomas P.                0.639  Republican\n",
       "439   House    FITZGERALD, Scott                0.599  Republican\n",
       "440   House   VAN ORDEN, Derrick                0.380  Republican\n",
       "441   House           WIED, Tony                0.481  Republican\n",
       "442   House     HAGEMAN, Harriet                0.650  Republican\n",
       "\n",
       "[443 rows x 4 columns]"
      ]
     },
     "execution_count": 39,
     "metadata": {},
     "output_type": "execute_result"
    }
   ],
   "source": [
    "ideology = ideology.rename({'nominate_dim1': 'left_right_ideology'}, axis=1)\n",
    "ideology"
   ]
  },
  {
   "cell_type": "code",
   "execution_count": 40,
   "metadata": {},
   "outputs": [
    {
     "data": {
      "application/vnd.microsoft.datawrangler.viewer.v0+json": {
       "columns": [
        {
         "name": "index",
         "rawType": "int64",
         "type": "integer"
        },
        {
         "name": "chamber",
         "rawType": "object",
         "type": "string"
        },
        {
         "name": "bioname",
         "rawType": "object",
         "type": "string"
        },
        {
         "name": "left_right_ideology",
         "rawType": "float64",
         "type": "float"
        },
        {
         "name": "party",
         "rawType": "object",
         "type": "string"
        },
        {
         "name": "state_abbrev",
         "rawType": "object",
         "type": "string"
        },
        {
         "name": "district_code",
         "rawType": "int64",
         "type": "integer"
        },
        {
         "name": "icpsr",
         "rawType": "int64",
         "type": "integer"
        },
        {
         "name": "bioguide_id",
         "rawType": "object",
         "type": "string"
        }
       ],
       "ref": "65feace4-1f72-4814-a406-0d5972f3d9bb",
       "rows": [
        [
         "0",
         "House",
         "ROGERS, Mike Dennis",
         "0.378",
         "Republican",
         "AL",
         "3",
         "20301",
         "R000575"
        ],
        [
         "1",
         "House",
         "SEWELL, Terri",
         "-0.399",
         "Democrat",
         "AL",
         "7",
         "21102",
         "S001185"
        ],
        [
         "2",
         "House",
         "PALMER, Gary James",
         "0.674",
         "Republican",
         "AL",
         "6",
         "21500",
         "P000609"
        ],
        [
         "3",
         "House",
         "MOORE, Barry",
         "0.643",
         "Republican",
         "AL",
         "1",
         "22140",
         "M001212"
        ],
        [
         "4",
         "House",
         "STRONG, Dale",
         "0.606",
         "Republican",
         "AL",
         "5",
         "22366",
         "S001220"
        ],
        [
         "5",
         "House",
         "FIGURES, Shomari",
         "-0.389",
         "Democrat",
         "AL",
         "2",
         "22515",
         "F000481"
        ],
        [
         "6",
         "House",
         "ADERHOLT, Robert",
         "0.405",
         "Republican",
         "AL",
         "4",
         "29701",
         "A000055"
        ],
        [
         "7",
         "House",
         "BEGICH, Nicholas J., III",
         "0.572",
         "Republican",
         "AK",
         "1",
         "22503",
         "B001323"
        ],
        [
         "8",
         "House",
         "RADEWAGEN, Aumua Amata Coleman",
         "0.326",
         "Republican",
         "AS",
         "0",
         "21995",
         "R000600"
        ],
        [
         "9",
         "House",
         "GRIJALVA, Raúl M.",
         "-0.598",
         "Democrat",
         "AZ",
         "7",
         "20305",
         "G000551"
        ],
        [
         "10",
         "House",
         "GOSAR, Paul",
         "0.703",
         "Republican",
         "AZ",
         "9",
         "21103",
         "G000565"
        ],
        [
         "11",
         "House",
         "SCHWEIKERT, David",
         "0.553",
         "Republican",
         "AZ",
         "1",
         "21105",
         "S001183"
        ],
        [
         "12",
         "House",
         "BIGGS, Andrew S.",
         "0.818",
         "Republican",
         "AZ",
         "5",
         "21705",
         "B001302"
        ],
        [
         "13",
         "House",
         "STANTON, Greg",
         "-0.276",
         "Democrat",
         "AZ",
         "4",
         "21968",
         "S001211"
        ],
        [
         "14",
         "House",
         "CISCOMANI, Juan",
         "0.292",
         "Republican",
         "AZ",
         "6",
         "22309",
         "C001133"
        ],
        [
         "15",
         "House",
         "CRANE, Eli",
         "0.753",
         "Republican",
         "AZ",
         "2",
         "22311",
         "C001132"
        ],
        [
         "16",
         "House",
         "ANSARI, Yassamin",
         "-0.628",
         "Democrat",
         "AZ",
         "3",
         "22500",
         "A000381"
        ],
        [
         "17",
         "House",
         "HAMADEH, Abraham J.",
         "0.647",
         "Republican",
         "AZ",
         "8",
         "22522",
         "H001098"
        ],
        [
         "18",
         "House",
         "CRAWFORD, Rick",
         "0.461",
         "Republican",
         "AR",
         "1",
         "21106",
         "C001087"
        ],
        [
         "19",
         "House",
         "WOMACK, Steve",
         "0.348",
         "Republican",
         "AR",
         "3",
         "21108",
         "W000809"
        ],
        [
         "20",
         "House",
         "HILL, French",
         "0.436",
         "Republican",
         "AR",
         "2",
         "21503",
         "H001072"
        ],
        [
         "21",
         "House",
         "WESTERMAN, Bruce Eugene",
         "0.544",
         "Republican",
         "AR",
         "4",
         "21563",
         "W000821"
        ],
        [
         "22",
         "House",
         "PELOSI, Nancy",
         "-0.489",
         "Democrat",
         "CA",
         "11",
         "15448",
         "P000197"
        ],
        [
         "23",
         "House",
         "ISSA, Darrell",
         "0.476",
         "Republican",
         "CA",
         "48",
         "20107",
         "I000056"
        ],
        [
         "24",
         "House",
         "SÁNCHEZ, Linda T.",
         "-0.508",
         "Democrat",
         "CA",
         "38",
         "20310",
         "S001156"
        ],
        [
         "25",
         "House",
         "COSTA, Jim",
         "-0.198",
         "Democrat",
         "CA",
         "21",
         "20501",
         "C001059"
        ],
        [
         "26",
         "House",
         "MATSUI, Doris",
         "-0.434",
         "Democrat",
         "CA",
         "7",
         "20538",
         "M001163"
        ],
        [
         "27",
         "House",
         "McCLINTOCK, Tom",
         "0.671",
         "Republican",
         "CA",
         "5",
         "20903",
         "M001177"
        ],
        [
         "28",
         "House",
         "CHU, Judy",
         "-0.482",
         "Democrat",
         "CA",
         "28",
         "20955",
         "C001080"
        ],
        [
         "29",
         "House",
         "GARAMENDI, John",
         "-0.314",
         "Democrat",
         "CA",
         "8",
         "20958",
         "G000559"
        ],
        [
         "30",
         "House",
         "LaMALFA, Doug",
         "0.542",
         "Republican",
         "CA",
         "1",
         "21302",
         "L000578"
        ],
        [
         "31",
         "House",
         "HUFFMAN, Jared",
         "-0.431",
         "Democrat",
         "CA",
         "2",
         "21303",
         "H001068"
        ],
        [
         "32",
         "House",
         "BERA, Ami",
         "-0.247",
         "Democrat",
         "CA",
         "6",
         "21304",
         "B001287"
        ],
        [
         "33",
         "House",
         "SWALWELL, Eric",
         "-0.355",
         "Democrat",
         "CA",
         "14",
         "21306",
         "S001193"
        ],
        [
         "34",
         "House",
         "VALADAO, David G.",
         "0.257",
         "Republican",
         "CA",
         "22",
         "21307",
         "V000129"
        ],
        [
         "35",
         "House",
         "BROWNLEY, Julia",
         "-0.303",
         "Democrat",
         "CA",
         "26",
         "21308",
         "B001285"
        ],
        [
         "36",
         "House",
         "RUIZ, Raul",
         "-0.26",
         "Democrat",
         "CA",
         "25",
         "21311",
         "R000599"
        ],
        [
         "37",
         "House",
         "TAKANO, Mark",
         "-0.458",
         "Democrat",
         "CA",
         "39",
         "21312",
         "T000472"
        ],
        [
         "38",
         "House",
         "VARGAS, Juan",
         "-0.398",
         "Democrat",
         "CA",
         "52",
         "21314",
         "V000130"
        ],
        [
         "39",
         "House",
         "PETERS, Scott",
         "-0.193",
         "Democrat",
         "CA",
         "50",
         "21315",
         "P000608"
        ],
        [
         "40",
         "House",
         "DESAULNIER, Mark James",
         "-0.513",
         "Democrat",
         "CA",
         "10",
         "21504",
         "D000623"
        ],
        [
         "41",
         "House",
         "AGUILAR, Peter Rey",
         "-0.323",
         "Democrat",
         "CA",
         "33",
         "21506",
         "A000371"
        ],
        [
         "42",
         "House",
         "LIEU, Ted",
         "-0.374",
         "Democrat",
         "CA",
         "36",
         "21507",
         "L000582"
        ],
        [
         "43",
         "House",
         "TORRES, Norma Judith",
         "-0.369",
         "Democrat",
         "CA",
         "35",
         "21508",
         "T000474"
        ],
        [
         "44",
         "House",
         "BARRAGÁN, Nanette Diaz",
         "-0.502",
         "Democrat",
         "CA",
         "44",
         "21703",
         "B001300"
        ],
        [
         "45",
         "House",
         "CARBAJAL, Salud",
         "-0.325",
         "Democrat",
         "CA",
         "24",
         "21709",
         "C001112"
        ],
        [
         "46",
         "House",
         "CORREA, Jose Luis",
         "-0.286",
         "Democrat",
         "CA",
         "46",
         "21711",
         "C001110"
        ],
        [
         "47",
         "House",
         "KHANNA, Rohit",
         "-0.456",
         "Democrat",
         "CA",
         "17",
         "21728",
         "K000389"
        ],
        [
         "48",
         "House",
         "PANETTA, James Varni",
         "-0.29",
         "Democrat",
         "CA",
         "19",
         "21740",
         "P000613"
        ],
        [
         "49",
         "House",
         "GOMEZ, Jimmy",
         "-0.526",
         "Democrat",
         "CA",
         "34",
         "21754",
         "G000585"
        ]
       ],
       "shape": {
        "columns": 8,
        "rows": 443
       }
      },
      "text/html": [
       "<div>\n",
       "<style scoped>\n",
       "    .dataframe tbody tr th:only-of-type {\n",
       "        vertical-align: middle;\n",
       "    }\n",
       "\n",
       "    .dataframe tbody tr th {\n",
       "        vertical-align: top;\n",
       "    }\n",
       "\n",
       "    .dataframe thead th {\n",
       "        text-align: right;\n",
       "    }\n",
       "</style>\n",
       "<table border=\"1\" class=\"dataframe\">\n",
       "  <thead>\n",
       "    <tr style=\"text-align: right;\">\n",
       "      <th></th>\n",
       "      <th>chamber</th>\n",
       "      <th>bioname</th>\n",
       "      <th>left_right_ideology</th>\n",
       "      <th>party</th>\n",
       "      <th>state_abbrev</th>\n",
       "      <th>district_code</th>\n",
       "      <th>icpsr</th>\n",
       "      <th>bioguide_id</th>\n",
       "    </tr>\n",
       "  </thead>\n",
       "  <tbody>\n",
       "    <tr>\n",
       "      <th>0</th>\n",
       "      <td>House</td>\n",
       "      <td>ROGERS, Mike Dennis</td>\n",
       "      <td>0.378</td>\n",
       "      <td>Republican</td>\n",
       "      <td>AL</td>\n",
       "      <td>3</td>\n",
       "      <td>20301</td>\n",
       "      <td>R000575</td>\n",
       "    </tr>\n",
       "    <tr>\n",
       "      <th>1</th>\n",
       "      <td>House</td>\n",
       "      <td>SEWELL, Terri</td>\n",
       "      <td>-0.399</td>\n",
       "      <td>Democrat</td>\n",
       "      <td>AL</td>\n",
       "      <td>7</td>\n",
       "      <td>21102</td>\n",
       "      <td>S001185</td>\n",
       "    </tr>\n",
       "    <tr>\n",
       "      <th>2</th>\n",
       "      <td>House</td>\n",
       "      <td>PALMER, Gary James</td>\n",
       "      <td>0.674</td>\n",
       "      <td>Republican</td>\n",
       "      <td>AL</td>\n",
       "      <td>6</td>\n",
       "      <td>21500</td>\n",
       "      <td>P000609</td>\n",
       "    </tr>\n",
       "    <tr>\n",
       "      <th>3</th>\n",
       "      <td>House</td>\n",
       "      <td>MOORE, Barry</td>\n",
       "      <td>0.643</td>\n",
       "      <td>Republican</td>\n",
       "      <td>AL</td>\n",
       "      <td>1</td>\n",
       "      <td>22140</td>\n",
       "      <td>M001212</td>\n",
       "    </tr>\n",
       "    <tr>\n",
       "      <th>4</th>\n",
       "      <td>House</td>\n",
       "      <td>STRONG, Dale</td>\n",
       "      <td>0.606</td>\n",
       "      <td>Republican</td>\n",
       "      <td>AL</td>\n",
       "      <td>5</td>\n",
       "      <td>22366</td>\n",
       "      <td>S001220</td>\n",
       "    </tr>\n",
       "    <tr>\n",
       "      <th>...</th>\n",
       "      <td>...</td>\n",
       "      <td>...</td>\n",
       "      <td>...</td>\n",
       "      <td>...</td>\n",
       "      <td>...</td>\n",
       "      <td>...</td>\n",
       "      <td>...</td>\n",
       "      <td>...</td>\n",
       "    </tr>\n",
       "    <tr>\n",
       "      <th>438</th>\n",
       "      <td>House</td>\n",
       "      <td>TIFFANY, Thomas P.</td>\n",
       "      <td>0.639</td>\n",
       "      <td>Republican</td>\n",
       "      <td>WI</td>\n",
       "      <td>7</td>\n",
       "      <td>21989</td>\n",
       "      <td>T000165</td>\n",
       "    </tr>\n",
       "    <tr>\n",
       "      <th>439</th>\n",
       "      <td>House</td>\n",
       "      <td>FITZGERALD, Scott</td>\n",
       "      <td>0.599</td>\n",
       "      <td>Republican</td>\n",
       "      <td>WI</td>\n",
       "      <td>5</td>\n",
       "      <td>22115</td>\n",
       "      <td>F000471</td>\n",
       "    </tr>\n",
       "    <tr>\n",
       "      <th>440</th>\n",
       "      <td>House</td>\n",
       "      <td>VAN ORDEN, Derrick</td>\n",
       "      <td>0.380</td>\n",
       "      <td>Republican</td>\n",
       "      <td>WI</td>\n",
       "      <td>3</td>\n",
       "      <td>22370</td>\n",
       "      <td>V000135</td>\n",
       "    </tr>\n",
       "    <tr>\n",
       "      <th>441</th>\n",
       "      <td>House</td>\n",
       "      <td>WIED, Tony</td>\n",
       "      <td>0.481</td>\n",
       "      <td>Republican</td>\n",
       "      <td>WI</td>\n",
       "      <td>8</td>\n",
       "      <td>22383</td>\n",
       "      <td>W000829</td>\n",
       "    </tr>\n",
       "    <tr>\n",
       "      <th>442</th>\n",
       "      <td>House</td>\n",
       "      <td>HAGEMAN, Harriet</td>\n",
       "      <td>0.650</td>\n",
       "      <td>Republican</td>\n",
       "      <td>WY</td>\n",
       "      <td>1</td>\n",
       "      <td>22325</td>\n",
       "      <td>H001096</td>\n",
       "    </tr>\n",
       "  </tbody>\n",
       "</table>\n",
       "<p>443 rows × 8 columns</p>\n",
       "</div>"
      ],
      "text/plain": [
       "    chamber              bioname  left_right_ideology       party  \\\n",
       "0     House  ROGERS, Mike Dennis                0.378  Republican   \n",
       "1     House        SEWELL, Terri               -0.399    Democrat   \n",
       "2     House   PALMER, Gary James                0.674  Republican   \n",
       "3     House         MOORE, Barry                0.643  Republican   \n",
       "4     House         STRONG, Dale                0.606  Republican   \n",
       "..      ...                  ...                  ...         ...   \n",
       "438   House   TIFFANY, Thomas P.                0.639  Republican   \n",
       "439   House    FITZGERALD, Scott                0.599  Republican   \n",
       "440   House   VAN ORDEN, Derrick                0.380  Republican   \n",
       "441   House           WIED, Tony                0.481  Republican   \n",
       "442   House     HAGEMAN, Harriet                0.650  Republican   \n",
       "\n",
       "    state_abbrev  district_code  icpsr bioguide_id  \n",
       "0             AL              3  20301     R000575  \n",
       "1             AL              7  21102     S001185  \n",
       "2             AL              6  21500     P000609  \n",
       "3             AL              1  22140     M001212  \n",
       "4             AL              5  22366     S001220  \n",
       "..           ...            ...    ...         ...  \n",
       "438           WI              7  21989     T000165  \n",
       "439           WI              5  22115     F000471  \n",
       "440           WI              3  22370     V000135  \n",
       "441           WI              8  22383     W000829  \n",
       "442           WY              1  22325     H001096  \n",
       "\n",
       "[443 rows x 8 columns]"
      ]
     },
     "execution_count": 40,
     "metadata": {},
     "output_type": "execute_result"
    }
   ],
   "source": [
    "ideology_crosswalk = pd.merge(ideology, crosswalk, on='bioname')\n",
    "ideology_crosswalk"
   ]
  },
  {
   "cell_type": "code",
   "execution_count": 41,
   "metadata": {},
   "outputs": [
    {
     "data": {
      "application/vnd.microsoft.datawrangler.viewer.v0+json": {
       "columns": [
        {
         "name": "index",
         "rawType": "int64",
         "type": "integer"
        },
        {
         "name": "chamber",
         "rawType": "object",
         "type": "string"
        },
        {
         "name": "bioname",
         "rawType": "object",
         "type": "string"
        },
        {
         "name": "left_right_ideology",
         "rawType": "float64",
         "type": "float"
        },
        {
         "name": "party",
         "rawType": "object",
         "type": "string"
        },
        {
         "name": "state_abbrev",
         "rawType": "object",
         "type": "string"
        },
        {
         "name": "district_code",
         "rawType": "int64",
         "type": "integer"
        },
        {
         "name": "icpsr",
         "rawType": "int64",
         "type": "integer"
        },
        {
         "name": "bioguide_id",
         "rawType": "object",
         "type": "string"
        }
       ],
       "ref": "1fc9204b-cd70-4439-a94b-a2415b650310",
       "rows": [
        [
         "417",
         "House",
         "MCGUIRE, John J., III",
         "0.681",
         "Republican",
         "VA",
         "5",
         "22539",
         "M001239"
        ]
       ],
       "shape": {
        "columns": 8,
        "rows": 1
       }
      },
      "text/html": [
       "<div>\n",
       "<style scoped>\n",
       "    .dataframe tbody tr th:only-of-type {\n",
       "        vertical-align: middle;\n",
       "    }\n",
       "\n",
       "    .dataframe tbody tr th {\n",
       "        vertical-align: top;\n",
       "    }\n",
       "\n",
       "    .dataframe thead th {\n",
       "        text-align: right;\n",
       "    }\n",
       "</style>\n",
       "<table border=\"1\" class=\"dataframe\">\n",
       "  <thead>\n",
       "    <tr style=\"text-align: right;\">\n",
       "      <th></th>\n",
       "      <th>chamber</th>\n",
       "      <th>bioname</th>\n",
       "      <th>left_right_ideology</th>\n",
       "      <th>party</th>\n",
       "      <th>state_abbrev</th>\n",
       "      <th>district_code</th>\n",
       "      <th>icpsr</th>\n",
       "      <th>bioguide_id</th>\n",
       "    </tr>\n",
       "  </thead>\n",
       "  <tbody>\n",
       "    <tr>\n",
       "      <th>417</th>\n",
       "      <td>House</td>\n",
       "      <td>MCGUIRE, John J., III</td>\n",
       "      <td>0.681</td>\n",
       "      <td>Republican</td>\n",
       "      <td>VA</td>\n",
       "      <td>5</td>\n",
       "      <td>22539</td>\n",
       "      <td>M001239</td>\n",
       "    </tr>\n",
       "  </tbody>\n",
       "</table>\n",
       "</div>"
      ],
      "text/plain": [
       "    chamber                bioname  left_right_ideology       party  \\\n",
       "417   House  MCGUIRE, John J., III                0.681  Republican   \n",
       "\n",
       "    state_abbrev  district_code  icpsr bioguide_id  \n",
       "417           VA              5  22539     M001239  "
      ]
     },
     "execution_count": 41,
     "metadata": {},
     "output_type": "execute_result"
    }
   ],
   "source": [
    "ideology_crosswalk.query(\"state_abbrev == 'VA' & district_code == 5\")"
   ]
  }
 ],
 "metadata": {
  "kernelspec": {
   "display_name": "ds6600",
   "language": "python",
   "name": "python3"
  },
  "language_info": {
   "codemirror_mode": {
    "name": "ipython",
    "version": 3
   },
   "file_extension": ".py",
   "mimetype": "text/x-python",
   "name": "python",
   "nbconvert_exporter": "python",
   "pygments_lexer": "ipython3",
   "version": "3.13.5"
  }
 },
 "nbformat": 4,
 "nbformat_minor": 2
}
