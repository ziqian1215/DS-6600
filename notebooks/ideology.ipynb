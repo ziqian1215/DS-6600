{
 "cells": [
  {
   "cell_type": "code",
   "execution_count": 10,
   "metadata": {},
   "outputs": [],
   "source": [
    "import numpy as numpy\n",
    "import pandas as pd"
   ]
  },
  {
   "cell_type": "code",
   "execution_count": 26,
   "metadata": {},
   "outputs": [
    {
     "data": {
      "application/vnd.microsoft.datawrangler.viewer.v0+json": {
       "columns": [
        {
         "name": "index",
         "rawType": "int64",
         "type": "integer"
        },
        {
         "name": "chamber",
         "rawType": "object",
         "type": "string"
        },
        {
         "name": "bioname",
         "rawType": "object",
         "type": "string"
        },
        {
         "name": "nominate_dim1",
         "rawType": "float64",
         "type": "float"
        },
        {
         "name": "party_code",
         "rawType": "int64",
         "type": "integer"
        }
       ],
       "ref": "0ccef38e-5f21-47db-a3d4-de2686b2d777",
       "rows": [
        [
         "0",
         "House",
         "ROGERS, Mike Dennis",
         "0.378",
         "200"
        ],
        [
         "1",
         "House",
         "SEWELL, Terri",
         "-0.401",
         "100"
        ],
        [
         "2",
         "House",
         "PALMER, Gary James",
         "0.674",
         "200"
        ],
        [
         "3",
         "House",
         "MOORE, Barry",
         "0.645",
         "200"
        ],
        [
         "4",
         "House",
         "STRONG, Dale",
         "0.606",
         "200"
        ],
        [
         "5",
         "House",
         "FIGURES, Shomari",
         "-0.432",
         "100"
        ],
        [
         "6",
         "House",
         "ADERHOLT, Robert",
         "0.405",
         "200"
        ],
        [
         "7",
         "House",
         "BEGICH, Nicholas J., III",
         "0.634",
         "200"
        ],
        [
         "8",
         "House",
         "RADEWAGEN, Aumua Amata Coleman",
         "0.326",
         "200"
        ],
        [
         "9",
         "House",
         "GRIJALVA, Raúl M.",
         "-0.598",
         "100"
        ],
        [
         "10",
         "House",
         "GOSAR, Paul",
         "0.704",
         "200"
        ],
        [
         "11",
         "House",
         "SCHWEIKERT, David",
         "0.553",
         "200"
        ],
        [
         "12",
         "House",
         "BIGGS, Andrew S.",
         "0.818",
         "200"
        ],
        [
         "13",
         "House",
         "STANTON, Greg",
         "-0.276",
         "100"
        ],
        [
         "14",
         "House",
         "CISCOMANI, Juan",
         "0.292",
         "200"
        ],
        [
         "15",
         "House",
         "CRANE, Eli",
         "0.748",
         "200"
        ],
        [
         "16",
         "House",
         "ANSARI, Yassamin",
         "-0.506",
         "100"
        ],
        [
         "17",
         "House",
         "HAMADEH, Abraham J.",
         "0.643",
         "200"
        ],
        [
         "18",
         "House",
         "CRAWFORD, Rick",
         "0.461",
         "200"
        ],
        [
         "19",
         "House",
         "WOMACK, Steve",
         "0.348",
         "200"
        ],
        [
         "20",
         "House",
         "HILL, French",
         "0.436",
         "200"
        ],
        [
         "21",
         "House",
         "WESTERMAN, Bruce Eugene",
         "0.544",
         "200"
        ],
        [
         "22",
         "House",
         "PELOSI, Nancy",
         "-0.489",
         "100"
        ],
        [
         "23",
         "House",
         "ISSA, Darrell",
         "0.476",
         "200"
        ],
        [
         "24",
         "House",
         "SÁNCHEZ, Linda T.",
         "-0.508",
         "100"
        ],
        [
         "25",
         "House",
         "COSTA, Jim",
         "-0.198",
         "100"
        ],
        [
         "26",
         "House",
         "MATSUI, Doris",
         "-0.434",
         "100"
        ],
        [
         "27",
         "House",
         "McCLINTOCK, Tom",
         "0.67",
         "200"
        ],
        [
         "28",
         "House",
         "CHU, Judy",
         "-0.481",
         "100"
        ],
        [
         "29",
         "House",
         "GARAMENDI, John",
         "-0.314",
         "100"
        ],
        [
         "30",
         "House",
         "LaMALFA, Doug",
         "0.542",
         "200"
        ],
        [
         "31",
         "House",
         "HUFFMAN, Jared",
         "-0.43",
         "100"
        ],
        [
         "32",
         "House",
         "BERA, Ami",
         "-0.246",
         "100"
        ],
        [
         "33",
         "House",
         "SWALWELL, Eric",
         "-0.355",
         "100"
        ],
        [
         "34",
         "House",
         "VALADAO, David G.",
         "0.257",
         "200"
        ],
        [
         "35",
         "House",
         "BROWNLEY, Julia",
         "-0.303",
         "100"
        ],
        [
         "36",
         "House",
         "RUIZ, Raul",
         "-0.26",
         "100"
        ],
        [
         "37",
         "House",
         "TAKANO, Mark",
         "-0.457",
         "100"
        ],
        [
         "38",
         "House",
         "VARGAS, Juan",
         "-0.397",
         "100"
        ],
        [
         "39",
         "House",
         "PETERS, Scott",
         "-0.193",
         "100"
        ],
        [
         "40",
         "House",
         "DESAULNIER, Mark James",
         "-0.513",
         "100"
        ],
        [
         "41",
         "House",
         "AGUILAR, Peter Rey",
         "-0.324",
         "100"
        ],
        [
         "42",
         "House",
         "LIEU, Ted",
         "-0.373",
         "100"
        ],
        [
         "43",
         "House",
         "TORRES, Norma Judith",
         "-0.367",
         "100"
        ],
        [
         "44",
         "House",
         "BARRAGÁN, Nanette Diaz",
         "-0.502",
         "100"
        ],
        [
         "45",
         "House",
         "CARBAJAL, Salud",
         "-0.326",
         "100"
        ],
        [
         "46",
         "House",
         "CORREA, Jose Luis",
         "-0.285",
         "100"
        ],
        [
         "47",
         "House",
         "KHANNA, Rohit",
         "-0.456",
         "100"
        ],
        [
         "48",
         "House",
         "PANETTA, James Varni",
         "-0.288",
         "100"
        ],
        [
         "49",
         "House",
         "GOMEZ, Jimmy",
         "-0.527",
         "100"
        ]
       ],
       "shape": {
        "columns": 4,
        "rows": 545
       }
      },
      "text/html": [
       "<div>\n",
       "<style scoped>\n",
       "    .dataframe tbody tr th:only-of-type {\n",
       "        vertical-align: middle;\n",
       "    }\n",
       "\n",
       "    .dataframe tbody tr th {\n",
       "        vertical-align: top;\n",
       "    }\n",
       "\n",
       "    .dataframe thead th {\n",
       "        text-align: right;\n",
       "    }\n",
       "</style>\n",
       "<table border=\"1\" class=\"dataframe\">\n",
       "  <thead>\n",
       "    <tr style=\"text-align: right;\">\n",
       "      <th></th>\n",
       "      <th>chamber</th>\n",
       "      <th>bioname</th>\n",
       "      <th>nominate_dim1</th>\n",
       "      <th>party_code</th>\n",
       "    </tr>\n",
       "  </thead>\n",
       "  <tbody>\n",
       "    <tr>\n",
       "      <th>0</th>\n",
       "      <td>House</td>\n",
       "      <td>ROGERS, Mike Dennis</td>\n",
       "      <td>0.378</td>\n",
       "      <td>200</td>\n",
       "    </tr>\n",
       "    <tr>\n",
       "      <th>1</th>\n",
       "      <td>House</td>\n",
       "      <td>SEWELL, Terri</td>\n",
       "      <td>-0.401</td>\n",
       "      <td>100</td>\n",
       "    </tr>\n",
       "    <tr>\n",
       "      <th>2</th>\n",
       "      <td>House</td>\n",
       "      <td>PALMER, Gary James</td>\n",
       "      <td>0.674</td>\n",
       "      <td>200</td>\n",
       "    </tr>\n",
       "    <tr>\n",
       "      <th>3</th>\n",
       "      <td>House</td>\n",
       "      <td>MOORE, Barry</td>\n",
       "      <td>0.645</td>\n",
       "      <td>200</td>\n",
       "    </tr>\n",
       "    <tr>\n",
       "      <th>4</th>\n",
       "      <td>House</td>\n",
       "      <td>STRONG, Dale</td>\n",
       "      <td>0.606</td>\n",
       "      <td>200</td>\n",
       "    </tr>\n",
       "    <tr>\n",
       "      <th>...</th>\n",
       "      <td>...</td>\n",
       "      <td>...</td>\n",
       "      <td>...</td>\n",
       "      <td>...</td>\n",
       "    </tr>\n",
       "    <tr>\n",
       "      <th>540</th>\n",
       "      <td>Senate</td>\n",
       "      <td>JUSTICE, James Conley, II</td>\n",
       "      <td>0.555</td>\n",
       "      <td>200</td>\n",
       "    </tr>\n",
       "    <tr>\n",
       "      <th>541</th>\n",
       "      <td>Senate</td>\n",
       "      <td>BALDWIN, Tammy</td>\n",
       "      <td>-0.487</td>\n",
       "      <td>100</td>\n",
       "    </tr>\n",
       "    <tr>\n",
       "      <th>542</th>\n",
       "      <td>Senate</td>\n",
       "      <td>JOHNSON, Ron</td>\n",
       "      <td>0.641</td>\n",
       "      <td>200</td>\n",
       "    </tr>\n",
       "    <tr>\n",
       "      <th>543</th>\n",
       "      <td>Senate</td>\n",
       "      <td>LUMMIS, Cynthia M.</td>\n",
       "      <td>0.686</td>\n",
       "      <td>200</td>\n",
       "    </tr>\n",
       "    <tr>\n",
       "      <th>544</th>\n",
       "      <td>Senate</td>\n",
       "      <td>BARRASSO, John A.</td>\n",
       "      <td>0.540</td>\n",
       "      <td>200</td>\n",
       "    </tr>\n",
       "  </tbody>\n",
       "</table>\n",
       "<p>545 rows × 4 columns</p>\n",
       "</div>"
      ],
      "text/plain": [
       "    chamber                    bioname  nominate_dim1  party_code\n",
       "0     House        ROGERS, Mike Dennis          0.378         200\n",
       "1     House              SEWELL, Terri         -0.401         100\n",
       "2     House         PALMER, Gary James          0.674         200\n",
       "3     House               MOORE, Barry          0.645         200\n",
       "4     House               STRONG, Dale          0.606         200\n",
       "..      ...                        ...            ...         ...\n",
       "540  Senate  JUSTICE, James Conley, II          0.555         200\n",
       "541  Senate             BALDWIN, Tammy         -0.487         100\n",
       "542  Senate               JOHNSON, Ron          0.641         200\n",
       "543  Senate         LUMMIS, Cynthia M.          0.686         200\n",
       "544  Senate          BARRASSO, John A.          0.540         200\n",
       "\n",
       "[545 rows x 4 columns]"
      ]
     },
     "execution_count": 26,
     "metadata": {},
     "output_type": "execute_result"
    }
   ],
   "source": [
    "url = \"https://voteview.com/static/data/out/members/HS119_members.csv\"\n",
    "ideology = pd.read_csv(url)\n",
    "ideology.head(3).T\n",
    "\n",
    "cols_to_keep = ['chamber', 'bioname', 'nominate_dim1', \"party_code\"]\n",
    "crosswalk_cols = ['bioname', 'state_abbrev', 'district_code', 'icpsr', 'bioguide_id']\n",
    "\n",
    "crosswalk = ideology[crosswalk_cols]\n",
    "ideology = ideology[cols_to_keep]    \n",
    "ideology"
   ]
  },
  {
   "cell_type": "code",
   "execution_count": 27,
   "metadata": {},
   "outputs": [
    {
     "data": {
      "application/vnd.microsoft.datawrangler.viewer.v0+json": {
       "columns": [
        {
         "name": "party_code",
         "rawType": "int64",
         "type": "integer"
        },
        {
         "name": "count",
         "rawType": "int64",
         "type": "integer"
        }
       ],
       "ref": "c79f9d8b-92f2-4bba-b6b0-171144f99bac",
       "rows": [
        [
         "200",
         "279"
        ],
        [
         "100",
         "264"
        ],
        [
         "328",
         "2"
        ]
       ],
       "shape": {
        "columns": 1,
        "rows": 3
       }
      },
      "text/plain": [
       "party_code\n",
       "200    279\n",
       "100    264\n",
       "328      2\n",
       "Name: count, dtype: int64"
      ]
     },
     "execution_count": 27,
     "metadata": {},
     "output_type": "execute_result"
    }
   ],
   "source": [
    "ideology['party_code'].value_counts()"
   ]
  },
  {
   "cell_type": "code",
   "execution_count": 28,
   "metadata": {},
   "outputs": [
    {
     "data": {
      "application/vnd.microsoft.datawrangler.viewer.v0+json": {
       "columns": [
        {
         "name": "party",
         "rawType": "object",
         "type": "string"
        },
        {
         "name": "count",
         "rawType": "int64",
         "type": "integer"
        }
       ],
       "ref": "8751757a-ae1c-4319-a677-5dbd926b8463",
       "rows": [
        [
         "Republican",
         "279"
        ],
        [
         "Democrat",
         "264"
        ],
        [
         "Independent",
         "2"
        ]
       ],
       "shape": {
        "columns": 1,
        "rows": 3
       }
      },
      "text/plain": [
       "party\n",
       "Republican     279\n",
       "Democrat       264\n",
       "Independent      2\n",
       "Name: count, dtype: int64"
      ]
     },
     "execution_count": 28,
     "metadata": {},
     "output_type": "execute_result"
    }
   ],
   "source": [
    "replace_map = {200: 'Republican', 100: 'Democrat', 328: 'Independent'}\n",
    "\n",
    "ideology['party'] = ideology['party_code'].replace(replace_map)\n",
    "ideology['party'].value_counts()"
   ]
  },
  {
   "cell_type": "code",
   "execution_count": 29,
   "metadata": {},
   "outputs": [],
   "source": [
    "ideology = ideology.drop(['party_code'], axis=1)"
   ]
  },
  {
   "cell_type": "code",
   "execution_count": 30,
   "metadata": {},
   "outputs": [
    {
     "data": {
      "application/vnd.microsoft.datawrangler.viewer.v0+json": {
       "columns": [
        {
         "name": "index",
         "rawType": "int64",
         "type": "integer"
        },
        {
         "name": "chamber",
         "rawType": "object",
         "type": "string"
        },
        {
         "name": "bioname",
         "rawType": "object",
         "type": "string"
        },
        {
         "name": "left_right_ideology",
         "rawType": "float64",
         "type": "float"
        },
        {
         "name": "party",
         "rawType": "object",
         "type": "string"
        }
       ],
       "ref": "e8b9f598-5473-4d61-829c-139ba8db1a8e",
       "rows": [
        [
         "0",
         "House",
         "ROGERS, Mike Dennis",
         "0.378",
         "Republican"
        ],
        [
         "1",
         "House",
         "SEWELL, Terri",
         "-0.401",
         "Democrat"
        ],
        [
         "2",
         "House",
         "PALMER, Gary James",
         "0.674",
         "Republican"
        ],
        [
         "3",
         "House",
         "MOORE, Barry",
         "0.645",
         "Republican"
        ],
        [
         "4",
         "House",
         "STRONG, Dale",
         "0.606",
         "Republican"
        ],
        [
         "5",
         "House",
         "FIGURES, Shomari",
         "-0.432",
         "Democrat"
        ],
        [
         "6",
         "House",
         "ADERHOLT, Robert",
         "0.405",
         "Republican"
        ],
        [
         "7",
         "House",
         "BEGICH, Nicholas J., III",
         "0.634",
         "Republican"
        ],
        [
         "8",
         "House",
         "RADEWAGEN, Aumua Amata Coleman",
         "0.326",
         "Republican"
        ],
        [
         "9",
         "House",
         "GRIJALVA, Raúl M.",
         "-0.598",
         "Democrat"
        ],
        [
         "10",
         "House",
         "GOSAR, Paul",
         "0.704",
         "Republican"
        ],
        [
         "11",
         "House",
         "SCHWEIKERT, David",
         "0.553",
         "Republican"
        ],
        [
         "12",
         "House",
         "BIGGS, Andrew S.",
         "0.818",
         "Republican"
        ],
        [
         "13",
         "House",
         "STANTON, Greg",
         "-0.276",
         "Democrat"
        ],
        [
         "14",
         "House",
         "CISCOMANI, Juan",
         "0.292",
         "Republican"
        ],
        [
         "15",
         "House",
         "CRANE, Eli",
         "0.748",
         "Republican"
        ],
        [
         "16",
         "House",
         "ANSARI, Yassamin",
         "-0.506",
         "Democrat"
        ],
        [
         "17",
         "House",
         "HAMADEH, Abraham J.",
         "0.643",
         "Republican"
        ],
        [
         "18",
         "House",
         "CRAWFORD, Rick",
         "0.461",
         "Republican"
        ],
        [
         "19",
         "House",
         "WOMACK, Steve",
         "0.348",
         "Republican"
        ],
        [
         "20",
         "House",
         "HILL, French",
         "0.436",
         "Republican"
        ],
        [
         "21",
         "House",
         "WESTERMAN, Bruce Eugene",
         "0.544",
         "Republican"
        ],
        [
         "22",
         "House",
         "PELOSI, Nancy",
         "-0.489",
         "Democrat"
        ],
        [
         "23",
         "House",
         "ISSA, Darrell",
         "0.476",
         "Republican"
        ],
        [
         "24",
         "House",
         "SÁNCHEZ, Linda T.",
         "-0.508",
         "Democrat"
        ],
        [
         "25",
         "House",
         "COSTA, Jim",
         "-0.198",
         "Democrat"
        ],
        [
         "26",
         "House",
         "MATSUI, Doris",
         "-0.434",
         "Democrat"
        ],
        [
         "27",
         "House",
         "McCLINTOCK, Tom",
         "0.67",
         "Republican"
        ],
        [
         "28",
         "House",
         "CHU, Judy",
         "-0.481",
         "Democrat"
        ],
        [
         "29",
         "House",
         "GARAMENDI, John",
         "-0.314",
         "Democrat"
        ],
        [
         "30",
         "House",
         "LaMALFA, Doug",
         "0.542",
         "Republican"
        ],
        [
         "31",
         "House",
         "HUFFMAN, Jared",
         "-0.43",
         "Democrat"
        ],
        [
         "32",
         "House",
         "BERA, Ami",
         "-0.246",
         "Democrat"
        ],
        [
         "33",
         "House",
         "SWALWELL, Eric",
         "-0.355",
         "Democrat"
        ],
        [
         "34",
         "House",
         "VALADAO, David G.",
         "0.257",
         "Republican"
        ],
        [
         "35",
         "House",
         "BROWNLEY, Julia",
         "-0.303",
         "Democrat"
        ],
        [
         "36",
         "House",
         "RUIZ, Raul",
         "-0.26",
         "Democrat"
        ],
        [
         "37",
         "House",
         "TAKANO, Mark",
         "-0.457",
         "Democrat"
        ],
        [
         "38",
         "House",
         "VARGAS, Juan",
         "-0.397",
         "Democrat"
        ],
        [
         "39",
         "House",
         "PETERS, Scott",
         "-0.193",
         "Democrat"
        ],
        [
         "40",
         "House",
         "DESAULNIER, Mark James",
         "-0.513",
         "Democrat"
        ],
        [
         "41",
         "House",
         "AGUILAR, Peter Rey",
         "-0.324",
         "Democrat"
        ],
        [
         "42",
         "House",
         "LIEU, Ted",
         "-0.373",
         "Democrat"
        ],
        [
         "43",
         "House",
         "TORRES, Norma Judith",
         "-0.367",
         "Democrat"
        ],
        [
         "44",
         "House",
         "BARRAGÁN, Nanette Diaz",
         "-0.502",
         "Democrat"
        ],
        [
         "45",
         "House",
         "CARBAJAL, Salud",
         "-0.326",
         "Democrat"
        ],
        [
         "46",
         "House",
         "CORREA, Jose Luis",
         "-0.285",
         "Democrat"
        ],
        [
         "47",
         "House",
         "KHANNA, Rohit",
         "-0.456",
         "Democrat"
        ],
        [
         "48",
         "House",
         "PANETTA, James Varni",
         "-0.288",
         "Democrat"
        ],
        [
         "49",
         "House",
         "GOMEZ, Jimmy",
         "-0.527",
         "Democrat"
        ]
       ],
       "shape": {
        "columns": 4,
        "rows": 545
       }
      },
      "text/html": [
       "<div>\n",
       "<style scoped>\n",
       "    .dataframe tbody tr th:only-of-type {\n",
       "        vertical-align: middle;\n",
       "    }\n",
       "\n",
       "    .dataframe tbody tr th {\n",
       "        vertical-align: top;\n",
       "    }\n",
       "\n",
       "    .dataframe thead th {\n",
       "        text-align: right;\n",
       "    }\n",
       "</style>\n",
       "<table border=\"1\" class=\"dataframe\">\n",
       "  <thead>\n",
       "    <tr style=\"text-align: right;\">\n",
       "      <th></th>\n",
       "      <th>chamber</th>\n",
       "      <th>bioname</th>\n",
       "      <th>left_right_ideology</th>\n",
       "      <th>party</th>\n",
       "    </tr>\n",
       "  </thead>\n",
       "  <tbody>\n",
       "    <tr>\n",
       "      <th>0</th>\n",
       "      <td>House</td>\n",
       "      <td>ROGERS, Mike Dennis</td>\n",
       "      <td>0.378</td>\n",
       "      <td>Republican</td>\n",
       "    </tr>\n",
       "    <tr>\n",
       "      <th>1</th>\n",
       "      <td>House</td>\n",
       "      <td>SEWELL, Terri</td>\n",
       "      <td>-0.401</td>\n",
       "      <td>Democrat</td>\n",
       "    </tr>\n",
       "    <tr>\n",
       "      <th>2</th>\n",
       "      <td>House</td>\n",
       "      <td>PALMER, Gary James</td>\n",
       "      <td>0.674</td>\n",
       "      <td>Republican</td>\n",
       "    </tr>\n",
       "    <tr>\n",
       "      <th>3</th>\n",
       "      <td>House</td>\n",
       "      <td>MOORE, Barry</td>\n",
       "      <td>0.645</td>\n",
       "      <td>Republican</td>\n",
       "    </tr>\n",
       "    <tr>\n",
       "      <th>4</th>\n",
       "      <td>House</td>\n",
       "      <td>STRONG, Dale</td>\n",
       "      <td>0.606</td>\n",
       "      <td>Republican</td>\n",
       "    </tr>\n",
       "    <tr>\n",
       "      <th>...</th>\n",
       "      <td>...</td>\n",
       "      <td>...</td>\n",
       "      <td>...</td>\n",
       "      <td>...</td>\n",
       "    </tr>\n",
       "    <tr>\n",
       "      <th>540</th>\n",
       "      <td>Senate</td>\n",
       "      <td>JUSTICE, James Conley, II</td>\n",
       "      <td>0.555</td>\n",
       "      <td>Republican</td>\n",
       "    </tr>\n",
       "    <tr>\n",
       "      <th>541</th>\n",
       "      <td>Senate</td>\n",
       "      <td>BALDWIN, Tammy</td>\n",
       "      <td>-0.487</td>\n",
       "      <td>Democrat</td>\n",
       "    </tr>\n",
       "    <tr>\n",
       "      <th>542</th>\n",
       "      <td>Senate</td>\n",
       "      <td>JOHNSON, Ron</td>\n",
       "      <td>0.641</td>\n",
       "      <td>Republican</td>\n",
       "    </tr>\n",
       "    <tr>\n",
       "      <th>543</th>\n",
       "      <td>Senate</td>\n",
       "      <td>LUMMIS, Cynthia M.</td>\n",
       "      <td>0.686</td>\n",
       "      <td>Republican</td>\n",
       "    </tr>\n",
       "    <tr>\n",
       "      <th>544</th>\n",
       "      <td>Senate</td>\n",
       "      <td>BARRASSO, John A.</td>\n",
       "      <td>0.540</td>\n",
       "      <td>Republican</td>\n",
       "    </tr>\n",
       "  </tbody>\n",
       "</table>\n",
       "<p>545 rows × 4 columns</p>\n",
       "</div>"
      ],
      "text/plain": [
       "    chamber                    bioname  left_right_ideology       party\n",
       "0     House        ROGERS, Mike Dennis                0.378  Republican\n",
       "1     House              SEWELL, Terri               -0.401    Democrat\n",
       "2     House         PALMER, Gary James                0.674  Republican\n",
       "3     House               MOORE, Barry                0.645  Republican\n",
       "4     House               STRONG, Dale                0.606  Republican\n",
       "..      ...                        ...                  ...         ...\n",
       "540  Senate  JUSTICE, James Conley, II                0.555  Republican\n",
       "541  Senate             BALDWIN, Tammy               -0.487    Democrat\n",
       "542  Senate               JOHNSON, Ron                0.641  Republican\n",
       "543  Senate         LUMMIS, Cynthia M.                0.686  Republican\n",
       "544  Senate          BARRASSO, John A.                0.540  Republican\n",
       "\n",
       "[545 rows x 4 columns]"
      ]
     },
     "execution_count": 30,
     "metadata": {},
     "output_type": "execute_result"
    }
   ],
   "source": [
    "ideology = ideology.rename({'nominate_dim1': 'left_right_ideology'}, axis=1)\n",
    "ideology"
   ]
  },
  {
   "cell_type": "code",
   "execution_count": 31,
   "metadata": {},
   "outputs": [
    {
     "data": {
      "application/vnd.microsoft.datawrangler.viewer.v0+json": {
       "columns": [
        {
         "name": "index",
         "rawType": "int64",
         "type": "integer"
        },
        {
         "name": "chamber",
         "rawType": "object",
         "type": "string"
        },
        {
         "name": "bioname",
         "rawType": "object",
         "type": "string"
        },
        {
         "name": "left_right_ideology",
         "rawType": "float64",
         "type": "float"
        },
        {
         "name": "party",
         "rawType": "object",
         "type": "string"
        }
       ],
       "ref": "89348207-164b-4e19-9ee5-45a42cb846a2",
       "rows": [
        [
         "398",
         "House",
         "GILL, Brandon",
         "0.981",
         "Republican"
        ],
        [
         "296",
         "House",
         "HARRIGAN, Pat",
         "0.981",
         "Republican"
        ],
        [
         "443",
         "Senate",
         "TUBERVILLE, Thomas Hawley (Tommy)",
         "0.936",
         "Republican"
        ],
        [
         "493",
         "Senate",
         "SCHMITT, Eric Stephen",
         "0.918",
         "Republican"
        ],
        [
         "129",
         "House",
         "MCCORMICK, Rich",
         "0.891",
         "Republican"
        ],
        [
         "477",
         "Senate",
         "PAUL, Rand",
         "0.891",
         "Republican"
        ],
        [
         "532",
         "Senate",
         "LEE, Mike",
         "0.891",
         "Republican"
        ],
        [
         "433",
         "House",
         "MOORE, Riley M.",
         "0.885",
         "Republican"
        ],
        [
         "298",
         "House",
         "KNOTT, Brad",
         "0.867",
         "Republican"
        ],
        [
         "297",
         "House",
         "HARRIS, Mark",
         "0.867",
         "Republican"
        ],
        [
         "321",
         "House",
         "BRECHEEN, Josh",
         "0.858",
         "Republican"
        ],
        [
         "512",
         "Senate",
         "VANCE, James David",
         "0.85",
         "Republican"
        ],
        [
         "350",
         "House",
         "NORMAN, Ralph",
         "0.85",
         "Republican"
        ],
        [
         "236",
         "House",
         "DOWNING, Troy",
         "0.849",
         "Republican"
        ],
        [
         "397",
         "House",
         "SELF, Keith",
         "0.84",
         "Republican"
        ],
        [
         "116",
         "House",
         "FINE, Randy",
         "0.834",
         "Republican"
        ],
        [
         "492",
         "Senate",
         "HAWLEY, Joshua David",
         "0.832",
         "Republican"
        ],
        [
         "399",
         "House",
         "GOLDMAN, Craig A.",
         "0.828",
         "Republican"
        ],
        [
         "117",
         "House",
         "PATRONIS, Jimmy",
         "0.825",
         "Republican"
        ],
        [
         "125",
         "House",
         "CLYDE, Andrew S.",
         "0.824",
         "Republican"
        ],
        [
         "170",
         "House",
         "SCHMIDT, Derek",
         "0.822",
         "Republican"
        ],
        [
         "12",
         "House",
         "BIGGS, Andrew S.",
         "0.818",
         "Republican"
        ],
        [
         "407",
         "House",
         "KENNEDY, Mike",
         "0.812",
         "Republican"
        ],
        [
         "126",
         "House",
         "GREENE, Marjorie Taylor",
         "0.8",
         "Republican"
        ],
        [
         "383",
         "House",
         "ROY, Charles",
         "0.8",
         "Republican"
        ],
        [
         "354",
         "House",
         "BIGGS, Sheri",
         "0.788",
         "Republican"
        ],
        [
         "365",
         "House",
         "OGLES, Andy",
         "0.787",
         "Republican"
        ],
        [
         "147",
         "House",
         "MILLER, Mary E.",
         "0.786",
         "Republican"
        ],
        [
         "386",
         "House",
         "JACKSON, Ronny",
         "0.785",
         "Republican"
        ],
        [
         "530",
         "Senate",
         "CRUZ, Rafael Edward (Ted)",
         "0.779",
         "Republican"
        ],
        [
         "513",
         "Senate",
         "MORENO, Bernardo (Bernie)",
         "0.768",
         "Republican"
        ],
        [
         "15",
         "House",
         "CRANE, Eli",
         "0.748",
         "Republican"
        ],
        [
         "461",
         "Senate",
         "MOODY, Ashley Brooke",
         "0.74",
         "Republican"
        ],
        [
         "76",
         "House",
         "BOEBERT, Lauren",
         "0.738",
         "Republican"
        ],
        [
         "232",
         "House",
         "BURLISON, Eric",
         "0.737",
         "Republican"
        ],
        [
         "155",
         "House",
         "STUTZMAN, Marlin",
         "0.722",
         "Republican"
        ],
        [
         "382",
         "House",
         "GOODEN, Lance",
         "0.721",
         "Republican"
        ],
        [
         "370",
         "House",
         "WEBER, Randy",
         "0.72",
         "Republican"
        ],
        [
         "460",
         "Senate",
         "SCOTT, Richard Lynn (Rick)",
         "0.717",
         "Republican"
        ],
        [
         "414",
         "House",
         "CLINE, Benjamin",
         "0.716",
         "Republican"
        ],
        [
         "514",
         "Senate",
         "HUSTED, Jon Allen",
         "0.714",
         "Republican"
        ],
        [
         "384",
         "House",
         "FALLON, Pat",
         "0.714",
         "Republican"
        ],
        [
         "305",
         "House",
         "JORDAN, Jim",
         "0.712",
         "Republican"
        ],
        [
         "374",
         "House",
         "BABIN, Brian",
         "0.708",
         "Republican"
        ],
        [
         "10",
         "House",
         "GOSAR, Paul",
         "0.704",
         "Republican"
        ],
        [
         "234",
         "House",
         "ONDER, Robert F., Jr.",
         "0.703",
         "Republican"
        ],
        [
         "101",
         "House",
         "STEUBE, William",
         "0.693",
         "Republican"
        ],
        [
         "317",
         "House",
         "TAYLOR, David J.",
         "0.69",
         "Republican"
        ],
        [
         "123",
         "House",
         "ALLEN, Rick W.",
         "0.69",
         "Republican"
        ],
        [
         "377",
         "House",
         "CLOUD, Michael",
         "0.69",
         "Republican"
        ]
       ],
       "shape": {
        "columns": 4,
        "rows": 545
       }
      },
      "text/html": [
       "<div>\n",
       "<style scoped>\n",
       "    .dataframe tbody tr th:only-of-type {\n",
       "        vertical-align: middle;\n",
       "    }\n",
       "\n",
       "    .dataframe tbody tr th {\n",
       "        vertical-align: top;\n",
       "    }\n",
       "\n",
       "    .dataframe thead th {\n",
       "        text-align: right;\n",
       "    }\n",
       "</style>\n",
       "<table border=\"1\" class=\"dataframe\">\n",
       "  <thead>\n",
       "    <tr style=\"text-align: right;\">\n",
       "      <th></th>\n",
       "      <th>chamber</th>\n",
       "      <th>bioname</th>\n",
       "      <th>left_right_ideology</th>\n",
       "      <th>party</th>\n",
       "    </tr>\n",
       "  </thead>\n",
       "  <tbody>\n",
       "    <tr>\n",
       "      <th>398</th>\n",
       "      <td>House</td>\n",
       "      <td>GILL, Brandon</td>\n",
       "      <td>0.981</td>\n",
       "      <td>Republican</td>\n",
       "    </tr>\n",
       "    <tr>\n",
       "      <th>296</th>\n",
       "      <td>House</td>\n",
       "      <td>HARRIGAN, Pat</td>\n",
       "      <td>0.981</td>\n",
       "      <td>Republican</td>\n",
       "    </tr>\n",
       "    <tr>\n",
       "      <th>443</th>\n",
       "      <td>Senate</td>\n",
       "      <td>TUBERVILLE, Thomas Hawley (Tommy)</td>\n",
       "      <td>0.936</td>\n",
       "      <td>Republican</td>\n",
       "    </tr>\n",
       "    <tr>\n",
       "      <th>493</th>\n",
       "      <td>Senate</td>\n",
       "      <td>SCHMITT, Eric Stephen</td>\n",
       "      <td>0.918</td>\n",
       "      <td>Republican</td>\n",
       "    </tr>\n",
       "    <tr>\n",
       "      <th>129</th>\n",
       "      <td>House</td>\n",
       "      <td>MCCORMICK, Rich</td>\n",
       "      <td>0.891</td>\n",
       "      <td>Republican</td>\n",
       "    </tr>\n",
       "    <tr>\n",
       "      <th>...</th>\n",
       "      <td>...</td>\n",
       "      <td>...</td>\n",
       "      <td>...</td>\n",
       "      <td>...</td>\n",
       "    </tr>\n",
       "    <tr>\n",
       "      <th>429</th>\n",
       "      <td>House</td>\n",
       "      <td>RANDALL, Emily</td>\n",
       "      <td>-0.685</td>\n",
       "      <td>Democrat</td>\n",
       "    </tr>\n",
       "    <tr>\n",
       "      <th>485</th>\n",
       "      <td>Senate</td>\n",
       "      <td>WARREN, Elizabeth</td>\n",
       "      <td>-0.744</td>\n",
       "      <td>Democrat</td>\n",
       "    </tr>\n",
       "    <tr>\n",
       "      <th>401</th>\n",
       "      <td>House</td>\n",
       "      <td>TURNER, Sylvester</td>\n",
       "      <td>-0.746</td>\n",
       "      <td>Democrat</td>\n",
       "    </tr>\n",
       "    <tr>\n",
       "      <th>381</th>\n",
       "      <td>House</td>\n",
       "      <td>GARCIA, Sylvia</td>\n",
       "      <td>-0.781</td>\n",
       "      <td>Democrat</td>\n",
       "    </tr>\n",
       "    <tr>\n",
       "      <th>66</th>\n",
       "      <td>House</td>\n",
       "      <td>SIMON, Lateefah</td>\n",
       "      <td>-0.937</td>\n",
       "      <td>Democrat</td>\n",
       "    </tr>\n",
       "  </tbody>\n",
       "</table>\n",
       "<p>545 rows × 4 columns</p>\n",
       "</div>"
      ],
      "text/plain": [
       "    chamber                            bioname  left_right_ideology  \\\n",
       "398   House                      GILL, Brandon                0.981   \n",
       "296   House                      HARRIGAN, Pat                0.981   \n",
       "443  Senate  TUBERVILLE, Thomas Hawley (Tommy)                0.936   \n",
       "493  Senate              SCHMITT, Eric Stephen                0.918   \n",
       "129   House                    MCCORMICK, Rich                0.891   \n",
       "..      ...                                ...                  ...   \n",
       "429   House                     RANDALL, Emily               -0.685   \n",
       "485  Senate                  WARREN, Elizabeth               -0.744   \n",
       "401   House                  TURNER, Sylvester               -0.746   \n",
       "381   House                     GARCIA, Sylvia               -0.781   \n",
       "66    House                    SIMON, Lateefah               -0.937   \n",
       "\n",
       "          party  \n",
       "398  Republican  \n",
       "296  Republican  \n",
       "443  Republican  \n",
       "493  Republican  \n",
       "129  Republican  \n",
       "..          ...  \n",
       "429    Democrat  \n",
       "485    Democrat  \n",
       "401    Democrat  \n",
       "381    Democrat  \n",
       "66     Democrat  \n",
       "\n",
       "[545 rows x 4 columns]"
      ]
     },
     "execution_count": 31,
     "metadata": {},
     "output_type": "execute_result"
    }
   ],
   "source": [
    "ideology.sort_values('left_right_ideology', ascending=False)"
   ]
  },
  {
   "cell_type": "code",
   "execution_count": 32,
   "metadata": {},
   "outputs": [
    {
     "data": {
      "application/vnd.microsoft.datawrangler.viewer.v0+json": {
       "columns": [
        {
         "name": "index",
         "rawType": "int64",
         "type": "integer"
        },
        {
         "name": "bioname",
         "rawType": "object",
         "type": "string"
        },
        {
         "name": "state_abbrev",
         "rawType": "object",
         "type": "string"
        },
        {
         "name": "district_code",
         "rawType": "int64",
         "type": "integer"
        },
        {
         "name": "icpsr",
         "rawType": "int64",
         "type": "integer"
        },
        {
         "name": "bioguide_id",
         "rawType": "object",
         "type": "string"
        }
       ],
       "ref": "d86d6486-66f2-451a-bacc-2ba02a69f53e",
       "rows": [
        [
         "0",
         "ROGERS, Mike Dennis",
         "AL",
         "3",
         "20301",
         "R000575"
        ],
        [
         "1",
         "SEWELL, Terri",
         "AL",
         "7",
         "21102",
         "S001185"
        ],
        [
         "2",
         "PALMER, Gary James",
         "AL",
         "6",
         "21500",
         "P000609"
        ],
        [
         "3",
         "MOORE, Barry",
         "AL",
         "1",
         "22140",
         "M001212"
        ],
        [
         "4",
         "STRONG, Dale",
         "AL",
         "5",
         "22366",
         "S001220"
        ],
        [
         "5",
         "FIGURES, Shomari",
         "AL",
         "2",
         "22515",
         "F000481"
        ],
        [
         "6",
         "ADERHOLT, Robert",
         "AL",
         "4",
         "29701",
         "A000055"
        ],
        [
         "7",
         "BEGICH, Nicholas J., III",
         "AK",
         "1",
         "22503",
         "B001323"
        ],
        [
         "8",
         "RADEWAGEN, Aumua Amata Coleman",
         "AS",
         "0",
         "21995",
         "R000600"
        ],
        [
         "9",
         "GRIJALVA, Raúl M.",
         "AZ",
         "7",
         "20305",
         "G000551"
        ],
        [
         "10",
         "GOSAR, Paul",
         "AZ",
         "9",
         "21103",
         "G000565"
        ],
        [
         "11",
         "SCHWEIKERT, David",
         "AZ",
         "1",
         "21105",
         "S001183"
        ],
        [
         "12",
         "BIGGS, Andrew S.",
         "AZ",
         "5",
         "21705",
         "B001302"
        ],
        [
         "13",
         "STANTON, Greg",
         "AZ",
         "4",
         "21968",
         "S001211"
        ],
        [
         "14",
         "CISCOMANI, Juan",
         "AZ",
         "6",
         "22309",
         "C001133"
        ],
        [
         "15",
         "CRANE, Eli",
         "AZ",
         "2",
         "22311",
         "C001132"
        ],
        [
         "16",
         "ANSARI, Yassamin",
         "AZ",
         "3",
         "22500",
         "A000381"
        ],
        [
         "17",
         "HAMADEH, Abraham J.",
         "AZ",
         "8",
         "22522",
         "H001098"
        ],
        [
         "18",
         "CRAWFORD, Rick",
         "AR",
         "1",
         "21106",
         "C001087"
        ],
        [
         "19",
         "WOMACK, Steve",
         "AR",
         "3",
         "21108",
         "W000809"
        ],
        [
         "20",
         "HILL, French",
         "AR",
         "2",
         "21503",
         "H001072"
        ],
        [
         "21",
         "WESTERMAN, Bruce Eugene",
         "AR",
         "4",
         "21563",
         "W000821"
        ],
        [
         "22",
         "PELOSI, Nancy",
         "CA",
         "11",
         "15448",
         "P000197"
        ],
        [
         "23",
         "ISSA, Darrell",
         "CA",
         "48",
         "20107",
         "I000056"
        ],
        [
         "24",
         "SÁNCHEZ, Linda T.",
         "CA",
         "38",
         "20310",
         "S001156"
        ],
        [
         "25",
         "COSTA, Jim",
         "CA",
         "21",
         "20501",
         "C001059"
        ],
        [
         "26",
         "MATSUI, Doris",
         "CA",
         "7",
         "20538",
         "M001163"
        ],
        [
         "27",
         "McCLINTOCK, Tom",
         "CA",
         "5",
         "20903",
         "M001177"
        ],
        [
         "28",
         "CHU, Judy",
         "CA",
         "28",
         "20955",
         "C001080"
        ],
        [
         "29",
         "GARAMENDI, John",
         "CA",
         "8",
         "20958",
         "G000559"
        ],
        [
         "30",
         "LaMALFA, Doug",
         "CA",
         "1",
         "21302",
         "L000578"
        ],
        [
         "31",
         "HUFFMAN, Jared",
         "CA",
         "2",
         "21303",
         "H001068"
        ],
        [
         "32",
         "BERA, Ami",
         "CA",
         "6",
         "21304",
         "B001287"
        ],
        [
         "33",
         "SWALWELL, Eric",
         "CA",
         "14",
         "21306",
         "S001193"
        ],
        [
         "34",
         "VALADAO, David G.",
         "CA",
         "22",
         "21307",
         "V000129"
        ],
        [
         "35",
         "BROWNLEY, Julia",
         "CA",
         "26",
         "21308",
         "B001285"
        ],
        [
         "36",
         "RUIZ, Raul",
         "CA",
         "25",
         "21311",
         "R000599"
        ],
        [
         "37",
         "TAKANO, Mark",
         "CA",
         "39",
         "21312",
         "T000472"
        ],
        [
         "38",
         "VARGAS, Juan",
         "CA",
         "52",
         "21314",
         "V000130"
        ],
        [
         "39",
         "PETERS, Scott",
         "CA",
         "50",
         "21315",
         "P000608"
        ],
        [
         "40",
         "DESAULNIER, Mark James",
         "CA",
         "10",
         "21504",
         "D000623"
        ],
        [
         "41",
         "AGUILAR, Peter Rey",
         "CA",
         "33",
         "21506",
         "A000371"
        ],
        [
         "42",
         "LIEU, Ted",
         "CA",
         "36",
         "21507",
         "L000582"
        ],
        [
         "43",
         "TORRES, Norma Judith",
         "CA",
         "35",
         "21508",
         "T000474"
        ],
        [
         "44",
         "BARRAGÁN, Nanette Diaz",
         "CA",
         "44",
         "21703",
         "B001300"
        ],
        [
         "45",
         "CARBAJAL, Salud",
         "CA",
         "24",
         "21709",
         "C001112"
        ],
        [
         "46",
         "CORREA, Jose Luis",
         "CA",
         "46",
         "21711",
         "C001110"
        ],
        [
         "47",
         "KHANNA, Rohit",
         "CA",
         "17",
         "21728",
         "K000389"
        ],
        [
         "48",
         "PANETTA, James Varni",
         "CA",
         "19",
         "21740",
         "P000613"
        ],
        [
         "49",
         "GOMEZ, Jimmy",
         "CA",
         "34",
         "21754",
         "G000585"
        ]
       ],
       "shape": {
        "columns": 5,
        "rows": 545
       }
      },
      "text/html": [
       "<div>\n",
       "<style scoped>\n",
       "    .dataframe tbody tr th:only-of-type {\n",
       "        vertical-align: middle;\n",
       "    }\n",
       "\n",
       "    .dataframe tbody tr th {\n",
       "        vertical-align: top;\n",
       "    }\n",
       "\n",
       "    .dataframe thead th {\n",
       "        text-align: right;\n",
       "    }\n",
       "</style>\n",
       "<table border=\"1\" class=\"dataframe\">\n",
       "  <thead>\n",
       "    <tr style=\"text-align: right;\">\n",
       "      <th></th>\n",
       "      <th>bioname</th>\n",
       "      <th>state_abbrev</th>\n",
       "      <th>district_code</th>\n",
       "      <th>icpsr</th>\n",
       "      <th>bioguide_id</th>\n",
       "    </tr>\n",
       "  </thead>\n",
       "  <tbody>\n",
       "    <tr>\n",
       "      <th>0</th>\n",
       "      <td>ROGERS, Mike Dennis</td>\n",
       "      <td>AL</td>\n",
       "      <td>3</td>\n",
       "      <td>20301</td>\n",
       "      <td>R000575</td>\n",
       "    </tr>\n",
       "    <tr>\n",
       "      <th>1</th>\n",
       "      <td>SEWELL, Terri</td>\n",
       "      <td>AL</td>\n",
       "      <td>7</td>\n",
       "      <td>21102</td>\n",
       "      <td>S001185</td>\n",
       "    </tr>\n",
       "    <tr>\n",
       "      <th>2</th>\n",
       "      <td>PALMER, Gary James</td>\n",
       "      <td>AL</td>\n",
       "      <td>6</td>\n",
       "      <td>21500</td>\n",
       "      <td>P000609</td>\n",
       "    </tr>\n",
       "    <tr>\n",
       "      <th>3</th>\n",
       "      <td>MOORE, Barry</td>\n",
       "      <td>AL</td>\n",
       "      <td>1</td>\n",
       "      <td>22140</td>\n",
       "      <td>M001212</td>\n",
       "    </tr>\n",
       "    <tr>\n",
       "      <th>4</th>\n",
       "      <td>STRONG, Dale</td>\n",
       "      <td>AL</td>\n",
       "      <td>5</td>\n",
       "      <td>22366</td>\n",
       "      <td>S001220</td>\n",
       "    </tr>\n",
       "    <tr>\n",
       "      <th>...</th>\n",
       "      <td>...</td>\n",
       "      <td>...</td>\n",
       "      <td>...</td>\n",
       "      <td>...</td>\n",
       "      <td>...</td>\n",
       "    </tr>\n",
       "    <tr>\n",
       "      <th>540</th>\n",
       "      <td>JUSTICE, James Conley, II</td>\n",
       "      <td>WV</td>\n",
       "      <td>0</td>\n",
       "      <td>42504</td>\n",
       "      <td>J000312</td>\n",
       "    </tr>\n",
       "    <tr>\n",
       "      <th>541</th>\n",
       "      <td>BALDWIN, Tammy</td>\n",
       "      <td>WI</td>\n",
       "      <td>0</td>\n",
       "      <td>29940</td>\n",
       "      <td>B001230</td>\n",
       "    </tr>\n",
       "    <tr>\n",
       "      <th>542</th>\n",
       "      <td>JOHNSON, Ron</td>\n",
       "      <td>WI</td>\n",
       "      <td>0</td>\n",
       "      <td>41111</td>\n",
       "      <td>J000293</td>\n",
       "    </tr>\n",
       "    <tr>\n",
       "      <th>543</th>\n",
       "      <td>LUMMIS, Cynthia M.</td>\n",
       "      <td>WY</td>\n",
       "      <td>0</td>\n",
       "      <td>20953</td>\n",
       "      <td>L000571</td>\n",
       "    </tr>\n",
       "    <tr>\n",
       "      <th>544</th>\n",
       "      <td>BARRASSO, John A.</td>\n",
       "      <td>WY</td>\n",
       "      <td>0</td>\n",
       "      <td>40707</td>\n",
       "      <td>B001261</td>\n",
       "    </tr>\n",
       "  </tbody>\n",
       "</table>\n",
       "<p>545 rows × 5 columns</p>\n",
       "</div>"
      ],
      "text/plain": [
       "                       bioname state_abbrev  district_code  icpsr bioguide_id\n",
       "0          ROGERS, Mike Dennis           AL              3  20301     R000575\n",
       "1                SEWELL, Terri           AL              7  21102     S001185\n",
       "2           PALMER, Gary James           AL              6  21500     P000609\n",
       "3                 MOORE, Barry           AL              1  22140     M001212\n",
       "4                 STRONG, Dale           AL              5  22366     S001220\n",
       "..                         ...          ...            ...    ...         ...\n",
       "540  JUSTICE, James Conley, II           WV              0  42504     J000312\n",
       "541             BALDWIN, Tammy           WI              0  29940     B001230\n",
       "542               JOHNSON, Ron           WI              0  41111     J000293\n",
       "543         LUMMIS, Cynthia M.           WY              0  20953     L000571\n",
       "544          BARRASSO, John A.           WY              0  40707     B001261\n",
       "\n",
       "[545 rows x 5 columns]"
      ]
     },
     "execution_count": 32,
     "metadata": {},
     "output_type": "execute_result"
    }
   ],
   "source": [
    "crosswalk"
   ]
  },
  {
   "cell_type": "code",
   "execution_count": 52,
   "metadata": {},
   "outputs": [
    {
     "data": {
      "application/vnd.microsoft.datawrangler.viewer.v0+json": {
       "columns": [
        {
         "name": "index",
         "rawType": "int64",
         "type": "integer"
        },
        {
         "name": "chamber",
         "rawType": "object",
         "type": "string"
        },
        {
         "name": "bioname",
         "rawType": "object",
         "type": "string"
        },
        {
         "name": "left_right_ideology",
         "rawType": "float64",
         "type": "float"
        },
        {
         "name": "party",
         "rawType": "object",
         "type": "string"
        },
        {
         "name": "state_abbrev",
         "rawType": "object",
         "type": "string"
        },
        {
         "name": "district_code",
         "rawType": "int64",
         "type": "integer"
        },
        {
         "name": "icpsr",
         "rawType": "int64",
         "type": "integer"
        },
        {
         "name": "bioguide_id",
         "rawType": "object",
         "type": "string"
        },
        {
         "name": "matched",
         "rawType": "category",
         "type": "unknown"
        }
       ],
       "ref": "82b74342-567d-48e5-817f-53f780b5ff7b",
       "rows": [
        [
         "0",
         "House",
         "ADAMS, Alma",
         "-0.462",
         "Democrat",
         "NC",
         "12",
         "21545",
         "A000370",
         "both"
        ],
        [
         "1",
         "House",
         "ADERHOLT, Robert",
         "0.405",
         "Republican",
         "AL",
         "4",
         "29701",
         "A000055",
         "both"
        ],
        [
         "2",
         "House",
         "AGUILAR, Peter Rey",
         "-0.324",
         "Democrat",
         "CA",
         "33",
         "21506",
         "A000371",
         "both"
        ],
        [
         "3",
         "House",
         "ALFORD, Mark",
         "0.569",
         "Republican",
         "MO",
         "4",
         "22300",
         "A000379",
         "both"
        ],
        [
         "4",
         "House",
         "ALLEN, Rick W.",
         "0.69",
         "Republican",
         "GA",
         "12",
         "21516",
         "A000372",
         "both"
        ],
        [
         "5",
         "Senate",
         "ALSOBROOKS, Angela Deneece",
         "-0.432",
         "Democrat",
         "MD",
         "0",
         "42500",
         "A000382",
         "both"
        ],
        [
         "6",
         "House",
         "AMO, Gabe",
         "-0.456",
         "Democrat",
         "RI",
         "1",
         "22375",
         "A000380",
         "both"
        ],
        [
         "7",
         "House",
         "AMODEI, Mark E.",
         "0.384",
         "Republican",
         "NV",
         "2",
         "21196",
         "A000369",
         "both"
        ],
        [
         "8",
         "House",
         "ANSARI, Yassamin",
         "-0.506",
         "Democrat",
         "AZ",
         "3",
         "22500",
         "A000381",
         "both"
        ],
        [
         "9",
         "House",
         "ARRINGTON, Jodey Cook",
         "0.642",
         "Republican",
         "TX",
         "19",
         "21700",
         "A000375",
         "both"
        ],
        [
         "10",
         "House",
         "AUCHINCLOSS, Jake",
         "-0.288",
         "Democrat",
         "MA",
         "4",
         "22100",
         "A000148",
         "both"
        ],
        [
         "11",
         "House",
         "BABIN, Brian",
         "0.708",
         "Republican",
         "TX",
         "36",
         "21551",
         "B001291",
         "both"
        ],
        [
         "12",
         "House",
         "BACON, Donald J.",
         "0.283",
         "Republican",
         "NE",
         "2",
         "21701",
         "B001298",
         "both"
        ],
        [
         "13",
         "House",
         "BAIRD, James",
         "0.445",
         "Republican",
         "IN",
         "4",
         "21903",
         "B001307",
         "both"
        ],
        [
         "14",
         "House",
         "BALDERSON, Troy",
         "0.461",
         "Republican",
         "OH",
         "12",
         "21759",
         "B001306",
         "both"
        ],
        [
         "15",
         "Senate",
         "BALDWIN, Tammy",
         "-0.487",
         "Democrat",
         "WI",
         "0",
         "29940",
         "B001230",
         "both"
        ],
        [
         "16",
         "House",
         "BALINT, Becca",
         "-0.453",
         "Democrat",
         "VT",
         "1",
         "22301",
         "B001318",
         "both"
        ],
        [
         "17",
         "Senate",
         "BANKS, James E.",
         "0.647",
         "Republican",
         "IN",
         "0",
         "21702",
         "B001299",
         "both"
        ],
        [
         "18",
         "House",
         "BARR, Garland H. (Andy) IV",
         "0.488",
         "Republican",
         "KY",
         "6",
         "21333",
         "B001282",
         "both"
        ],
        [
         "19",
         "House",
         "BARRAGÁN, Nanette Diaz",
         "-0.502",
         "Democrat",
         "CA",
         "44",
         "21703",
         "B001300",
         "both"
        ],
        [
         "20",
         "Senate",
         "BARRASSO, John A.",
         "0.54",
         "Republican",
         "WY",
         "0",
         "40707",
         "B001261",
         "both"
        ],
        [
         "21",
         "House",
         "BARRETT, Tom",
         "0.509",
         "Republican",
         "MI",
         "7",
         "22501",
         "B001321",
         "both"
        ],
        [
         "22",
         "House",
         "BAUMGARTNER, Michael",
         "0.489",
         "Republican",
         "WA",
         "5",
         "22502",
         "B001322",
         "both"
        ],
        [
         "23",
         "House",
         "BEAN, Aaron",
         "0.679",
         "Republican",
         "FL",
         "4",
         "22302",
         "B001314",
         "both"
        ],
        [
         "24",
         "House",
         "BEATTY, Joyce",
         "-0.437",
         "Democrat",
         "OH",
         "3",
         "21352",
         "B001281",
         "both"
        ],
        [
         "25",
         "House",
         "BEGICH, Nicholas J., III",
         "0.634",
         "Republican",
         "AK",
         "1",
         "22503",
         "B001323",
         "both"
        ],
        [
         "26",
         "House",
         "BELL, Wesley",
         "-0.567",
         "Democrat",
         "MO",
         "1",
         "22504",
         "B001324",
         "both"
        ],
        [
         "27",
         "Senate",
         "BENNET, Michael F.",
         "-0.237",
         "Democrat",
         "CO",
         "0",
         "40910",
         "B001267",
         "both"
        ],
        [
         "28",
         "House",
         "BENTZ, Cliff",
         "0.474",
         "Republican",
         "OR",
         "2",
         "22101",
         "B000668",
         "both"
        ],
        [
         "29",
         "House",
         "BERA, Ami",
         "-0.246",
         "Democrat",
         "CA",
         "6",
         "21304",
         "B001287",
         "both"
        ],
        [
         "30",
         "House",
         "BERGMAN, John",
         "0.432",
         "Republican",
         "MI",
         "1",
         "21704",
         "B001301",
         "both"
        ],
        [
         "31",
         "House",
         "BEYER, Donald Sternoff Jr.",
         "-0.395",
         "Democrat",
         "VA",
         "8",
         "21554",
         "B001292",
         "both"
        ],
        [
         "32",
         "House",
         "BICE, Stephanie I.",
         "0.412",
         "Republican",
         "OK",
         "5",
         "22102",
         "B000740",
         "both"
        ],
        [
         "33",
         "House",
         "BIGGS, Andrew S.",
         "0.818",
         "Republican",
         "AZ",
         "5",
         "21705",
         "B001302",
         "both"
        ],
        [
         "34",
         "House",
         "BIGGS, Sheri",
         "0.788",
         "Republican",
         "SC",
         "3",
         "22505",
         "B001325",
         "both"
        ],
        [
         "35",
         "House",
         "BILIRAKIS, Gus",
         "0.423",
         "Republican",
         "FL",
         "12",
         "20758",
         "B001257",
         "both"
        ],
        [
         "36",
         "House",
         "BISHOP, Sanford Dixon, Jr.",
         "-0.288",
         "Democrat",
         "GA",
         "2",
         "29339",
         "B000490",
         "both"
        ],
        [
         "37",
         "Senate",
         "BLACKBURN, Marsha",
         "0.632",
         "Republican",
         "TN",
         "0",
         "20351",
         "B001243",
         "both"
        ],
        [
         "38",
         "Senate",
         "BLUMENTHAL, Richard",
         "-0.433",
         "Democrat",
         "CT",
         "0",
         "41101",
         "B001277",
         "both"
        ],
        [
         "39",
         "Senate",
         "BLUNT ROCHESTER, Lisa",
         "-0.38",
         "Democrat",
         "DE",
         "0",
         "21706",
         "B001303",
         "both"
        ],
        [
         "40",
         "House",
         "BOEBERT, Lauren",
         "0.738",
         "Republican",
         "CO",
         "4",
         "22103",
         "B000825",
         "both"
        ],
        [
         "41",
         "House",
         "BONAMICI, Suzanne",
         "-0.399",
         "Democrat",
         "OR",
         "1",
         "21198",
         "B001278",
         "both"
        ],
        [
         "42",
         "Senate",
         "BOOKER, Cory Anthony",
         "-0.555",
         "Democrat",
         "NJ",
         "0",
         "41308",
         "B001288",
         "both"
        ],
        [
         "43",
         "Senate",
         "BOOZMAN, John",
         "0.427",
         "Republican",
         "AR",
         "0",
         "20101",
         "B001236",
         "both"
        ],
        [
         "44",
         "House",
         "BOST, Mike",
         "0.402",
         "Republican",
         "IL",
         "12",
         "21519",
         "B001295",
         "both"
        ],
        [
         "45",
         "House",
         "BOYLE, Brendan Francis",
         "-0.381",
         "Democrat",
         "PA",
         "2",
         "21548",
         "B001296",
         "both"
        ],
        [
         "46",
         "House",
         "BRECHEEN, Josh",
         "0.858",
         "Republican",
         "OK",
         "2",
         "22303",
         "B001317",
         "both"
        ],
        [
         "47",
         "House",
         "BRESNAHAN, Robert P., Jr.",
         "0.266",
         "Republican",
         "PA",
         "8",
         "22506",
         "B001327",
         "both"
        ],
        [
         "48",
         "Senate",
         "BRITT, Katie Elizabeth",
         "0.586",
         "Republican",
         "AL",
         "0",
         "42300",
         "B001319",
         "both"
        ],
        [
         "49",
         "House",
         "BROWN, Shontel  M.",
         "-0.459",
         "Democrat",
         "OH",
         "11",
         "22161",
         "B001313",
         "both"
        ]
       ],
       "shape": {
        "columns": 9,
        "rows": 545
       }
      },
      "text/html": [
       "<div>\n",
       "<style scoped>\n",
       "    .dataframe tbody tr th:only-of-type {\n",
       "        vertical-align: middle;\n",
       "    }\n",
       "\n",
       "    .dataframe tbody tr th {\n",
       "        vertical-align: top;\n",
       "    }\n",
       "\n",
       "    .dataframe thead th {\n",
       "        text-align: right;\n",
       "    }\n",
       "</style>\n",
       "<table border=\"1\" class=\"dataframe\">\n",
       "  <thead>\n",
       "    <tr style=\"text-align: right;\">\n",
       "      <th></th>\n",
       "      <th>chamber</th>\n",
       "      <th>bioname</th>\n",
       "      <th>left_right_ideology</th>\n",
       "      <th>party</th>\n",
       "      <th>state_abbrev</th>\n",
       "      <th>district_code</th>\n",
       "      <th>icpsr</th>\n",
       "      <th>bioguide_id</th>\n",
       "      <th>matched</th>\n",
       "    </tr>\n",
       "  </thead>\n",
       "  <tbody>\n",
       "    <tr>\n",
       "      <th>0</th>\n",
       "      <td>House</td>\n",
       "      <td>ADAMS, Alma</td>\n",
       "      <td>-0.462</td>\n",
       "      <td>Democrat</td>\n",
       "      <td>NC</td>\n",
       "      <td>12</td>\n",
       "      <td>21545</td>\n",
       "      <td>A000370</td>\n",
       "      <td>both</td>\n",
       "    </tr>\n",
       "    <tr>\n",
       "      <th>1</th>\n",
       "      <td>House</td>\n",
       "      <td>ADERHOLT, Robert</td>\n",
       "      <td>0.405</td>\n",
       "      <td>Republican</td>\n",
       "      <td>AL</td>\n",
       "      <td>4</td>\n",
       "      <td>29701</td>\n",
       "      <td>A000055</td>\n",
       "      <td>both</td>\n",
       "    </tr>\n",
       "    <tr>\n",
       "      <th>2</th>\n",
       "      <td>House</td>\n",
       "      <td>AGUILAR, Peter Rey</td>\n",
       "      <td>-0.324</td>\n",
       "      <td>Democrat</td>\n",
       "      <td>CA</td>\n",
       "      <td>33</td>\n",
       "      <td>21506</td>\n",
       "      <td>A000371</td>\n",
       "      <td>both</td>\n",
       "    </tr>\n",
       "    <tr>\n",
       "      <th>3</th>\n",
       "      <td>House</td>\n",
       "      <td>ALFORD, Mark</td>\n",
       "      <td>0.569</td>\n",
       "      <td>Republican</td>\n",
       "      <td>MO</td>\n",
       "      <td>4</td>\n",
       "      <td>22300</td>\n",
       "      <td>A000379</td>\n",
       "      <td>both</td>\n",
       "    </tr>\n",
       "    <tr>\n",
       "      <th>4</th>\n",
       "      <td>House</td>\n",
       "      <td>ALLEN, Rick W.</td>\n",
       "      <td>0.690</td>\n",
       "      <td>Republican</td>\n",
       "      <td>GA</td>\n",
       "      <td>12</td>\n",
       "      <td>21516</td>\n",
       "      <td>A000372</td>\n",
       "      <td>both</td>\n",
       "    </tr>\n",
       "    <tr>\n",
       "      <th>...</th>\n",
       "      <td>...</td>\n",
       "      <td>...</td>\n",
       "      <td>...</td>\n",
       "      <td>...</td>\n",
       "      <td>...</td>\n",
       "      <td>...</td>\n",
       "      <td>...</td>\n",
       "      <td>...</td>\n",
       "      <td>...</td>\n",
       "    </tr>\n",
       "    <tr>\n",
       "      <th>540</th>\n",
       "      <td>House</td>\n",
       "      <td>WOMACK, Steve</td>\n",
       "      <td>0.348</td>\n",
       "      <td>Republican</td>\n",
       "      <td>AR</td>\n",
       "      <td>3</td>\n",
       "      <td>21108</td>\n",
       "      <td>W000809</td>\n",
       "      <td>both</td>\n",
       "    </tr>\n",
       "    <tr>\n",
       "      <th>541</th>\n",
       "      <td>Senate</td>\n",
       "      <td>WYDEN, Ronald Lee</td>\n",
       "      <td>-0.333</td>\n",
       "      <td>Democrat</td>\n",
       "      <td>OR</td>\n",
       "      <td>0</td>\n",
       "      <td>14871</td>\n",
       "      <td>W000779</td>\n",
       "      <td>both</td>\n",
       "    </tr>\n",
       "    <tr>\n",
       "      <th>542</th>\n",
       "      <td>House</td>\n",
       "      <td>YAKYM, Rudy, III</td>\n",
       "      <td>0.513</td>\n",
       "      <td>Republican</td>\n",
       "      <td>IN</td>\n",
       "      <td>2</td>\n",
       "      <td>22171</td>\n",
       "      <td>Y000067</td>\n",
       "      <td>both</td>\n",
       "    </tr>\n",
       "    <tr>\n",
       "      <th>543</th>\n",
       "      <td>Senate</td>\n",
       "      <td>YOUNG, Todd</td>\n",
       "      <td>0.438</td>\n",
       "      <td>Republican</td>\n",
       "      <td>IN</td>\n",
       "      <td>0</td>\n",
       "      <td>21133</td>\n",
       "      <td>Y000064</td>\n",
       "      <td>both</td>\n",
       "    </tr>\n",
       "    <tr>\n",
       "      <th>544</th>\n",
       "      <td>House</td>\n",
       "      <td>ZINKE, Ryan</td>\n",
       "      <td>0.438</td>\n",
       "      <td>Republican</td>\n",
       "      <td>MT</td>\n",
       "      <td>1</td>\n",
       "      <td>21532</td>\n",
       "      <td>Z000018</td>\n",
       "      <td>both</td>\n",
       "    </tr>\n",
       "  </tbody>\n",
       "</table>\n",
       "<p>545 rows × 9 columns</p>\n",
       "</div>"
      ],
      "text/plain": [
       "    chamber             bioname  left_right_ideology       party state_abbrev  \\\n",
       "0     House         ADAMS, Alma               -0.462    Democrat           NC   \n",
       "1     House    ADERHOLT, Robert                0.405  Republican           AL   \n",
       "2     House  AGUILAR, Peter Rey               -0.324    Democrat           CA   \n",
       "3     House        ALFORD, Mark                0.569  Republican           MO   \n",
       "4     House      ALLEN, Rick W.                0.690  Republican           GA   \n",
       "..      ...                 ...                  ...         ...          ...   \n",
       "540   House       WOMACK, Steve                0.348  Republican           AR   \n",
       "541  Senate   WYDEN, Ronald Lee               -0.333    Democrat           OR   \n",
       "542   House    YAKYM, Rudy, III                0.513  Republican           IN   \n",
       "543  Senate         YOUNG, Todd                0.438  Republican           IN   \n",
       "544   House         ZINKE, Ryan                0.438  Republican           MT   \n",
       "\n",
       "     district_code  icpsr bioguide_id matched  \n",
       "0               12  21545     A000370    both  \n",
       "1                4  29701     A000055    both  \n",
       "2               33  21506     A000371    both  \n",
       "3                4  22300     A000379    both  \n",
       "4               12  21516     A000372    both  \n",
       "..             ...    ...         ...     ...  \n",
       "540              3  21108     W000809    both  \n",
       "541              0  14871     W000779    both  \n",
       "542              2  22171     Y000067    both  \n",
       "543              0  21133     Y000064    both  \n",
       "544              1  21532     Z000018    both  \n",
       "\n",
       "[545 rows x 9 columns]"
      ]
     },
     "execution_count": 52,
     "metadata": {},
     "output_type": "execute_result"
    }
   ],
   "source": [
    "ideology_crosswalk = pd.merge(ideology, crosswalk, on ='bioname', how = 'outer', validate = 'one_to_one', indicator= 'matched')\n",
    "ideology_crosswalk"
   ]
  },
  {
   "cell_type": "code",
   "execution_count": 35,
   "metadata": {},
   "outputs": [
    {
     "data": {
      "application/vnd.microsoft.datawrangler.viewer.v0+json": {
       "columns": [
        {
         "name": "index",
         "rawType": "int64",
         "type": "integer"
        },
        {
         "name": "chamber",
         "rawType": "object",
         "type": "string"
        },
        {
         "name": "bioname",
         "rawType": "object",
         "type": "string"
        },
        {
         "name": "left_right_ideology",
         "rawType": "float64",
         "type": "float"
        },
        {
         "name": "party",
         "rawType": "object",
         "type": "string"
        },
        {
         "name": "state_abbrev",
         "rawType": "object",
         "type": "string"
        },
        {
         "name": "district_code",
         "rawType": "int64",
         "type": "integer"
        },
        {
         "name": "icpsr",
         "rawType": "int64",
         "type": "integer"
        },
        {
         "name": "bioguide_id",
         "rawType": "object",
         "type": "string"
        }
       ],
       "ref": "3c1d17cc-82f5-43da-b65e-36a547d0e0be",
       "rows": [
        [
         "410",
         "House",
         "WITTMAN, Robert J.",
         "0.448",
         "Republican",
         "VA",
         "1",
         "20756",
         "W000804"
        ],
        [
         "411",
         "House",
         "CONNOLLY, Gerald E. (Gerry)",
         "-0.309",
         "Democrat",
         "VA",
         "11",
         "20952",
         "C001078"
        ],
        [
         "412",
         "House",
         "GRIFFITH, H. Morgan",
         "0.51",
         "Republican",
         "VA",
         "9",
         "21191",
         "G000568"
        ],
        [
         "413",
         "House",
         "BEYER, Donald Sternoff Jr.",
         "-0.395",
         "Democrat",
         "VA",
         "8",
         "21554",
         "B001292"
        ],
        [
         "414",
         "House",
         "CLINE, Benjamin",
         "0.716",
         "Republican",
         "VA",
         "6",
         "21908",
         "C001118"
        ],
        [
         "415",
         "House",
         "KIGGANS, Jennifer",
         "0.26",
         "Republican",
         "VA",
         "2",
         "22335",
         "K000399"
        ],
        [
         "416",
         "House",
         "MCCLELLAN, Jennifer",
         "-0.55",
         "Democrat",
         "VA",
         "4",
         "22374",
         "M001227"
        ],
        [
         "417",
         "House",
         "MCGUIRE, John J., III",
         "0.673",
         "Republican",
         "VA",
         "5",
         "22539",
         "M001239"
        ],
        [
         "418",
         "House",
         "SUBRAMANYAM, Suhas",
         "-0.301",
         "Democrat",
         "VA",
         "10",
         "22554",
         "S001230"
        ],
        [
         "419",
         "House",
         "VINDMAN, Eugene Simon",
         "-0.168",
         "Democrat",
         "VA",
         "7",
         "22558",
         "V000138"
        ],
        [
         "420",
         "House",
         "WALKINSHAW, James R.",
         "-0.503",
         "Democrat",
         "VA",
         "11",
         "22564",
         "W000831"
        ],
        [
         "421",
         "House",
         "SCOTT, Robert C.",
         "-0.45",
         "Democrat",
         "VA",
         "3",
         "39307",
         "S000185"
        ],
        [
         "535",
         "Senate",
         "WARNER, Mark",
         "-0.208",
         "Democrat",
         "VA",
         "0",
         "40909",
         "W000805"
        ],
        [
         "536",
         "Senate",
         "KAINE, Timothy Michael (Tim)",
         "-0.243",
         "Democrat",
         "VA",
         "0",
         "41305",
         "K000384"
        ]
       ],
       "shape": {
        "columns": 8,
        "rows": 14
       }
      },
      "text/html": [
       "<div>\n",
       "<style scoped>\n",
       "    .dataframe tbody tr th:only-of-type {\n",
       "        vertical-align: middle;\n",
       "    }\n",
       "\n",
       "    .dataframe tbody tr th {\n",
       "        vertical-align: top;\n",
       "    }\n",
       "\n",
       "    .dataframe thead th {\n",
       "        text-align: right;\n",
       "    }\n",
       "</style>\n",
       "<table border=\"1\" class=\"dataframe\">\n",
       "  <thead>\n",
       "    <tr style=\"text-align: right;\">\n",
       "      <th></th>\n",
       "      <th>chamber</th>\n",
       "      <th>bioname</th>\n",
       "      <th>left_right_ideology</th>\n",
       "      <th>party</th>\n",
       "      <th>state_abbrev</th>\n",
       "      <th>district_code</th>\n",
       "      <th>icpsr</th>\n",
       "      <th>bioguide_id</th>\n",
       "    </tr>\n",
       "  </thead>\n",
       "  <tbody>\n",
       "    <tr>\n",
       "      <th>410</th>\n",
       "      <td>House</td>\n",
       "      <td>WITTMAN, Robert J.</td>\n",
       "      <td>0.448</td>\n",
       "      <td>Republican</td>\n",
       "      <td>VA</td>\n",
       "      <td>1</td>\n",
       "      <td>20756</td>\n",
       "      <td>W000804</td>\n",
       "    </tr>\n",
       "    <tr>\n",
       "      <th>411</th>\n",
       "      <td>House</td>\n",
       "      <td>CONNOLLY, Gerald E. (Gerry)</td>\n",
       "      <td>-0.309</td>\n",
       "      <td>Democrat</td>\n",
       "      <td>VA</td>\n",
       "      <td>11</td>\n",
       "      <td>20952</td>\n",
       "      <td>C001078</td>\n",
       "    </tr>\n",
       "    <tr>\n",
       "      <th>412</th>\n",
       "      <td>House</td>\n",
       "      <td>GRIFFITH, H. Morgan</td>\n",
       "      <td>0.510</td>\n",
       "      <td>Republican</td>\n",
       "      <td>VA</td>\n",
       "      <td>9</td>\n",
       "      <td>21191</td>\n",
       "      <td>G000568</td>\n",
       "    </tr>\n",
       "    <tr>\n",
       "      <th>413</th>\n",
       "      <td>House</td>\n",
       "      <td>BEYER, Donald Sternoff Jr.</td>\n",
       "      <td>-0.395</td>\n",
       "      <td>Democrat</td>\n",
       "      <td>VA</td>\n",
       "      <td>8</td>\n",
       "      <td>21554</td>\n",
       "      <td>B001292</td>\n",
       "    </tr>\n",
       "    <tr>\n",
       "      <th>414</th>\n",
       "      <td>House</td>\n",
       "      <td>CLINE, Benjamin</td>\n",
       "      <td>0.716</td>\n",
       "      <td>Republican</td>\n",
       "      <td>VA</td>\n",
       "      <td>6</td>\n",
       "      <td>21908</td>\n",
       "      <td>C001118</td>\n",
       "    </tr>\n",
       "    <tr>\n",
       "      <th>415</th>\n",
       "      <td>House</td>\n",
       "      <td>KIGGANS, Jennifer</td>\n",
       "      <td>0.260</td>\n",
       "      <td>Republican</td>\n",
       "      <td>VA</td>\n",
       "      <td>2</td>\n",
       "      <td>22335</td>\n",
       "      <td>K000399</td>\n",
       "    </tr>\n",
       "    <tr>\n",
       "      <th>416</th>\n",
       "      <td>House</td>\n",
       "      <td>MCCLELLAN, Jennifer</td>\n",
       "      <td>-0.550</td>\n",
       "      <td>Democrat</td>\n",
       "      <td>VA</td>\n",
       "      <td>4</td>\n",
       "      <td>22374</td>\n",
       "      <td>M001227</td>\n",
       "    </tr>\n",
       "    <tr>\n",
       "      <th>417</th>\n",
       "      <td>House</td>\n",
       "      <td>MCGUIRE, John J., III</td>\n",
       "      <td>0.673</td>\n",
       "      <td>Republican</td>\n",
       "      <td>VA</td>\n",
       "      <td>5</td>\n",
       "      <td>22539</td>\n",
       "      <td>M001239</td>\n",
       "    </tr>\n",
       "    <tr>\n",
       "      <th>418</th>\n",
       "      <td>House</td>\n",
       "      <td>SUBRAMANYAM, Suhas</td>\n",
       "      <td>-0.301</td>\n",
       "      <td>Democrat</td>\n",
       "      <td>VA</td>\n",
       "      <td>10</td>\n",
       "      <td>22554</td>\n",
       "      <td>S001230</td>\n",
       "    </tr>\n",
       "    <tr>\n",
       "      <th>419</th>\n",
       "      <td>House</td>\n",
       "      <td>VINDMAN, Eugene Simon</td>\n",
       "      <td>-0.168</td>\n",
       "      <td>Democrat</td>\n",
       "      <td>VA</td>\n",
       "      <td>7</td>\n",
       "      <td>22558</td>\n",
       "      <td>V000138</td>\n",
       "    </tr>\n",
       "    <tr>\n",
       "      <th>420</th>\n",
       "      <td>House</td>\n",
       "      <td>WALKINSHAW, James R.</td>\n",
       "      <td>-0.503</td>\n",
       "      <td>Democrat</td>\n",
       "      <td>VA</td>\n",
       "      <td>11</td>\n",
       "      <td>22564</td>\n",
       "      <td>W000831</td>\n",
       "    </tr>\n",
       "    <tr>\n",
       "      <th>421</th>\n",
       "      <td>House</td>\n",
       "      <td>SCOTT, Robert C.</td>\n",
       "      <td>-0.450</td>\n",
       "      <td>Democrat</td>\n",
       "      <td>VA</td>\n",
       "      <td>3</td>\n",
       "      <td>39307</td>\n",
       "      <td>S000185</td>\n",
       "    </tr>\n",
       "    <tr>\n",
       "      <th>535</th>\n",
       "      <td>Senate</td>\n",
       "      <td>WARNER, Mark</td>\n",
       "      <td>-0.208</td>\n",
       "      <td>Democrat</td>\n",
       "      <td>VA</td>\n",
       "      <td>0</td>\n",
       "      <td>40909</td>\n",
       "      <td>W000805</td>\n",
       "    </tr>\n",
       "    <tr>\n",
       "      <th>536</th>\n",
       "      <td>Senate</td>\n",
       "      <td>KAINE, Timothy Michael (Tim)</td>\n",
       "      <td>-0.243</td>\n",
       "      <td>Democrat</td>\n",
       "      <td>VA</td>\n",
       "      <td>0</td>\n",
       "      <td>41305</td>\n",
       "      <td>K000384</td>\n",
       "    </tr>\n",
       "  </tbody>\n",
       "</table>\n",
       "</div>"
      ],
      "text/plain": [
       "    chamber                       bioname  left_right_ideology       party  \\\n",
       "410   House            WITTMAN, Robert J.                0.448  Republican   \n",
       "411   House   CONNOLLY, Gerald E. (Gerry)               -0.309    Democrat   \n",
       "412   House           GRIFFITH, H. Morgan                0.510  Republican   \n",
       "413   House    BEYER, Donald Sternoff Jr.               -0.395    Democrat   \n",
       "414   House               CLINE, Benjamin                0.716  Republican   \n",
       "415   House             KIGGANS, Jennifer                0.260  Republican   \n",
       "416   House           MCCLELLAN, Jennifer               -0.550    Democrat   \n",
       "417   House         MCGUIRE, John J., III                0.673  Republican   \n",
       "418   House            SUBRAMANYAM, Suhas               -0.301    Democrat   \n",
       "419   House         VINDMAN, Eugene Simon               -0.168    Democrat   \n",
       "420   House          WALKINSHAW, James R.               -0.503    Democrat   \n",
       "421   House              SCOTT, Robert C.               -0.450    Democrat   \n",
       "535  Senate                  WARNER, Mark               -0.208    Democrat   \n",
       "536  Senate  KAINE, Timothy Michael (Tim)               -0.243    Democrat   \n",
       "\n",
       "    state_abbrev  district_code  icpsr bioguide_id  \n",
       "410           VA              1  20756     W000804  \n",
       "411           VA             11  20952     C001078  \n",
       "412           VA              9  21191     G000568  \n",
       "413           VA              8  21554     B001292  \n",
       "414           VA              6  21908     C001118  \n",
       "415           VA              2  22335     K000399  \n",
       "416           VA              4  22374     M001227  \n",
       "417           VA              5  22539     M001239  \n",
       "418           VA             10  22554     S001230  \n",
       "419           VA              7  22558     V000138  \n",
       "420           VA             11  22564     W000831  \n",
       "421           VA              3  39307     S000185  \n",
       "535           VA              0  40909     W000805  \n",
       "536           VA              0  41305     K000384  "
      ]
     },
     "execution_count": 35,
     "metadata": {},
     "output_type": "execute_result"
    }
   ],
   "source": [
    "ideology_crosswalk.query(\"state_abbrev == 'VA'\")"
   ]
  },
  {
   "cell_type": "markdown",
   "metadata": {},
   "source": [
    "## Vote similarlity matrix"
   ]
  },
  {
   "cell_type": "code",
   "execution_count": 103,
   "metadata": {},
   "outputs": [
    {
     "data": {
      "application/vnd.microsoft.datawrangler.viewer.v0+json": {
       "columns": [
        {
         "name": "index",
         "rawType": "object",
         "type": "string"
        },
        {
         "name": "0",
         "rawType": "object",
         "type": "unknown"
        },
        {
         "name": "1",
         "rawType": "object",
         "type": "unknown"
        },
        {
         "name": "2",
         "rawType": "object",
         "type": "unknown"
        }
       ],
       "ref": "d71b701c-6d1d-43d6-b8de-3df5a3267d44",
       "rows": [
        [
         "congress",
         "119",
         "119",
         "119"
        ],
        [
         "chamber",
         "House",
         "House",
         "House"
        ],
        [
         "rollnumber",
         "1",
         "1",
         "1"
        ],
        [
         "icpsr",
         "14854",
         "14863",
         "14873"
        ],
        [
         "cast_code",
         "1",
         "1",
         "6"
        ],
        [
         "prob",
         "99.6",
         "78.2",
         "100.0"
        ]
       ],
       "shape": {
        "columns": 3,
        "rows": 6
       }
      },
      "text/html": [
       "<div>\n",
       "<style scoped>\n",
       "    .dataframe tbody tr th:only-of-type {\n",
       "        vertical-align: middle;\n",
       "    }\n",
       "\n",
       "    .dataframe tbody tr th {\n",
       "        vertical-align: top;\n",
       "    }\n",
       "\n",
       "    .dataframe thead th {\n",
       "        text-align: right;\n",
       "    }\n",
       "</style>\n",
       "<table border=\"1\" class=\"dataframe\">\n",
       "  <thead>\n",
       "    <tr style=\"text-align: right;\">\n",
       "      <th></th>\n",
       "      <th>0</th>\n",
       "      <th>1</th>\n",
       "      <th>2</th>\n",
       "    </tr>\n",
       "  </thead>\n",
       "  <tbody>\n",
       "    <tr>\n",
       "      <th>congress</th>\n",
       "      <td>119</td>\n",
       "      <td>119</td>\n",
       "      <td>119</td>\n",
       "    </tr>\n",
       "    <tr>\n",
       "      <th>chamber</th>\n",
       "      <td>House</td>\n",
       "      <td>House</td>\n",
       "      <td>House</td>\n",
       "    </tr>\n",
       "    <tr>\n",
       "      <th>rollnumber</th>\n",
       "      <td>1</td>\n",
       "      <td>1</td>\n",
       "      <td>1</td>\n",
       "    </tr>\n",
       "    <tr>\n",
       "      <th>icpsr</th>\n",
       "      <td>14854</td>\n",
       "      <td>14863</td>\n",
       "      <td>14873</td>\n",
       "    </tr>\n",
       "    <tr>\n",
       "      <th>cast_code</th>\n",
       "      <td>1</td>\n",
       "      <td>1</td>\n",
       "      <td>6</td>\n",
       "    </tr>\n",
       "    <tr>\n",
       "      <th>prob</th>\n",
       "      <td>99.6</td>\n",
       "      <td>78.2</td>\n",
       "      <td>100.0</td>\n",
       "    </tr>\n",
       "  </tbody>\n",
       "</table>\n",
       "</div>"
      ],
      "text/plain": [
       "                0      1      2\n",
       "congress      119    119    119\n",
       "chamber     House  House  House\n",
       "rollnumber      1      1      1\n",
       "icpsr       14854  14863  14873\n",
       "cast_code       1      1      6\n",
       "prob         99.6   78.2  100.0"
      ]
     },
     "execution_count": 103,
     "metadata": {},
     "output_type": "execute_result"
    }
   ],
   "source": [
    "url = \"https://voteview.com/static/data/out/votes/HS119_votes.csv\"\n",
    "votes = pd.read_csv(url)\n",
    "votes.head(3).T"
   ]
  },
  {
   "cell_type": "markdown",
   "metadata": {},
   "source": [
    "### pd.mergre(data1, data2, on, how, vaildare, indicator)\n",
    "\n",
    "Six arguments:\n",
    "\n",
    "* data1, data2: the two dataframes we want to join/merge\n",
    "\n",
    "* on: the columns whoes values the dataframe share. If theses columns don't have the same name, use left_on and right_on instead\n",
    "\n",
    "* how: what to do with rows that do not have a match on the other dataset\n",
    "    * inner: drop any unmatched row\n",
    "\n",
    "    * outer (full): keep all rows, if they don't match put missing values in the unmatched part the data\n",
    "\n",
    "    * left: keep everything from data1, drop unmatched from data2\n",
    "\n",
    "    * right: keep everything from data2, drop unmatched from data1\n",
    "\n",
    "    Note: it's a good idea to join outer, at first, to see if there are any problems with matching.\n",
    "\n",
    "* validate: \"one_to_one\", \" many_to_one\", \"one_to _many\", or \"many_to_many\". Sets an expectation for how many rows in data2 one row in data1 will match to. If ther expectation is not met, returns an error.\n",
    "\n",
    "* indicatior: a new column that will tell you whether an ID (from the on feature) was found in both datasets, the left only, or right only\n",
    "\n"
   ]
  },
  {
   "cell_type": "code",
   "execution_count": 46,
   "metadata": {},
   "outputs": [
    {
     "data": {
      "application/vnd.microsoft.datawrangler.viewer.v0+json": {
       "columns": [
        {
         "name": "index",
         "rawType": "int64",
         "type": "integer"
        },
        {
         "name": "id",
         "rawType": "int64",
         "type": "integer"
        },
        {
         "name": "x",
         "rawType": "int64",
         "type": "integer"
        }
       ],
       "ref": "bd35fcba-bd9a-4ba7-98db-dc88df5dd8d6",
       "rows": [
        [
         "0",
         "1",
         "1"
        ],
        [
         "1",
         "1",
         "2"
        ],
        [
         "2",
         "1",
         "3"
        ]
       ],
       "shape": {
        "columns": 2,
        "rows": 3
       }
      },
      "text/html": [
       "<div>\n",
       "<style scoped>\n",
       "    .dataframe tbody tr th:only-of-type {\n",
       "        vertical-align: middle;\n",
       "    }\n",
       "\n",
       "    .dataframe tbody tr th {\n",
       "        vertical-align: top;\n",
       "    }\n",
       "\n",
       "    .dataframe thead th {\n",
       "        text-align: right;\n",
       "    }\n",
       "</style>\n",
       "<table border=\"1\" class=\"dataframe\">\n",
       "  <thead>\n",
       "    <tr style=\"text-align: right;\">\n",
       "      <th></th>\n",
       "      <th>id</th>\n",
       "      <th>x</th>\n",
       "    </tr>\n",
       "  </thead>\n",
       "  <tbody>\n",
       "    <tr>\n",
       "      <th>0</th>\n",
       "      <td>1</td>\n",
       "      <td>1</td>\n",
       "    </tr>\n",
       "    <tr>\n",
       "      <th>1</th>\n",
       "      <td>1</td>\n",
       "      <td>2</td>\n",
       "    </tr>\n",
       "    <tr>\n",
       "      <th>2</th>\n",
       "      <td>1</td>\n",
       "      <td>3</td>\n",
       "    </tr>\n",
       "  </tbody>\n",
       "</table>\n",
       "</div>"
      ],
      "text/plain": [
       "   id  x\n",
       "0   1  1\n",
       "1   1  2\n",
       "2   1  3"
      ]
     },
     "execution_count": 46,
     "metadata": {},
     "output_type": "execute_result"
    }
   ],
   "source": [
    "data1 = pd.DataFrame({'id': [1, 1, 1], 'x': [1, 2, 3]})\n",
    "data2 = pd.DataFrame({'id': [1, 1, 1], 'y': [4, 5, 6]})\n",
    "data1"
   ]
  },
  {
   "cell_type": "code",
   "execution_count": 47,
   "metadata": {},
   "outputs": [
    {
     "data": {
      "application/vnd.microsoft.datawrangler.viewer.v0+json": {
       "columns": [
        {
         "name": "index",
         "rawType": "int64",
         "type": "integer"
        },
        {
         "name": "id",
         "rawType": "int64",
         "type": "integer"
        },
        {
         "name": "y",
         "rawType": "int64",
         "type": "integer"
        }
       ],
       "ref": "96385e7b-53e3-4f6e-b37a-2e7c83cfe0cf",
       "rows": [
        [
         "0",
         "1",
         "4"
        ],
        [
         "1",
         "1",
         "5"
        ],
        [
         "2",
         "1",
         "6"
        ]
       ],
       "shape": {
        "columns": 2,
        "rows": 3
       }
      },
      "text/html": [
       "<div>\n",
       "<style scoped>\n",
       "    .dataframe tbody tr th:only-of-type {\n",
       "        vertical-align: middle;\n",
       "    }\n",
       "\n",
       "    .dataframe tbody tr th {\n",
       "        vertical-align: top;\n",
       "    }\n",
       "\n",
       "    .dataframe thead th {\n",
       "        text-align: right;\n",
       "    }\n",
       "</style>\n",
       "<table border=\"1\" class=\"dataframe\">\n",
       "  <thead>\n",
       "    <tr style=\"text-align: right;\">\n",
       "      <th></th>\n",
       "      <th>id</th>\n",
       "      <th>y</th>\n",
       "    </tr>\n",
       "  </thead>\n",
       "  <tbody>\n",
       "    <tr>\n",
       "      <th>0</th>\n",
       "      <td>1</td>\n",
       "      <td>4</td>\n",
       "    </tr>\n",
       "    <tr>\n",
       "      <th>1</th>\n",
       "      <td>1</td>\n",
       "      <td>5</td>\n",
       "    </tr>\n",
       "    <tr>\n",
       "      <th>2</th>\n",
       "      <td>1</td>\n",
       "      <td>6</td>\n",
       "    </tr>\n",
       "  </tbody>\n",
       "</table>\n",
       "</div>"
      ],
      "text/plain": [
       "   id  y\n",
       "0   1  4\n",
       "1   1  5\n",
       "2   1  6"
      ]
     },
     "execution_count": 47,
     "metadata": {},
     "output_type": "execute_result"
    }
   ],
   "source": [
    "data2"
   ]
  },
  {
   "cell_type": "code",
   "execution_count": 44,
   "metadata": {},
   "outputs": [
    {
     "data": {
      "application/vnd.microsoft.datawrangler.viewer.v0+json": {
       "columns": [
        {
         "name": "index",
         "rawType": "int64",
         "type": "integer"
        },
        {
         "name": "id",
         "rawType": "int64",
         "type": "integer"
        },
        {
         "name": "x",
         "rawType": "int64",
         "type": "integer"
        },
        {
         "name": "y",
         "rawType": "int64",
         "type": "integer"
        }
       ],
       "ref": "4215a377-0f96-4890-a514-601da0735074",
       "rows": [
        [
         "0",
         "1",
         "1",
         "4"
        ],
        [
         "1",
         "1",
         "1",
         "5"
        ],
        [
         "2",
         "1",
         "1",
         "6"
        ],
        [
         "3",
         "1",
         "2",
         "4"
        ],
        [
         "4",
         "1",
         "2",
         "5"
        ],
        [
         "5",
         "1",
         "2",
         "6"
        ],
        [
         "6",
         "1",
         "3",
         "4"
        ],
        [
         "7",
         "1",
         "3",
         "5"
        ],
        [
         "8",
         "1",
         "3",
         "6"
        ]
       ],
       "shape": {
        "columns": 3,
        "rows": 9
       }
      },
      "text/html": [
       "<div>\n",
       "<style scoped>\n",
       "    .dataframe tbody tr th:only-of-type {\n",
       "        vertical-align: middle;\n",
       "    }\n",
       "\n",
       "    .dataframe tbody tr th {\n",
       "        vertical-align: top;\n",
       "    }\n",
       "\n",
       "    .dataframe thead th {\n",
       "        text-align: right;\n",
       "    }\n",
       "</style>\n",
       "<table border=\"1\" class=\"dataframe\">\n",
       "  <thead>\n",
       "    <tr style=\"text-align: right;\">\n",
       "      <th></th>\n",
       "      <th>id</th>\n",
       "      <th>x</th>\n",
       "      <th>y</th>\n",
       "    </tr>\n",
       "  </thead>\n",
       "  <tbody>\n",
       "    <tr>\n",
       "      <th>0</th>\n",
       "      <td>1</td>\n",
       "      <td>1</td>\n",
       "      <td>4</td>\n",
       "    </tr>\n",
       "    <tr>\n",
       "      <th>1</th>\n",
       "      <td>1</td>\n",
       "      <td>1</td>\n",
       "      <td>5</td>\n",
       "    </tr>\n",
       "    <tr>\n",
       "      <th>2</th>\n",
       "      <td>1</td>\n",
       "      <td>1</td>\n",
       "      <td>6</td>\n",
       "    </tr>\n",
       "    <tr>\n",
       "      <th>3</th>\n",
       "      <td>1</td>\n",
       "      <td>2</td>\n",
       "      <td>4</td>\n",
       "    </tr>\n",
       "    <tr>\n",
       "      <th>4</th>\n",
       "      <td>1</td>\n",
       "      <td>2</td>\n",
       "      <td>5</td>\n",
       "    </tr>\n",
       "    <tr>\n",
       "      <th>5</th>\n",
       "      <td>1</td>\n",
       "      <td>2</td>\n",
       "      <td>6</td>\n",
       "    </tr>\n",
       "    <tr>\n",
       "      <th>6</th>\n",
       "      <td>1</td>\n",
       "      <td>3</td>\n",
       "      <td>4</td>\n",
       "    </tr>\n",
       "    <tr>\n",
       "      <th>7</th>\n",
       "      <td>1</td>\n",
       "      <td>3</td>\n",
       "      <td>5</td>\n",
       "    </tr>\n",
       "    <tr>\n",
       "      <th>8</th>\n",
       "      <td>1</td>\n",
       "      <td>3</td>\n",
       "      <td>6</td>\n",
       "    </tr>\n",
       "  </tbody>\n",
       "</table>\n",
       "</div>"
      ],
      "text/plain": [
       "   id  x  y\n",
       "0   1  1  4\n",
       "1   1  1  5\n",
       "2   1  1  6\n",
       "3   1  2  4\n",
       "4   1  2  5\n",
       "5   1  2  6\n",
       "6   1  3  4\n",
       "7   1  3  5\n",
       "8   1  3  6"
      ]
     },
     "execution_count": 44,
     "metadata": {},
     "output_type": "execute_result"
    }
   ],
   "source": [
    "pd.merge(data1, data2, on='id')"
   ]
  },
  {
   "cell_type": "code",
   "execution_count": 104,
   "metadata": {},
   "outputs": [
    {
     "data": {
      "application/vnd.microsoft.datawrangler.viewer.v0+json": {
       "columns": [
        {
         "name": "index",
         "rawType": "int64",
         "type": "integer"
        },
        {
         "name": "chamber",
         "rawType": "object",
         "type": "string"
        },
        {
         "name": "rollnumber",
         "rawType": "int64",
         "type": "integer"
        },
        {
         "name": "icpsr",
         "rawType": "int64",
         "type": "integer"
        },
        {
         "name": "cast_code",
         "rawType": "int64",
         "type": "integer"
        }
       ],
       "ref": "d0715821-3b19-44f0-b7dc-8ac9b5b8d2ce",
       "rows": [
        [
         "0",
         "House",
         "1",
         "14854",
         "1"
        ],
        [
         "1",
         "House",
         "1",
         "14863",
         "1"
        ],
        [
         "2",
         "House",
         "1",
         "14873",
         "6"
        ],
        [
         "3",
         "House",
         "1",
         "15029",
         "6"
        ],
        [
         "4",
         "House",
         "1",
         "15433",
         "6"
        ],
        [
         "5",
         "House",
         "1",
         "15448",
         "6"
        ],
        [
         "6",
         "House",
         "1",
         "15454",
         "6"
        ],
        [
         "7",
         "House",
         "1",
         "15616",
         "6"
        ],
        [
         "8",
         "House",
         "1",
         "20107",
         "1"
        ],
        [
         "9",
         "House",
         "1",
         "20119",
         "6"
        ],
        [
         "10",
         "House",
         "1",
         "20122",
         "6"
        ],
        [
         "11",
         "House",
         "1",
         "20124",
         "1"
        ],
        [
         "12",
         "House",
         "1",
         "20138",
         "1"
        ],
        [
         "13",
         "House",
         "1",
         "20145",
         "6"
        ],
        [
         "14",
         "House",
         "1",
         "20301",
         "1"
        ],
        [
         "15",
         "House",
         "1",
         "20305",
         "6"
        ],
        [
         "16",
         "House",
         "1",
         "20310",
         "6"
        ],
        [
         "17",
         "House",
         "1",
         "20316",
         "1"
        ],
        [
         "18",
         "House",
         "1",
         "20321",
         "6"
        ],
        [
         "19",
         "House",
         "1",
         "20322",
         "6"
        ],
        [
         "20",
         "House",
         "1",
         "20342",
         "1"
        ],
        [
         "21",
         "House",
         "1",
         "20344",
         "1"
        ],
        [
         "22",
         "House",
         "1",
         "20356",
         "1"
        ],
        [
         "23",
         "House",
         "1",
         "20501",
         "6"
        ],
        [
         "24",
         "House",
         "1",
         "20504",
         "6"
        ],
        [
         "25",
         "House",
         "1",
         "20517",
         "6"
        ],
        [
         "26",
         "House",
         "1",
         "20521",
         "1"
        ],
        [
         "27",
         "House",
         "1",
         "20529",
         "6"
        ],
        [
         "28",
         "House",
         "1",
         "20530",
         "1"
        ],
        [
         "29",
         "House",
         "1",
         "20533",
         "6"
        ],
        [
         "30",
         "House",
         "1",
         "20537",
         "6"
        ],
        [
         "31",
         "House",
         "1",
         "20538",
         "6"
        ],
        [
         "32",
         "House",
         "1",
         "20706",
         "6"
        ],
        [
         "33",
         "House",
         "1",
         "20708",
         "6"
        ],
        [
         "34",
         "House",
         "1",
         "20709",
         "1"
        ],
        [
         "35",
         "House",
         "1",
         "20712",
         "6"
        ],
        [
         "36",
         "House",
         "1",
         "20725",
         "1"
        ],
        [
         "37",
         "House",
         "1",
         "20729",
         "1"
        ],
        [
         "38",
         "House",
         "1",
         "20733",
         "6"
        ],
        [
         "39",
         "House",
         "1",
         "20738",
         "1"
        ],
        [
         "40",
         "House",
         "1",
         "20748",
         "6"
        ],
        [
         "41",
         "House",
         "1",
         "20749",
         "6"
        ],
        [
         "42",
         "House",
         "1",
         "20755",
         "1"
        ],
        [
         "43",
         "House",
         "1",
         "20756",
         "1"
        ],
        [
         "44",
         "House",
         "1",
         "20757",
         "6"
        ],
        [
         "45",
         "House",
         "1",
         "20758",
         "1"
        ],
        [
         "46",
         "House",
         "1",
         "20759",
         "1"
        ],
        [
         "47",
         "House",
         "1",
         "20903",
         "1"
        ],
        [
         "48",
         "House",
         "1",
         "20907",
         "6"
        ],
        [
         "49",
         "House",
         "1",
         "20916",
         "1"
        ]
       ],
       "shape": {
        "columns": 4,
        "rows": 174610
       }
      },
      "text/html": [
       "<div>\n",
       "<style scoped>\n",
       "    .dataframe tbody tr th:only-of-type {\n",
       "        vertical-align: middle;\n",
       "    }\n",
       "\n",
       "    .dataframe tbody tr th {\n",
       "        vertical-align: top;\n",
       "    }\n",
       "\n",
       "    .dataframe thead th {\n",
       "        text-align: right;\n",
       "    }\n",
       "</style>\n",
       "<table border=\"1\" class=\"dataframe\">\n",
       "  <thead>\n",
       "    <tr style=\"text-align: right;\">\n",
       "      <th></th>\n",
       "      <th>chamber</th>\n",
       "      <th>rollnumber</th>\n",
       "      <th>icpsr</th>\n",
       "      <th>cast_code</th>\n",
       "    </tr>\n",
       "  </thead>\n",
       "  <tbody>\n",
       "    <tr>\n",
       "      <th>0</th>\n",
       "      <td>House</td>\n",
       "      <td>1</td>\n",
       "      <td>14854</td>\n",
       "      <td>1</td>\n",
       "    </tr>\n",
       "    <tr>\n",
       "      <th>1</th>\n",
       "      <td>House</td>\n",
       "      <td>1</td>\n",
       "      <td>14863</td>\n",
       "      <td>1</td>\n",
       "    </tr>\n",
       "    <tr>\n",
       "      <th>2</th>\n",
       "      <td>House</td>\n",
       "      <td>1</td>\n",
       "      <td>14873</td>\n",
       "      <td>6</td>\n",
       "    </tr>\n",
       "    <tr>\n",
       "      <th>3</th>\n",
       "      <td>House</td>\n",
       "      <td>1</td>\n",
       "      <td>15029</td>\n",
       "      <td>6</td>\n",
       "    </tr>\n",
       "    <tr>\n",
       "      <th>4</th>\n",
       "      <td>House</td>\n",
       "      <td>1</td>\n",
       "      <td>15433</td>\n",
       "      <td>6</td>\n",
       "    </tr>\n",
       "    <tr>\n",
       "      <th>...</th>\n",
       "      <td>...</td>\n",
       "      <td>...</td>\n",
       "      <td>...</td>\n",
       "      <td>...</td>\n",
       "    </tr>\n",
       "    <tr>\n",
       "      <th>174605</th>\n",
       "      <td>Senate</td>\n",
       "      <td>530</td>\n",
       "      <td>42504</td>\n",
       "      <td>1</td>\n",
       "    </tr>\n",
       "    <tr>\n",
       "      <th>174606</th>\n",
       "      <td>Senate</td>\n",
       "      <td>530</td>\n",
       "      <td>42505</td>\n",
       "      <td>1</td>\n",
       "    </tr>\n",
       "    <tr>\n",
       "      <th>174607</th>\n",
       "      <td>Senate</td>\n",
       "      <td>530</td>\n",
       "      <td>42506</td>\n",
       "      <td>1</td>\n",
       "    </tr>\n",
       "    <tr>\n",
       "      <th>174608</th>\n",
       "      <td>Senate</td>\n",
       "      <td>530</td>\n",
       "      <td>49308</td>\n",
       "      <td>6</td>\n",
       "    </tr>\n",
       "    <tr>\n",
       "      <th>174609</th>\n",
       "      <td>Senate</td>\n",
       "      <td>530</td>\n",
       "      <td>49703</td>\n",
       "      <td>1</td>\n",
       "    </tr>\n",
       "  </tbody>\n",
       "</table>\n",
       "<p>174610 rows × 4 columns</p>\n",
       "</div>"
      ],
      "text/plain": [
       "       chamber  rollnumber  icpsr  cast_code\n",
       "0        House           1  14854          1\n",
       "1        House           1  14863          1\n",
       "2        House           1  14873          6\n",
       "3        House           1  15029          6\n",
       "4        House           1  15433          6\n",
       "...        ...         ...    ...        ...\n",
       "174605  Senate         530  42504          1\n",
       "174606  Senate         530  42505          1\n",
       "174607  Senate         530  42506          1\n",
       "174608  Senate         530  49308          6\n",
       "174609  Senate         530  49703          1\n",
       "\n",
       "[174610 rows x 4 columns]"
      ]
     },
     "execution_count": 104,
     "metadata": {},
     "output_type": "execute_result"
    }
   ],
   "source": [
    "votes = votes.drop(['congress', 'prob'], axis=1)\n",
    "votes"
   ]
  },
  {
   "cell_type": "code",
   "execution_count": 93,
   "metadata": {},
   "outputs": [
    {
     "data": {
      "application/vnd.microsoft.datawrangler.viewer.v0+json": {
       "columns": [
        {
         "name": "index",
         "rawType": "int64",
         "type": "integer"
        },
        {
         "name": "chamber",
         "rawType": "object",
         "type": "string"
        },
        {
         "name": "rollnumber",
         "rawType": "int64",
         "type": "integer"
        },
        {
         "name": "icpsr_x",
         "rawType": "int64",
         "type": "integer"
        },
        {
         "name": "cast_code_x",
         "rawType": "int64",
         "type": "integer"
        },
        {
         "name": "icpsr_y",
         "rawType": "int64",
         "type": "integer"
        },
        {
         "name": "cast_code_y",
         "rawType": "int64",
         "type": "integer"
        },
        {
         "name": "matched",
         "rawType": "category",
         "type": "unknown"
        }
       ],
       "ref": "1320e3d3-4178-40b9-bce0-53cf68f66478",
       "rows": [
        [
         "0",
         "House",
         "1",
         "14854",
         "1",
         "14854",
         "1",
         "both"
        ],
        [
         "1",
         "House",
         "1",
         "14854",
         "1",
         "14863",
         "1",
         "both"
        ],
        [
         "2",
         "House",
         "1",
         "14854",
         "1",
         "14873",
         "6",
         "both"
        ],
        [
         "3",
         "House",
         "1",
         "14854",
         "1",
         "15029",
         "6",
         "both"
        ],
        [
         "4",
         "House",
         "1",
         "14854",
         "1",
         "15433",
         "6",
         "both"
        ],
        [
         "5",
         "House",
         "1",
         "14854",
         "1",
         "15448",
         "6",
         "both"
        ],
        [
         "6",
         "House",
         "1",
         "14854",
         "1",
         "15454",
         "6",
         "both"
        ],
        [
         "7",
         "House",
         "1",
         "14854",
         "1",
         "15616",
         "6",
         "both"
        ],
        [
         "8",
         "House",
         "1",
         "14854",
         "1",
         "20107",
         "1",
         "both"
        ],
        [
         "9",
         "House",
         "1",
         "14854",
         "1",
         "20119",
         "6",
         "both"
        ],
        [
         "10",
         "House",
         "1",
         "14854",
         "1",
         "20122",
         "6",
         "both"
        ],
        [
         "11",
         "House",
         "1",
         "14854",
         "1",
         "20124",
         "1",
         "both"
        ],
        [
         "12",
         "House",
         "1",
         "14854",
         "1",
         "20138",
         "1",
         "both"
        ],
        [
         "13",
         "House",
         "1",
         "14854",
         "1",
         "20145",
         "6",
         "both"
        ],
        [
         "14",
         "House",
         "1",
         "14854",
         "1",
         "20301",
         "1",
         "both"
        ],
        [
         "15",
         "House",
         "1",
         "14854",
         "1",
         "20305",
         "6",
         "both"
        ],
        [
         "16",
         "House",
         "1",
         "14854",
         "1",
         "20310",
         "6",
         "both"
        ],
        [
         "17",
         "House",
         "1",
         "14854",
         "1",
         "20316",
         "1",
         "both"
        ],
        [
         "18",
         "House",
         "1",
         "14854",
         "1",
         "20321",
         "6",
         "both"
        ],
        [
         "19",
         "House",
         "1",
         "14854",
         "1",
         "20322",
         "6",
         "both"
        ],
        [
         "20",
         "House",
         "1",
         "14854",
         "1",
         "20342",
         "1",
         "both"
        ],
        [
         "21",
         "House",
         "1",
         "14854",
         "1",
         "20344",
         "1",
         "both"
        ],
        [
         "22",
         "House",
         "1",
         "14854",
         "1",
         "20356",
         "1",
         "both"
        ],
        [
         "23",
         "House",
         "1",
         "14854",
         "1",
         "20501",
         "6",
         "both"
        ],
        [
         "24",
         "House",
         "1",
         "14854",
         "1",
         "20504",
         "6",
         "both"
        ],
        [
         "25",
         "House",
         "1",
         "14854",
         "1",
         "20517",
         "6",
         "both"
        ],
        [
         "26",
         "House",
         "1",
         "14854",
         "1",
         "20521",
         "1",
         "both"
        ],
        [
         "27",
         "House",
         "1",
         "14854",
         "1",
         "20529",
         "6",
         "both"
        ],
        [
         "28",
         "House",
         "1",
         "14854",
         "1",
         "20530",
         "1",
         "both"
        ],
        [
         "29",
         "House",
         "1",
         "14854",
         "1",
         "20533",
         "6",
         "both"
        ],
        [
         "30",
         "House",
         "1",
         "14854",
         "1",
         "20537",
         "6",
         "both"
        ],
        [
         "31",
         "House",
         "1",
         "14854",
         "1",
         "20538",
         "6",
         "both"
        ],
        [
         "32",
         "House",
         "1",
         "14854",
         "1",
         "20706",
         "6",
         "both"
        ],
        [
         "33",
         "House",
         "1",
         "14854",
         "1",
         "20708",
         "6",
         "both"
        ],
        [
         "34",
         "House",
         "1",
         "14854",
         "1",
         "20709",
         "1",
         "both"
        ],
        [
         "35",
         "House",
         "1",
         "14854",
         "1",
         "20712",
         "6",
         "both"
        ],
        [
         "36",
         "House",
         "1",
         "14854",
         "1",
         "20725",
         "1",
         "both"
        ],
        [
         "37",
         "House",
         "1",
         "14854",
         "1",
         "20729",
         "1",
         "both"
        ],
        [
         "38",
         "House",
         "1",
         "14854",
         "1",
         "20733",
         "6",
         "both"
        ],
        [
         "39",
         "House",
         "1",
         "14854",
         "1",
         "20738",
         "1",
         "both"
        ],
        [
         "40",
         "House",
         "1",
         "14854",
         "1",
         "20748",
         "6",
         "both"
        ],
        [
         "41",
         "House",
         "1",
         "14854",
         "1",
         "20749",
         "6",
         "both"
        ],
        [
         "42",
         "House",
         "1",
         "14854",
         "1",
         "20755",
         "1",
         "both"
        ],
        [
         "43",
         "House",
         "1",
         "14854",
         "1",
         "20756",
         "1",
         "both"
        ],
        [
         "44",
         "House",
         "1",
         "14854",
         "1",
         "20757",
         "6",
         "both"
        ],
        [
         "45",
         "House",
         "1",
         "14854",
         "1",
         "20758",
         "1",
         "both"
        ],
        [
         "46",
         "House",
         "1",
         "14854",
         "1",
         "20759",
         "1",
         "both"
        ],
        [
         "47",
         "House",
         "1",
         "14854",
         "1",
         "20903",
         "1",
         "both"
        ],
        [
         "48",
         "House",
         "1",
         "14854",
         "1",
         "20907",
         "6",
         "both"
        ],
        [
         "49",
         "House",
         "1",
         "14854",
         "1",
         "20916",
         "1",
         "both"
        ]
       ],
       "shape": {
        "columns": 7,
        "rows": 57936814
       }
      },
      "text/html": [
       "<div>\n",
       "<style scoped>\n",
       "    .dataframe tbody tr th:only-of-type {\n",
       "        vertical-align: middle;\n",
       "    }\n",
       "\n",
       "    .dataframe tbody tr th {\n",
       "        vertical-align: top;\n",
       "    }\n",
       "\n",
       "    .dataframe thead th {\n",
       "        text-align: right;\n",
       "    }\n",
       "</style>\n",
       "<table border=\"1\" class=\"dataframe\">\n",
       "  <thead>\n",
       "    <tr style=\"text-align: right;\">\n",
       "      <th></th>\n",
       "      <th>chamber</th>\n",
       "      <th>rollnumber</th>\n",
       "      <th>icpsr_x</th>\n",
       "      <th>cast_code_x</th>\n",
       "      <th>icpsr_y</th>\n",
       "      <th>cast_code_y</th>\n",
       "      <th>matched</th>\n",
       "    </tr>\n",
       "  </thead>\n",
       "  <tbody>\n",
       "    <tr>\n",
       "      <th>0</th>\n",
       "      <td>House</td>\n",
       "      <td>1</td>\n",
       "      <td>14854</td>\n",
       "      <td>1</td>\n",
       "      <td>14854</td>\n",
       "      <td>1</td>\n",
       "      <td>both</td>\n",
       "    </tr>\n",
       "    <tr>\n",
       "      <th>1</th>\n",
       "      <td>House</td>\n",
       "      <td>1</td>\n",
       "      <td>14854</td>\n",
       "      <td>1</td>\n",
       "      <td>14863</td>\n",
       "      <td>1</td>\n",
       "      <td>both</td>\n",
       "    </tr>\n",
       "    <tr>\n",
       "      <th>2</th>\n",
       "      <td>House</td>\n",
       "      <td>1</td>\n",
       "      <td>14854</td>\n",
       "      <td>1</td>\n",
       "      <td>14873</td>\n",
       "      <td>6</td>\n",
       "      <td>both</td>\n",
       "    </tr>\n",
       "    <tr>\n",
       "      <th>3</th>\n",
       "      <td>House</td>\n",
       "      <td>1</td>\n",
       "      <td>14854</td>\n",
       "      <td>1</td>\n",
       "      <td>15029</td>\n",
       "      <td>6</td>\n",
       "      <td>both</td>\n",
       "    </tr>\n",
       "    <tr>\n",
       "      <th>4</th>\n",
       "      <td>House</td>\n",
       "      <td>1</td>\n",
       "      <td>14854</td>\n",
       "      <td>1</td>\n",
       "      <td>15433</td>\n",
       "      <td>6</td>\n",
       "      <td>both</td>\n",
       "    </tr>\n",
       "    <tr>\n",
       "      <th>...</th>\n",
       "      <td>...</td>\n",
       "      <td>...</td>\n",
       "      <td>...</td>\n",
       "      <td>...</td>\n",
       "      <td>...</td>\n",
       "      <td>...</td>\n",
       "      <td>...</td>\n",
       "    </tr>\n",
       "    <tr>\n",
       "      <th>57936809</th>\n",
       "      <td>Senate</td>\n",
       "      <td>530</td>\n",
       "      <td>49703</td>\n",
       "      <td>1</td>\n",
       "      <td>42504</td>\n",
       "      <td>1</td>\n",
       "      <td>both</td>\n",
       "    </tr>\n",
       "    <tr>\n",
       "      <th>57936810</th>\n",
       "      <td>Senate</td>\n",
       "      <td>530</td>\n",
       "      <td>49703</td>\n",
       "      <td>1</td>\n",
       "      <td>42505</td>\n",
       "      <td>1</td>\n",
       "      <td>both</td>\n",
       "    </tr>\n",
       "    <tr>\n",
       "      <th>57936811</th>\n",
       "      <td>Senate</td>\n",
       "      <td>530</td>\n",
       "      <td>49703</td>\n",
       "      <td>1</td>\n",
       "      <td>42506</td>\n",
       "      <td>1</td>\n",
       "      <td>both</td>\n",
       "    </tr>\n",
       "    <tr>\n",
       "      <th>57936812</th>\n",
       "      <td>Senate</td>\n",
       "      <td>530</td>\n",
       "      <td>49703</td>\n",
       "      <td>1</td>\n",
       "      <td>49308</td>\n",
       "      <td>6</td>\n",
       "      <td>both</td>\n",
       "    </tr>\n",
       "    <tr>\n",
       "      <th>57936813</th>\n",
       "      <td>Senate</td>\n",
       "      <td>530</td>\n",
       "      <td>49703</td>\n",
       "      <td>1</td>\n",
       "      <td>49703</td>\n",
       "      <td>1</td>\n",
       "      <td>both</td>\n",
       "    </tr>\n",
       "  </tbody>\n",
       "</table>\n",
       "<p>57936814 rows × 7 columns</p>\n",
       "</div>"
      ],
      "text/plain": [
       "         chamber  rollnumber  icpsr_x  cast_code_x  icpsr_y  cast_code_y  \\\n",
       "0          House           1    14854            1    14854            1   \n",
       "1          House           1    14854            1    14863            1   \n",
       "2          House           1    14854            1    14873            6   \n",
       "3          House           1    14854            1    15029            6   \n",
       "4          House           1    14854            1    15433            6   \n",
       "...          ...         ...      ...          ...      ...          ...   \n",
       "57936809  Senate         530    49703            1    42504            1   \n",
       "57936810  Senate         530    49703            1    42505            1   \n",
       "57936811  Senate         530    49703            1    42506            1   \n",
       "57936812  Senate         530    49703            1    49308            6   \n",
       "57936813  Senate         530    49703            1    49703            1   \n",
       "\n",
       "         matched  \n",
       "0           both  \n",
       "1           both  \n",
       "2           both  \n",
       "3           both  \n",
       "4           both  \n",
       "...          ...  \n",
       "57936809    both  \n",
       "57936810    both  \n",
       "57936811    both  \n",
       "57936812    both  \n",
       "57936813    both  \n",
       "\n",
       "[57936814 rows x 7 columns]"
      ]
     },
     "execution_count": 93,
     "metadata": {},
     "output_type": "execute_result"
    }
   ],
   "source": [
    "vote_compare = pd.merge(votes, votes, \n",
    "                        on = ['chamber', 'rollnumber'], \n",
    "                        how = 'outer',\n",
    "                        indicator = 'matched',\n",
    "                        validate = 'many_to_many')\n",
    "vote_compare"
   ]
  },
  {
   "cell_type": "code",
   "execution_count": 94,
   "metadata": {},
   "outputs": [
    {
     "data": {
      "application/vnd.microsoft.datawrangler.viewer.v0+json": {
       "columns": [
        {
         "name": "index",
         "rawType": "int64",
         "type": "integer"
        },
        {
         "name": "chamber",
         "rawType": "object",
         "type": "string"
        },
        {
         "name": "rollnumber",
         "rawType": "int64",
         "type": "integer"
        },
        {
         "name": "icpsr_x",
         "rawType": "int64",
         "type": "integer"
        },
        {
         "name": "cast_code_x",
         "rawType": "int64",
         "type": "integer"
        },
        {
         "name": "icpsr_y",
         "rawType": "int64",
         "type": "integer"
        },
        {
         "name": "cast_code_y",
         "rawType": "int64",
         "type": "integer"
        }
       ],
       "ref": "da50b679-5d66-4a67-afba-1f0b02f6e06c",
       "rows": [
        [
         "1",
         "House",
         "1",
         "14854",
         "1",
         "14863",
         "1"
        ],
        [
         "2",
         "House",
         "1",
         "14854",
         "1",
         "14873",
         "6"
        ],
        [
         "3",
         "House",
         "1",
         "14854",
         "1",
         "15029",
         "6"
        ],
        [
         "4",
         "House",
         "1",
         "14854",
         "1",
         "15433",
         "6"
        ],
        [
         "5",
         "House",
         "1",
         "14854",
         "1",
         "15448",
         "6"
        ],
        [
         "6",
         "House",
         "1",
         "14854",
         "1",
         "15454",
         "6"
        ],
        [
         "7",
         "House",
         "1",
         "14854",
         "1",
         "15616",
         "6"
        ],
        [
         "8",
         "House",
         "1",
         "14854",
         "1",
         "20107",
         "1"
        ],
        [
         "9",
         "House",
         "1",
         "14854",
         "1",
         "20119",
         "6"
        ],
        [
         "10",
         "House",
         "1",
         "14854",
         "1",
         "20122",
         "6"
        ],
        [
         "11",
         "House",
         "1",
         "14854",
         "1",
         "20124",
         "1"
        ],
        [
         "12",
         "House",
         "1",
         "14854",
         "1",
         "20138",
         "1"
        ],
        [
         "13",
         "House",
         "1",
         "14854",
         "1",
         "20145",
         "6"
        ],
        [
         "14",
         "House",
         "1",
         "14854",
         "1",
         "20301",
         "1"
        ],
        [
         "15",
         "House",
         "1",
         "14854",
         "1",
         "20305",
         "6"
        ],
        [
         "16",
         "House",
         "1",
         "14854",
         "1",
         "20310",
         "6"
        ],
        [
         "17",
         "House",
         "1",
         "14854",
         "1",
         "20316",
         "1"
        ],
        [
         "18",
         "House",
         "1",
         "14854",
         "1",
         "20321",
         "6"
        ],
        [
         "19",
         "House",
         "1",
         "14854",
         "1",
         "20322",
         "6"
        ],
        [
         "20",
         "House",
         "1",
         "14854",
         "1",
         "20342",
         "1"
        ],
        [
         "21",
         "House",
         "1",
         "14854",
         "1",
         "20344",
         "1"
        ],
        [
         "22",
         "House",
         "1",
         "14854",
         "1",
         "20356",
         "1"
        ],
        [
         "23",
         "House",
         "1",
         "14854",
         "1",
         "20501",
         "6"
        ],
        [
         "24",
         "House",
         "1",
         "14854",
         "1",
         "20504",
         "6"
        ],
        [
         "25",
         "House",
         "1",
         "14854",
         "1",
         "20517",
         "6"
        ],
        [
         "26",
         "House",
         "1",
         "14854",
         "1",
         "20521",
         "1"
        ],
        [
         "27",
         "House",
         "1",
         "14854",
         "1",
         "20529",
         "6"
        ],
        [
         "28",
         "House",
         "1",
         "14854",
         "1",
         "20530",
         "1"
        ],
        [
         "29",
         "House",
         "1",
         "14854",
         "1",
         "20533",
         "6"
        ],
        [
         "30",
         "House",
         "1",
         "14854",
         "1",
         "20537",
         "6"
        ],
        [
         "31",
         "House",
         "1",
         "14854",
         "1",
         "20538",
         "6"
        ],
        [
         "32",
         "House",
         "1",
         "14854",
         "1",
         "20706",
         "6"
        ],
        [
         "33",
         "House",
         "1",
         "14854",
         "1",
         "20708",
         "6"
        ],
        [
         "34",
         "House",
         "1",
         "14854",
         "1",
         "20709",
         "1"
        ],
        [
         "35",
         "House",
         "1",
         "14854",
         "1",
         "20712",
         "6"
        ],
        [
         "36",
         "House",
         "1",
         "14854",
         "1",
         "20725",
         "1"
        ],
        [
         "37",
         "House",
         "1",
         "14854",
         "1",
         "20729",
         "1"
        ],
        [
         "38",
         "House",
         "1",
         "14854",
         "1",
         "20733",
         "6"
        ],
        [
         "39",
         "House",
         "1",
         "14854",
         "1",
         "20738",
         "1"
        ],
        [
         "40",
         "House",
         "1",
         "14854",
         "1",
         "20748",
         "6"
        ],
        [
         "41",
         "House",
         "1",
         "14854",
         "1",
         "20749",
         "6"
        ],
        [
         "42",
         "House",
         "1",
         "14854",
         "1",
         "20755",
         "1"
        ],
        [
         "43",
         "House",
         "1",
         "14854",
         "1",
         "20756",
         "1"
        ],
        [
         "44",
         "House",
         "1",
         "14854",
         "1",
         "20757",
         "6"
        ],
        [
         "45",
         "House",
         "1",
         "14854",
         "1",
         "20758",
         "1"
        ],
        [
         "46",
         "House",
         "1",
         "14854",
         "1",
         "20759",
         "1"
        ],
        [
         "47",
         "House",
         "1",
         "14854",
         "1",
         "20903",
         "1"
        ],
        [
         "48",
         "House",
         "1",
         "14854",
         "1",
         "20907",
         "6"
        ],
        [
         "49",
         "House",
         "1",
         "14854",
         "1",
         "20916",
         "1"
        ],
        [
         "50",
         "House",
         "1",
         "14854",
         "1",
         "20920",
         "6"
        ]
       ],
       "shape": {
        "columns": 6,
        "rows": 57762204
       }
      },
      "text/html": [
       "<div>\n",
       "<style scoped>\n",
       "    .dataframe tbody tr th:only-of-type {\n",
       "        vertical-align: middle;\n",
       "    }\n",
       "\n",
       "    .dataframe tbody tr th {\n",
       "        vertical-align: top;\n",
       "    }\n",
       "\n",
       "    .dataframe thead th {\n",
       "        text-align: right;\n",
       "    }\n",
       "</style>\n",
       "<table border=\"1\" class=\"dataframe\">\n",
       "  <thead>\n",
       "    <tr style=\"text-align: right;\">\n",
       "      <th></th>\n",
       "      <th>chamber</th>\n",
       "      <th>rollnumber</th>\n",
       "      <th>icpsr_x</th>\n",
       "      <th>cast_code_x</th>\n",
       "      <th>icpsr_y</th>\n",
       "      <th>cast_code_y</th>\n",
       "    </tr>\n",
       "  </thead>\n",
       "  <tbody>\n",
       "    <tr>\n",
       "      <th>1</th>\n",
       "      <td>House</td>\n",
       "      <td>1</td>\n",
       "      <td>14854</td>\n",
       "      <td>1</td>\n",
       "      <td>14863</td>\n",
       "      <td>1</td>\n",
       "    </tr>\n",
       "    <tr>\n",
       "      <th>2</th>\n",
       "      <td>House</td>\n",
       "      <td>1</td>\n",
       "      <td>14854</td>\n",
       "      <td>1</td>\n",
       "      <td>14873</td>\n",
       "      <td>6</td>\n",
       "    </tr>\n",
       "    <tr>\n",
       "      <th>3</th>\n",
       "      <td>House</td>\n",
       "      <td>1</td>\n",
       "      <td>14854</td>\n",
       "      <td>1</td>\n",
       "      <td>15029</td>\n",
       "      <td>6</td>\n",
       "    </tr>\n",
       "    <tr>\n",
       "      <th>4</th>\n",
       "      <td>House</td>\n",
       "      <td>1</td>\n",
       "      <td>14854</td>\n",
       "      <td>1</td>\n",
       "      <td>15433</td>\n",
       "      <td>6</td>\n",
       "    </tr>\n",
       "    <tr>\n",
       "      <th>5</th>\n",
       "      <td>House</td>\n",
       "      <td>1</td>\n",
       "      <td>14854</td>\n",
       "      <td>1</td>\n",
       "      <td>15448</td>\n",
       "      <td>6</td>\n",
       "    </tr>\n",
       "    <tr>\n",
       "      <th>...</th>\n",
       "      <td>...</td>\n",
       "      <td>...</td>\n",
       "      <td>...</td>\n",
       "      <td>...</td>\n",
       "      <td>...</td>\n",
       "      <td>...</td>\n",
       "    </tr>\n",
       "    <tr>\n",
       "      <th>57936808</th>\n",
       "      <td>Senate</td>\n",
       "      <td>530</td>\n",
       "      <td>49703</td>\n",
       "      <td>1</td>\n",
       "      <td>42503</td>\n",
       "      <td>1</td>\n",
       "    </tr>\n",
       "    <tr>\n",
       "      <th>57936809</th>\n",
       "      <td>Senate</td>\n",
       "      <td>530</td>\n",
       "      <td>49703</td>\n",
       "      <td>1</td>\n",
       "      <td>42504</td>\n",
       "      <td>1</td>\n",
       "    </tr>\n",
       "    <tr>\n",
       "      <th>57936810</th>\n",
       "      <td>Senate</td>\n",
       "      <td>530</td>\n",
       "      <td>49703</td>\n",
       "      <td>1</td>\n",
       "      <td>42505</td>\n",
       "      <td>1</td>\n",
       "    </tr>\n",
       "    <tr>\n",
       "      <th>57936811</th>\n",
       "      <td>Senate</td>\n",
       "      <td>530</td>\n",
       "      <td>49703</td>\n",
       "      <td>1</td>\n",
       "      <td>42506</td>\n",
       "      <td>1</td>\n",
       "    </tr>\n",
       "    <tr>\n",
       "      <th>57936812</th>\n",
       "      <td>Senate</td>\n",
       "      <td>530</td>\n",
       "      <td>49703</td>\n",
       "      <td>1</td>\n",
       "      <td>49308</td>\n",
       "      <td>6</td>\n",
       "    </tr>\n",
       "  </tbody>\n",
       "</table>\n",
       "<p>57762204 rows × 6 columns</p>\n",
       "</div>"
      ],
      "text/plain": [
       "         chamber  rollnumber  icpsr_x  cast_code_x  icpsr_y  cast_code_y\n",
       "1          House           1    14854            1    14863            1\n",
       "2          House           1    14854            1    14873            6\n",
       "3          House           1    14854            1    15029            6\n",
       "4          House           1    14854            1    15433            6\n",
       "5          House           1    14854            1    15448            6\n",
       "...          ...         ...      ...          ...      ...          ...\n",
       "57936808  Senate         530    49703            1    42503            1\n",
       "57936809  Senate         530    49703            1    42504            1\n",
       "57936810  Senate         530    49703            1    42505            1\n",
       "57936811  Senate         530    49703            1    42506            1\n",
       "57936812  Senate         530    49703            1    49308            6\n",
       "\n",
       "[57762204 rows x 6 columns]"
      ]
     },
     "execution_count": 94,
     "metadata": {},
     "output_type": "execute_result"
    }
   ],
   "source": [
    "vote_compare = vote_compare.drop(['matched'], axis=1)\n",
    "vote_compare = vote_compare.query(\"icpsr_x != icpsr_y\")\n",
    "vote_compare"
   ]
  },
  {
   "cell_type": "code",
   "execution_count": 95,
   "metadata": {},
   "outputs": [
    {
     "data": {
      "application/vnd.microsoft.datawrangler.viewer.v0+json": {
       "columns": [
        {
         "name": "index",
         "rawType": "int64",
         "type": "integer"
        },
        {
         "name": "chamber",
         "rawType": "object",
         "type": "string"
        },
        {
         "name": "rollnumber",
         "rawType": "int64",
         "type": "integer"
        },
        {
         "name": "icpsr_x",
         "rawType": "int64",
         "type": "integer"
        },
        {
         "name": "cast_code_x",
         "rawType": "int64",
         "type": "integer"
        },
        {
         "name": "icpsr_y",
         "rawType": "int64",
         "type": "integer"
        },
        {
         "name": "cast_code_y",
         "rawType": "int64",
         "type": "integer"
        },
        {
         "name": "agree",
         "rawType": "bool",
         "type": "boolean"
        }
       ],
       "ref": "dee04d98-050a-431f-a9cc-42bd4a01871f",
       "rows": [
        [
         "1",
         "House",
         "1",
         "14854",
         "1",
         "14863",
         "1",
         "True"
        ],
        [
         "2",
         "House",
         "1",
         "14854",
         "1",
         "14873",
         "6",
         "False"
        ],
        [
         "3",
         "House",
         "1",
         "14854",
         "1",
         "15029",
         "6",
         "False"
        ],
        [
         "4",
         "House",
         "1",
         "14854",
         "1",
         "15433",
         "6",
         "False"
        ],
        [
         "5",
         "House",
         "1",
         "14854",
         "1",
         "15448",
         "6",
         "False"
        ],
        [
         "6",
         "House",
         "1",
         "14854",
         "1",
         "15454",
         "6",
         "False"
        ],
        [
         "7",
         "House",
         "1",
         "14854",
         "1",
         "15616",
         "6",
         "False"
        ],
        [
         "8",
         "House",
         "1",
         "14854",
         "1",
         "20107",
         "1",
         "True"
        ],
        [
         "9",
         "House",
         "1",
         "14854",
         "1",
         "20119",
         "6",
         "False"
        ],
        [
         "10",
         "House",
         "1",
         "14854",
         "1",
         "20122",
         "6",
         "False"
        ],
        [
         "11",
         "House",
         "1",
         "14854",
         "1",
         "20124",
         "1",
         "True"
        ],
        [
         "12",
         "House",
         "1",
         "14854",
         "1",
         "20138",
         "1",
         "True"
        ],
        [
         "13",
         "House",
         "1",
         "14854",
         "1",
         "20145",
         "6",
         "False"
        ],
        [
         "14",
         "House",
         "1",
         "14854",
         "1",
         "20301",
         "1",
         "True"
        ],
        [
         "15",
         "House",
         "1",
         "14854",
         "1",
         "20305",
         "6",
         "False"
        ],
        [
         "16",
         "House",
         "1",
         "14854",
         "1",
         "20310",
         "6",
         "False"
        ],
        [
         "17",
         "House",
         "1",
         "14854",
         "1",
         "20316",
         "1",
         "True"
        ],
        [
         "18",
         "House",
         "1",
         "14854",
         "1",
         "20321",
         "6",
         "False"
        ],
        [
         "19",
         "House",
         "1",
         "14854",
         "1",
         "20322",
         "6",
         "False"
        ],
        [
         "20",
         "House",
         "1",
         "14854",
         "1",
         "20342",
         "1",
         "True"
        ],
        [
         "21",
         "House",
         "1",
         "14854",
         "1",
         "20344",
         "1",
         "True"
        ],
        [
         "22",
         "House",
         "1",
         "14854",
         "1",
         "20356",
         "1",
         "True"
        ],
        [
         "23",
         "House",
         "1",
         "14854",
         "1",
         "20501",
         "6",
         "False"
        ],
        [
         "24",
         "House",
         "1",
         "14854",
         "1",
         "20504",
         "6",
         "False"
        ],
        [
         "25",
         "House",
         "1",
         "14854",
         "1",
         "20517",
         "6",
         "False"
        ],
        [
         "26",
         "House",
         "1",
         "14854",
         "1",
         "20521",
         "1",
         "True"
        ],
        [
         "27",
         "House",
         "1",
         "14854",
         "1",
         "20529",
         "6",
         "False"
        ],
        [
         "28",
         "House",
         "1",
         "14854",
         "1",
         "20530",
         "1",
         "True"
        ],
        [
         "29",
         "House",
         "1",
         "14854",
         "1",
         "20533",
         "6",
         "False"
        ],
        [
         "30",
         "House",
         "1",
         "14854",
         "1",
         "20537",
         "6",
         "False"
        ],
        [
         "31",
         "House",
         "1",
         "14854",
         "1",
         "20538",
         "6",
         "False"
        ],
        [
         "32",
         "House",
         "1",
         "14854",
         "1",
         "20706",
         "6",
         "False"
        ],
        [
         "33",
         "House",
         "1",
         "14854",
         "1",
         "20708",
         "6",
         "False"
        ],
        [
         "34",
         "House",
         "1",
         "14854",
         "1",
         "20709",
         "1",
         "True"
        ],
        [
         "35",
         "House",
         "1",
         "14854",
         "1",
         "20712",
         "6",
         "False"
        ],
        [
         "36",
         "House",
         "1",
         "14854",
         "1",
         "20725",
         "1",
         "True"
        ],
        [
         "37",
         "House",
         "1",
         "14854",
         "1",
         "20729",
         "1",
         "True"
        ],
        [
         "38",
         "House",
         "1",
         "14854",
         "1",
         "20733",
         "6",
         "False"
        ],
        [
         "39",
         "House",
         "1",
         "14854",
         "1",
         "20738",
         "1",
         "True"
        ],
        [
         "40",
         "House",
         "1",
         "14854",
         "1",
         "20748",
         "6",
         "False"
        ],
        [
         "41",
         "House",
         "1",
         "14854",
         "1",
         "20749",
         "6",
         "False"
        ],
        [
         "42",
         "House",
         "1",
         "14854",
         "1",
         "20755",
         "1",
         "True"
        ],
        [
         "43",
         "House",
         "1",
         "14854",
         "1",
         "20756",
         "1",
         "True"
        ],
        [
         "44",
         "House",
         "1",
         "14854",
         "1",
         "20757",
         "6",
         "False"
        ],
        [
         "45",
         "House",
         "1",
         "14854",
         "1",
         "20758",
         "1",
         "True"
        ],
        [
         "46",
         "House",
         "1",
         "14854",
         "1",
         "20759",
         "1",
         "True"
        ],
        [
         "47",
         "House",
         "1",
         "14854",
         "1",
         "20903",
         "1",
         "True"
        ],
        [
         "48",
         "House",
         "1",
         "14854",
         "1",
         "20907",
         "6",
         "False"
        ],
        [
         "49",
         "House",
         "1",
         "14854",
         "1",
         "20916",
         "1",
         "True"
        ],
        [
         "50",
         "House",
         "1",
         "14854",
         "1",
         "20920",
         "6",
         "False"
        ]
       ],
       "shape": {
        "columns": 7,
        "rows": 57762204
       }
      },
      "text/html": [
       "<div>\n",
       "<style scoped>\n",
       "    .dataframe tbody tr th:only-of-type {\n",
       "        vertical-align: middle;\n",
       "    }\n",
       "\n",
       "    .dataframe tbody tr th {\n",
       "        vertical-align: top;\n",
       "    }\n",
       "\n",
       "    .dataframe thead th {\n",
       "        text-align: right;\n",
       "    }\n",
       "</style>\n",
       "<table border=\"1\" class=\"dataframe\">\n",
       "  <thead>\n",
       "    <tr style=\"text-align: right;\">\n",
       "      <th></th>\n",
       "      <th>chamber</th>\n",
       "      <th>rollnumber</th>\n",
       "      <th>icpsr_x</th>\n",
       "      <th>cast_code_x</th>\n",
       "      <th>icpsr_y</th>\n",
       "      <th>cast_code_y</th>\n",
       "      <th>agree</th>\n",
       "    </tr>\n",
       "  </thead>\n",
       "  <tbody>\n",
       "    <tr>\n",
       "      <th>1</th>\n",
       "      <td>House</td>\n",
       "      <td>1</td>\n",
       "      <td>14854</td>\n",
       "      <td>1</td>\n",
       "      <td>14863</td>\n",
       "      <td>1</td>\n",
       "      <td>True</td>\n",
       "    </tr>\n",
       "    <tr>\n",
       "      <th>2</th>\n",
       "      <td>House</td>\n",
       "      <td>1</td>\n",
       "      <td>14854</td>\n",
       "      <td>1</td>\n",
       "      <td>14873</td>\n",
       "      <td>6</td>\n",
       "      <td>False</td>\n",
       "    </tr>\n",
       "    <tr>\n",
       "      <th>3</th>\n",
       "      <td>House</td>\n",
       "      <td>1</td>\n",
       "      <td>14854</td>\n",
       "      <td>1</td>\n",
       "      <td>15029</td>\n",
       "      <td>6</td>\n",
       "      <td>False</td>\n",
       "    </tr>\n",
       "    <tr>\n",
       "      <th>4</th>\n",
       "      <td>House</td>\n",
       "      <td>1</td>\n",
       "      <td>14854</td>\n",
       "      <td>1</td>\n",
       "      <td>15433</td>\n",
       "      <td>6</td>\n",
       "      <td>False</td>\n",
       "    </tr>\n",
       "    <tr>\n",
       "      <th>5</th>\n",
       "      <td>House</td>\n",
       "      <td>1</td>\n",
       "      <td>14854</td>\n",
       "      <td>1</td>\n",
       "      <td>15448</td>\n",
       "      <td>6</td>\n",
       "      <td>False</td>\n",
       "    </tr>\n",
       "    <tr>\n",
       "      <th>...</th>\n",
       "      <td>...</td>\n",
       "      <td>...</td>\n",
       "      <td>...</td>\n",
       "      <td>...</td>\n",
       "      <td>...</td>\n",
       "      <td>...</td>\n",
       "      <td>...</td>\n",
       "    </tr>\n",
       "    <tr>\n",
       "      <th>57936808</th>\n",
       "      <td>Senate</td>\n",
       "      <td>530</td>\n",
       "      <td>49703</td>\n",
       "      <td>1</td>\n",
       "      <td>42503</td>\n",
       "      <td>1</td>\n",
       "      <td>True</td>\n",
       "    </tr>\n",
       "    <tr>\n",
       "      <th>57936809</th>\n",
       "      <td>Senate</td>\n",
       "      <td>530</td>\n",
       "      <td>49703</td>\n",
       "      <td>1</td>\n",
       "      <td>42504</td>\n",
       "      <td>1</td>\n",
       "      <td>True</td>\n",
       "    </tr>\n",
       "    <tr>\n",
       "      <th>57936810</th>\n",
       "      <td>Senate</td>\n",
       "      <td>530</td>\n",
       "      <td>49703</td>\n",
       "      <td>1</td>\n",
       "      <td>42505</td>\n",
       "      <td>1</td>\n",
       "      <td>True</td>\n",
       "    </tr>\n",
       "    <tr>\n",
       "      <th>57936811</th>\n",
       "      <td>Senate</td>\n",
       "      <td>530</td>\n",
       "      <td>49703</td>\n",
       "      <td>1</td>\n",
       "      <td>42506</td>\n",
       "      <td>1</td>\n",
       "      <td>True</td>\n",
       "    </tr>\n",
       "    <tr>\n",
       "      <th>57936812</th>\n",
       "      <td>Senate</td>\n",
       "      <td>530</td>\n",
       "      <td>49703</td>\n",
       "      <td>1</td>\n",
       "      <td>49308</td>\n",
       "      <td>6</td>\n",
       "      <td>False</td>\n",
       "    </tr>\n",
       "  </tbody>\n",
       "</table>\n",
       "<p>57762204 rows × 7 columns</p>\n",
       "</div>"
      ],
      "text/plain": [
       "         chamber  rollnumber  icpsr_x  cast_code_x  icpsr_y  cast_code_y  \\\n",
       "1          House           1    14854            1    14863            1   \n",
       "2          House           1    14854            1    14873            6   \n",
       "3          House           1    14854            1    15029            6   \n",
       "4          House           1    14854            1    15433            6   \n",
       "5          House           1    14854            1    15448            6   \n",
       "...          ...         ...      ...          ...      ...          ...   \n",
       "57936808  Senate         530    49703            1    42503            1   \n",
       "57936809  Senate         530    49703            1    42504            1   \n",
       "57936810  Senate         530    49703            1    42505            1   \n",
       "57936811  Senate         530    49703            1    42506            1   \n",
       "57936812  Senate         530    49703            1    49308            6   \n",
       "\n",
       "          agree  \n",
       "1          True  \n",
       "2         False  \n",
       "3         False  \n",
       "4         False  \n",
       "5         False  \n",
       "...         ...  \n",
       "57936808   True  \n",
       "57936809   True  \n",
       "57936810   True  \n",
       "57936811   True  \n",
       "57936812  False  \n",
       "\n",
       "[57762204 rows x 7 columns]"
      ]
     },
     "execution_count": 95,
     "metadata": {},
     "output_type": "execute_result"
    }
   ],
   "source": [
    "vote_compare['agree'] = vote_compare['cast_code_x'] == vote_compare['cast_code_y']\n",
    "vote_compare"
   ]
  },
  {
   "cell_type": "code",
   "execution_count": 96,
   "metadata": {},
   "outputs": [
    {
     "data": {
      "application/vnd.microsoft.datawrangler.viewer.v0+json": {
       "columns": [
        {
         "name": "index",
         "rawType": "int64",
         "type": "integer"
        },
        {
         "name": "icpsr_x",
         "rawType": "int64",
         "type": "integer"
        },
        {
         "name": "icpsr_y",
         "rawType": "int64",
         "type": "integer"
        },
        {
         "name": "agree",
         "rawType": "float64",
         "type": "float"
        }
       ],
       "ref": "49f9742d-371c-49d4-b2e1-3922b644245e",
       "rows": [
        [
         "0",
         "14226",
         "14435",
         "0.020754716981132074"
        ],
        [
         "1",
         "14226",
         "14858",
         "0.06792452830188679"
        ],
        [
         "2",
         "14226",
         "14871",
         "0.052830188679245285"
        ],
        [
         "3",
         "14226",
         "14921",
         "0.8830188679245283"
        ],
        [
         "4",
         "14226",
         "15021",
         "0.1"
        ],
        [
         "5",
         "14226",
         "20101",
         "0.9754716981132076"
        ],
        [
         "6",
         "14226",
         "20104",
         "0.09622641509433963"
        ],
        [
         "7",
         "14226",
         "20146",
         "0.9754716981132076"
        ],
        [
         "8",
         "14226",
         "20330",
         "0.033962264150943396"
        ],
        [
         "9",
         "14226",
         "20351",
         "0.9358490566037736"
        ],
        [
         "10",
         "14226",
         "20707",
         "0.02830188679245283"
        ],
        [
         "11",
         "14226",
         "20713",
         "0.03962264150943396"
        ],
        [
         "12",
         "14226",
         "20735",
         "0.11320754716981132"
        ],
        [
         "13",
         "14226",
         "20750",
         "0.06037735849056604"
        ],
        [
         "14",
         "14226",
         "20919",
         "0.930188679245283"
        ],
        [
         "15",
         "14226",
         "20923",
         "0.12641509433962264"
        ],
        [
         "16",
         "14226",
         "20930",
         "0.12264150943396226"
        ],
        [
         "17",
         "14226",
         "20932",
         "0.09056603773584905"
        ],
        [
         "18",
         "14226",
         "20953",
         "0.9415094339622642"
        ],
        [
         "19",
         "14226",
         "21133",
         "0.9830188679245283"
        ],
        [
         "20",
         "14226",
         "21166",
         "0.9905660377358491"
        ],
        [
         "21",
         "14226",
         "21173",
         "0.9622641509433962"
        ],
        [
         "22",
         "14226",
         "21301",
         "0.9792452830188679"
        ],
        [
         "23",
         "14226",
         "21325",
         "0.06037735849056604"
        ],
        [
         "24",
         "14226",
         "21338",
         "0.9716981132075472"
        ],
        [
         "25",
         "14226",
         "21350",
         "0.9584905660377359"
        ],
        [
         "26",
         "14226",
         "21355",
         "0.9264150943396227"
        ],
        [
         "27",
         "14226",
         "21502",
         "0.14339622641509434"
        ],
        [
         "28",
         "14226",
         "21702",
         "0.9716981132075472"
        ],
        [
         "29",
         "14226",
         "21706",
         "0.05471698113207547"
        ],
        [
         "30",
         "14226",
         "21708",
         "0.9433962264150944"
        ],
        [
         "31",
         "14226",
         "21734",
         "0.9849056603773585"
        ],
        [
         "32",
         "14226",
         "21743",
         "0.18490566037735848"
        ],
        [
         "33",
         "14226",
         "21755",
         "0.9754716981132076"
        ],
        [
         "34",
         "14226",
         "21937",
         "0.1018867924528302"
        ],
        [
         "35",
         "14226",
         "21965",
         "0.1641509433962264"
        ],
        [
         "36",
         "14226",
         "29142",
         "0.1169811320754717"
        ],
        [
         "37",
         "14226",
         "29147",
         "0.026415094339622643"
        ],
        [
         "38",
         "14226",
         "29345",
         "0.9867924528301887"
        ],
        [
         "39",
         "14226",
         "29534",
         "0.9566037735849057"
        ],
        [
         "40",
         "14226",
         "29566",
         "0.9226415094339623"
        ],
        [
         "41",
         "14226",
         "29722",
         "0.9490566037735849"
        ],
        [
         "42",
         "14226",
         "29754",
         "0.9905660377358491"
        ],
        [
         "43",
         "14226",
         "29940",
         "0.08490566037735849"
        ],
        [
         "44",
         "14226",
         "39310",
         "0.08867924528301886"
        ],
        [
         "45",
         "14226",
         "40300",
         "0.8433962264150944"
        ],
        [
         "46",
         "14226",
         "40305",
         "0.9943396226415094"
        ],
        [
         "47",
         "14226",
         "40700",
         "0.13018867924528302"
        ],
        [
         "48",
         "14226",
         "40704",
         "0.08113207547169811"
        ],
        [
         "49",
         "14226",
         "40707",
         "0.9849056603773585"
        ]
       ],
       "shape": {
        "columns": 3,
        "rows": 206040
       }
      },
      "text/html": [
       "<div>\n",
       "<style scoped>\n",
       "    .dataframe tbody tr th:only-of-type {\n",
       "        vertical-align: middle;\n",
       "    }\n",
       "\n",
       "    .dataframe tbody tr th {\n",
       "        vertical-align: top;\n",
       "    }\n",
       "\n",
       "    .dataframe thead th {\n",
       "        text-align: right;\n",
       "    }\n",
       "</style>\n",
       "<table border=\"1\" class=\"dataframe\">\n",
       "  <thead>\n",
       "    <tr style=\"text-align: right;\">\n",
       "      <th></th>\n",
       "      <th>icpsr_x</th>\n",
       "      <th>icpsr_y</th>\n",
       "      <th>agree</th>\n",
       "    </tr>\n",
       "  </thead>\n",
       "  <tbody>\n",
       "    <tr>\n",
       "      <th>0</th>\n",
       "      <td>14226</td>\n",
       "      <td>14435</td>\n",
       "      <td>0.020755</td>\n",
       "    </tr>\n",
       "    <tr>\n",
       "      <th>1</th>\n",
       "      <td>14226</td>\n",
       "      <td>14858</td>\n",
       "      <td>0.067925</td>\n",
       "    </tr>\n",
       "    <tr>\n",
       "      <th>2</th>\n",
       "      <td>14226</td>\n",
       "      <td>14871</td>\n",
       "      <td>0.052830</td>\n",
       "    </tr>\n",
       "    <tr>\n",
       "      <th>3</th>\n",
       "      <td>14226</td>\n",
       "      <td>14921</td>\n",
       "      <td>0.883019</td>\n",
       "    </tr>\n",
       "    <tr>\n",
       "      <th>4</th>\n",
       "      <td>14226</td>\n",
       "      <td>15021</td>\n",
       "      <td>0.100000</td>\n",
       "    </tr>\n",
       "    <tr>\n",
       "      <th>...</th>\n",
       "      <td>...</td>\n",
       "      <td>...</td>\n",
       "      <td>...</td>\n",
       "    </tr>\n",
       "    <tr>\n",
       "      <th>206035</th>\n",
       "      <td>91980</td>\n",
       "      <td>29911</td>\n",
       "      <td>0.320285</td>\n",
       "    </tr>\n",
       "    <tr>\n",
       "      <th>206036</th>\n",
       "      <td>91980</td>\n",
       "      <td>31101</td>\n",
       "      <td>0.341637</td>\n",
       "    </tr>\n",
       "    <tr>\n",
       "      <th>206037</th>\n",
       "      <td>91980</td>\n",
       "      <td>31102</td>\n",
       "      <td>0.704626</td>\n",
       "    </tr>\n",
       "    <tr>\n",
       "      <th>206038</th>\n",
       "      <td>91980</td>\n",
       "      <td>39301</td>\n",
       "      <td>0.341637</td>\n",
       "    </tr>\n",
       "    <tr>\n",
       "      <th>206039</th>\n",
       "      <td>91980</td>\n",
       "      <td>39307</td>\n",
       "      <td>0.330961</td>\n",
       "    </tr>\n",
       "  </tbody>\n",
       "</table>\n",
       "<p>206040 rows × 3 columns</p>\n",
       "</div>"
      ],
      "text/plain": [
       "        icpsr_x  icpsr_y     agree\n",
       "0         14226    14435  0.020755\n",
       "1         14226    14858  0.067925\n",
       "2         14226    14871  0.052830\n",
       "3         14226    14921  0.883019\n",
       "4         14226    15021  0.100000\n",
       "...         ...      ...       ...\n",
       "206035    91980    29911  0.320285\n",
       "206036    91980    31101  0.341637\n",
       "206037    91980    31102  0.704626\n",
       "206038    91980    39301  0.341637\n",
       "206039    91980    39307  0.330961\n",
       "\n",
       "[206040 rows x 3 columns]"
      ]
     },
     "execution_count": 96,
     "metadata": {},
     "output_type": "execute_result"
    }
   ],
   "source": [
    "vote_compare = vote_compare.groupby(['icpsr_x', 'icpsr_y']).agg({'agree': 'mean'}).reset_index()\n",
    "vote_compare"
   ]
  },
  {
   "cell_type": "code",
   "execution_count": 97,
   "metadata": {},
   "outputs": [],
   "source": [
    "vote_compare = pd.merge(vote_compare, crosswalk,\n",
    "         left_on= 'icpsr_x',\n",
    "         right_on = 'icpsr',\n",
    "         how = 'outer',\n",
    "         indicator = 'matched',\n",
    "         validate = 'many_to_one')    "
   ]
  },
  {
   "cell_type": "code",
   "execution_count": 98,
   "metadata": {},
   "outputs": [
    {
     "data": {
      "application/vnd.microsoft.datawrangler.viewer.v0+json": {
       "columns": [
        {
         "name": "index",
         "rawType": "int64",
         "type": "integer"
        },
        {
         "name": "bioname",
         "rawType": "object",
         "type": "string"
        },
        {
         "name": "icpsr_x",
         "rawType": "int64",
         "type": "integer"
        },
        {
         "name": "icpsr_y",
         "rawType": "int64",
         "type": "integer"
        },
        {
         "name": "agree",
         "rawType": "float64",
         "type": "float"
        }
       ],
       "ref": "97ed624b-0e92-4201-b3e2-7fe6e7b0b87d",
       "rows": [
        [
         "0",
         "GRASSLEY, Charles Ernest",
         "14226",
         "14435",
         "0.020754716981132074"
        ],
        [
         "1",
         "GRASSLEY, Charles Ernest",
         "14226",
         "14858",
         "0.06792452830188679"
        ],
        [
         "2",
         "GRASSLEY, Charles Ernest",
         "14226",
         "14871",
         "0.052830188679245285"
        ],
        [
         "3",
         "GRASSLEY, Charles Ernest",
         "14226",
         "14921",
         "0.8830188679245283"
        ],
        [
         "4",
         "GRASSLEY, Charles Ernest",
         "14226",
         "15021",
         "0.1"
        ],
        [
         "5",
         "GRASSLEY, Charles Ernest",
         "14226",
         "20101",
         "0.9754716981132076"
        ],
        [
         "6",
         "GRASSLEY, Charles Ernest",
         "14226",
         "20104",
         "0.09622641509433963"
        ],
        [
         "7",
         "GRASSLEY, Charles Ernest",
         "14226",
         "20146",
         "0.9754716981132076"
        ],
        [
         "8",
         "GRASSLEY, Charles Ernest",
         "14226",
         "20330",
         "0.033962264150943396"
        ],
        [
         "9",
         "GRASSLEY, Charles Ernest",
         "14226",
         "20351",
         "0.9358490566037736"
        ],
        [
         "10",
         "GRASSLEY, Charles Ernest",
         "14226",
         "20707",
         "0.02830188679245283"
        ],
        [
         "11",
         "GRASSLEY, Charles Ernest",
         "14226",
         "20713",
         "0.03962264150943396"
        ],
        [
         "12",
         "GRASSLEY, Charles Ernest",
         "14226",
         "20735",
         "0.11320754716981132"
        ],
        [
         "13",
         "GRASSLEY, Charles Ernest",
         "14226",
         "20750",
         "0.06037735849056604"
        ],
        [
         "14",
         "GRASSLEY, Charles Ernest",
         "14226",
         "20919",
         "0.930188679245283"
        ],
        [
         "15",
         "GRASSLEY, Charles Ernest",
         "14226",
         "20923",
         "0.12641509433962264"
        ],
        [
         "16",
         "GRASSLEY, Charles Ernest",
         "14226",
         "20930",
         "0.12264150943396226"
        ],
        [
         "17",
         "GRASSLEY, Charles Ernest",
         "14226",
         "20932",
         "0.09056603773584905"
        ],
        [
         "18",
         "GRASSLEY, Charles Ernest",
         "14226",
         "20953",
         "0.9415094339622642"
        ],
        [
         "19",
         "GRASSLEY, Charles Ernest",
         "14226",
         "21133",
         "0.9830188679245283"
        ],
        [
         "20",
         "GRASSLEY, Charles Ernest",
         "14226",
         "21166",
         "0.9905660377358491"
        ],
        [
         "21",
         "GRASSLEY, Charles Ernest",
         "14226",
         "21173",
         "0.9622641509433962"
        ],
        [
         "22",
         "GRASSLEY, Charles Ernest",
         "14226",
         "21301",
         "0.9792452830188679"
        ],
        [
         "23",
         "GRASSLEY, Charles Ernest",
         "14226",
         "21325",
         "0.06037735849056604"
        ],
        [
         "24",
         "GRASSLEY, Charles Ernest",
         "14226",
         "21338",
         "0.9716981132075472"
        ],
        [
         "25",
         "GRASSLEY, Charles Ernest",
         "14226",
         "21350",
         "0.9584905660377359"
        ],
        [
         "26",
         "GRASSLEY, Charles Ernest",
         "14226",
         "21355",
         "0.9264150943396227"
        ],
        [
         "27",
         "GRASSLEY, Charles Ernest",
         "14226",
         "21502",
         "0.14339622641509434"
        ],
        [
         "28",
         "GRASSLEY, Charles Ernest",
         "14226",
         "21702",
         "0.9716981132075472"
        ],
        [
         "29",
         "GRASSLEY, Charles Ernest",
         "14226",
         "21706",
         "0.05471698113207547"
        ],
        [
         "30",
         "GRASSLEY, Charles Ernest",
         "14226",
         "21708",
         "0.9433962264150944"
        ],
        [
         "31",
         "GRASSLEY, Charles Ernest",
         "14226",
         "21734",
         "0.9849056603773585"
        ],
        [
         "32",
         "GRASSLEY, Charles Ernest",
         "14226",
         "21743",
         "0.18490566037735848"
        ],
        [
         "33",
         "GRASSLEY, Charles Ernest",
         "14226",
         "21755",
         "0.9754716981132076"
        ],
        [
         "34",
         "GRASSLEY, Charles Ernest",
         "14226",
         "21937",
         "0.1018867924528302"
        ],
        [
         "35",
         "GRASSLEY, Charles Ernest",
         "14226",
         "21965",
         "0.1641509433962264"
        ],
        [
         "36",
         "GRASSLEY, Charles Ernest",
         "14226",
         "29142",
         "0.1169811320754717"
        ],
        [
         "37",
         "GRASSLEY, Charles Ernest",
         "14226",
         "29147",
         "0.026415094339622643"
        ],
        [
         "38",
         "GRASSLEY, Charles Ernest",
         "14226",
         "29345",
         "0.9867924528301887"
        ],
        [
         "39",
         "GRASSLEY, Charles Ernest",
         "14226",
         "29534",
         "0.9566037735849057"
        ],
        [
         "40",
         "GRASSLEY, Charles Ernest",
         "14226",
         "29566",
         "0.9226415094339623"
        ],
        [
         "41",
         "GRASSLEY, Charles Ernest",
         "14226",
         "29722",
         "0.9490566037735849"
        ],
        [
         "42",
         "GRASSLEY, Charles Ernest",
         "14226",
         "29754",
         "0.9905660377358491"
        ],
        [
         "43",
         "GRASSLEY, Charles Ernest",
         "14226",
         "29940",
         "0.08490566037735849"
        ],
        [
         "44",
         "GRASSLEY, Charles Ernest",
         "14226",
         "39310",
         "0.08867924528301886"
        ],
        [
         "45",
         "GRASSLEY, Charles Ernest",
         "14226",
         "40300",
         "0.8433962264150944"
        ],
        [
         "46",
         "GRASSLEY, Charles Ernest",
         "14226",
         "40305",
         "0.9943396226415094"
        ],
        [
         "47",
         "GRASSLEY, Charles Ernest",
         "14226",
         "40700",
         "0.13018867924528302"
        ],
        [
         "48",
         "GRASSLEY, Charles Ernest",
         "14226",
         "40704",
         "0.08113207547169811"
        ],
        [
         "49",
         "GRASSLEY, Charles Ernest",
         "14226",
         "40707",
         "0.9849056603773585"
        ]
       ],
       "shape": {
        "columns": 4,
        "rows": 206040
       }
      },
      "text/html": [
       "<div>\n",
       "<style scoped>\n",
       "    .dataframe tbody tr th:only-of-type {\n",
       "        vertical-align: middle;\n",
       "    }\n",
       "\n",
       "    .dataframe tbody tr th {\n",
       "        vertical-align: top;\n",
       "    }\n",
       "\n",
       "    .dataframe thead th {\n",
       "        text-align: right;\n",
       "    }\n",
       "</style>\n",
       "<table border=\"1\" class=\"dataframe\">\n",
       "  <thead>\n",
       "    <tr style=\"text-align: right;\">\n",
       "      <th></th>\n",
       "      <th>bioname</th>\n",
       "      <th>icpsr_x</th>\n",
       "      <th>icpsr_y</th>\n",
       "      <th>agree</th>\n",
       "    </tr>\n",
       "  </thead>\n",
       "  <tbody>\n",
       "    <tr>\n",
       "      <th>0</th>\n",
       "      <td>GRASSLEY, Charles Ernest</td>\n",
       "      <td>14226</td>\n",
       "      <td>14435</td>\n",
       "      <td>0.020755</td>\n",
       "    </tr>\n",
       "    <tr>\n",
       "      <th>1</th>\n",
       "      <td>GRASSLEY, Charles Ernest</td>\n",
       "      <td>14226</td>\n",
       "      <td>14858</td>\n",
       "      <td>0.067925</td>\n",
       "    </tr>\n",
       "    <tr>\n",
       "      <th>2</th>\n",
       "      <td>GRASSLEY, Charles Ernest</td>\n",
       "      <td>14226</td>\n",
       "      <td>14871</td>\n",
       "      <td>0.052830</td>\n",
       "    </tr>\n",
       "    <tr>\n",
       "      <th>3</th>\n",
       "      <td>GRASSLEY, Charles Ernest</td>\n",
       "      <td>14226</td>\n",
       "      <td>14921</td>\n",
       "      <td>0.883019</td>\n",
       "    </tr>\n",
       "    <tr>\n",
       "      <th>4</th>\n",
       "      <td>GRASSLEY, Charles Ernest</td>\n",
       "      <td>14226</td>\n",
       "      <td>15021</td>\n",
       "      <td>0.100000</td>\n",
       "    </tr>\n",
       "    <tr>\n",
       "      <th>...</th>\n",
       "      <td>...</td>\n",
       "      <td>...</td>\n",
       "      <td>...</td>\n",
       "      <td>...</td>\n",
       "    </tr>\n",
       "    <tr>\n",
       "      <th>206035</th>\n",
       "      <td>VAN DREW, Jefferson</td>\n",
       "      <td>91980</td>\n",
       "      <td>29911</td>\n",
       "      <td>0.320285</td>\n",
       "    </tr>\n",
       "    <tr>\n",
       "      <th>206036</th>\n",
       "      <td>VAN DREW, Jefferson</td>\n",
       "      <td>91980</td>\n",
       "      <td>31101</td>\n",
       "      <td>0.341637</td>\n",
       "    </tr>\n",
       "    <tr>\n",
       "      <th>206037</th>\n",
       "      <td>VAN DREW, Jefferson</td>\n",
       "      <td>91980</td>\n",
       "      <td>31102</td>\n",
       "      <td>0.704626</td>\n",
       "    </tr>\n",
       "    <tr>\n",
       "      <th>206038</th>\n",
       "      <td>VAN DREW, Jefferson</td>\n",
       "      <td>91980</td>\n",
       "      <td>39301</td>\n",
       "      <td>0.341637</td>\n",
       "    </tr>\n",
       "    <tr>\n",
       "      <th>206039</th>\n",
       "      <td>VAN DREW, Jefferson</td>\n",
       "      <td>91980</td>\n",
       "      <td>39307</td>\n",
       "      <td>0.330961</td>\n",
       "    </tr>\n",
       "  </tbody>\n",
       "</table>\n",
       "<p>206040 rows × 4 columns</p>\n",
       "</div>"
      ],
      "text/plain": [
       "                         bioname  icpsr_x  icpsr_y     agree\n",
       "0       GRASSLEY, Charles Ernest    14226    14435  0.020755\n",
       "1       GRASSLEY, Charles Ernest    14226    14858  0.067925\n",
       "2       GRASSLEY, Charles Ernest    14226    14871  0.052830\n",
       "3       GRASSLEY, Charles Ernest    14226    14921  0.883019\n",
       "4       GRASSLEY, Charles Ernest    14226    15021  0.100000\n",
       "...                          ...      ...      ...       ...\n",
       "206035       VAN DREW, Jefferson    91980    29911  0.320285\n",
       "206036       VAN DREW, Jefferson    91980    31101  0.341637\n",
       "206037       VAN DREW, Jefferson    91980    31102  0.704626\n",
       "206038       VAN DREW, Jefferson    91980    39301  0.341637\n",
       "206039       VAN DREW, Jefferson    91980    39307  0.330961\n",
       "\n",
       "[206040 rows x 4 columns]"
      ]
     },
     "execution_count": 98,
     "metadata": {},
     "output_type": "execute_result"
    }
   ],
   "source": [
    "vote_compare = vote_compare[['bioname', 'icpsr_x', 'icpsr_y', 'agree']]\n",
    "vote_compare"
   ]
  },
  {
   "cell_type": "code",
   "execution_count": 99,
   "metadata": {},
   "outputs": [
    {
     "data": {
      "application/vnd.microsoft.datawrangler.viewer.v0+json": {
       "columns": [
        {
         "name": "index",
         "rawType": "int64",
         "type": "integer"
        },
        {
         "name": "bioname_x",
         "rawType": "object",
         "type": "string"
        },
        {
         "name": "icpsr_x",
         "rawType": "int64",
         "type": "integer"
        },
        {
         "name": "icpsr_y",
         "rawType": "int64",
         "type": "integer"
        },
        {
         "name": "agree",
         "rawType": "float64",
         "type": "float"
        },
        {
         "name": "bioname_y",
         "rawType": "object",
         "type": "string"
        },
        {
         "name": "state_abbrev",
         "rawType": "object",
         "type": "string"
        },
        {
         "name": "district_code",
         "rawType": "int64",
         "type": "integer"
        },
        {
         "name": "icpsr",
         "rawType": "int64",
         "type": "integer"
        },
        {
         "name": "bioguide_id",
         "rawType": "object",
         "type": "string"
        },
        {
         "name": "matched",
         "rawType": "category",
         "type": "unknown"
        }
       ],
       "ref": "51069b82-8513-4212-ac77-38be45720bf5",
       "rows": [
        [
         "0",
         "GRASSLEY, Charles Ernest",
         "14226",
         "14435",
         "0.020754716981132074",
         "GRASSLEY, Charles Ernest",
         "IA",
         "0",
         "14226",
         "G000386",
         "both"
        ],
        [
         "1",
         "GRASSLEY, Charles Ernest",
         "14226",
         "14858",
         "0.06792452830188679",
         "GRASSLEY, Charles Ernest",
         "IA",
         "0",
         "14226",
         "G000386",
         "both"
        ],
        [
         "2",
         "GRASSLEY, Charles Ernest",
         "14226",
         "14871",
         "0.052830188679245285",
         "GRASSLEY, Charles Ernest",
         "IA",
         "0",
         "14226",
         "G000386",
         "both"
        ],
        [
         "3",
         "GRASSLEY, Charles Ernest",
         "14226",
         "14921",
         "0.8830188679245283",
         "GRASSLEY, Charles Ernest",
         "IA",
         "0",
         "14226",
         "G000386",
         "both"
        ],
        [
         "4",
         "GRASSLEY, Charles Ernest",
         "14226",
         "15021",
         "0.1",
         "GRASSLEY, Charles Ernest",
         "IA",
         "0",
         "14226",
         "G000386",
         "both"
        ],
        [
         "5",
         "GRASSLEY, Charles Ernest",
         "14226",
         "20101",
         "0.9754716981132076",
         "GRASSLEY, Charles Ernest",
         "IA",
         "0",
         "14226",
         "G000386",
         "both"
        ],
        [
         "6",
         "GRASSLEY, Charles Ernest",
         "14226",
         "20104",
         "0.09622641509433963",
         "GRASSLEY, Charles Ernest",
         "IA",
         "0",
         "14226",
         "G000386",
         "both"
        ],
        [
         "7",
         "GRASSLEY, Charles Ernest",
         "14226",
         "20146",
         "0.9754716981132076",
         "GRASSLEY, Charles Ernest",
         "IA",
         "0",
         "14226",
         "G000386",
         "both"
        ],
        [
         "8",
         "GRASSLEY, Charles Ernest",
         "14226",
         "20330",
         "0.033962264150943396",
         "GRASSLEY, Charles Ernest",
         "IA",
         "0",
         "14226",
         "G000386",
         "both"
        ],
        [
         "9",
         "GRASSLEY, Charles Ernest",
         "14226",
         "20351",
         "0.9358490566037736",
         "GRASSLEY, Charles Ernest",
         "IA",
         "0",
         "14226",
         "G000386",
         "both"
        ],
        [
         "10",
         "GRASSLEY, Charles Ernest",
         "14226",
         "20707",
         "0.02830188679245283",
         "GRASSLEY, Charles Ernest",
         "IA",
         "0",
         "14226",
         "G000386",
         "both"
        ],
        [
         "11",
         "GRASSLEY, Charles Ernest",
         "14226",
         "20713",
         "0.03962264150943396",
         "GRASSLEY, Charles Ernest",
         "IA",
         "0",
         "14226",
         "G000386",
         "both"
        ],
        [
         "12",
         "GRASSLEY, Charles Ernest",
         "14226",
         "20735",
         "0.11320754716981132",
         "GRASSLEY, Charles Ernest",
         "IA",
         "0",
         "14226",
         "G000386",
         "both"
        ],
        [
         "13",
         "GRASSLEY, Charles Ernest",
         "14226",
         "20750",
         "0.06037735849056604",
         "GRASSLEY, Charles Ernest",
         "IA",
         "0",
         "14226",
         "G000386",
         "both"
        ],
        [
         "14",
         "GRASSLEY, Charles Ernest",
         "14226",
         "20919",
         "0.930188679245283",
         "GRASSLEY, Charles Ernest",
         "IA",
         "0",
         "14226",
         "G000386",
         "both"
        ],
        [
         "15",
         "GRASSLEY, Charles Ernest",
         "14226",
         "20923",
         "0.12641509433962264",
         "GRASSLEY, Charles Ernest",
         "IA",
         "0",
         "14226",
         "G000386",
         "both"
        ],
        [
         "16",
         "GRASSLEY, Charles Ernest",
         "14226",
         "20930",
         "0.12264150943396226",
         "GRASSLEY, Charles Ernest",
         "IA",
         "0",
         "14226",
         "G000386",
         "both"
        ],
        [
         "17",
         "GRASSLEY, Charles Ernest",
         "14226",
         "20932",
         "0.09056603773584905",
         "GRASSLEY, Charles Ernest",
         "IA",
         "0",
         "14226",
         "G000386",
         "both"
        ],
        [
         "18",
         "GRASSLEY, Charles Ernest",
         "14226",
         "20953",
         "0.9415094339622642",
         "GRASSLEY, Charles Ernest",
         "IA",
         "0",
         "14226",
         "G000386",
         "both"
        ],
        [
         "19",
         "GRASSLEY, Charles Ernest",
         "14226",
         "21133",
         "0.9830188679245283",
         "GRASSLEY, Charles Ernest",
         "IA",
         "0",
         "14226",
         "G000386",
         "both"
        ],
        [
         "20",
         "GRASSLEY, Charles Ernest",
         "14226",
         "21166",
         "0.9905660377358491",
         "GRASSLEY, Charles Ernest",
         "IA",
         "0",
         "14226",
         "G000386",
         "both"
        ],
        [
         "21",
         "GRASSLEY, Charles Ernest",
         "14226",
         "21173",
         "0.9622641509433962",
         "GRASSLEY, Charles Ernest",
         "IA",
         "0",
         "14226",
         "G000386",
         "both"
        ],
        [
         "22",
         "GRASSLEY, Charles Ernest",
         "14226",
         "21301",
         "0.9792452830188679",
         "GRASSLEY, Charles Ernest",
         "IA",
         "0",
         "14226",
         "G000386",
         "both"
        ],
        [
         "23",
         "GRASSLEY, Charles Ernest",
         "14226",
         "21325",
         "0.06037735849056604",
         "GRASSLEY, Charles Ernest",
         "IA",
         "0",
         "14226",
         "G000386",
         "both"
        ],
        [
         "24",
         "GRASSLEY, Charles Ernest",
         "14226",
         "21338",
         "0.9716981132075472",
         "GRASSLEY, Charles Ernest",
         "IA",
         "0",
         "14226",
         "G000386",
         "both"
        ],
        [
         "25",
         "GRASSLEY, Charles Ernest",
         "14226",
         "21350",
         "0.9584905660377359",
         "GRASSLEY, Charles Ernest",
         "IA",
         "0",
         "14226",
         "G000386",
         "both"
        ],
        [
         "26",
         "GRASSLEY, Charles Ernest",
         "14226",
         "21355",
         "0.9264150943396227",
         "GRASSLEY, Charles Ernest",
         "IA",
         "0",
         "14226",
         "G000386",
         "both"
        ],
        [
         "27",
         "GRASSLEY, Charles Ernest",
         "14226",
         "21502",
         "0.14339622641509434",
         "GRASSLEY, Charles Ernest",
         "IA",
         "0",
         "14226",
         "G000386",
         "both"
        ],
        [
         "28",
         "GRASSLEY, Charles Ernest",
         "14226",
         "21702",
         "0.9716981132075472",
         "GRASSLEY, Charles Ernest",
         "IA",
         "0",
         "14226",
         "G000386",
         "both"
        ],
        [
         "29",
         "GRASSLEY, Charles Ernest",
         "14226",
         "21706",
         "0.05471698113207547",
         "GRASSLEY, Charles Ernest",
         "IA",
         "0",
         "14226",
         "G000386",
         "both"
        ],
        [
         "30",
         "GRASSLEY, Charles Ernest",
         "14226",
         "21708",
         "0.9433962264150944",
         "GRASSLEY, Charles Ernest",
         "IA",
         "0",
         "14226",
         "G000386",
         "both"
        ],
        [
         "31",
         "GRASSLEY, Charles Ernest",
         "14226",
         "21734",
         "0.9849056603773585",
         "GRASSLEY, Charles Ernest",
         "IA",
         "0",
         "14226",
         "G000386",
         "both"
        ],
        [
         "32",
         "GRASSLEY, Charles Ernest",
         "14226",
         "21743",
         "0.18490566037735848",
         "GRASSLEY, Charles Ernest",
         "IA",
         "0",
         "14226",
         "G000386",
         "both"
        ],
        [
         "33",
         "GRASSLEY, Charles Ernest",
         "14226",
         "21755",
         "0.9754716981132076",
         "GRASSLEY, Charles Ernest",
         "IA",
         "0",
         "14226",
         "G000386",
         "both"
        ],
        [
         "34",
         "GRASSLEY, Charles Ernest",
         "14226",
         "21937",
         "0.1018867924528302",
         "GRASSLEY, Charles Ernest",
         "IA",
         "0",
         "14226",
         "G000386",
         "both"
        ],
        [
         "35",
         "GRASSLEY, Charles Ernest",
         "14226",
         "21965",
         "0.1641509433962264",
         "GRASSLEY, Charles Ernest",
         "IA",
         "0",
         "14226",
         "G000386",
         "both"
        ],
        [
         "36",
         "GRASSLEY, Charles Ernest",
         "14226",
         "29142",
         "0.1169811320754717",
         "GRASSLEY, Charles Ernest",
         "IA",
         "0",
         "14226",
         "G000386",
         "both"
        ],
        [
         "37",
         "GRASSLEY, Charles Ernest",
         "14226",
         "29147",
         "0.026415094339622643",
         "GRASSLEY, Charles Ernest",
         "IA",
         "0",
         "14226",
         "G000386",
         "both"
        ],
        [
         "38",
         "GRASSLEY, Charles Ernest",
         "14226",
         "29345",
         "0.9867924528301887",
         "GRASSLEY, Charles Ernest",
         "IA",
         "0",
         "14226",
         "G000386",
         "both"
        ],
        [
         "39",
         "GRASSLEY, Charles Ernest",
         "14226",
         "29534",
         "0.9566037735849057",
         "GRASSLEY, Charles Ernest",
         "IA",
         "0",
         "14226",
         "G000386",
         "both"
        ],
        [
         "40",
         "GRASSLEY, Charles Ernest",
         "14226",
         "29566",
         "0.9226415094339623",
         "GRASSLEY, Charles Ernest",
         "IA",
         "0",
         "14226",
         "G000386",
         "both"
        ],
        [
         "41",
         "GRASSLEY, Charles Ernest",
         "14226",
         "29722",
         "0.9490566037735849",
         "GRASSLEY, Charles Ernest",
         "IA",
         "0",
         "14226",
         "G000386",
         "both"
        ],
        [
         "42",
         "GRASSLEY, Charles Ernest",
         "14226",
         "29754",
         "0.9905660377358491",
         "GRASSLEY, Charles Ernest",
         "IA",
         "0",
         "14226",
         "G000386",
         "both"
        ],
        [
         "43",
         "GRASSLEY, Charles Ernest",
         "14226",
         "29940",
         "0.08490566037735849",
         "GRASSLEY, Charles Ernest",
         "IA",
         "0",
         "14226",
         "G000386",
         "both"
        ],
        [
         "44",
         "GRASSLEY, Charles Ernest",
         "14226",
         "39310",
         "0.08867924528301886",
         "GRASSLEY, Charles Ernest",
         "IA",
         "0",
         "14226",
         "G000386",
         "both"
        ],
        [
         "45",
         "GRASSLEY, Charles Ernest",
         "14226",
         "40300",
         "0.8433962264150944",
         "GRASSLEY, Charles Ernest",
         "IA",
         "0",
         "14226",
         "G000386",
         "both"
        ],
        [
         "46",
         "GRASSLEY, Charles Ernest",
         "14226",
         "40305",
         "0.9943396226415094",
         "GRASSLEY, Charles Ernest",
         "IA",
         "0",
         "14226",
         "G000386",
         "both"
        ],
        [
         "47",
         "GRASSLEY, Charles Ernest",
         "14226",
         "40700",
         "0.13018867924528302",
         "GRASSLEY, Charles Ernest",
         "IA",
         "0",
         "14226",
         "G000386",
         "both"
        ],
        [
         "48",
         "GRASSLEY, Charles Ernest",
         "14226",
         "40704",
         "0.08113207547169811",
         "GRASSLEY, Charles Ernest",
         "IA",
         "0",
         "14226",
         "G000386",
         "both"
        ],
        [
         "49",
         "GRASSLEY, Charles Ernest",
         "14226",
         "40707",
         "0.9849056603773585",
         "GRASSLEY, Charles Ernest",
         "IA",
         "0",
         "14226",
         "G000386",
         "both"
        ]
       ],
       "shape": {
        "columns": 10,
        "rows": 206040
       }
      },
      "text/html": [
       "<div>\n",
       "<style scoped>\n",
       "    .dataframe tbody tr th:only-of-type {\n",
       "        vertical-align: middle;\n",
       "    }\n",
       "\n",
       "    .dataframe tbody tr th {\n",
       "        vertical-align: top;\n",
       "    }\n",
       "\n",
       "    .dataframe thead th {\n",
       "        text-align: right;\n",
       "    }\n",
       "</style>\n",
       "<table border=\"1\" class=\"dataframe\">\n",
       "  <thead>\n",
       "    <tr style=\"text-align: right;\">\n",
       "      <th></th>\n",
       "      <th>bioname_x</th>\n",
       "      <th>icpsr_x</th>\n",
       "      <th>icpsr_y</th>\n",
       "      <th>agree</th>\n",
       "      <th>bioname_y</th>\n",
       "      <th>state_abbrev</th>\n",
       "      <th>district_code</th>\n",
       "      <th>icpsr</th>\n",
       "      <th>bioguide_id</th>\n",
       "      <th>matched</th>\n",
       "    </tr>\n",
       "  </thead>\n",
       "  <tbody>\n",
       "    <tr>\n",
       "      <th>0</th>\n",
       "      <td>GRASSLEY, Charles Ernest</td>\n",
       "      <td>14226</td>\n",
       "      <td>14435</td>\n",
       "      <td>0.020755</td>\n",
       "      <td>GRASSLEY, Charles Ernest</td>\n",
       "      <td>IA</td>\n",
       "      <td>0</td>\n",
       "      <td>14226</td>\n",
       "      <td>G000386</td>\n",
       "      <td>both</td>\n",
       "    </tr>\n",
       "    <tr>\n",
       "      <th>1</th>\n",
       "      <td>GRASSLEY, Charles Ernest</td>\n",
       "      <td>14226</td>\n",
       "      <td>14858</td>\n",
       "      <td>0.067925</td>\n",
       "      <td>GRASSLEY, Charles Ernest</td>\n",
       "      <td>IA</td>\n",
       "      <td>0</td>\n",
       "      <td>14226</td>\n",
       "      <td>G000386</td>\n",
       "      <td>both</td>\n",
       "    </tr>\n",
       "    <tr>\n",
       "      <th>2</th>\n",
       "      <td>GRASSLEY, Charles Ernest</td>\n",
       "      <td>14226</td>\n",
       "      <td>14871</td>\n",
       "      <td>0.052830</td>\n",
       "      <td>GRASSLEY, Charles Ernest</td>\n",
       "      <td>IA</td>\n",
       "      <td>0</td>\n",
       "      <td>14226</td>\n",
       "      <td>G000386</td>\n",
       "      <td>both</td>\n",
       "    </tr>\n",
       "    <tr>\n",
       "      <th>3</th>\n",
       "      <td>GRASSLEY, Charles Ernest</td>\n",
       "      <td>14226</td>\n",
       "      <td>14921</td>\n",
       "      <td>0.883019</td>\n",
       "      <td>GRASSLEY, Charles Ernest</td>\n",
       "      <td>IA</td>\n",
       "      <td>0</td>\n",
       "      <td>14226</td>\n",
       "      <td>G000386</td>\n",
       "      <td>both</td>\n",
       "    </tr>\n",
       "    <tr>\n",
       "      <th>4</th>\n",
       "      <td>GRASSLEY, Charles Ernest</td>\n",
       "      <td>14226</td>\n",
       "      <td>15021</td>\n",
       "      <td>0.100000</td>\n",
       "      <td>GRASSLEY, Charles Ernest</td>\n",
       "      <td>IA</td>\n",
       "      <td>0</td>\n",
       "      <td>14226</td>\n",
       "      <td>G000386</td>\n",
       "      <td>both</td>\n",
       "    </tr>\n",
       "    <tr>\n",
       "      <th>...</th>\n",
       "      <td>...</td>\n",
       "      <td>...</td>\n",
       "      <td>...</td>\n",
       "      <td>...</td>\n",
       "      <td>...</td>\n",
       "      <td>...</td>\n",
       "      <td>...</td>\n",
       "      <td>...</td>\n",
       "      <td>...</td>\n",
       "      <td>...</td>\n",
       "    </tr>\n",
       "    <tr>\n",
       "      <th>206035</th>\n",
       "      <td>VAN DREW, Jefferson</td>\n",
       "      <td>91980</td>\n",
       "      <td>29911</td>\n",
       "      <td>0.320285</td>\n",
       "      <td>VAN DREW, Jefferson</td>\n",
       "      <td>NJ</td>\n",
       "      <td>2</td>\n",
       "      <td>91980</td>\n",
       "      <td>V000133</td>\n",
       "      <td>both</td>\n",
       "    </tr>\n",
       "    <tr>\n",
       "      <th>206036</th>\n",
       "      <td>VAN DREW, Jefferson</td>\n",
       "      <td>91980</td>\n",
       "      <td>31101</td>\n",
       "      <td>0.341637</td>\n",
       "      <td>VAN DREW, Jefferson</td>\n",
       "      <td>NJ</td>\n",
       "      <td>2</td>\n",
       "      <td>91980</td>\n",
       "      <td>V000133</td>\n",
       "      <td>both</td>\n",
       "    </tr>\n",
       "    <tr>\n",
       "      <th>206037</th>\n",
       "      <td>VAN DREW, Jefferson</td>\n",
       "      <td>91980</td>\n",
       "      <td>31102</td>\n",
       "      <td>0.704626</td>\n",
       "      <td>VAN DREW, Jefferson</td>\n",
       "      <td>NJ</td>\n",
       "      <td>2</td>\n",
       "      <td>91980</td>\n",
       "      <td>V000133</td>\n",
       "      <td>both</td>\n",
       "    </tr>\n",
       "    <tr>\n",
       "      <th>206038</th>\n",
       "      <td>VAN DREW, Jefferson</td>\n",
       "      <td>91980</td>\n",
       "      <td>39301</td>\n",
       "      <td>0.341637</td>\n",
       "      <td>VAN DREW, Jefferson</td>\n",
       "      <td>NJ</td>\n",
       "      <td>2</td>\n",
       "      <td>91980</td>\n",
       "      <td>V000133</td>\n",
       "      <td>both</td>\n",
       "    </tr>\n",
       "    <tr>\n",
       "      <th>206039</th>\n",
       "      <td>VAN DREW, Jefferson</td>\n",
       "      <td>91980</td>\n",
       "      <td>39307</td>\n",
       "      <td>0.330961</td>\n",
       "      <td>VAN DREW, Jefferson</td>\n",
       "      <td>NJ</td>\n",
       "      <td>2</td>\n",
       "      <td>91980</td>\n",
       "      <td>V000133</td>\n",
       "      <td>both</td>\n",
       "    </tr>\n",
       "  </tbody>\n",
       "</table>\n",
       "<p>206040 rows × 10 columns</p>\n",
       "</div>"
      ],
      "text/plain": [
       "                       bioname_x  icpsr_x  icpsr_y     agree  \\\n",
       "0       GRASSLEY, Charles Ernest    14226    14435  0.020755   \n",
       "1       GRASSLEY, Charles Ernest    14226    14858  0.067925   \n",
       "2       GRASSLEY, Charles Ernest    14226    14871  0.052830   \n",
       "3       GRASSLEY, Charles Ernest    14226    14921  0.883019   \n",
       "4       GRASSLEY, Charles Ernest    14226    15021  0.100000   \n",
       "...                          ...      ...      ...       ...   \n",
       "206035       VAN DREW, Jefferson    91980    29911  0.320285   \n",
       "206036       VAN DREW, Jefferson    91980    31101  0.341637   \n",
       "206037       VAN DREW, Jefferson    91980    31102  0.704626   \n",
       "206038       VAN DREW, Jefferson    91980    39301  0.341637   \n",
       "206039       VAN DREW, Jefferson    91980    39307  0.330961   \n",
       "\n",
       "                       bioname_y state_abbrev  district_code  icpsr  \\\n",
       "0       GRASSLEY, Charles Ernest           IA              0  14226   \n",
       "1       GRASSLEY, Charles Ernest           IA              0  14226   \n",
       "2       GRASSLEY, Charles Ernest           IA              0  14226   \n",
       "3       GRASSLEY, Charles Ernest           IA              0  14226   \n",
       "4       GRASSLEY, Charles Ernest           IA              0  14226   \n",
       "...                          ...          ...            ...    ...   \n",
       "206035       VAN DREW, Jefferson           NJ              2  91980   \n",
       "206036       VAN DREW, Jefferson           NJ              2  91980   \n",
       "206037       VAN DREW, Jefferson           NJ              2  91980   \n",
       "206038       VAN DREW, Jefferson           NJ              2  91980   \n",
       "206039       VAN DREW, Jefferson           NJ              2  91980   \n",
       "\n",
       "       bioguide_id matched  \n",
       "0          G000386    both  \n",
       "1          G000386    both  \n",
       "2          G000386    both  \n",
       "3          G000386    both  \n",
       "4          G000386    both  \n",
       "...            ...     ...  \n",
       "206035     V000133    both  \n",
       "206036     V000133    both  \n",
       "206037     V000133    both  \n",
       "206038     V000133    both  \n",
       "206039     V000133    both  \n",
       "\n",
       "[206040 rows x 10 columns]"
      ]
     },
     "execution_count": 99,
     "metadata": {},
     "output_type": "execute_result"
    }
   ],
   "source": [
    "vote_compare = pd.merge(vote_compare, crosswalk,\n",
    "         left_on= 'icpsr_x',\n",
    "         right_on = 'icpsr',\n",
    "         how = 'outer',\n",
    "         indicator = 'matched',\n",
    "         validate = 'many_to_one')    \n",
    "\n",
    "vote_compare"
   ]
  },
  {
   "cell_type": "code",
   "execution_count": 100,
   "metadata": {},
   "outputs": [
    {
     "data": {
      "application/vnd.microsoft.datawrangler.viewer.v0+json": {
       "columns": [
        {
         "name": "index",
         "rawType": "int64",
         "type": "integer"
        },
        {
         "name": "bioname",
         "rawType": "object",
         "type": "string"
        },
        {
         "name": "comparison_member",
         "rawType": "object",
         "type": "string"
        },
        {
         "name": "agree",
         "rawType": "float64",
         "type": "float"
        }
       ],
       "ref": "9d6d2981-5073-405e-a738-f1792d394100",
       "rows": [
        [
         "0",
         "GRASSLEY, Charles Ernest",
         "GRASSLEY, Charles Ernest",
         "0.020754716981132074"
        ],
        [
         "1",
         "GRASSLEY, Charles Ernest",
         "GRASSLEY, Charles Ernest",
         "0.06792452830188679"
        ],
        [
         "2",
         "GRASSLEY, Charles Ernest",
         "GRASSLEY, Charles Ernest",
         "0.052830188679245285"
        ],
        [
         "3",
         "GRASSLEY, Charles Ernest",
         "GRASSLEY, Charles Ernest",
         "0.8830188679245283"
        ],
        [
         "4",
         "GRASSLEY, Charles Ernest",
         "GRASSLEY, Charles Ernest",
         "0.1"
        ],
        [
         "5",
         "GRASSLEY, Charles Ernest",
         "GRASSLEY, Charles Ernest",
         "0.9754716981132076"
        ],
        [
         "6",
         "GRASSLEY, Charles Ernest",
         "GRASSLEY, Charles Ernest",
         "0.09622641509433963"
        ],
        [
         "7",
         "GRASSLEY, Charles Ernest",
         "GRASSLEY, Charles Ernest",
         "0.9754716981132076"
        ],
        [
         "8",
         "GRASSLEY, Charles Ernest",
         "GRASSLEY, Charles Ernest",
         "0.033962264150943396"
        ],
        [
         "9",
         "GRASSLEY, Charles Ernest",
         "GRASSLEY, Charles Ernest",
         "0.9358490566037736"
        ],
        [
         "10",
         "GRASSLEY, Charles Ernest",
         "GRASSLEY, Charles Ernest",
         "0.02830188679245283"
        ],
        [
         "11",
         "GRASSLEY, Charles Ernest",
         "GRASSLEY, Charles Ernest",
         "0.03962264150943396"
        ],
        [
         "12",
         "GRASSLEY, Charles Ernest",
         "GRASSLEY, Charles Ernest",
         "0.11320754716981132"
        ],
        [
         "13",
         "GRASSLEY, Charles Ernest",
         "GRASSLEY, Charles Ernest",
         "0.06037735849056604"
        ],
        [
         "14",
         "GRASSLEY, Charles Ernest",
         "GRASSLEY, Charles Ernest",
         "0.930188679245283"
        ],
        [
         "15",
         "GRASSLEY, Charles Ernest",
         "GRASSLEY, Charles Ernest",
         "0.12641509433962264"
        ],
        [
         "16",
         "GRASSLEY, Charles Ernest",
         "GRASSLEY, Charles Ernest",
         "0.12264150943396226"
        ],
        [
         "17",
         "GRASSLEY, Charles Ernest",
         "GRASSLEY, Charles Ernest",
         "0.09056603773584905"
        ],
        [
         "18",
         "GRASSLEY, Charles Ernest",
         "GRASSLEY, Charles Ernest",
         "0.9415094339622642"
        ],
        [
         "19",
         "GRASSLEY, Charles Ernest",
         "GRASSLEY, Charles Ernest",
         "0.9830188679245283"
        ],
        [
         "20",
         "GRASSLEY, Charles Ernest",
         "GRASSLEY, Charles Ernest",
         "0.9905660377358491"
        ],
        [
         "21",
         "GRASSLEY, Charles Ernest",
         "GRASSLEY, Charles Ernest",
         "0.9622641509433962"
        ],
        [
         "22",
         "GRASSLEY, Charles Ernest",
         "GRASSLEY, Charles Ernest",
         "0.9792452830188679"
        ],
        [
         "23",
         "GRASSLEY, Charles Ernest",
         "GRASSLEY, Charles Ernest",
         "0.06037735849056604"
        ],
        [
         "24",
         "GRASSLEY, Charles Ernest",
         "GRASSLEY, Charles Ernest",
         "0.9716981132075472"
        ],
        [
         "25",
         "GRASSLEY, Charles Ernest",
         "GRASSLEY, Charles Ernest",
         "0.9584905660377359"
        ],
        [
         "26",
         "GRASSLEY, Charles Ernest",
         "GRASSLEY, Charles Ernest",
         "0.9264150943396227"
        ],
        [
         "27",
         "GRASSLEY, Charles Ernest",
         "GRASSLEY, Charles Ernest",
         "0.14339622641509434"
        ],
        [
         "28",
         "GRASSLEY, Charles Ernest",
         "GRASSLEY, Charles Ernest",
         "0.9716981132075472"
        ],
        [
         "29",
         "GRASSLEY, Charles Ernest",
         "GRASSLEY, Charles Ernest",
         "0.05471698113207547"
        ],
        [
         "30",
         "GRASSLEY, Charles Ernest",
         "GRASSLEY, Charles Ernest",
         "0.9433962264150944"
        ],
        [
         "31",
         "GRASSLEY, Charles Ernest",
         "GRASSLEY, Charles Ernest",
         "0.9849056603773585"
        ],
        [
         "32",
         "GRASSLEY, Charles Ernest",
         "GRASSLEY, Charles Ernest",
         "0.18490566037735848"
        ],
        [
         "33",
         "GRASSLEY, Charles Ernest",
         "GRASSLEY, Charles Ernest",
         "0.9754716981132076"
        ],
        [
         "34",
         "GRASSLEY, Charles Ernest",
         "GRASSLEY, Charles Ernest",
         "0.1018867924528302"
        ],
        [
         "35",
         "GRASSLEY, Charles Ernest",
         "GRASSLEY, Charles Ernest",
         "0.1641509433962264"
        ],
        [
         "36",
         "GRASSLEY, Charles Ernest",
         "GRASSLEY, Charles Ernest",
         "0.1169811320754717"
        ],
        [
         "37",
         "GRASSLEY, Charles Ernest",
         "GRASSLEY, Charles Ernest",
         "0.026415094339622643"
        ],
        [
         "38",
         "GRASSLEY, Charles Ernest",
         "GRASSLEY, Charles Ernest",
         "0.9867924528301887"
        ],
        [
         "39",
         "GRASSLEY, Charles Ernest",
         "GRASSLEY, Charles Ernest",
         "0.9566037735849057"
        ],
        [
         "40",
         "GRASSLEY, Charles Ernest",
         "GRASSLEY, Charles Ernest",
         "0.9226415094339623"
        ],
        [
         "41",
         "GRASSLEY, Charles Ernest",
         "GRASSLEY, Charles Ernest",
         "0.9490566037735849"
        ],
        [
         "42",
         "GRASSLEY, Charles Ernest",
         "GRASSLEY, Charles Ernest",
         "0.9905660377358491"
        ],
        [
         "43",
         "GRASSLEY, Charles Ernest",
         "GRASSLEY, Charles Ernest",
         "0.08490566037735849"
        ],
        [
         "44",
         "GRASSLEY, Charles Ernest",
         "GRASSLEY, Charles Ernest",
         "0.08867924528301886"
        ],
        [
         "45",
         "GRASSLEY, Charles Ernest",
         "GRASSLEY, Charles Ernest",
         "0.8433962264150944"
        ],
        [
         "46",
         "GRASSLEY, Charles Ernest",
         "GRASSLEY, Charles Ernest",
         "0.9943396226415094"
        ],
        [
         "47",
         "GRASSLEY, Charles Ernest",
         "GRASSLEY, Charles Ernest",
         "0.13018867924528302"
        ],
        [
         "48",
         "GRASSLEY, Charles Ernest",
         "GRASSLEY, Charles Ernest",
         "0.08113207547169811"
        ],
        [
         "49",
         "GRASSLEY, Charles Ernest",
         "GRASSLEY, Charles Ernest",
         "0.9849056603773585"
        ]
       ],
       "shape": {
        "columns": 3,
        "rows": 206040
       }
      },
      "text/html": [
       "<div>\n",
       "<style scoped>\n",
       "    .dataframe tbody tr th:only-of-type {\n",
       "        vertical-align: middle;\n",
       "    }\n",
       "\n",
       "    .dataframe tbody tr th {\n",
       "        vertical-align: top;\n",
       "    }\n",
       "\n",
       "    .dataframe thead th {\n",
       "        text-align: right;\n",
       "    }\n",
       "</style>\n",
       "<table border=\"1\" class=\"dataframe\">\n",
       "  <thead>\n",
       "    <tr style=\"text-align: right;\">\n",
       "      <th></th>\n",
       "      <th>bioname</th>\n",
       "      <th>comparison_member</th>\n",
       "      <th>agree</th>\n",
       "    </tr>\n",
       "  </thead>\n",
       "  <tbody>\n",
       "    <tr>\n",
       "      <th>0</th>\n",
       "      <td>GRASSLEY, Charles Ernest</td>\n",
       "      <td>GRASSLEY, Charles Ernest</td>\n",
       "      <td>0.020755</td>\n",
       "    </tr>\n",
       "    <tr>\n",
       "      <th>1</th>\n",
       "      <td>GRASSLEY, Charles Ernest</td>\n",
       "      <td>GRASSLEY, Charles Ernest</td>\n",
       "      <td>0.067925</td>\n",
       "    </tr>\n",
       "    <tr>\n",
       "      <th>2</th>\n",
       "      <td>GRASSLEY, Charles Ernest</td>\n",
       "      <td>GRASSLEY, Charles Ernest</td>\n",
       "      <td>0.052830</td>\n",
       "    </tr>\n",
       "    <tr>\n",
       "      <th>3</th>\n",
       "      <td>GRASSLEY, Charles Ernest</td>\n",
       "      <td>GRASSLEY, Charles Ernest</td>\n",
       "      <td>0.883019</td>\n",
       "    </tr>\n",
       "    <tr>\n",
       "      <th>4</th>\n",
       "      <td>GRASSLEY, Charles Ernest</td>\n",
       "      <td>GRASSLEY, Charles Ernest</td>\n",
       "      <td>0.100000</td>\n",
       "    </tr>\n",
       "    <tr>\n",
       "      <th>...</th>\n",
       "      <td>...</td>\n",
       "      <td>...</td>\n",
       "      <td>...</td>\n",
       "    </tr>\n",
       "    <tr>\n",
       "      <th>206035</th>\n",
       "      <td>VAN DREW, Jefferson</td>\n",
       "      <td>VAN DREW, Jefferson</td>\n",
       "      <td>0.320285</td>\n",
       "    </tr>\n",
       "    <tr>\n",
       "      <th>206036</th>\n",
       "      <td>VAN DREW, Jefferson</td>\n",
       "      <td>VAN DREW, Jefferson</td>\n",
       "      <td>0.341637</td>\n",
       "    </tr>\n",
       "    <tr>\n",
       "      <th>206037</th>\n",
       "      <td>VAN DREW, Jefferson</td>\n",
       "      <td>VAN DREW, Jefferson</td>\n",
       "      <td>0.704626</td>\n",
       "    </tr>\n",
       "    <tr>\n",
       "      <th>206038</th>\n",
       "      <td>VAN DREW, Jefferson</td>\n",
       "      <td>VAN DREW, Jefferson</td>\n",
       "      <td>0.341637</td>\n",
       "    </tr>\n",
       "    <tr>\n",
       "      <th>206039</th>\n",
       "      <td>VAN DREW, Jefferson</td>\n",
       "      <td>VAN DREW, Jefferson</td>\n",
       "      <td>0.330961</td>\n",
       "    </tr>\n",
       "  </tbody>\n",
       "</table>\n",
       "<p>206040 rows × 3 columns</p>\n",
       "</div>"
      ],
      "text/plain": [
       "                         bioname         comparison_member     agree\n",
       "0       GRASSLEY, Charles Ernest  GRASSLEY, Charles Ernest  0.020755\n",
       "1       GRASSLEY, Charles Ernest  GRASSLEY, Charles Ernest  0.067925\n",
       "2       GRASSLEY, Charles Ernest  GRASSLEY, Charles Ernest  0.052830\n",
       "3       GRASSLEY, Charles Ernest  GRASSLEY, Charles Ernest  0.883019\n",
       "4       GRASSLEY, Charles Ernest  GRASSLEY, Charles Ernest  0.100000\n",
       "...                          ...                       ...       ...\n",
       "206035       VAN DREW, Jefferson       VAN DREW, Jefferson  0.320285\n",
       "206036       VAN DREW, Jefferson       VAN DREW, Jefferson  0.341637\n",
       "206037       VAN DREW, Jefferson       VAN DREW, Jefferson  0.704626\n",
       "206038       VAN DREW, Jefferson       VAN DREW, Jefferson  0.341637\n",
       "206039       VAN DREW, Jefferson       VAN DREW, Jefferson  0.330961\n",
       "\n",
       "[206040 rows x 3 columns]"
      ]
     },
     "execution_count": 100,
     "metadata": {},
     "output_type": "execute_result"
    }
   ],
   "source": [
    "vote_compare = vote_compare[['bioname_x', 'bioname_y', 'agree']]\n",
    "vote_compare = vote_compare.rename({'bioname_x': 'bioname',\n",
    "                                   'bioname_y': 'comparison_member'}, axis=1)\n",
    "vote_compare"
   ]
  },
  {
   "cell_type": "code",
   "execution_count": 102,
   "metadata": {},
   "outputs": [
    {
     "data": {
      "application/vnd.microsoft.datawrangler.viewer.v0+json": {
       "columns": [
        {
         "name": "index",
         "rawType": "int64",
         "type": "integer"
        },
        {
         "name": "bioname",
         "rawType": "object",
         "type": "string"
        },
        {
         "name": "comparison_member",
         "rawType": "object",
         "type": "string"
        },
        {
         "name": "agree",
         "rawType": "float64",
         "type": "float"
        }
       ],
       "ref": "c31d48a6-519a-4f54-b5ec-f6d6afe5f5c7",
       "rows": [
        [
         "175793",
         "MCGUIRE, John J., III",
         "MCGUIRE, John J., III",
         "0.9736842105263158"
        ],
        [
         "175922",
         "MCGUIRE, John J., III",
         "MCGUIRE, John J., III",
         "0.9537366548042705"
        ],
        [
         "175817",
         "MCGUIRE, John J., III",
         "MCGUIRE, John J., III",
         "0.9501779359430605"
        ],
        [
         "175871",
         "MCGUIRE, John J., III",
         "MCGUIRE, John J., III",
         "0.9501779359430605"
        ],
        [
         "176002",
         "MCGUIRE, John J., III",
         "MCGUIRE, John J., III",
         "0.9501779359430605"
        ],
        [
         "175998",
         "MCGUIRE, John J., III",
         "MCGUIRE, John J., III",
         "0.9466192170818505"
        ],
        [
         "175992",
         "MCGUIRE, John J., III",
         "MCGUIRE, John J., III",
         "0.9466192170818505"
        ],
        [
         "175825",
         "MCGUIRE, John J., III",
         "MCGUIRE, John J., III",
         "0.9466192170818505"
        ],
        [
         "175836",
         "MCGUIRE, John J., III",
         "MCGUIRE, John J., III",
         "0.9430604982206405"
        ],
        [
         "176018",
         "MCGUIRE, John J., III",
         "MCGUIRE, John J., III",
         "0.9395017793594306"
        ],
        [
         "175941",
         "MCGUIRE, John J., III",
         "MCGUIRE, John J., III",
         "0.9395017793594306"
        ],
        [
         "175808",
         "MCGUIRE, John J., III",
         "MCGUIRE, John J., III",
         "0.9359430604982206"
        ],
        [
         "175872",
         "MCGUIRE, John J., III",
         "MCGUIRE, John J., III",
         "0.9323843416370107"
        ],
        [
         "175928",
         "MCGUIRE, John J., III",
         "MCGUIRE, John J., III",
         "0.9323843416370107"
        ],
        [
         "175891",
         "MCGUIRE, John J., III",
         "MCGUIRE, John J., III",
         "0.9323843416370107"
        ],
        [
         "175938",
         "MCGUIRE, John J., III",
         "MCGUIRE, John J., III",
         "0.9288256227758007"
        ],
        [
         "175907",
         "MCGUIRE, John J., III",
         "MCGUIRE, John J., III",
         "0.9288256227758007"
        ],
        [
         "176012",
         "MCGUIRE, John J., III",
         "MCGUIRE, John J., III",
         "0.9288256227758007"
        ],
        [
         "175791",
         "MCGUIRE, John J., III",
         "MCGUIRE, John J., III",
         "0.9252669039145908"
        ],
        [
         "175810",
         "MCGUIRE, John J., III",
         "MCGUIRE, John J., III",
         "0.9252669039145908"
        ],
        [
         "175883",
         "MCGUIRE, John J., III",
         "MCGUIRE, John J., III",
         "0.9217081850533808"
        ],
        [
         "175961",
         "MCGUIRE, John J., III",
         "MCGUIRE, John J., III",
         "0.9217081850533808"
        ],
        [
         "176010",
         "MCGUIRE, John J., III",
         "MCGUIRE, John J., III",
         "0.9217081850533808"
        ],
        [
         "175965",
         "MCGUIRE, John J., III",
         "MCGUIRE, John J., III",
         "0.9217081850533808"
        ],
        [
         "176004",
         "MCGUIRE, John J., III",
         "MCGUIRE, John J., III",
         "0.9217081850533808"
        ],
        [
         "175757",
         "MCGUIRE, John J., III",
         "MCGUIRE, John J., III",
         "0.9181494661921709"
        ],
        [
         "175863",
         "MCGUIRE, John J., III",
         "MCGUIRE, John J., III",
         "0.9181494661921709"
        ],
        [
         "175857",
         "MCGUIRE, John J., III",
         "MCGUIRE, John J., III",
         "0.9181494661921709"
        ],
        [
         "175855",
         "MCGUIRE, John J., III",
         "MCGUIRE, John J., III",
         "0.9181494661921709"
        ],
        [
         "175847",
         "MCGUIRE, John J., III",
         "MCGUIRE, John J., III",
         "0.9181494661921709"
        ],
        [
         "175769",
         "MCGUIRE, John J., III",
         "MCGUIRE, John J., III",
         "0.9181494661921709"
        ],
        [
         "176020",
         "MCGUIRE, John J., III",
         "MCGUIRE, John J., III",
         "0.9181494661921709"
        ],
        [
         "176022",
         "MCGUIRE, John J., III",
         "MCGUIRE, John J., III",
         "0.9181494661921709"
        ],
        [
         "175893",
         "MCGUIRE, John J., III",
         "MCGUIRE, John J., III",
         "0.9145907473309609"
        ],
        [
         "175876",
         "MCGUIRE, John J., III",
         "MCGUIRE, John J., III",
         "0.9145907473309609"
        ],
        [
         "176023",
         "MCGUIRE, John J., III",
         "MCGUIRE, John J., III",
         "0.9145907473309609"
        ],
        [
         "175919",
         "MCGUIRE, John J., III",
         "MCGUIRE, John J., III",
         "0.9145907473309609"
        ],
        [
         "175669",
         "MCGUIRE, John J., III",
         "MCGUIRE, John J., III",
         "0.9145907473309609"
        ],
        [
         "175701",
         "MCGUIRE, John J., III",
         "MCGUIRE, John J., III",
         "0.9145907473309609"
        ],
        [
         "175805",
         "MCGUIRE, John J., III",
         "MCGUIRE, John J., III",
         "0.9110320284697508"
        ],
        [
         "176043",
         "MCGUIRE, John J., III",
         "MCGUIRE, John J., III",
         "0.9110320284697508"
        ],
        [
         "175773",
         "MCGUIRE, John J., III",
         "MCGUIRE, John J., III",
         "0.9110320284697508"
        ],
        [
         "175878",
         "MCGUIRE, John J., III",
         "MCGUIRE, John J., III",
         "0.9110320284697508"
        ],
        [
         "175740",
         "MCGUIRE, John J., III",
         "MCGUIRE, John J., III",
         "0.9110320284697508"
        ],
        [
         "175682",
         "MCGUIRE, John J., III",
         "MCGUIRE, John J., III",
         "0.9110320284697508"
        ],
        [
         "176034",
         "MCGUIRE, John J., III",
         "MCGUIRE, John J., III",
         "0.9110320284697508"
        ],
        [
         "175748",
         "MCGUIRE, John J., III",
         "MCGUIRE, John J., III",
         "0.9110320284697508"
        ],
        [
         "176035",
         "MCGUIRE, John J., III",
         "MCGUIRE, John J., III",
         "0.9110320284697508"
        ],
        [
         "175895",
         "MCGUIRE, John J., III",
         "MCGUIRE, John J., III",
         "0.9074733096085409"
        ],
        [
         "176031",
         "MCGUIRE, John J., III",
         "MCGUIRE, John J., III",
         "0.9074733096085409"
        ]
       ],
       "shape": {
        "columns": 3,
        "rows": 442
       }
      },
      "text/html": [
       "<div>\n",
       "<style scoped>\n",
       "    .dataframe tbody tr th:only-of-type {\n",
       "        vertical-align: middle;\n",
       "    }\n",
       "\n",
       "    .dataframe tbody tr th {\n",
       "        vertical-align: top;\n",
       "    }\n",
       "\n",
       "    .dataframe thead th {\n",
       "        text-align: right;\n",
       "    }\n",
       "</style>\n",
       "<table border=\"1\" class=\"dataframe\">\n",
       "  <thead>\n",
       "    <tr style=\"text-align: right;\">\n",
       "      <th></th>\n",
       "      <th>bioname</th>\n",
       "      <th>comparison_member</th>\n",
       "      <th>agree</th>\n",
       "    </tr>\n",
       "  </thead>\n",
       "  <tbody>\n",
       "    <tr>\n",
       "      <th>175793</th>\n",
       "      <td>MCGUIRE, John J., III</td>\n",
       "      <td>MCGUIRE, John J., III</td>\n",
       "      <td>0.973684</td>\n",
       "    </tr>\n",
       "    <tr>\n",
       "      <th>175922</th>\n",
       "      <td>MCGUIRE, John J., III</td>\n",
       "      <td>MCGUIRE, John J., III</td>\n",
       "      <td>0.953737</td>\n",
       "    </tr>\n",
       "    <tr>\n",
       "      <th>175817</th>\n",
       "      <td>MCGUIRE, John J., III</td>\n",
       "      <td>MCGUIRE, John J., III</td>\n",
       "      <td>0.950178</td>\n",
       "    </tr>\n",
       "    <tr>\n",
       "      <th>175871</th>\n",
       "      <td>MCGUIRE, John J., III</td>\n",
       "      <td>MCGUIRE, John J., III</td>\n",
       "      <td>0.950178</td>\n",
       "    </tr>\n",
       "    <tr>\n",
       "      <th>176002</th>\n",
       "      <td>MCGUIRE, John J., III</td>\n",
       "      <td>MCGUIRE, John J., III</td>\n",
       "      <td>0.950178</td>\n",
       "    </tr>\n",
       "    <tr>\n",
       "      <th>...</th>\n",
       "      <td>...</td>\n",
       "      <td>...</td>\n",
       "      <td>...</td>\n",
       "    </tr>\n",
       "    <tr>\n",
       "      <th>175865</th>\n",
       "      <td>MCGUIRE, John J., III</td>\n",
       "      <td>MCGUIRE, John J., III</td>\n",
       "      <td>0.121951</td>\n",
       "    </tr>\n",
       "    <tr>\n",
       "      <th>175864</th>\n",
       "      <td>MCGUIRE, John J., III</td>\n",
       "      <td>MCGUIRE, John J., III</td>\n",
       "      <td>0.121951</td>\n",
       "    </tr>\n",
       "    <tr>\n",
       "      <th>175851</th>\n",
       "      <td>MCGUIRE, John J., III</td>\n",
       "      <td>MCGUIRE, John J., III</td>\n",
       "      <td>0.106762</td>\n",
       "    </tr>\n",
       "    <tr>\n",
       "      <th>176056</th>\n",
       "      <td>MCGUIRE, John J., III</td>\n",
       "      <td>MCGUIRE, John J., III</td>\n",
       "      <td>0.105263</td>\n",
       "    </tr>\n",
       "    <tr>\n",
       "      <th>175658</th>\n",
       "      <td>MCGUIRE, John J., III</td>\n",
       "      <td>MCGUIRE, John J., III</td>\n",
       "      <td>0.000000</td>\n",
       "    </tr>\n",
       "  </tbody>\n",
       "</table>\n",
       "<p>442 rows × 3 columns</p>\n",
       "</div>"
      ],
      "text/plain": [
       "                      bioname      comparison_member     agree\n",
       "175793  MCGUIRE, John J., III  MCGUIRE, John J., III  0.973684\n",
       "175922  MCGUIRE, John J., III  MCGUIRE, John J., III  0.953737\n",
       "175817  MCGUIRE, John J., III  MCGUIRE, John J., III  0.950178\n",
       "175871  MCGUIRE, John J., III  MCGUIRE, John J., III  0.950178\n",
       "176002  MCGUIRE, John J., III  MCGUIRE, John J., III  0.950178\n",
       "...                       ...                    ...       ...\n",
       "175865  MCGUIRE, John J., III  MCGUIRE, John J., III  0.121951\n",
       "175864  MCGUIRE, John J., III  MCGUIRE, John J., III  0.121951\n",
       "175851  MCGUIRE, John J., III  MCGUIRE, John J., III  0.106762\n",
       "176056  MCGUIRE, John J., III  MCGUIRE, John J., III  0.105263\n",
       "175658  MCGUIRE, John J., III  MCGUIRE, John J., III  0.000000\n",
       "\n",
       "[442 rows x 3 columns]"
      ]
     },
     "execution_count": 102,
     "metadata": {},
     "output_type": "execute_result"
    }
   ],
   "source": [
    "vote_compare[vote_compare['bioname']. str.contains('MCGUIRE')]. sort_values('agree', ascending=False)"
   ]
  }
 ],
 "metadata": {
  "kernelspec": {
   "display_name": "ds6600",
   "language": "python",
   "name": "python3"
  },
  "language_info": {
   "codemirror_mode": {
    "name": "ipython",
    "version": 3
   },
   "file_extension": ".py",
   "mimetype": "text/x-python",
   "name": "python",
   "nbconvert_exporter": "python",
   "pygments_lexer": "ipython3",
   "version": "3.13.5"
  }
 },
 "nbformat": 4,
 "nbformat_minor": 2
}
