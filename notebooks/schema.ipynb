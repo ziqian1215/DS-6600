{
 "cells": [
  {
   "cell_type": "code",
   "execution_count": 1,
   "metadata": {},
   "outputs": [],
   "source": [
    "import numpy as np \n",
    "import pandas as pd"
   ]
  },
  {
   "cell_type": "code",
   "execution_count": 2,
   "metadata": {},
   "outputs": [],
   "source": [
    "bill_summaries = pd.read_csv('../data/bill_summaries.csv')\n",
    "bioinfo = pd.read_csv('../data/bioinfo.csv')\n",
    "fec_ids = pd.read_csv('../data/fec_ids.csv')\n",
    "ideology = pd.read_csv('../data/ideology.csv')\n",
    "sponsored_legislation = pd.read_csv('../data/sponsored_legislation.csv')\n",
    "terms = pd.read_csv('../data/terms.csv')\n",
    "vote_compare = pd.read_csv('../data/vote_compare.csv')\n",
    "contrib = pd.read_csv('../data/contrib.csv')"
   ]
  },
  {
   "cell_type": "markdown",
   "metadata": {},
   "source": [
    "1. Do each of the CSVs have a primary key? If so, what?"
   ]
  },
  {
   "cell_type": "code",
   "execution_count": 3,
   "metadata": {},
   "outputs": [
    {
     "data": {
      "text/plain": [
       "Index(['actionDate', 'actionDesc', 'currentChamber', 'currentChamberCode',\n",
       "       'lastSummaryUpdateDate', 'text', 'updateDate', 'versionCode',\n",
       "       'bill.congress', 'bill.number', 'bill.originChamber',\n",
       "       'bill.originChamberCode', 'bill.title', 'bill.type',\n",
       "       'bill.updateDateIncludingText', 'bill.url'],\n",
       "      dtype='object')"
      ]
     },
     "execution_count": 3,
     "metadata": {},
     "output_type": "execute_result"
    }
   ],
   "source": [
    "bill_summaries.columns"
   ]
  },
  {
   "cell_type": "code",
   "execution_count": 4,
   "metadata": {},
   "outputs": [
    {
     "data": {
      "application/vnd.microsoft.datawrangler.viewer.v0+json": {
       "columns": [
        {
         "name": "index",
         "rawType": "bool",
         "type": "boolean"
        },
        {
         "name": "count",
         "rawType": "int64",
         "type": "integer"
        }
       ],
       "ref": "461cca5d-1ecd-4cc9-8a23-3fa754eab3cd",
       "rows": [
        [
         "False",
         "2751"
        ]
       ],
       "shape": {
        "columns": 1,
        "rows": 1
       }
      },
      "text/plain": [
       "False    2751\n",
       "Name: count, dtype: int64"
      ]
     },
     "execution_count": 4,
     "metadata": {},
     "output_type": "execute_result"
    }
   ],
   "source": [
    "bill_summaries[['bill.type', 'bill.number', 'versionCode']].duplicated().value_counts()\n"
   ]
  },
  {
   "cell_type": "code",
   "execution_count": 5,
   "metadata": {},
   "outputs": [
    {
     "data": {
      "text/plain": [
       "Index(['bioguide_id', 'Full name', 'Chamber', 'State', 'Party', 'District',\n",
       "       'birthYear', 'image', 'Office address', 'Phone', 'Website'],\n",
       "      dtype='object')"
      ]
     },
     "execution_count": 5,
     "metadata": {},
     "output_type": "execute_result"
    }
   ],
   "source": [
    "bioinfo.columns"
   ]
  },
  {
   "cell_type": "code",
   "execution_count": 6,
   "metadata": {},
   "outputs": [
    {
     "data": {
      "text/plain": [
       "Index(['bioguide_id', 'Full name', 'Chamber', 'State', 'Party', 'District',\n",
       "       'birthYear', 'image', 'Office address', 'Phone', 'Website'],\n",
       "      dtype='object')"
      ]
     },
     "execution_count": 6,
     "metadata": {},
     "output_type": "execute_result"
    }
   ],
   "source": [
    "bioinfo.columns"
   ]
  },
  {
   "cell_type": "code",
   "execution_count": 7,
   "metadata": {},
   "outputs": [
    {
     "data": {
      "application/vnd.microsoft.datawrangler.viewer.v0+json": {
       "columns": [
        {
         "name": "index",
         "rawType": "bool",
         "type": "boolean"
        },
        {
         "name": "count",
         "rawType": "int64",
         "type": "integer"
        }
       ],
       "ref": "9b25a68d-752d-480b-8642-4ccd2ccd5fcb",
       "rows": [
        [
         "False",
         "545"
        ]
       ],
       "shape": {
        "columns": 1,
        "rows": 1
       }
      },
      "text/plain": [
       "False    545\n",
       "Name: count, dtype: int64"
      ]
     },
     "execution_count": 7,
     "metadata": {},
     "output_type": "execute_result"
    }
   ],
   "source": [
    "bioinfo[['bioguide_id']].duplicated().value_counts()"
   ]
  },
  {
   "cell_type": "code",
   "execution_count": 8,
   "metadata": {},
   "outputs": [
    {
     "data": {
      "text/plain": [
       "Index(['bioguide_id', 'fec_id'], dtype='object')"
      ]
     },
     "execution_count": 8,
     "metadata": {},
     "output_type": "execute_result"
    }
   ],
   "source": [
    "fec_ids.columns "
   ]
  },
  {
   "cell_type": "code",
   "execution_count": 9,
   "metadata": {},
   "outputs": [
    {
     "data": {
      "application/vnd.microsoft.datawrangler.viewer.v0+json": {
       "columns": [
        {
         "name": "index",
         "rawType": "bool",
         "type": "boolean"
        },
        {
         "name": "count",
         "rawType": "int64",
         "type": "integer"
        }
       ],
       "ref": "4f0edc27-3380-425b-a468-57968f6f1efb",
       "rows": [
        [
         "False",
         "545"
        ]
       ],
       "shape": {
        "columns": 1,
        "rows": 1
       }
      },
      "text/plain": [
       "False    545\n",
       "Name: count, dtype: int64"
      ]
     },
     "execution_count": 9,
     "metadata": {},
     "output_type": "execute_result"
    }
   ],
   "source": [
    "fec_ids[['bioguide_id']].duplicated().value_counts()"
   ]
  },
  {
   "cell_type": "code",
   "execution_count": 10,
   "metadata": {},
   "outputs": [
    {
     "data": {
      "text/plain": [
       "Index(['bioname', 'chamber', 'left_right_ideology', 'state_abbrev',\n",
       "       'district_code', 'icpsr', 'bioguide_id', 'party'],\n",
       "      dtype='object')"
      ]
     },
     "execution_count": 10,
     "metadata": {},
     "output_type": "execute_result"
    }
   ],
   "source": [
    "ideology.columns"
   ]
  },
  {
   "cell_type": "code",
   "execution_count": 11,
   "metadata": {},
   "outputs": [
    {
     "data": {
      "application/vnd.microsoft.datawrangler.viewer.v0+json": {
       "columns": [
        {
         "name": "index",
         "rawType": "bool",
         "type": "boolean"
        },
        {
         "name": "count",
         "rawType": "int64",
         "type": "integer"
        }
       ],
       "ref": "a57e9665-94a6-47f0-ab94-e21a14cfc9d2",
       "rows": [
        [
         "False",
         "545"
        ]
       ],
       "shape": {
        "columns": 1,
        "rows": 1
       }
      },
      "text/plain": [
       "False    545\n",
       "Name: count, dtype: int64"
      ]
     },
     "execution_count": 11,
     "metadata": {},
     "output_type": "execute_result"
    }
   ],
   "source": [
    "ideology[['bioguide_id']].duplicated().value_counts()"
   ]
  },
  {
   "cell_type": "code",
   "execution_count": 12,
   "metadata": {},
   "outputs": [
    {
     "data": {
      "text/plain": [
       "Index(['introducedDate', 'type', 'url', 'number', 'title', 'bioguide_id'], dtype='object')"
      ]
     },
     "execution_count": 12,
     "metadata": {},
     "output_type": "execute_result"
    }
   ],
   "source": [
    "sponsored_legislation.columns"
   ]
  },
  {
   "cell_type": "code",
   "execution_count": 13,
   "metadata": {},
   "outputs": [
    {
     "data": {
      "application/vnd.microsoft.datawrangler.viewer.v0+json": {
       "columns": [
        {
         "name": "index",
         "rawType": "bool",
         "type": "boolean"
        },
        {
         "name": "count",
         "rawType": "int64",
         "type": "integer"
        }
       ],
       "ref": "2c4f7de0-915a-4ca0-9a5b-2b087c1ca661",
       "rows": [
        [
         "False",
         "14379"
        ]
       ],
       "shape": {
        "columns": 1,
        "rows": 1
       }
      },
      "text/plain": [
       "False    14379\n",
       "Name: count, dtype: int64"
      ]
     },
     "execution_count": 13,
     "metadata": {},
     "output_type": "execute_result"
    }
   ],
   "source": [
    "sponsored_legislation[['url']].duplicated().value_counts()"
   ]
  },
  {
   "cell_type": "code",
   "execution_count": 14,
   "metadata": {},
   "outputs": [
    {
     "data": {
      "text/plain": [
       "Index(['bioguide_id', 'chamber', 'congress', 'stateCode', 'startYear',\n",
       "       'endYear', 'district'],\n",
       "      dtype='object')"
      ]
     },
     "execution_count": 14,
     "metadata": {},
     "output_type": "execute_result"
    }
   ],
   "source": [
    "terms.columns"
   ]
  },
  {
   "cell_type": "code",
   "execution_count": 15,
   "metadata": {},
   "outputs": [
    {
     "data": {
      "application/vnd.microsoft.datawrangler.viewer.v0+json": {
       "columns": [
        {
         "name": "index",
         "rawType": "bool",
         "type": "boolean"
        },
        {
         "name": "count",
         "rawType": "int64",
         "type": "integer"
        }
       ],
       "ref": "179ab426-b853-49a8-8a7c-815de9c71928",
       "rows": [
        [
         "False",
         "3257"
        ]
       ],
       "shape": {
        "columns": 1,
        "rows": 1
       }
      },
      "text/plain": [
       "False    3257\n",
       "Name: count, dtype: int64"
      ]
     },
     "execution_count": 15,
     "metadata": {},
     "output_type": "execute_result"
    }
   ],
   "source": [
    "terms[['bioguide_id', 'chamber', 'congress']].duplicated().value_counts()"
   ]
  },
  {
   "cell_type": "code",
   "execution_count": 16,
   "metadata": {},
   "outputs": [
    {
     "data": {
      "text/plain": [
       "Index(['bioname', 'comparison_member', 'agree'], dtype='object')"
      ]
     },
     "execution_count": 16,
     "metadata": {},
     "output_type": "execute_result"
    }
   ],
   "source": [
    "vote_compare.columns"
   ]
  },
  {
   "cell_type": "code",
   "execution_count": 17,
   "metadata": {},
   "outputs": [
    {
     "data": {
      "application/vnd.microsoft.datawrangler.viewer.v0+json": {
       "columns": [
        {
         "name": "index",
         "rawType": "bool",
         "type": "boolean"
        },
        {
         "name": "count",
         "rawType": "int64",
         "type": "integer"
        }
       ],
       "ref": "8605d104-75e5-4a31-8198-8702c8f29d3a",
       "rows": [
        [
         "False",
         "206040"
        ]
       ],
       "shape": {
        "columns": 1,
        "rows": 1
       }
      },
      "text/plain": [
       "False    206040\n",
       "Name: count, dtype: int64"
      ]
     },
     "execution_count": 17,
     "metadata": {},
     "output_type": "execute_result"
    }
   ],
   "source": [
    "vote_compare[['bioname', 'comparison_member']].duplicated().value_counts()"
   ]
  },
  {
   "cell_type": "code",
   "execution_count": 18,
   "metadata": {},
   "outputs": [
    {
     "data": {
      "text/plain": [
       "Index(['contributor_name', 'contributor_aggregate_ytd', 'memo_text', 'pdf_url',\n",
       "       'fec_committee_id', 'fec_id'],\n",
       "      dtype='object')"
      ]
     },
     "execution_count": 18,
     "metadata": {},
     "output_type": "execute_result"
    }
   ],
   "source": [
    "contrib.columns"
   ]
  },
  {
   "cell_type": "code",
   "execution_count": 19,
   "metadata": {},
   "outputs": [
    {
     "data": {
      "application/vnd.microsoft.datawrangler.viewer.v0+json": {
       "columns": [
        {
         "name": "index",
         "rawType": "int64",
         "type": "integer"
        },
        {
         "name": "contributor_name",
         "rawType": "object",
         "type": "string"
        },
        {
         "name": "contributor_aggregate_ytd",
         "rawType": "float64",
         "type": "float"
        },
        {
         "name": "memo_text",
         "rawType": "object",
         "type": "unknown"
        },
        {
         "name": "pdf_url",
         "rawType": "object",
         "type": "string"
        },
        {
         "name": "fec_committee_id",
         "rawType": "object",
         "type": "string"
        },
        {
         "name": "fec_id",
         "rawType": "object",
         "type": "string"
        }
       ],
       "ref": "8a3bf6a8-ee9a-4eae-b8bc-e647992054a8",
       "rows": [
        [
         "595599",
         "LOUKAS, GEORGE",
         "2500.0",
         null,
         "http://docquery.fec.gov/cgi-bin/fecimg/?10930084703",
         "C00457556",
         "H0IL05096"
        ],
        [
         "602339",
         "LOUKAS, GEORGE",
         "2500.0",
         null,
         "http://docquery.fec.gov/cgi-bin/fecimg/?10930084703",
         "C00457556",
         "H0IL05096"
        ],
        [
         "601825",
         "NOWOTNY, DONALD",
         "300.0",
         null,
         "http://docquery.fec.gov/cgi-bin/fecimg/?10930084708",
         "C00457556",
         "H0IL05096"
        ],
        [
         "601824",
         "NOWOTNY, DONALD",
         "300.0",
         null,
         "http://docquery.fec.gov/cgi-bin/fecimg/?10930084708",
         "C00457556",
         "H0IL05096"
        ],
        [
         "142219",
         "FETHERSTON, BARBARA",
         "2900.0",
         null,
         "http://docquery.fec.gov/cgi-bin/fecimg/?10930386846",
         "C00462697",
         "H0CA10149"
        ],
        [
         "136996",
         "FETHERSTON, BARBARA",
         "2900.0",
         null,
         "http://docquery.fec.gov/cgi-bin/fecimg/?10930386846",
         "C00462697",
         "H0CA10149"
        ],
        [
         "136985",
         "GREENSPAN, ROBB T.",
         "4800.0",
         null,
         "http://docquery.fec.gov/cgi-bin/fecimg/?10930386856",
         "C00462697",
         "H0CA10149"
        ],
        [
         "136986",
         "GREENSPAN, ROBB T.",
         "4800.0",
         null,
         "http://docquery.fec.gov/cgi-bin/fecimg/?10930386856",
         "C00462697",
         "H0CA10149"
        ],
        [
         "142212",
         "GREWAL, KULDIP",
         "700.0",
         null,
         "http://docquery.fec.gov/cgi-bin/fecimg/?10930386857",
         "C00462697",
         "H0CA10149"
        ],
        [
         "144091",
         "GREWAL, KULDIP",
         "700.0",
         null,
         "http://docquery.fec.gov/cgi-bin/fecimg/?10930386857",
         "C00462697",
         "H0CA10149"
        ]
       ],
       "shape": {
        "columns": 6,
        "rows": 10
       }
      },
      "text/html": [
       "<div>\n",
       "<style scoped>\n",
       "    .dataframe tbody tr th:only-of-type {\n",
       "        vertical-align: middle;\n",
       "    }\n",
       "\n",
       "    .dataframe tbody tr th {\n",
       "        vertical-align: top;\n",
       "    }\n",
       "\n",
       "    .dataframe thead th {\n",
       "        text-align: right;\n",
       "    }\n",
       "</style>\n",
       "<table border=\"1\" class=\"dataframe\">\n",
       "  <thead>\n",
       "    <tr style=\"text-align: right;\">\n",
       "      <th></th>\n",
       "      <th>contributor_name</th>\n",
       "      <th>contributor_aggregate_ytd</th>\n",
       "      <th>memo_text</th>\n",
       "      <th>pdf_url</th>\n",
       "      <th>fec_committee_id</th>\n",
       "      <th>fec_id</th>\n",
       "    </tr>\n",
       "  </thead>\n",
       "  <tbody>\n",
       "    <tr>\n",
       "      <th>595599</th>\n",
       "      <td>LOUKAS, GEORGE</td>\n",
       "      <td>2500.0</td>\n",
       "      <td>NaN</td>\n",
       "      <td>http://docquery.fec.gov/cgi-bin/fecimg/?109300...</td>\n",
       "      <td>C00457556</td>\n",
       "      <td>H0IL05096</td>\n",
       "    </tr>\n",
       "    <tr>\n",
       "      <th>602339</th>\n",
       "      <td>LOUKAS, GEORGE</td>\n",
       "      <td>2500.0</td>\n",
       "      <td>NaN</td>\n",
       "      <td>http://docquery.fec.gov/cgi-bin/fecimg/?109300...</td>\n",
       "      <td>C00457556</td>\n",
       "      <td>H0IL05096</td>\n",
       "    </tr>\n",
       "    <tr>\n",
       "      <th>601825</th>\n",
       "      <td>NOWOTNY, DONALD</td>\n",
       "      <td>300.0</td>\n",
       "      <td>NaN</td>\n",
       "      <td>http://docquery.fec.gov/cgi-bin/fecimg/?109300...</td>\n",
       "      <td>C00457556</td>\n",
       "      <td>H0IL05096</td>\n",
       "    </tr>\n",
       "    <tr>\n",
       "      <th>601824</th>\n",
       "      <td>NOWOTNY, DONALD</td>\n",
       "      <td>300.0</td>\n",
       "      <td>NaN</td>\n",
       "      <td>http://docquery.fec.gov/cgi-bin/fecimg/?109300...</td>\n",
       "      <td>C00457556</td>\n",
       "      <td>H0IL05096</td>\n",
       "    </tr>\n",
       "    <tr>\n",
       "      <th>142219</th>\n",
       "      <td>FETHERSTON, BARBARA</td>\n",
       "      <td>2900.0</td>\n",
       "      <td>NaN</td>\n",
       "      <td>http://docquery.fec.gov/cgi-bin/fecimg/?109303...</td>\n",
       "      <td>C00462697</td>\n",
       "      <td>H0CA10149</td>\n",
       "    </tr>\n",
       "    <tr>\n",
       "      <th>136996</th>\n",
       "      <td>FETHERSTON, BARBARA</td>\n",
       "      <td>2900.0</td>\n",
       "      <td>NaN</td>\n",
       "      <td>http://docquery.fec.gov/cgi-bin/fecimg/?109303...</td>\n",
       "      <td>C00462697</td>\n",
       "      <td>H0CA10149</td>\n",
       "    </tr>\n",
       "    <tr>\n",
       "      <th>136985</th>\n",
       "      <td>GREENSPAN, ROBB T.</td>\n",
       "      <td>4800.0</td>\n",
       "      <td>NaN</td>\n",
       "      <td>http://docquery.fec.gov/cgi-bin/fecimg/?109303...</td>\n",
       "      <td>C00462697</td>\n",
       "      <td>H0CA10149</td>\n",
       "    </tr>\n",
       "    <tr>\n",
       "      <th>136986</th>\n",
       "      <td>GREENSPAN, ROBB T.</td>\n",
       "      <td>4800.0</td>\n",
       "      <td>NaN</td>\n",
       "      <td>http://docquery.fec.gov/cgi-bin/fecimg/?109303...</td>\n",
       "      <td>C00462697</td>\n",
       "      <td>H0CA10149</td>\n",
       "    </tr>\n",
       "    <tr>\n",
       "      <th>142212</th>\n",
       "      <td>GREWAL, KULDIP</td>\n",
       "      <td>700.0</td>\n",
       "      <td>NaN</td>\n",
       "      <td>http://docquery.fec.gov/cgi-bin/fecimg/?109303...</td>\n",
       "      <td>C00462697</td>\n",
       "      <td>H0CA10149</td>\n",
       "    </tr>\n",
       "    <tr>\n",
       "      <th>144091</th>\n",
       "      <td>GREWAL, KULDIP</td>\n",
       "      <td>700.0</td>\n",
       "      <td>NaN</td>\n",
       "      <td>http://docquery.fec.gov/cgi-bin/fecimg/?109303...</td>\n",
       "      <td>C00462697</td>\n",
       "      <td>H0CA10149</td>\n",
       "    </tr>\n",
       "  </tbody>\n",
       "</table>\n",
       "</div>"
      ],
      "text/plain": [
       "           contributor_name  contributor_aggregate_ytd memo_text  \\\n",
       "595599       LOUKAS, GEORGE                     2500.0       NaN   \n",
       "602339       LOUKAS, GEORGE                     2500.0       NaN   \n",
       "601825      NOWOTNY, DONALD                      300.0       NaN   \n",
       "601824      NOWOTNY, DONALD                      300.0       NaN   \n",
       "142219  FETHERSTON, BARBARA                     2900.0       NaN   \n",
       "136996  FETHERSTON, BARBARA                     2900.0       NaN   \n",
       "136985   GREENSPAN, ROBB T.                     4800.0       NaN   \n",
       "136986   GREENSPAN, ROBB T.                     4800.0       NaN   \n",
       "142212       GREWAL, KULDIP                      700.0       NaN   \n",
       "144091       GREWAL, KULDIP                      700.0       NaN   \n",
       "\n",
       "                                                  pdf_url fec_committee_id  \\\n",
       "595599  http://docquery.fec.gov/cgi-bin/fecimg/?109300...        C00457556   \n",
       "602339  http://docquery.fec.gov/cgi-bin/fecimg/?109300...        C00457556   \n",
       "601825  http://docquery.fec.gov/cgi-bin/fecimg/?109300...        C00457556   \n",
       "601824  http://docquery.fec.gov/cgi-bin/fecimg/?109300...        C00457556   \n",
       "142219  http://docquery.fec.gov/cgi-bin/fecimg/?109303...        C00462697   \n",
       "136996  http://docquery.fec.gov/cgi-bin/fecimg/?109303...        C00462697   \n",
       "136985  http://docquery.fec.gov/cgi-bin/fecimg/?109303...        C00462697   \n",
       "136986  http://docquery.fec.gov/cgi-bin/fecimg/?109303...        C00462697   \n",
       "142212  http://docquery.fec.gov/cgi-bin/fecimg/?109303...        C00462697   \n",
       "144091  http://docquery.fec.gov/cgi-bin/fecimg/?109303...        C00462697   \n",
       "\n",
       "           fec_id  \n",
       "595599  H0IL05096  \n",
       "602339  H0IL05096  \n",
       "601825  H0IL05096  \n",
       "601824  H0IL05096  \n",
       "142219  H0CA10149  \n",
       "136996  H0CA10149  \n",
       "136985  H0CA10149  \n",
       "136986  H0CA10149  \n",
       "142212  H0CA10149  \n",
       "144091  H0CA10149  "
      ]
     },
     "execution_count": 19,
     "metadata": {},
     "output_type": "execute_result"
    }
   ],
   "source": [
    "contrib.loc[contrib.duplicated(keep=False)].sort_values('pdf_url').head(10)\n"
   ]
  },
  {
   "cell_type": "code",
   "execution_count": 20,
   "metadata": {},
   "outputs": [
    {
     "data": {
      "application/vnd.microsoft.datawrangler.viewer.v0+json": {
       "columns": [
        {
         "name": "index",
         "rawType": "bool",
         "type": "boolean"
        },
        {
         "name": "count",
         "rawType": "int64",
         "type": "integer"
        }
       ],
       "ref": "9f5d5173-2921-42b8-a456-529b1b5aaeb7",
       "rows": [
        [
         "True",
         "431028"
        ],
        [
         "False",
         "217665"
        ]
       ],
       "shape": {
        "columns": 1,
        "rows": 2
       }
      },
      "text/plain": [
       "True     431028\n",
       "False    217665\n",
       "Name: count, dtype: int64"
      ]
     },
     "execution_count": 20,
     "metadata": {},
     "output_type": "execute_result"
    }
   ],
   "source": [
    "contrib[['pdf_url']].duplicated().value_counts()"
   ]
  },
  {
   "cell_type": "markdown",
   "metadata": {},
   "source": [
    "2. Do any of the tables need to because multiple tables, or combind into one table?\n",
    "\n",
    "Should be combinded into one table (share with same primary key): bioinfo, fec_ids, ideology"
   ]
  },
  {
   "cell_type": "code",
   "execution_count": 21,
   "metadata": {},
   "outputs": [],
   "source": [
    "members = pd. merge(bioinfo, fec_ids,\n",
    "                    on='bioguide_id',\n",
    "                    how='outer',\n",
    "                    validate='one_to_one',\n",
    "                    indicator='matched')"
   ]
  },
  {
   "cell_type": "code",
   "execution_count": 22,
   "metadata": {},
   "outputs": [
    {
     "data": {
      "application/vnd.microsoft.datawrangler.viewer.v0+json": {
       "columns": [
        {
         "name": "matched",
         "rawType": "category",
         "type": "unknown"
        },
        {
         "name": "count",
         "rawType": "int64",
         "type": "integer"
        }
       ],
       "ref": "52bfd445-3907-4d38-a0df-65fe54c18650",
       "rows": [
        [
         "both",
         "545"
        ],
        [
         "left_only",
         "0"
        ],
        [
         "right_only",
         "0"
        ]
       ],
       "shape": {
        "columns": 1,
        "rows": 3
       }
      },
      "text/plain": [
       "matched\n",
       "both          545\n",
       "left_only       0\n",
       "right_only      0\n",
       "Name: count, dtype: int64"
      ]
     },
     "execution_count": 22,
     "metadata": {},
     "output_type": "execute_result"
    }
   ],
   "source": [
    "members['matched'].value_counts()"
   ]
  },
  {
   "cell_type": "code",
   "execution_count": 23,
   "metadata": {},
   "outputs": [],
   "source": [
    "members = members.drop('matched', axis=1)"
   ]
  },
  {
   "cell_type": "code",
   "execution_count": 24,
   "metadata": {},
   "outputs": [],
   "source": [
    "members = pd.merge(members, ideology,\n",
    "                   on='bioguide_id',\n",
    "                   how='outer',\n",
    "                   validate='one_to_one',\n",
    "                   indicator='matched')"
   ]
  },
  {
   "cell_type": "code",
   "execution_count": 25,
   "metadata": {},
   "outputs": [
    {
     "data": {
      "application/vnd.microsoft.datawrangler.viewer.v0+json": {
       "columns": [
        {
         "name": "matched",
         "rawType": "category",
         "type": "unknown"
        },
        {
         "name": "count",
         "rawType": "int64",
         "type": "integer"
        }
       ],
       "ref": "39cf468c-053d-4b1f-b252-be88f34371b1",
       "rows": [
        [
         "both",
         "545"
        ],
        [
         "left_only",
         "0"
        ],
        [
         "right_only",
         "0"
        ]
       ],
       "shape": {
        "columns": 1,
        "rows": 3
       }
      },
      "text/plain": [
       "matched\n",
       "both          545\n",
       "left_only       0\n",
       "right_only      0\n",
       "Name: count, dtype: int64"
      ]
     },
     "execution_count": 25,
     "metadata": {},
     "output_type": "execute_result"
    }
   ],
   "source": [
    "members['matched'].value_counts()"
   ]
  },
  {
   "cell_type": "code",
   "execution_count": 26,
   "metadata": {},
   "outputs": [],
   "source": [
    "members = members.drop('matched', axis=1)"
   ]
  },
  {
   "cell_type": "code",
   "execution_count": 27,
   "metadata": {},
   "outputs": [
    {
     "data": {
      "text/plain": [
       "Index(['bioguide_id', 'Full name', 'Chamber', 'State', 'Party', 'District',\n",
       "       'birthYear', 'image', 'Office address', 'Phone', 'Website', 'fec_id',\n",
       "       'bioname', 'chamber', 'left_right_ideology', 'state_abbrev',\n",
       "       'district_code', 'icpsr', 'party'],\n",
       "      dtype='object')"
      ]
     },
     "execution_count": 27,
     "metadata": {},
     "output_type": "execute_result"
    }
   ],
   "source": [
    "members.columns"
   ]
  },
  {
   "cell_type": "code",
   "execution_count": 28,
   "metadata": {},
   "outputs": [
    {
     "data": {
      "application/vnd.microsoft.datawrangler.viewer.v0+json": {
       "columns": [
        {
         "name": "index",
         "rawType": "object",
         "type": "string"
        },
        {
         "name": "0",
         "rawType": "object",
         "type": "unknown"
        },
        {
         "name": "1",
         "rawType": "object",
         "type": "unknown"
        },
        {
         "name": "2",
         "rawType": "object",
         "type": "unknown"
        }
       ],
       "ref": "210685b6-6800-4bb8-8bf3-0f357b6c1310",
       "rows": [
        [
         "bioguide_id",
         "A000055",
         "A000148",
         "A000369"
        ],
        [
         "Full name",
         "Robert B. Aderholt",
         "Jake Auchincloss",
         "Mark E. Amodei"
        ],
        [
         "Chamber",
         "House of Representatives",
         "House of Representatives",
         "House of Representatives"
        ],
        [
         "State",
         "Alabama",
         "Massachusetts",
         "Nevada"
        ],
        [
         "Party",
         "Republican",
         "Democratic",
         "Republican"
        ],
        [
         "District",
         "4.0",
         "4.0",
         "2.0"
        ],
        [
         "birthYear",
         "1965.0",
         "1988.0",
         "1958.0"
        ],
        [
         "image",
         "https://www.congress.gov/img/member/a000055_200.jpg",
         "https://www.congress.gov/img/member/67817e391f9ad6ea6fb1ebda_200.jpg",
         "https://www.congress.gov/img/member/a000369_200.jpg"
        ],
        [
         "Office address",
         "272 Cannon House Office Building, Washington, DC 20515",
         "1524 Longworth House Office Building, Washington, DC 20515",
         "104 Cannon House Office Building, Washington, DC 20515"
        ],
        [
         "Phone",
         "(202) 225-4876",
         "(202) 225-5931",
         "(202) 225-6155"
        ],
        [
         "Website",
         "https://aderholt.house.gov/",
         "https://auchincloss.house.gov",
         "https://amodei.house.gov"
        ],
        [
         "fec_id",
         "H6AL04098",
         "H0MA04192",
         "H2NV02395"
        ],
        [
         "bioname",
         "ADERHOLT, Robert",
         "AUCHINCLOSS, Jake",
         "AMODEI, Mark E."
        ],
        [
         "chamber",
         "House",
         "House",
         "House"
        ],
        [
         "left_right_ideology",
         "0.405",
         "-0.288",
         "0.384"
        ],
        [
         "state_abbrev",
         "AL",
         "MA",
         "NV"
        ],
        [
         "district_code",
         "4",
         "4",
         "2"
        ],
        [
         "icpsr",
         "29701",
         "22100",
         "21196"
        ],
        [
         "party",
         "Republican",
         "Democrat",
         "Republican"
        ]
       ],
       "shape": {
        "columns": 3,
        "rows": 19
       }
      },
      "text/html": [
       "<div>\n",
       "<style scoped>\n",
       "    .dataframe tbody tr th:only-of-type {\n",
       "        vertical-align: middle;\n",
       "    }\n",
       "\n",
       "    .dataframe tbody tr th {\n",
       "        vertical-align: top;\n",
       "    }\n",
       "\n",
       "    .dataframe thead th {\n",
       "        text-align: right;\n",
       "    }\n",
       "</style>\n",
       "<table border=\"1\" class=\"dataframe\">\n",
       "  <thead>\n",
       "    <tr style=\"text-align: right;\">\n",
       "      <th></th>\n",
       "      <th>0</th>\n",
       "      <th>1</th>\n",
       "      <th>2</th>\n",
       "    </tr>\n",
       "  </thead>\n",
       "  <tbody>\n",
       "    <tr>\n",
       "      <th>bioguide_id</th>\n",
       "      <td>A000055</td>\n",
       "      <td>A000148</td>\n",
       "      <td>A000369</td>\n",
       "    </tr>\n",
       "    <tr>\n",
       "      <th>Full name</th>\n",
       "      <td>Robert B. Aderholt</td>\n",
       "      <td>Jake Auchincloss</td>\n",
       "      <td>Mark E. Amodei</td>\n",
       "    </tr>\n",
       "    <tr>\n",
       "      <th>Chamber</th>\n",
       "      <td>House of Representatives</td>\n",
       "      <td>House of Representatives</td>\n",
       "      <td>House of Representatives</td>\n",
       "    </tr>\n",
       "    <tr>\n",
       "      <th>State</th>\n",
       "      <td>Alabama</td>\n",
       "      <td>Massachusetts</td>\n",
       "      <td>Nevada</td>\n",
       "    </tr>\n",
       "    <tr>\n",
       "      <th>Party</th>\n",
       "      <td>Republican</td>\n",
       "      <td>Democratic</td>\n",
       "      <td>Republican</td>\n",
       "    </tr>\n",
       "    <tr>\n",
       "      <th>District</th>\n",
       "      <td>4.0</td>\n",
       "      <td>4.0</td>\n",
       "      <td>2.0</td>\n",
       "    </tr>\n",
       "    <tr>\n",
       "      <th>birthYear</th>\n",
       "      <td>1965.0</td>\n",
       "      <td>1988.0</td>\n",
       "      <td>1958.0</td>\n",
       "    </tr>\n",
       "    <tr>\n",
       "      <th>image</th>\n",
       "      <td>https://www.congress.gov/img/member/a000055_20...</td>\n",
       "      <td>https://www.congress.gov/img/member/67817e391f...</td>\n",
       "      <td>https://www.congress.gov/img/member/a000369_20...</td>\n",
       "    </tr>\n",
       "    <tr>\n",
       "      <th>Office address</th>\n",
       "      <td>272 Cannon House Office Building, Washington, ...</td>\n",
       "      <td>1524 Longworth House Office Building, Washingt...</td>\n",
       "      <td>104 Cannon House Office Building, Washington, ...</td>\n",
       "    </tr>\n",
       "    <tr>\n",
       "      <th>Phone</th>\n",
       "      <td>(202) 225-4876</td>\n",
       "      <td>(202) 225-5931</td>\n",
       "      <td>(202) 225-6155</td>\n",
       "    </tr>\n",
       "    <tr>\n",
       "      <th>Website</th>\n",
       "      <td>https://aderholt.house.gov/</td>\n",
       "      <td>https://auchincloss.house.gov</td>\n",
       "      <td>https://amodei.house.gov</td>\n",
       "    </tr>\n",
       "    <tr>\n",
       "      <th>fec_id</th>\n",
       "      <td>H6AL04098</td>\n",
       "      <td>H0MA04192</td>\n",
       "      <td>H2NV02395</td>\n",
       "    </tr>\n",
       "    <tr>\n",
       "      <th>bioname</th>\n",
       "      <td>ADERHOLT, Robert</td>\n",
       "      <td>AUCHINCLOSS, Jake</td>\n",
       "      <td>AMODEI, Mark E.</td>\n",
       "    </tr>\n",
       "    <tr>\n",
       "      <th>chamber</th>\n",
       "      <td>House</td>\n",
       "      <td>House</td>\n",
       "      <td>House</td>\n",
       "    </tr>\n",
       "    <tr>\n",
       "      <th>left_right_ideology</th>\n",
       "      <td>0.405</td>\n",
       "      <td>-0.288</td>\n",
       "      <td>0.384</td>\n",
       "    </tr>\n",
       "    <tr>\n",
       "      <th>state_abbrev</th>\n",
       "      <td>AL</td>\n",
       "      <td>MA</td>\n",
       "      <td>NV</td>\n",
       "    </tr>\n",
       "    <tr>\n",
       "      <th>district_code</th>\n",
       "      <td>4</td>\n",
       "      <td>4</td>\n",
       "      <td>2</td>\n",
       "    </tr>\n",
       "    <tr>\n",
       "      <th>icpsr</th>\n",
       "      <td>29701</td>\n",
       "      <td>22100</td>\n",
       "      <td>21196</td>\n",
       "    </tr>\n",
       "    <tr>\n",
       "      <th>party</th>\n",
       "      <td>Republican</td>\n",
       "      <td>Democrat</td>\n",
       "      <td>Republican</td>\n",
       "    </tr>\n",
       "  </tbody>\n",
       "</table>\n",
       "</div>"
      ],
      "text/plain": [
       "                                                                     0  \\\n",
       "bioguide_id                                                    A000055   \n",
       "Full name                                           Robert B. Aderholt   \n",
       "Chamber                                       House of Representatives   \n",
       "State                                                          Alabama   \n",
       "Party                                                       Republican   \n",
       "District                                                           4.0   \n",
       "birthYear                                                       1965.0   \n",
       "image                https://www.congress.gov/img/member/a000055_20...   \n",
       "Office address       272 Cannon House Office Building, Washington, ...   \n",
       "Phone                                                   (202) 225-4876   \n",
       "Website                                    https://aderholt.house.gov/   \n",
       "fec_id                                                       H6AL04098   \n",
       "bioname                                               ADERHOLT, Robert   \n",
       "chamber                                                          House   \n",
       "left_right_ideology                                              0.405   \n",
       "state_abbrev                                                        AL   \n",
       "district_code                                                        4   \n",
       "icpsr                                                            29701   \n",
       "party                                                       Republican   \n",
       "\n",
       "                                                                     1  \\\n",
       "bioguide_id                                                    A000148   \n",
       "Full name                                             Jake Auchincloss   \n",
       "Chamber                                       House of Representatives   \n",
       "State                                                    Massachusetts   \n",
       "Party                                                       Democratic   \n",
       "District                                                           4.0   \n",
       "birthYear                                                       1988.0   \n",
       "image                https://www.congress.gov/img/member/67817e391f...   \n",
       "Office address       1524 Longworth House Office Building, Washingt...   \n",
       "Phone                                                   (202) 225-5931   \n",
       "Website                                  https://auchincloss.house.gov   \n",
       "fec_id                                                       H0MA04192   \n",
       "bioname                                              AUCHINCLOSS, Jake   \n",
       "chamber                                                          House   \n",
       "left_right_ideology                                             -0.288   \n",
       "state_abbrev                                                        MA   \n",
       "district_code                                                        4   \n",
       "icpsr                                                            22100   \n",
       "party                                                         Democrat   \n",
       "\n",
       "                                                                     2  \n",
       "bioguide_id                                                    A000369  \n",
       "Full name                                               Mark E. Amodei  \n",
       "Chamber                                       House of Representatives  \n",
       "State                                                           Nevada  \n",
       "Party                                                       Republican  \n",
       "District                                                           2.0  \n",
       "birthYear                                                       1958.0  \n",
       "image                https://www.congress.gov/img/member/a000369_20...  \n",
       "Office address       104 Cannon House Office Building, Washington, ...  \n",
       "Phone                                                   (202) 225-6155  \n",
       "Website                                       https://amodei.house.gov  \n",
       "fec_id                                                       H2NV02395  \n",
       "bioname                                                AMODEI, Mark E.  \n",
       "chamber                                                          House  \n",
       "left_right_ideology                                              0.384  \n",
       "state_abbrev                                                        NV  \n",
       "district_code                                                        2  \n",
       "icpsr                                                            21196  \n",
       "party                                                       Republican  "
      ]
     },
     "execution_count": 28,
     "metadata": {},
     "output_type": "execute_result"
    }
   ],
   "source": [
    "members.head(3).T"
   ]
  },
  {
   "cell_type": "code",
   "execution_count": 29,
   "metadata": {},
   "outputs": [],
   "source": [
    "members = members.drop(['chamber', 'Party', 'bioname', 'District', 'State'], axis=1)"
   ]
  },
  {
   "cell_type": "code",
   "execution_count": 30,
   "metadata": {},
   "outputs": [],
   "source": [
    "\n",
    "members.columns = [c.lower().replace(' ', '_') for c in members.columns]\n"
   ]
  },
  {
   "cell_type": "code",
   "execution_count": 31,
   "metadata": {},
   "outputs": [
    {
     "data": {
      "application/vnd.microsoft.datawrangler.viewer.v0+json": {
       "columns": [
        {
         "name": "index",
         "rawType": "object",
         "type": "string"
        },
        {
         "name": "0",
         "rawType": "object",
         "type": "unknown"
        },
        {
         "name": "1",
         "rawType": "object",
         "type": "unknown"
        },
        {
         "name": "2",
         "rawType": "object",
         "type": "unknown"
        }
       ],
       "ref": "748f3402-9e33-4d32-bbbc-dfdb0b84f8fa",
       "rows": [
        [
         "bioguide_id",
         "A000055",
         "A000148",
         "A000369"
        ],
        [
         "full_name",
         "Robert B. Aderholt",
         "Jake Auchincloss",
         "Mark E. Amodei"
        ],
        [
         "chamber",
         "House of Representatives",
         "House of Representatives",
         "House of Representatives"
        ],
        [
         "birthyear",
         "1965.0",
         "1988.0",
         "1958.0"
        ],
        [
         "image",
         "https://www.congress.gov/img/member/a000055_200.jpg",
         "https://www.congress.gov/img/member/67817e391f9ad6ea6fb1ebda_200.jpg",
         "https://www.congress.gov/img/member/a000369_200.jpg"
        ],
        [
         "office_address",
         "272 Cannon House Office Building, Washington, DC 20515",
         "1524 Longworth House Office Building, Washington, DC 20515",
         "104 Cannon House Office Building, Washington, DC 20515"
        ],
        [
         "phone",
         "(202) 225-4876",
         "(202) 225-5931",
         "(202) 225-6155"
        ],
        [
         "website",
         "https://aderholt.house.gov/",
         "https://auchincloss.house.gov",
         "https://amodei.house.gov"
        ],
        [
         "fec_id",
         "H6AL04098",
         "H0MA04192",
         "H2NV02395"
        ],
        [
         "left_right_ideology",
         "0.405",
         "-0.288",
         "0.384"
        ],
        [
         "state_abbrev",
         "AL",
         "MA",
         "NV"
        ],
        [
         "district_code",
         "4",
         "4",
         "2"
        ],
        [
         "icpsr",
         "29701",
         "22100",
         "21196"
        ],
        [
         "party",
         "Republican",
         "Democrat",
         "Republican"
        ]
       ],
       "shape": {
        "columns": 3,
        "rows": 14
       }
      },
      "text/html": [
       "<div>\n",
       "<style scoped>\n",
       "    .dataframe tbody tr th:only-of-type {\n",
       "        vertical-align: middle;\n",
       "    }\n",
       "\n",
       "    .dataframe tbody tr th {\n",
       "        vertical-align: top;\n",
       "    }\n",
       "\n",
       "    .dataframe thead th {\n",
       "        text-align: right;\n",
       "    }\n",
       "</style>\n",
       "<table border=\"1\" class=\"dataframe\">\n",
       "  <thead>\n",
       "    <tr style=\"text-align: right;\">\n",
       "      <th></th>\n",
       "      <th>0</th>\n",
       "      <th>1</th>\n",
       "      <th>2</th>\n",
       "    </tr>\n",
       "  </thead>\n",
       "  <tbody>\n",
       "    <tr>\n",
       "      <th>bioguide_id</th>\n",
       "      <td>A000055</td>\n",
       "      <td>A000148</td>\n",
       "      <td>A000369</td>\n",
       "    </tr>\n",
       "    <tr>\n",
       "      <th>full_name</th>\n",
       "      <td>Robert B. Aderholt</td>\n",
       "      <td>Jake Auchincloss</td>\n",
       "      <td>Mark E. Amodei</td>\n",
       "    </tr>\n",
       "    <tr>\n",
       "      <th>chamber</th>\n",
       "      <td>House of Representatives</td>\n",
       "      <td>House of Representatives</td>\n",
       "      <td>House of Representatives</td>\n",
       "    </tr>\n",
       "    <tr>\n",
       "      <th>birthyear</th>\n",
       "      <td>1965.0</td>\n",
       "      <td>1988.0</td>\n",
       "      <td>1958.0</td>\n",
       "    </tr>\n",
       "    <tr>\n",
       "      <th>image</th>\n",
       "      <td>https://www.congress.gov/img/member/a000055_20...</td>\n",
       "      <td>https://www.congress.gov/img/member/67817e391f...</td>\n",
       "      <td>https://www.congress.gov/img/member/a000369_20...</td>\n",
       "    </tr>\n",
       "    <tr>\n",
       "      <th>office_address</th>\n",
       "      <td>272 Cannon House Office Building, Washington, ...</td>\n",
       "      <td>1524 Longworth House Office Building, Washingt...</td>\n",
       "      <td>104 Cannon House Office Building, Washington, ...</td>\n",
       "    </tr>\n",
       "    <tr>\n",
       "      <th>phone</th>\n",
       "      <td>(202) 225-4876</td>\n",
       "      <td>(202) 225-5931</td>\n",
       "      <td>(202) 225-6155</td>\n",
       "    </tr>\n",
       "    <tr>\n",
       "      <th>website</th>\n",
       "      <td>https://aderholt.house.gov/</td>\n",
       "      <td>https://auchincloss.house.gov</td>\n",
       "      <td>https://amodei.house.gov</td>\n",
       "    </tr>\n",
       "    <tr>\n",
       "      <th>fec_id</th>\n",
       "      <td>H6AL04098</td>\n",
       "      <td>H0MA04192</td>\n",
       "      <td>H2NV02395</td>\n",
       "    </tr>\n",
       "    <tr>\n",
       "      <th>left_right_ideology</th>\n",
       "      <td>0.405</td>\n",
       "      <td>-0.288</td>\n",
       "      <td>0.384</td>\n",
       "    </tr>\n",
       "    <tr>\n",
       "      <th>state_abbrev</th>\n",
       "      <td>AL</td>\n",
       "      <td>MA</td>\n",
       "      <td>NV</td>\n",
       "    </tr>\n",
       "    <tr>\n",
       "      <th>district_code</th>\n",
       "      <td>4</td>\n",
       "      <td>4</td>\n",
       "      <td>2</td>\n",
       "    </tr>\n",
       "    <tr>\n",
       "      <th>icpsr</th>\n",
       "      <td>29701</td>\n",
       "      <td>22100</td>\n",
       "      <td>21196</td>\n",
       "    </tr>\n",
       "    <tr>\n",
       "      <th>party</th>\n",
       "      <td>Republican</td>\n",
       "      <td>Democrat</td>\n",
       "      <td>Republican</td>\n",
       "    </tr>\n",
       "  </tbody>\n",
       "</table>\n",
       "</div>"
      ],
      "text/plain": [
       "                                                                     0  \\\n",
       "bioguide_id                                                    A000055   \n",
       "full_name                                           Robert B. Aderholt   \n",
       "chamber                                       House of Representatives   \n",
       "birthyear                                                       1965.0   \n",
       "image                https://www.congress.gov/img/member/a000055_20...   \n",
       "office_address       272 Cannon House Office Building, Washington, ...   \n",
       "phone                                                   (202) 225-4876   \n",
       "website                                    https://aderholt.house.gov/   \n",
       "fec_id                                                       H6AL04098   \n",
       "left_right_ideology                                              0.405   \n",
       "state_abbrev                                                        AL   \n",
       "district_code                                                        4   \n",
       "icpsr                                                            29701   \n",
       "party                                                       Republican   \n",
       "\n",
       "                                                                     1  \\\n",
       "bioguide_id                                                    A000148   \n",
       "full_name                                             Jake Auchincloss   \n",
       "chamber                                       House of Representatives   \n",
       "birthyear                                                       1988.0   \n",
       "image                https://www.congress.gov/img/member/67817e391f...   \n",
       "office_address       1524 Longworth House Office Building, Washingt...   \n",
       "phone                                                   (202) 225-5931   \n",
       "website                                  https://auchincloss.house.gov   \n",
       "fec_id                                                       H0MA04192   \n",
       "left_right_ideology                                             -0.288   \n",
       "state_abbrev                                                        MA   \n",
       "district_code                                                        4   \n",
       "icpsr                                                            22100   \n",
       "party                                                         Democrat   \n",
       "\n",
       "                                                                     2  \n",
       "bioguide_id                                                    A000369  \n",
       "full_name                                               Mark E. Amodei  \n",
       "chamber                                       House of Representatives  \n",
       "birthyear                                                       1958.0  \n",
       "image                https://www.congress.gov/img/member/a000369_20...  \n",
       "office_address       104 Cannon House Office Building, Washington, ...  \n",
       "phone                                                   (202) 225-6155  \n",
       "website                                       https://amodei.house.gov  \n",
       "fec_id                                                       H2NV02395  \n",
       "left_right_ideology                                              0.384  \n",
       "state_abbrev                                                        NV  \n",
       "district_code                                                        2  \n",
       "icpsr                                                            21196  \n",
       "party                                                       Republican  "
      ]
     },
     "execution_count": 31,
     "metadata": {},
     "output_type": "execute_result"
    }
   ],
   "source": [
    "members.head(3).T"
   ]
  },
  {
   "cell_type": "code",
   "execution_count": 32,
   "metadata": {},
   "outputs": [],
   "source": [
    "members.to_csv('../data/thirdNF/members.csv', index=False)  "
   ]
  },
  {
   "cell_type": "code",
   "execution_count": 33,
   "metadata": {},
   "outputs": [
    {
     "data": {
      "application/vnd.microsoft.datawrangler.viewer.v0+json": {
       "columns": [
        {
         "name": "index",
         "rawType": "object",
         "type": "string"
        },
        {
         "name": "0",
         "rawType": "object",
         "type": "unknown"
        },
        {
         "name": "1",
         "rawType": "object",
         "type": "unknown"
        },
        {
         "name": "2",
         "rawType": "object",
         "type": "unknown"
        }
       ],
       "ref": "4c8581c5-afd0-4347-baf4-eb45ae3628ba",
       "rows": [
        [
         "actionDate",
         "2025-10-15",
         "2025-10-08",
         "2025-10-08"
        ],
        [
         "actionDesc",
         "Introduced in Senate",
         "Introduced in House",
         "Introduced in House"
        ],
        [
         "currentChamber",
         "Senate",
         "House",
         "House"
        ],
        [
         "currentChamberCode",
         "S",
         "H",
         "H"
        ],
        [
         "lastSummaryUpdateDate",
         "2025-10-20T19:23:02Z",
         "2025-10-20T14:56:29Z",
         "2025-10-20T14:06:32Z"
        ],
        [
         "text",
         "<p><strong>Shutdown Fairness Act</strong></p><p>This bill provides appropriations to pay federal employees who work during a government shutdown.</p><p>Specifically, the bill provides appropriations for federal agencies to provide standard rates of pay, allowances, pay differentials, benefits, and other payments to excepted employees for work performed during any period in which interim continuing appropriations or full-year appropriations are not in effect for a fiscal year (i.e., a government shutdown). An excepted employee is an employee who is required to work during a government shutdown.</p><p>Under current law, excepted employees are not paid until the government shutdown is over. This bill provides appropriations to pay excepted employees during a government shutdown. The bill also specifies that the term&nbsp;<em>excepted employee </em>includes certain contractors who support federal employees during a government shutdown and members of the Armed Forces who are on active duty.&nbsp;</p><p>A federal agency may not use the funds provided by this bill during any period in which continuing appropriations are in effect for the purpose of paying&nbsp;excepted employees of the agency.</p><p>The bill must take effect as if it had been enacted on September 30, 2025.&nbsp;</p>",
         "<p><strong>Federal Worker Childcare Protection Act of 2025</strong></p><p>This bill authorizes certain federal employees to be reimbursed for childcare expenses paid during the government shutdown that began on October 1, 2025.</p><p>Under the bill, any federal employee who was furloughed or worked without receiving a paycheck during the lapse in appropriations (i.e., government shutdown)&nbsp;that began on October 1, 2025, and paid for childcare during the lapse is eligible to be reimbursed for the childcare expenses if (1) appropriations are provided for this purpose, and (2) the employee submits a receipt from a childcare provider to the General Services Administration.&nbsp;</p>",
         "<p>This bill requires the federal government to reimburse state agencies that use state funds to carry out operations necessary to maintain participation in the Special Supplemental Nutrition Program for Women, Infants, and Children (WIC) during a lapse in discretionary appropriations (i.e., government shutdown). WIC&nbsp;provides nutrition-rich foods, nutrition education, and health care and social services referrals to eligible low-income women, infants, and children.</p>"
        ],
        [
         "updateDate",
         "2025-10-20T19:23:15Z",
         "2025-10-20T14:56:58Z",
         "2025-10-20T14:07:00Z"
        ],
        [
         "versionCode",
         "0",
         "0",
         "0"
        ],
        [
         "bill.congress",
         "119",
         "119",
         "119"
        ],
        [
         "bill.number",
         "3012",
         "5720",
         "5705"
        ],
        [
         "bill.originChamber",
         "Senate",
         "House",
         "House"
        ],
        [
         "bill.originChamberCode",
         "S",
         "H",
         "H"
        ],
        [
         "bill.title",
         "Shutdown Fairness Act",
         "Federal Worker Childcare Protection Act of 2025",
         "To authorize the reimbursement by the Federal Government of State funds used to maintain participation in the Special Supplemental Nutrition Program for Women, Infants, and Children in the event of a Government shutdown."
        ],
        [
         "bill.type",
         "S",
         "HR",
         "HR"
        ],
        [
         "bill.updateDateIncludingText",
         "2025-10-21",
         "2025-10-20",
         "2025-10-20"
        ],
        [
         "bill.url",
         "https://api.congress.gov/v3/bill/119/s/3012?format=json",
         "https://api.congress.gov/v3/bill/119/hr/5720?format=json",
         "https://api.congress.gov/v3/bill/119/hr/5705?format=json"
        ]
       ],
       "shape": {
        "columns": 3,
        "rows": 16
       }
      },
      "text/html": [
       "<div>\n",
       "<style scoped>\n",
       "    .dataframe tbody tr th:only-of-type {\n",
       "        vertical-align: middle;\n",
       "    }\n",
       "\n",
       "    .dataframe tbody tr th {\n",
       "        vertical-align: top;\n",
       "    }\n",
       "\n",
       "    .dataframe thead th {\n",
       "        text-align: right;\n",
       "    }\n",
       "</style>\n",
       "<table border=\"1\" class=\"dataframe\">\n",
       "  <thead>\n",
       "    <tr style=\"text-align: right;\">\n",
       "      <th></th>\n",
       "      <th>0</th>\n",
       "      <th>1</th>\n",
       "      <th>2</th>\n",
       "    </tr>\n",
       "  </thead>\n",
       "  <tbody>\n",
       "    <tr>\n",
       "      <th>actionDate</th>\n",
       "      <td>2025-10-15</td>\n",
       "      <td>2025-10-08</td>\n",
       "      <td>2025-10-08</td>\n",
       "    </tr>\n",
       "    <tr>\n",
       "      <th>actionDesc</th>\n",
       "      <td>Introduced in Senate</td>\n",
       "      <td>Introduced in House</td>\n",
       "      <td>Introduced in House</td>\n",
       "    </tr>\n",
       "    <tr>\n",
       "      <th>currentChamber</th>\n",
       "      <td>Senate</td>\n",
       "      <td>House</td>\n",
       "      <td>House</td>\n",
       "    </tr>\n",
       "    <tr>\n",
       "      <th>currentChamberCode</th>\n",
       "      <td>S</td>\n",
       "      <td>H</td>\n",
       "      <td>H</td>\n",
       "    </tr>\n",
       "    <tr>\n",
       "      <th>lastSummaryUpdateDate</th>\n",
       "      <td>2025-10-20T19:23:02Z</td>\n",
       "      <td>2025-10-20T14:56:29Z</td>\n",
       "      <td>2025-10-20T14:06:32Z</td>\n",
       "    </tr>\n",
       "    <tr>\n",
       "      <th>text</th>\n",
       "      <td>&lt;p&gt;&lt;strong&gt;Shutdown Fairness Act&lt;/strong&gt;&lt;/p&gt;&lt;...</td>\n",
       "      <td>&lt;p&gt;&lt;strong&gt;Federal Worker Childcare Protection...</td>\n",
       "      <td>&lt;p&gt;This bill requires the federal government t...</td>\n",
       "    </tr>\n",
       "    <tr>\n",
       "      <th>updateDate</th>\n",
       "      <td>2025-10-20T19:23:15Z</td>\n",
       "      <td>2025-10-20T14:56:58Z</td>\n",
       "      <td>2025-10-20T14:07:00Z</td>\n",
       "    </tr>\n",
       "    <tr>\n",
       "      <th>versionCode</th>\n",
       "      <td>0</td>\n",
       "      <td>0</td>\n",
       "      <td>0</td>\n",
       "    </tr>\n",
       "    <tr>\n",
       "      <th>bill.congress</th>\n",
       "      <td>119</td>\n",
       "      <td>119</td>\n",
       "      <td>119</td>\n",
       "    </tr>\n",
       "    <tr>\n",
       "      <th>bill.number</th>\n",
       "      <td>3012</td>\n",
       "      <td>5720</td>\n",
       "      <td>5705</td>\n",
       "    </tr>\n",
       "    <tr>\n",
       "      <th>bill.originChamber</th>\n",
       "      <td>Senate</td>\n",
       "      <td>House</td>\n",
       "      <td>House</td>\n",
       "    </tr>\n",
       "    <tr>\n",
       "      <th>bill.originChamberCode</th>\n",
       "      <td>S</td>\n",
       "      <td>H</td>\n",
       "      <td>H</td>\n",
       "    </tr>\n",
       "    <tr>\n",
       "      <th>bill.title</th>\n",
       "      <td>Shutdown Fairness Act</td>\n",
       "      <td>Federal Worker Childcare Protection Act of 2025</td>\n",
       "      <td>To authorize the reimbursement by the Federal ...</td>\n",
       "    </tr>\n",
       "    <tr>\n",
       "      <th>bill.type</th>\n",
       "      <td>S</td>\n",
       "      <td>HR</td>\n",
       "      <td>HR</td>\n",
       "    </tr>\n",
       "    <tr>\n",
       "      <th>bill.updateDateIncludingText</th>\n",
       "      <td>2025-10-21</td>\n",
       "      <td>2025-10-20</td>\n",
       "      <td>2025-10-20</td>\n",
       "    </tr>\n",
       "    <tr>\n",
       "      <th>bill.url</th>\n",
       "      <td>https://api.congress.gov/v3/bill/119/s/3012?fo...</td>\n",
       "      <td>https://api.congress.gov/v3/bill/119/hr/5720?f...</td>\n",
       "      <td>https://api.congress.gov/v3/bill/119/hr/5705?f...</td>\n",
       "    </tr>\n",
       "  </tbody>\n",
       "</table>\n",
       "</div>"
      ],
      "text/plain": [
       "                                                                              0  \\\n",
       "actionDate                                                           2025-10-15   \n",
       "actionDesc                                                 Introduced in Senate   \n",
       "currentChamber                                                           Senate   \n",
       "currentChamberCode                                                            S   \n",
       "lastSummaryUpdateDate                                      2025-10-20T19:23:02Z   \n",
       "text                          <p><strong>Shutdown Fairness Act</strong></p><...   \n",
       "updateDate                                                 2025-10-20T19:23:15Z   \n",
       "versionCode                                                                   0   \n",
       "bill.congress                                                               119   \n",
       "bill.number                                                                3012   \n",
       "bill.originChamber                                                       Senate   \n",
       "bill.originChamberCode                                                        S   \n",
       "bill.title                                                Shutdown Fairness Act   \n",
       "bill.type                                                                     S   \n",
       "bill.updateDateIncludingText                                         2025-10-21   \n",
       "bill.url                      https://api.congress.gov/v3/bill/119/s/3012?fo...   \n",
       "\n",
       "                                                                              1  \\\n",
       "actionDate                                                           2025-10-08   \n",
       "actionDesc                                                  Introduced in House   \n",
       "currentChamber                                                            House   \n",
       "currentChamberCode                                                            H   \n",
       "lastSummaryUpdateDate                                      2025-10-20T14:56:29Z   \n",
       "text                          <p><strong>Federal Worker Childcare Protection...   \n",
       "updateDate                                                 2025-10-20T14:56:58Z   \n",
       "versionCode                                                                   0   \n",
       "bill.congress                                                               119   \n",
       "bill.number                                                                5720   \n",
       "bill.originChamber                                                        House   \n",
       "bill.originChamberCode                                                        H   \n",
       "bill.title                      Federal Worker Childcare Protection Act of 2025   \n",
       "bill.type                                                                    HR   \n",
       "bill.updateDateIncludingText                                         2025-10-20   \n",
       "bill.url                      https://api.congress.gov/v3/bill/119/hr/5720?f...   \n",
       "\n",
       "                                                                              2  \n",
       "actionDate                                                           2025-10-08  \n",
       "actionDesc                                                  Introduced in House  \n",
       "currentChamber                                                            House  \n",
       "currentChamberCode                                                            H  \n",
       "lastSummaryUpdateDate                                      2025-10-20T14:06:32Z  \n",
       "text                          <p>This bill requires the federal government t...  \n",
       "updateDate                                                 2025-10-20T14:07:00Z  \n",
       "versionCode                                                                   0  \n",
       "bill.congress                                                               119  \n",
       "bill.number                                                                5705  \n",
       "bill.originChamber                                                        House  \n",
       "bill.originChamberCode                                                        H  \n",
       "bill.title                    To authorize the reimbursement by the Federal ...  \n",
       "bill.type                                                                    HR  \n",
       "bill.updateDateIncludingText                                         2025-10-20  \n",
       "bill.url                      https://api.congress.gov/v3/bill/119/hr/5705?f...  "
      ]
     },
     "execution_count": 33,
     "metadata": {},
     "output_type": "execute_result"
    }
   ],
   "source": [
    "bill_summaries.head(3).T"
   ]
  },
  {
   "cell_type": "code",
   "execution_count": 34,
   "metadata": {},
   "outputs": [
    {
     "name": "stdout",
     "output_type": "stream",
     "text": [
      "actionDate\n",
      "False\n",
      "actionDesc\n",
      "False\n",
      "currentChamber\n",
      "False\n",
      "currentChamberCode\n",
      "False\n",
      "lastSummaryUpdateDate\n",
      "False\n",
      "text\n",
      "False\n",
      "updateDate\n",
      "False\n",
      "versionCode\n",
      "False\n",
      "bill.congress\n",
      "True\n",
      "bill.number\n",
      "True\n",
      "bill.originChamber\n",
      "True\n",
      "bill.originChamberCode\n",
      "True\n",
      "bill.title\n",
      "True\n",
      "bill.type\n",
      "True\n",
      "bill.updateDateIncludingText\n",
      "True\n",
      "bill.url\n",
      "True\n"
     ]
    }
   ],
   "source": [
    "for c in bill_summaries.columns:\n",
    "        print(c)\n",
    "        d = bill_summaries.groupby(['bill.type', 'bill.number']).agg({c: 'nunique'})\n",
    "        print(np.mean(d[c]) == 1)\n"
   ]
  },
  {
   "cell_type": "code",
   "execution_count": 35,
   "metadata": {},
   "outputs": [],
   "source": [
    "bills = bill_summaries[['bill.type', 'bill.number', 'bill.congress', 'bill.originChamber', \n",
    "                       'bill.originChamberCode', 'bill.title', 'bill.updateDateIncludingText',\n",
    "                       'bill.url']].drop_duplicates()\n",
    "bills.columns = [c.lower().replace('.', '_') for c in bills.columns]\n",
    "bills.to_csv('../data/thirdNF/bills.csv')\n"
   ]
  },
  {
   "cell_type": "code",
   "execution_count": 36,
   "metadata": {},
   "outputs": [],
   "source": [
    "bill_versions = bill_summaries.drop(['bill.congress', 'bill.originChamber', \n",
    "                       'bill.originChamberCode', 'bill.title', 'bill.updateDateIncludingText',\n",
    "                       'bill.url'], axis=1)"
   ]
  },
  {
   "cell_type": "code",
   "execution_count": 37,
   "metadata": {},
   "outputs": [],
   "source": [
    "bill_versions .columns = [c.lower().replace('.', '_') for c in bill_versions.columns]\n",
    "bill_versions.to_csv('../data/thirdNF/bill_versions.csv')"
   ]
  },
  {
   "cell_type": "code",
   "execution_count": 38,
   "metadata": {},
   "outputs": [
    {
     "data": {
      "application/vnd.microsoft.datawrangler.viewer.v0+json": {
       "columns": [
        {
         "name": "index",
         "rawType": "object",
         "type": "string"
        },
        {
         "name": "0",
         "rawType": "object",
         "type": "unknown"
        },
        {
         "name": "1",
         "rawType": "object",
         "type": "unknown"
        },
        {
         "name": "2",
         "rawType": "object",
         "type": "unknown"
        }
       ],
       "ref": "8ed4ebac-d081-45e5-ae34-28a011f5c6f9",
       "rows": [
        [
         "bioname",
         "GRASSLEY, Charles Ernest",
         "GRASSLEY, Charles Ernest",
         "GRASSLEY, Charles Ernest"
        ],
        [
         "comparison_member",
         "MARKEY, Edward John",
         "SCHUMER, Charles Ellis (Chuck)",
         "WYDEN, Ronald Lee"
        ],
        [
         "agree",
         "0.0210526315789473",
         "0.0719298245614035",
         "0.0526315789473684"
        ]
       ],
       "shape": {
        "columns": 3,
        "rows": 3
       }
      },
      "text/html": [
       "<div>\n",
       "<style scoped>\n",
       "    .dataframe tbody tr th:only-of-type {\n",
       "        vertical-align: middle;\n",
       "    }\n",
       "\n",
       "    .dataframe tbody tr th {\n",
       "        vertical-align: top;\n",
       "    }\n",
       "\n",
       "    .dataframe thead th {\n",
       "        text-align: right;\n",
       "    }\n",
       "</style>\n",
       "<table border=\"1\" class=\"dataframe\">\n",
       "  <thead>\n",
       "    <tr style=\"text-align: right;\">\n",
       "      <th></th>\n",
       "      <th>0</th>\n",
       "      <th>1</th>\n",
       "      <th>2</th>\n",
       "    </tr>\n",
       "  </thead>\n",
       "  <tbody>\n",
       "    <tr>\n",
       "      <th>bioname</th>\n",
       "      <td>GRASSLEY, Charles Ernest</td>\n",
       "      <td>GRASSLEY, Charles Ernest</td>\n",
       "      <td>GRASSLEY, Charles Ernest</td>\n",
       "    </tr>\n",
       "    <tr>\n",
       "      <th>comparison_member</th>\n",
       "      <td>MARKEY, Edward John</td>\n",
       "      <td>SCHUMER, Charles Ellis (Chuck)</td>\n",
       "      <td>WYDEN, Ronald Lee</td>\n",
       "    </tr>\n",
       "    <tr>\n",
       "      <th>agree</th>\n",
       "      <td>0.021053</td>\n",
       "      <td>0.07193</td>\n",
       "      <td>0.052632</td>\n",
       "    </tr>\n",
       "  </tbody>\n",
       "</table>\n",
       "</div>"
      ],
      "text/plain": [
       "                                          0                               1  \\\n",
       "bioname            GRASSLEY, Charles Ernest        GRASSLEY, Charles Ernest   \n",
       "comparison_member       MARKEY, Edward John  SCHUMER, Charles Ellis (Chuck)   \n",
       "agree                              0.021053                         0.07193   \n",
       "\n",
       "                                          2  \n",
       "bioname            GRASSLEY, Charles Ernest  \n",
       "comparison_member         WYDEN, Ronald Lee  \n",
       "agree                              0.052632  "
      ]
     },
     "execution_count": 38,
     "metadata": {},
     "output_type": "execute_result"
    }
   ],
   "source": [
    "vote_compare.head(3).T"
   ]
  },
  {
   "cell_type": "code",
   "execution_count": 39,
   "metadata": {},
   "outputs": [],
   "source": [
    "vote_compare.to_csv('../data/thirdNF/vote_compare.csv', index=False)"
   ]
  },
  {
   "cell_type": "code",
   "execution_count": 40,
   "metadata": {},
   "outputs": [
    {
     "data": {
      "application/vnd.microsoft.datawrangler.viewer.v0+json": {
       "columns": [
        {
         "name": "index",
         "rawType": "int64",
         "type": "integer"
        },
        {
         "name": "introducedDate",
         "rawType": "object",
         "type": "string"
        },
        {
         "name": "type",
         "rawType": "object",
         "type": "unknown"
        },
        {
         "name": "url",
         "rawType": "object",
         "type": "string"
        },
        {
         "name": "number",
         "rawType": "float64",
         "type": "float"
        },
        {
         "name": "title",
         "rawType": "object",
         "type": "unknown"
        },
        {
         "name": "bioguide_id",
         "rawType": "object",
         "type": "string"
        }
       ],
       "ref": "0b562a4a-72ba-4660-9923-1a6725b951e5",
       "rows": [
        [
         "0",
         "2025-09-10",
         null,
         "https://api.congress.gov/v3/amendment/119/hamdt/101?format=json",
         null,
         null,
         "R000575"
        ],
        [
         "1",
         "2025-09-09",
         null,
         "https://api.congress.gov/v3/amendment/119/hamdt/80?format=json",
         null,
         null,
         "R000575"
        ],
        [
         "2",
         "2025-09-09",
         null,
         "https://api.congress.gov/v3/amendment/119/hamdt/77?format=json",
         null,
         null,
         "R000575"
        ],
        [
         "3",
         "2025-09-09",
         null,
         "https://api.congress.gov/v3/amendment/119/hamdt/83?format=json",
         null,
         null,
         "R000575"
        ],
        [
         "4",
         "2025-09-09",
         null,
         "https://api.congress.gov/v3/amendment/119/hamdt/84?format=json",
         null,
         null,
         "R000575"
        ],
        [
         "5",
         "2025-09-09",
         null,
         "https://api.congress.gov/v3/amendment/119/hamdt/82?format=json",
         null,
         null,
         "R000575"
        ],
        [
         "6",
         "2025-06-25",
         "HR",
         "https://api.congress.gov/v3/bill/119/hr/4147?format=json",
         "4147.0",
         "Poarch Band of Creek Indians Parity Act",
         "R000575"
        ],
        [
         "7",
         "2025-06-09",
         "HR",
         "https://api.congress.gov/v3/bill/119/hr/3838?format=json",
         "3838.0",
         "Streamlining Procurement for Effective Execution and Delivery and National Defense Authorization Act for Fiscal Year 2026",
         "R000575"
        ],
        [
         "8",
         "2025-04-08",
         "HR",
         "https://api.congress.gov/v3/bill/119/hr/2740?format=json",
         "2740.0",
         "To modify the boundaries of the Talladega National Forest, and for other purposes.",
         "R000575"
        ],
        [
         "9",
         "2025-03-31",
         "HR",
         "https://api.congress.gov/v3/bill/119/hr/2519?format=json",
         "2519.0",
         "To provide a per diem allowance for Members of Congress for the costs of lodging, meals, and incidental expenses incurred because of travel to and from the Washington Metropolitan Area in order to cast votes in Congress, and for other purposes.",
         "R000575"
        ],
        [
         "10",
         "2025-02-26",
         "HR",
         "https://api.congress.gov/v3/bill/119/hr/1630?format=json",
         "1630.0",
         "To allow States to elect to observe year-round daylight saving time, and for other purposes.",
         "R000575"
        ],
        [
         "11",
         "2025-02-25",
         "HR",
         "https://api.congress.gov/v3/bill/119/hr/1580?format=json",
         "1580.0",
         "To amend section 3001 of title 39, United States Code, to require solicitations sent in the mail to be clearly identified as solicitations, and for other purposes.",
         "R000575"
        ],
        [
         "12",
         "2025-01-31",
         "HRES",
         "https://api.congress.gov/v3/bill/119/hres/80?format=json",
         "80.0",
         "Providing amounts for the expenses of the Committee on Armed Services in the One Hundred Nineteenth Congress.",
         "R000575"
        ],
        [
         "13",
         "2025-09-16",
         "HR",
         "https://api.congress.gov/v3/bill/119/hr/5377?format=json",
         "5377.0",
         "Rural Health Training Opportunities Act",
         "S001185"
        ],
        [
         "14",
         "2025-07-23",
         "HR",
         "https://api.congress.gov/v3/bill/119/hr/4731?format=json",
         "4731.0",
         "Resident Physician Shortage Reduction Act of 2025",
         "S001185"
        ]
       ],
       "shape": {
        "columns": 6,
        "rows": 15
       }
      },
      "text/html": [
       "<div>\n",
       "<style scoped>\n",
       "    .dataframe tbody tr th:only-of-type {\n",
       "        vertical-align: middle;\n",
       "    }\n",
       "\n",
       "    .dataframe tbody tr th {\n",
       "        vertical-align: top;\n",
       "    }\n",
       "\n",
       "    .dataframe thead th {\n",
       "        text-align: right;\n",
       "    }\n",
       "</style>\n",
       "<table border=\"1\" class=\"dataframe\">\n",
       "  <thead>\n",
       "    <tr style=\"text-align: right;\">\n",
       "      <th></th>\n",
       "      <th>introducedDate</th>\n",
       "      <th>type</th>\n",
       "      <th>url</th>\n",
       "      <th>number</th>\n",
       "      <th>title</th>\n",
       "      <th>bioguide_id</th>\n",
       "    </tr>\n",
       "  </thead>\n",
       "  <tbody>\n",
       "    <tr>\n",
       "      <th>0</th>\n",
       "      <td>2025-09-10</td>\n",
       "      <td>NaN</td>\n",
       "      <td>https://api.congress.gov/v3/amendment/119/hamd...</td>\n",
       "      <td>NaN</td>\n",
       "      <td>NaN</td>\n",
       "      <td>R000575</td>\n",
       "    </tr>\n",
       "    <tr>\n",
       "      <th>1</th>\n",
       "      <td>2025-09-09</td>\n",
       "      <td>NaN</td>\n",
       "      <td>https://api.congress.gov/v3/amendment/119/hamd...</td>\n",
       "      <td>NaN</td>\n",
       "      <td>NaN</td>\n",
       "      <td>R000575</td>\n",
       "    </tr>\n",
       "    <tr>\n",
       "      <th>2</th>\n",
       "      <td>2025-09-09</td>\n",
       "      <td>NaN</td>\n",
       "      <td>https://api.congress.gov/v3/amendment/119/hamd...</td>\n",
       "      <td>NaN</td>\n",
       "      <td>NaN</td>\n",
       "      <td>R000575</td>\n",
       "    </tr>\n",
       "    <tr>\n",
       "      <th>3</th>\n",
       "      <td>2025-09-09</td>\n",
       "      <td>NaN</td>\n",
       "      <td>https://api.congress.gov/v3/amendment/119/hamd...</td>\n",
       "      <td>NaN</td>\n",
       "      <td>NaN</td>\n",
       "      <td>R000575</td>\n",
       "    </tr>\n",
       "    <tr>\n",
       "      <th>4</th>\n",
       "      <td>2025-09-09</td>\n",
       "      <td>NaN</td>\n",
       "      <td>https://api.congress.gov/v3/amendment/119/hamd...</td>\n",
       "      <td>NaN</td>\n",
       "      <td>NaN</td>\n",
       "      <td>R000575</td>\n",
       "    </tr>\n",
       "    <tr>\n",
       "      <th>5</th>\n",
       "      <td>2025-09-09</td>\n",
       "      <td>NaN</td>\n",
       "      <td>https://api.congress.gov/v3/amendment/119/hamd...</td>\n",
       "      <td>NaN</td>\n",
       "      <td>NaN</td>\n",
       "      <td>R000575</td>\n",
       "    </tr>\n",
       "    <tr>\n",
       "      <th>6</th>\n",
       "      <td>2025-06-25</td>\n",
       "      <td>HR</td>\n",
       "      <td>https://api.congress.gov/v3/bill/119/hr/4147?f...</td>\n",
       "      <td>4147.0</td>\n",
       "      <td>Poarch Band of Creek Indians Parity Act</td>\n",
       "      <td>R000575</td>\n",
       "    </tr>\n",
       "    <tr>\n",
       "      <th>7</th>\n",
       "      <td>2025-06-09</td>\n",
       "      <td>HR</td>\n",
       "      <td>https://api.congress.gov/v3/bill/119/hr/3838?f...</td>\n",
       "      <td>3838.0</td>\n",
       "      <td>Streamlining Procurement for Effective Executi...</td>\n",
       "      <td>R000575</td>\n",
       "    </tr>\n",
       "    <tr>\n",
       "      <th>8</th>\n",
       "      <td>2025-04-08</td>\n",
       "      <td>HR</td>\n",
       "      <td>https://api.congress.gov/v3/bill/119/hr/2740?f...</td>\n",
       "      <td>2740.0</td>\n",
       "      <td>To modify the boundaries of the Talladega Nati...</td>\n",
       "      <td>R000575</td>\n",
       "    </tr>\n",
       "    <tr>\n",
       "      <th>9</th>\n",
       "      <td>2025-03-31</td>\n",
       "      <td>HR</td>\n",
       "      <td>https://api.congress.gov/v3/bill/119/hr/2519?f...</td>\n",
       "      <td>2519.0</td>\n",
       "      <td>To provide a per diem allowance for Members of...</td>\n",
       "      <td>R000575</td>\n",
       "    </tr>\n",
       "    <tr>\n",
       "      <th>10</th>\n",
       "      <td>2025-02-26</td>\n",
       "      <td>HR</td>\n",
       "      <td>https://api.congress.gov/v3/bill/119/hr/1630?f...</td>\n",
       "      <td>1630.0</td>\n",
       "      <td>To allow States to elect to observe year-round...</td>\n",
       "      <td>R000575</td>\n",
       "    </tr>\n",
       "    <tr>\n",
       "      <th>11</th>\n",
       "      <td>2025-02-25</td>\n",
       "      <td>HR</td>\n",
       "      <td>https://api.congress.gov/v3/bill/119/hr/1580?f...</td>\n",
       "      <td>1580.0</td>\n",
       "      <td>To amend section 3001 of title 39, United Stat...</td>\n",
       "      <td>R000575</td>\n",
       "    </tr>\n",
       "    <tr>\n",
       "      <th>12</th>\n",
       "      <td>2025-01-31</td>\n",
       "      <td>HRES</td>\n",
       "      <td>https://api.congress.gov/v3/bill/119/hres/80?f...</td>\n",
       "      <td>80.0</td>\n",
       "      <td>Providing amounts for the expenses of the Comm...</td>\n",
       "      <td>R000575</td>\n",
       "    </tr>\n",
       "    <tr>\n",
       "      <th>13</th>\n",
       "      <td>2025-09-16</td>\n",
       "      <td>HR</td>\n",
       "      <td>https://api.congress.gov/v3/bill/119/hr/5377?f...</td>\n",
       "      <td>5377.0</td>\n",
       "      <td>Rural Health Training Opportunities Act</td>\n",
       "      <td>S001185</td>\n",
       "    </tr>\n",
       "    <tr>\n",
       "      <th>14</th>\n",
       "      <td>2025-07-23</td>\n",
       "      <td>HR</td>\n",
       "      <td>https://api.congress.gov/v3/bill/119/hr/4731?f...</td>\n",
       "      <td>4731.0</td>\n",
       "      <td>Resident Physician Shortage Reduction Act of 2025</td>\n",
       "      <td>S001185</td>\n",
       "    </tr>\n",
       "  </tbody>\n",
       "</table>\n",
       "</div>"
      ],
      "text/plain": [
       "   introducedDate  type                                                url  \\\n",
       "0      2025-09-10   NaN  https://api.congress.gov/v3/amendment/119/hamd...   \n",
       "1      2025-09-09   NaN  https://api.congress.gov/v3/amendment/119/hamd...   \n",
       "2      2025-09-09   NaN  https://api.congress.gov/v3/amendment/119/hamd...   \n",
       "3      2025-09-09   NaN  https://api.congress.gov/v3/amendment/119/hamd...   \n",
       "4      2025-09-09   NaN  https://api.congress.gov/v3/amendment/119/hamd...   \n",
       "5      2025-09-09   NaN  https://api.congress.gov/v3/amendment/119/hamd...   \n",
       "6      2025-06-25    HR  https://api.congress.gov/v3/bill/119/hr/4147?f...   \n",
       "7      2025-06-09    HR  https://api.congress.gov/v3/bill/119/hr/3838?f...   \n",
       "8      2025-04-08    HR  https://api.congress.gov/v3/bill/119/hr/2740?f...   \n",
       "9      2025-03-31    HR  https://api.congress.gov/v3/bill/119/hr/2519?f...   \n",
       "10     2025-02-26    HR  https://api.congress.gov/v3/bill/119/hr/1630?f...   \n",
       "11     2025-02-25    HR  https://api.congress.gov/v3/bill/119/hr/1580?f...   \n",
       "12     2025-01-31  HRES  https://api.congress.gov/v3/bill/119/hres/80?f...   \n",
       "13     2025-09-16    HR  https://api.congress.gov/v3/bill/119/hr/5377?f...   \n",
       "14     2025-07-23    HR  https://api.congress.gov/v3/bill/119/hr/4731?f...   \n",
       "\n",
       "    number                                              title bioguide_id  \n",
       "0      NaN                                                NaN     R000575  \n",
       "1      NaN                                                NaN     R000575  \n",
       "2      NaN                                                NaN     R000575  \n",
       "3      NaN                                                NaN     R000575  \n",
       "4      NaN                                                NaN     R000575  \n",
       "5      NaN                                                NaN     R000575  \n",
       "6   4147.0            Poarch Band of Creek Indians Parity Act     R000575  \n",
       "7   3838.0  Streamlining Procurement for Effective Executi...     R000575  \n",
       "8   2740.0  To modify the boundaries of the Talladega Nati...     R000575  \n",
       "9   2519.0  To provide a per diem allowance for Members of...     R000575  \n",
       "10  1630.0  To allow States to elect to observe year-round...     R000575  \n",
       "11  1580.0  To amend section 3001 of title 39, United Stat...     R000575  \n",
       "12    80.0  Providing amounts for the expenses of the Comm...     R000575  \n",
       "13  5377.0            Rural Health Training Opportunities Act     S001185  \n",
       "14  4731.0  Resident Physician Shortage Reduction Act of 2025     S001185  "
      ]
     },
     "execution_count": 40,
     "metadata": {},
     "output_type": "execute_result"
    }
   ],
   "source": [
    "sponsored_legislation.head(15)"
   ]
  },
  {
   "cell_type": "code",
   "execution_count": null,
   "metadata": {},
   "outputs": [
    {
     "data": {
      "application/vnd.microsoft.datawrangler.viewer.v0+json": {
       "columns": [
        {
         "name": "index",
         "rawType": "bool",
         "type": "boolean"
        },
        {
         "name": "count",
         "rawType": "int64",
         "type": "integer"
        }
       ],
       "ref": "ed8f3e67-5754-4aa4-b4e2-7d854b7d5772",
       "rows": [
        [
         "False",
         "14379"
        ]
       ],
       "shape": {
        "columns": 1,
        "rows": 1
       }
      },
      "text/plain": [
       "False    14379\n",
       "Name: count, dtype: int64"
      ]
     },
     "execution_count": 41,
     "metadata": {},
     "output_type": "execute_result"
    }
   ],
   "source": [
    "sponsored_legislation[['url']].duplicated().value_counts()"
   ]
  },
  {
   "cell_type": "code",
   "execution_count": 42,
   "metadata": {},
   "outputs": [
    {
     "data": {
      "application/vnd.microsoft.datawrangler.viewer.v0+json": {
       "columns": [
        {
         "name": "index",
         "rawType": "int64",
         "type": "integer"
        },
        {
         "name": "Unnamed: 0",
         "rawType": "int64",
         "type": "integer"
        },
        {
         "name": "bill_type",
         "rawType": "object",
         "type": "string"
        },
        {
         "name": "bill_number",
         "rawType": "int64",
         "type": "integer"
        },
        {
         "name": "bill_congress",
         "rawType": "int64",
         "type": "integer"
        },
        {
         "name": "bill_originchamber",
         "rawType": "object",
         "type": "string"
        },
        {
         "name": "bill_originchambercode",
         "rawType": "object",
         "type": "string"
        },
        {
         "name": "bill_title",
         "rawType": "object",
         "type": "string"
        },
        {
         "name": "bill_updatedateincludingtext",
         "rawType": "object",
         "type": "string"
        },
        {
         "name": "bill_url",
         "rawType": "object",
         "type": "string"
        }
       ],
       "ref": "5e55c8c4-1b51-4115-83db-a24a4e246d6f",
       "rows": [
        [
         "0",
         "0",
         "S",
         "3012",
         "119",
         "Senate",
         "S",
         "Shutdown Fairness Act",
         "2025-10-21",
         "https://api.congress.gov/v3/bill/119/s/3012?format=json"
        ],
        [
         "1",
         "1",
         "HR",
         "5720",
         "119",
         "House",
         "H",
         "Federal Worker Childcare Protection Act of 2025",
         "2025-10-20",
         "https://api.congress.gov/v3/bill/119/hr/5720?format=json"
        ],
        [
         "2",
         "2",
         "HR",
         "5705",
         "119",
         "House",
         "H",
         "To authorize the reimbursement by the Federal Government of State funds used to maintain participation in the Special Supplemental Nutrition Program for Women, Infants, and Children in the event of a Government shutdown.",
         "2025-10-20",
         "https://api.congress.gov/v3/bill/119/hr/5705?format=json"
        ]
       ],
       "shape": {
        "columns": 9,
        "rows": 3
       }
      },
      "text/html": [
       "<div>\n",
       "<style scoped>\n",
       "    .dataframe tbody tr th:only-of-type {\n",
       "        vertical-align: middle;\n",
       "    }\n",
       "\n",
       "    .dataframe tbody tr th {\n",
       "        vertical-align: top;\n",
       "    }\n",
       "\n",
       "    .dataframe thead th {\n",
       "        text-align: right;\n",
       "    }\n",
       "</style>\n",
       "<table border=\"1\" class=\"dataframe\">\n",
       "  <thead>\n",
       "    <tr style=\"text-align: right;\">\n",
       "      <th></th>\n",
       "      <th>Unnamed: 0</th>\n",
       "      <th>bill_type</th>\n",
       "      <th>bill_number</th>\n",
       "      <th>bill_congress</th>\n",
       "      <th>bill_originchamber</th>\n",
       "      <th>bill_originchambercode</th>\n",
       "      <th>bill_title</th>\n",
       "      <th>bill_updatedateincludingtext</th>\n",
       "      <th>bill_url</th>\n",
       "    </tr>\n",
       "  </thead>\n",
       "  <tbody>\n",
       "    <tr>\n",
       "      <th>0</th>\n",
       "      <td>0</td>\n",
       "      <td>S</td>\n",
       "      <td>3012</td>\n",
       "      <td>119</td>\n",
       "      <td>Senate</td>\n",
       "      <td>S</td>\n",
       "      <td>Shutdown Fairness Act</td>\n",
       "      <td>2025-10-21</td>\n",
       "      <td>https://api.congress.gov/v3/bill/119/s/3012?fo...</td>\n",
       "    </tr>\n",
       "    <tr>\n",
       "      <th>1</th>\n",
       "      <td>1</td>\n",
       "      <td>HR</td>\n",
       "      <td>5720</td>\n",
       "      <td>119</td>\n",
       "      <td>House</td>\n",
       "      <td>H</td>\n",
       "      <td>Federal Worker Childcare Protection Act of 2025</td>\n",
       "      <td>2025-10-20</td>\n",
       "      <td>https://api.congress.gov/v3/bill/119/hr/5720?f...</td>\n",
       "    </tr>\n",
       "    <tr>\n",
       "      <th>2</th>\n",
       "      <td>2</td>\n",
       "      <td>HR</td>\n",
       "      <td>5705</td>\n",
       "      <td>119</td>\n",
       "      <td>House</td>\n",
       "      <td>H</td>\n",
       "      <td>To authorize the reimbursement by the Federal ...</td>\n",
       "      <td>2025-10-20</td>\n",
       "      <td>https://api.congress.gov/v3/bill/119/hr/5705?f...</td>\n",
       "    </tr>\n",
       "  </tbody>\n",
       "</table>\n",
       "</div>"
      ],
      "text/plain": [
       "   Unnamed: 0 bill_type  bill_number  bill_congress bill_originchamber  \\\n",
       "0           0         S         3012            119             Senate   \n",
       "1           1        HR         5720            119              House   \n",
       "2           2        HR         5705            119              House   \n",
       "\n",
       "  bill_originchambercode                                         bill_title  \\\n",
       "0                      S                              Shutdown Fairness Act   \n",
       "1                      H    Federal Worker Childcare Protection Act of 2025   \n",
       "2                      H  To authorize the reimbursement by the Federal ...   \n",
       "\n",
       "  bill_updatedateincludingtext  \\\n",
       "0                   2025-10-21   \n",
       "1                   2025-10-20   \n",
       "2                   2025-10-20   \n",
       "\n",
       "                                            bill_url  \n",
       "0  https://api.congress.gov/v3/bill/119/s/3012?fo...  \n",
       "1  https://api.congress.gov/v3/bill/119/hr/5720?f...  \n",
       "2  https://api.congress.gov/v3/bill/119/hr/5705?f...  "
      ]
     },
     "execution_count": 42,
     "metadata": {},
     "output_type": "execute_result"
    }
   ],
   "source": [
    "bills = pd.read_csv('../data/thirdNF/bills.csv')\n",
    "bills.head(3)"
   ]
  },
  {
   "cell_type": "code",
   "execution_count": 43,
   "metadata": {},
   "outputs": [
    {
     "data": {
      "application/vnd.microsoft.datawrangler.viewer.v0+json": {
       "columns": [
        {
         "name": "index",
         "rawType": "bool",
         "type": "boolean"
        },
        {
         "name": "count",
         "rawType": "int64",
         "type": "integer"
        }
       ],
       "ref": "6687a035-13ff-4fa0-ab0a-4ec468bb7171",
       "rows": [
        [
         "False",
         "2735"
        ]
       ],
       "shape": {
        "columns": 1,
        "rows": 1
       }
      },
      "text/plain": [
       "False    2735\n",
       "Name: count, dtype: int64"
      ]
     },
     "execution_count": 43,
     "metadata": {},
     "output_type": "execute_result"
    }
   ],
   "source": [
    "bills[['bill_url']].duplicated().value_counts()"
   ]
  },
  {
   "cell_type": "code",
   "execution_count": 44,
   "metadata": {},
   "outputs": [],
   "source": [
    "bills2 = pd.merge(bills, sponsored_legislation, \n",
    "                 left_on = 'bill_url',\n",
    "                 right_on = 'url',\n",
    "                 how = 'outer',\n",
    "                 validate ='one_to_one',\n",
    "                 indicator = 'matched')"
   ]
  },
  {
   "cell_type": "code",
   "execution_count": 45,
   "metadata": {},
   "outputs": [
    {
     "data": {
      "application/vnd.microsoft.datawrangler.viewer.v0+json": {
       "columns": [
        {
         "name": "matched",
         "rawType": "category",
         "type": "unknown"
        },
        {
         "name": "count",
         "rawType": "int64",
         "type": "integer"
        }
       ],
       "ref": "33e2dec7-1408-421b-8e51-351d27b052f0",
       "rows": [
        [
         "right_only",
         "11644"
        ],
        [
         "both",
         "2735"
        ],
        [
         "left_only",
         "0"
        ]
       ],
       "shape": {
        "columns": 1,
        "rows": 3
       }
      },
      "text/plain": [
       "matched\n",
       "right_only    11644\n",
       "both           2735\n",
       "left_only         0\n",
       "Name: count, dtype: int64"
      ]
     },
     "execution_count": 45,
     "metadata": {},
     "output_type": "execute_result"
    }
   ],
   "source": [
    "bills2['matched'].value_counts()"
   ]
  },
  {
   "cell_type": "code",
   "execution_count": 46,
   "metadata": {},
   "outputs": [
    {
     "data": {
      "application/vnd.microsoft.datawrangler.viewer.v0+json": {
       "columns": [
        {
         "name": "matched",
         "rawType": "category",
         "type": "unknown"
        },
        {
         "name": "count",
         "rawType": "int64",
         "type": "integer"
        }
       ],
       "ref": "177378e2-3cab-4640-8cdf-76df3c65db03",
       "rows": [
        [
         "right_only",
         "11644"
        ],
        [
         "both",
         "2735"
        ],
        [
         "left_only",
         "0"
        ]
       ],
       "shape": {
        "columns": 1,
        "rows": 3
       }
      },
      "text/plain": [
       "matched\n",
       "right_only    11644\n",
       "both           2735\n",
       "left_only         0\n",
       "Name: count, dtype: int64"
      ]
     },
     "execution_count": 46,
     "metadata": {},
     "output_type": "execute_result"
    }
   ],
   "source": [
    "bills2['matched'].value_counts()"
   ]
  },
  {
   "cell_type": "code",
   "execution_count": 47,
   "metadata": {},
   "outputs": [
    {
     "data": {
      "application/vnd.microsoft.datawrangler.viewer.v0+json": {
       "columns": [
        {
         "name": "index",
         "rawType": "int64",
         "type": "integer"
        },
        {
         "name": "Unnamed: 0",
         "rawType": "float64",
         "type": "float"
        },
        {
         "name": "bill_type",
         "rawType": "object",
         "type": "unknown"
        },
        {
         "name": "bill_number",
         "rawType": "float64",
         "type": "float"
        },
        {
         "name": "bill_congress",
         "rawType": "float64",
         "type": "float"
        },
        {
         "name": "bill_originchamber",
         "rawType": "object",
         "type": "unknown"
        },
        {
         "name": "bill_originchambercode",
         "rawType": "object",
         "type": "unknown"
        },
        {
         "name": "bill_title",
         "rawType": "object",
         "type": "unknown"
        },
        {
         "name": "bill_updatedateincludingtext",
         "rawType": "object",
         "type": "unknown"
        },
        {
         "name": "bill_url",
         "rawType": "object",
         "type": "unknown"
        },
        {
         "name": "introducedDate",
         "rawType": "object",
         "type": "string"
        },
        {
         "name": "type",
         "rawType": "object",
         "type": "unknown"
        },
        {
         "name": "url",
         "rawType": "object",
         "type": "string"
        },
        {
         "name": "number",
         "rawType": "float64",
         "type": "float"
        },
        {
         "name": "title",
         "rawType": "object",
         "type": "unknown"
        },
        {
         "name": "bioguide_id",
         "rawType": "object",
         "type": "string"
        },
        {
         "name": "matched",
         "rawType": "category",
         "type": "unknown"
        }
       ],
       "ref": "c0b552d6-e641-47db-9ae4-3e9debee9276",
       "rows": [
        [
         "0",
         null,
         null,
         null,
         null,
         null,
         null,
         null,
         null,
         null,
         "2025-09-10",
         null,
         "https://api.congress.gov/v3/amendment/119/hamdt/100?format=json",
         null,
         null,
         "R000612",
         "right_only"
        ],
        [
         "1",
         null,
         null,
         null,
         null,
         null,
         null,
         null,
         null,
         null,
         "2025-09-10",
         null,
         "https://api.congress.gov/v3/amendment/119/hamdt/101?format=json",
         null,
         null,
         "R000575",
         "right_only"
        ],
        [
         "2",
         null,
         null,
         null,
         null,
         null,
         null,
         null,
         null,
         null,
         "2025-03-25",
         null,
         "https://api.congress.gov/v3/amendment/119/hamdt/10?format=json",
         null,
         null,
         "O000175",
         "right_only"
        ],
        [
         "3",
         null,
         null,
         null,
         null,
         null,
         null,
         null,
         null,
         null,
         "2025-03-25",
         null,
         "https://api.congress.gov/v3/amendment/119/hamdt/11?format=json",
         null,
         null,
         "O000175",
         "right_only"
        ],
        [
         "4",
         null,
         null,
         null,
         null,
         null,
         null,
         null,
         null,
         null,
         "2025-03-25",
         null,
         "https://api.congress.gov/v3/amendment/119/hamdt/12?format=json",
         null,
         null,
         "S000185",
         "right_only"
        ],
        [
         "5",
         null,
         null,
         null,
         null,
         null,
         null,
         null,
         null,
         null,
         "2025-03-25",
         null,
         "https://api.congress.gov/v3/amendment/119/hamdt/13?format=json",
         null,
         null,
         "S001224",
         "right_only"
        ],
        [
         "6",
         null,
         null,
         null,
         null,
         null,
         null,
         null,
         null,
         null,
         "2025-03-25",
         null,
         "https://api.congress.gov/v3/amendment/119/hamdt/14?format=json",
         null,
         null,
         "T000481",
         "right_only"
        ],
        [
         "7",
         null,
         null,
         null,
         null,
         null,
         null,
         null,
         null,
         null,
         "2025-03-25",
         null,
         "https://api.congress.gov/v3/amendment/119/hamdt/15?format=json",
         null,
         null,
         "T000481",
         "right_only"
        ],
        [
         "8",
         null,
         null,
         null,
         null,
         null,
         null,
         null,
         null,
         null,
         "2025-01-03",
         null,
         "https://api.congress.gov/v3/amendment/119/hamdt/1?format=json",
         null,
         null,
         "A000371",
         "right_only"
        ],
        [
         "9",
         null,
         null,
         null,
         null,
         null,
         null,
         null,
         null,
         null,
         "2025-06-04",
         null,
         "https://api.congress.gov/v3/amendment/119/hamdt/23?format=json",
         null,
         null,
         "B001327",
         "right_only"
        ],
        [
         "10",
         null,
         null,
         null,
         null,
         null,
         null,
         null,
         null,
         null,
         "2025-06-04",
         null,
         "https://api.congress.gov/v3/amendment/119/hamdt/24?format=json",
         null,
         null,
         "K000399",
         "right_only"
        ],
        [
         "11",
         null,
         null,
         null,
         null,
         null,
         null,
         null,
         null,
         null,
         "2025-06-04",
         null,
         "https://api.congress.gov/v3/amendment/119/hamdt/25?format=json",
         null,
         null,
         "P000620",
         "right_only"
        ],
        [
         "12",
         null,
         null,
         null,
         null,
         null,
         null,
         null,
         null,
         null,
         "2025-06-04",
         null,
         "https://api.congress.gov/v3/amendment/119/hamdt/26?format=json",
         null,
         null,
         "W000804",
         "right_only"
        ],
        [
         "13",
         null,
         null,
         null,
         null,
         null,
         null,
         null,
         null,
         null,
         "2025-01-23",
         null,
         "https://api.congress.gov/v3/amendment/119/hamdt/2?format=json",
         null,
         null,
         "P000605",
         "right_only"
        ],
        [
         "14",
         null,
         null,
         null,
         null,
         null,
         null,
         null,
         null,
         null,
         "2025-06-25",
         null,
         "https://api.congress.gov/v3/amendment/119/hamdt/34?format=json",
         null,
         null,
         "C001051",
         "right_only"
        ],
        [
         "15",
         null,
         null,
         null,
         null,
         null,
         null,
         null,
         null,
         null,
         "2025-06-25",
         null,
         "https://api.congress.gov/v3/amendment/119/hamdt/35?format=json",
         null,
         null,
         "C001051",
         "right_only"
        ],
        [
         "16",
         null,
         null,
         null,
         null,
         null,
         null,
         null,
         null,
         null,
         "2025-06-25",
         null,
         "https://api.congress.gov/v3/amendment/119/hamdt/36?format=json",
         null,
         null,
         "C001110",
         "right_only"
        ],
        [
         "17",
         null,
         null,
         null,
         null,
         null,
         null,
         null,
         null,
         null,
         "2025-06-25",
         null,
         "https://api.congress.gov/v3/amendment/119/hamdt/37?format=json",
         null,
         null,
         "J000295",
         "right_only"
        ],
        [
         "18",
         null,
         null,
         null,
         null,
         null,
         null,
         null,
         null,
         null,
         "2025-01-23",
         null,
         "https://api.congress.gov/v3/amendment/119/hamdt/3?format=json",
         null,
         null,
         "C001112",
         "right_only"
        ],
        [
         "19",
         null,
         null,
         null,
         null,
         null,
         null,
         null,
         null,
         null,
         "2025-07-02",
         null,
         "https://api.congress.gov/v3/amendment/119/hamdt/40?format=json",
         null,
         null,
         "F000450",
         "right_only"
        ],
        [
         "20",
         null,
         null,
         null,
         null,
         null,
         null,
         null,
         null,
         null,
         "2025-07-16",
         null,
         "https://api.congress.gov/v3/amendment/119/hamdt/41?format=json",
         null,
         null,
         "C000059",
         "right_only"
        ],
        [
         "21",
         null,
         null,
         null,
         null,
         null,
         null,
         null,
         null,
         null,
         "2025-07-16",
         null,
         "https://api.congress.gov/v3/amendment/119/hamdt/42?format=json",
         null,
         null,
         "C000059",
         "right_only"
        ],
        [
         "22",
         null,
         null,
         null,
         null,
         null,
         null,
         null,
         null,
         null,
         "2025-07-16",
         null,
         "https://api.congress.gov/v3/amendment/119/hamdt/43?format=json",
         null,
         null,
         "C000059",
         "right_only"
        ],
        [
         "23",
         null,
         null,
         null,
         null,
         null,
         null,
         null,
         null,
         null,
         "2025-07-16",
         null,
         "https://api.congress.gov/v3/amendment/119/hamdt/44?format=json",
         null,
         null,
         "C000059",
         "right_only"
        ],
        [
         "24",
         null,
         null,
         null,
         null,
         null,
         null,
         null,
         null,
         null,
         "2025-07-16",
         null,
         "https://api.congress.gov/v3/amendment/119/hamdt/45?format=json",
         null,
         null,
         "C000059",
         "right_only"
        ],
        [
         "25",
         null,
         null,
         null,
         null,
         null,
         null,
         null,
         null,
         null,
         "2025-07-16",
         null,
         "https://api.congress.gov/v3/amendment/119/hamdt/46?format=json",
         null,
         null,
         "C000059",
         "right_only"
        ],
        [
         "26",
         null,
         null,
         null,
         null,
         null,
         null,
         null,
         null,
         null,
         "2025-07-16",
         null,
         "https://api.congress.gov/v3/amendment/119/hamdt/47?format=json",
         null,
         null,
         "C000059",
         "right_only"
        ],
        [
         "27",
         null,
         null,
         null,
         null,
         null,
         null,
         null,
         null,
         null,
         "2025-07-17",
         null,
         "https://api.congress.gov/v3/amendment/119/hamdt/50?format=json",
         null,
         null,
         "D000626",
         "right_only"
        ],
        [
         "28",
         null,
         null,
         null,
         null,
         null,
         null,
         null,
         null,
         null,
         "2025-07-17",
         null,
         "https://api.congress.gov/v3/amendment/119/hamdt/51?format=json",
         null,
         null,
         "G000565",
         "right_only"
        ],
        [
         "29",
         null,
         null,
         null,
         null,
         null,
         null,
         null,
         null,
         null,
         "2025-07-17",
         null,
         "https://api.congress.gov/v3/amendment/119/hamdt/52?format=json",
         null,
         null,
         "G000596",
         "right_only"
        ],
        [
         "30",
         null,
         null,
         null,
         null,
         null,
         null,
         null,
         null,
         null,
         "2025-07-17",
         null,
         "https://api.congress.gov/v3/amendment/119/hamdt/53?format=json",
         null,
         null,
         "G000596",
         "right_only"
        ],
        [
         "31",
         null,
         null,
         null,
         null,
         null,
         null,
         null,
         null,
         null,
         "2025-07-17",
         null,
         "https://api.congress.gov/v3/amendment/119/hamdt/54?format=json",
         null,
         null,
         "G000596",
         "right_only"
        ],
        [
         "32",
         null,
         null,
         null,
         null,
         null,
         null,
         null,
         null,
         null,
         "2025-07-17",
         null,
         "https://api.congress.gov/v3/amendment/119/hamdt/55?format=json",
         null,
         null,
         "G000596",
         "right_only"
        ],
        [
         "33",
         null,
         null,
         null,
         null,
         null,
         null,
         null,
         null,
         null,
         "2025-07-17",
         null,
         "https://api.congress.gov/v3/amendment/119/hamdt/56?format=json",
         null,
         null,
         "G000596",
         "right_only"
        ],
        [
         "34",
         null,
         null,
         null,
         null,
         null,
         null,
         null,
         null,
         null,
         "2025-07-17",
         null,
         "https://api.congress.gov/v3/amendment/119/hamdt/57?format=json",
         null,
         null,
         "G000596",
         "right_only"
        ],
        [
         "35",
         null,
         null,
         null,
         null,
         null,
         null,
         null,
         null,
         null,
         "2025-07-17",
         null,
         "https://api.congress.gov/v3/amendment/119/hamdt/58?format=json",
         null,
         null,
         "J000302",
         "right_only"
        ],
        [
         "36",
         null,
         null,
         null,
         null,
         null,
         null,
         null,
         null,
         null,
         "2025-07-17",
         null,
         "https://api.congress.gov/v3/amendment/119/hamdt/59?format=json",
         null,
         null,
         "M001215",
         "right_only"
        ],
        [
         "37",
         null,
         null,
         null,
         null,
         null,
         null,
         null,
         null,
         null,
         "2025-02-06",
         null,
         "https://api.congress.gov/v3/amendment/119/hamdt/5?format=json",
         null,
         null,
         "T000482",
         "right_only"
        ],
        [
         "38",
         null,
         null,
         null,
         null,
         null,
         null,
         null,
         null,
         null,
         "2025-07-17",
         null,
         "https://api.congress.gov/v3/amendment/119/hamdt/60?format=json",
         null,
         null,
         "S001214",
         "right_only"
        ],
        [
         "39",
         null,
         null,
         null,
         null,
         null,
         null,
         null,
         null,
         null,
         "2025-07-17",
         null,
         "https://api.congress.gov/v3/amendment/119/hamdt/61?format=json",
         null,
         null,
         "T000478",
         "right_only"
        ],
        [
         "40",
         null,
         null,
         null,
         null,
         null,
         null,
         null,
         null,
         null,
         "2025-07-17",
         null,
         "https://api.congress.gov/v3/amendment/119/hamdt/62?format=json",
         null,
         null,
         "T000165",
         "right_only"
        ],
        [
         "41",
         null,
         null,
         null,
         null,
         null,
         null,
         null,
         null,
         null,
         "2025-09-03",
         null,
         "https://api.congress.gov/v3/amendment/119/hamdt/63?format=json",
         null,
         null,
         "F000459",
         "right_only"
        ],
        [
         "42",
         null,
         null,
         null,
         null,
         null,
         null,
         null,
         null,
         null,
         "2025-09-03",
         null,
         "https://api.congress.gov/v3/amendment/119/hamdt/64?format=json",
         null,
         null,
         "G000568",
         "right_only"
        ],
        [
         "43",
         null,
         null,
         null,
         null,
         null,
         null,
         null,
         null,
         null,
         "2025-09-03",
         null,
         "https://api.congress.gov/v3/amendment/119/hamdt/65?format=json",
         null,
         null,
         "M001218",
         "right_only"
        ],
        [
         "44",
         null,
         null,
         null,
         null,
         null,
         null,
         null,
         null,
         null,
         "2025-09-03",
         null,
         "https://api.congress.gov/v3/amendment/119/hamdt/66?format=json",
         null,
         null,
         "P000605",
         "right_only"
        ],
        [
         "45",
         null,
         null,
         null,
         null,
         null,
         null,
         null,
         null,
         null,
         "2025-09-03",
         null,
         "https://api.congress.gov/v3/amendment/119/hamdt/67?format=json",
         null,
         null,
         "P000605",
         "right_only"
        ],
        [
         "46",
         null,
         null,
         null,
         null,
         null,
         null,
         null,
         null,
         null,
         "2025-09-03",
         null,
         "https://api.congress.gov/v3/amendment/119/hamdt/68?format=json",
         null,
         null,
         "P000605",
         "right_only"
        ],
        [
         "47",
         null,
         null,
         null,
         null,
         null,
         null,
         null,
         null,
         null,
         "2025-09-03",
         null,
         "https://api.congress.gov/v3/amendment/119/hamdt/69?format=json",
         null,
         null,
         "P000605",
         "right_only"
        ],
        [
         "48",
         null,
         null,
         null,
         null,
         null,
         null,
         null,
         null,
         null,
         "2025-09-03",
         null,
         "https://api.congress.gov/v3/amendment/119/hamdt/70?format=json",
         null,
         null,
         "P000605",
         "right_only"
        ],
        [
         "49",
         null,
         null,
         null,
         null,
         null,
         null,
         null,
         null,
         null,
         "2025-09-03",
         null,
         "https://api.congress.gov/v3/amendment/119/hamdt/71?format=json",
         null,
         null,
         "P000605",
         "right_only"
        ]
       ],
       "shape": {
        "columns": 16,
        "rows": 11644
       }
      },
      "text/html": [
       "<div>\n",
       "<style scoped>\n",
       "    .dataframe tbody tr th:only-of-type {\n",
       "        vertical-align: middle;\n",
       "    }\n",
       "\n",
       "    .dataframe tbody tr th {\n",
       "        vertical-align: top;\n",
       "    }\n",
       "\n",
       "    .dataframe thead th {\n",
       "        text-align: right;\n",
       "    }\n",
       "</style>\n",
       "<table border=\"1\" class=\"dataframe\">\n",
       "  <thead>\n",
       "    <tr style=\"text-align: right;\">\n",
       "      <th></th>\n",
       "      <th>Unnamed: 0</th>\n",
       "      <th>bill_type</th>\n",
       "      <th>bill_number</th>\n",
       "      <th>bill_congress</th>\n",
       "      <th>bill_originchamber</th>\n",
       "      <th>bill_originchambercode</th>\n",
       "      <th>bill_title</th>\n",
       "      <th>bill_updatedateincludingtext</th>\n",
       "      <th>bill_url</th>\n",
       "      <th>introducedDate</th>\n",
       "      <th>type</th>\n",
       "      <th>url</th>\n",
       "      <th>number</th>\n",
       "      <th>title</th>\n",
       "      <th>bioguide_id</th>\n",
       "      <th>matched</th>\n",
       "    </tr>\n",
       "  </thead>\n",
       "  <tbody>\n",
       "    <tr>\n",
       "      <th>0</th>\n",
       "      <td>NaN</td>\n",
       "      <td>NaN</td>\n",
       "      <td>NaN</td>\n",
       "      <td>NaN</td>\n",
       "      <td>NaN</td>\n",
       "      <td>NaN</td>\n",
       "      <td>NaN</td>\n",
       "      <td>NaN</td>\n",
       "      <td>NaN</td>\n",
       "      <td>2025-09-10</td>\n",
       "      <td>NaN</td>\n",
       "      <td>https://api.congress.gov/v3/amendment/119/hamd...</td>\n",
       "      <td>NaN</td>\n",
       "      <td>NaN</td>\n",
       "      <td>R000612</td>\n",
       "      <td>right_only</td>\n",
       "    </tr>\n",
       "    <tr>\n",
       "      <th>1</th>\n",
       "      <td>NaN</td>\n",
       "      <td>NaN</td>\n",
       "      <td>NaN</td>\n",
       "      <td>NaN</td>\n",
       "      <td>NaN</td>\n",
       "      <td>NaN</td>\n",
       "      <td>NaN</td>\n",
       "      <td>NaN</td>\n",
       "      <td>NaN</td>\n",
       "      <td>2025-09-10</td>\n",
       "      <td>NaN</td>\n",
       "      <td>https://api.congress.gov/v3/amendment/119/hamd...</td>\n",
       "      <td>NaN</td>\n",
       "      <td>NaN</td>\n",
       "      <td>R000575</td>\n",
       "      <td>right_only</td>\n",
       "    </tr>\n",
       "    <tr>\n",
       "      <th>2</th>\n",
       "      <td>NaN</td>\n",
       "      <td>NaN</td>\n",
       "      <td>NaN</td>\n",
       "      <td>NaN</td>\n",
       "      <td>NaN</td>\n",
       "      <td>NaN</td>\n",
       "      <td>NaN</td>\n",
       "      <td>NaN</td>\n",
       "      <td>NaN</td>\n",
       "      <td>2025-03-25</td>\n",
       "      <td>NaN</td>\n",
       "      <td>https://api.congress.gov/v3/amendment/119/hamd...</td>\n",
       "      <td>NaN</td>\n",
       "      <td>NaN</td>\n",
       "      <td>O000175</td>\n",
       "      <td>right_only</td>\n",
       "    </tr>\n",
       "    <tr>\n",
       "      <th>3</th>\n",
       "      <td>NaN</td>\n",
       "      <td>NaN</td>\n",
       "      <td>NaN</td>\n",
       "      <td>NaN</td>\n",
       "      <td>NaN</td>\n",
       "      <td>NaN</td>\n",
       "      <td>NaN</td>\n",
       "      <td>NaN</td>\n",
       "      <td>NaN</td>\n",
       "      <td>2025-03-25</td>\n",
       "      <td>NaN</td>\n",
       "      <td>https://api.congress.gov/v3/amendment/119/hamd...</td>\n",
       "      <td>NaN</td>\n",
       "      <td>NaN</td>\n",
       "      <td>O000175</td>\n",
       "      <td>right_only</td>\n",
       "    </tr>\n",
       "    <tr>\n",
       "      <th>4</th>\n",
       "      <td>NaN</td>\n",
       "      <td>NaN</td>\n",
       "      <td>NaN</td>\n",
       "      <td>NaN</td>\n",
       "      <td>NaN</td>\n",
       "      <td>NaN</td>\n",
       "      <td>NaN</td>\n",
       "      <td>NaN</td>\n",
       "      <td>NaN</td>\n",
       "      <td>2025-03-25</td>\n",
       "      <td>NaN</td>\n",
       "      <td>https://api.congress.gov/v3/amendment/119/hamd...</td>\n",
       "      <td>NaN</td>\n",
       "      <td>NaN</td>\n",
       "      <td>S000185</td>\n",
       "      <td>right_only</td>\n",
       "    </tr>\n",
       "    <tr>\n",
       "      <th>...</th>\n",
       "      <td>...</td>\n",
       "      <td>...</td>\n",
       "      <td>...</td>\n",
       "      <td>...</td>\n",
       "      <td>...</td>\n",
       "      <td>...</td>\n",
       "      <td>...</td>\n",
       "      <td>...</td>\n",
       "      <td>...</td>\n",
       "      <td>...</td>\n",
       "      <td>...</td>\n",
       "      <td>...</td>\n",
       "      <td>...</td>\n",
       "      <td>...</td>\n",
       "      <td>...</td>\n",
       "      <td>...</td>\n",
       "    </tr>\n",
       "    <tr>\n",
       "      <th>14369</th>\n",
       "      <td>NaN</td>\n",
       "      <td>NaN</td>\n",
       "      <td>NaN</td>\n",
       "      <td>NaN</td>\n",
       "      <td>NaN</td>\n",
       "      <td>NaN</td>\n",
       "      <td>NaN</td>\n",
       "      <td>NaN</td>\n",
       "      <td>NaN</td>\n",
       "      <td>2025-02-24</td>\n",
       "      <td>SRES</td>\n",
       "      <td>https://api.congress.gov/v3/bill/119/sres/91?f...</td>\n",
       "      <td>91.0</td>\n",
       "      <td>A resolution acknowledging the third anniversa...</td>\n",
       "      <td>S001181</td>\n",
       "      <td>right_only</td>\n",
       "    </tr>\n",
       "    <tr>\n",
       "      <th>14371</th>\n",
       "      <td>NaN</td>\n",
       "      <td>NaN</td>\n",
       "      <td>NaN</td>\n",
       "      <td>NaN</td>\n",
       "      <td>NaN</td>\n",
       "      <td>NaN</td>\n",
       "      <td>NaN</td>\n",
       "      <td>NaN</td>\n",
       "      <td>NaN</td>\n",
       "      <td>2025-02-25</td>\n",
       "      <td>SRES</td>\n",
       "      <td>https://api.congress.gov/v3/bill/119/sres/93?f...</td>\n",
       "      <td>93.0</td>\n",
       "      <td>A resolution expressing the sense of the Senat...</td>\n",
       "      <td>D000563</td>\n",
       "      <td>right_only</td>\n",
       "    </tr>\n",
       "    <tr>\n",
       "      <th>14372</th>\n",
       "      <td>NaN</td>\n",
       "      <td>NaN</td>\n",
       "      <td>NaN</td>\n",
       "      <td>NaN</td>\n",
       "      <td>NaN</td>\n",
       "      <td>NaN</td>\n",
       "      <td>NaN</td>\n",
       "      <td>NaN</td>\n",
       "      <td>NaN</td>\n",
       "      <td>2025-02-25</td>\n",
       "      <td>SRES</td>\n",
       "      <td>https://api.congress.gov/v3/bill/119/sres/94?f...</td>\n",
       "      <td>94.0</td>\n",
       "      <td>An original resolution authorizing expenditure...</td>\n",
       "      <td>M000355</td>\n",
       "      <td>right_only</td>\n",
       "    </tr>\n",
       "    <tr>\n",
       "      <th>14373</th>\n",
       "      <td>NaN</td>\n",
       "      <td>NaN</td>\n",
       "      <td>NaN</td>\n",
       "      <td>NaN</td>\n",
       "      <td>NaN</td>\n",
       "      <td>NaN</td>\n",
       "      <td>NaN</td>\n",
       "      <td>NaN</td>\n",
       "      <td>NaN</td>\n",
       "      <td>2025-02-25</td>\n",
       "      <td>SRES</td>\n",
       "      <td>https://api.congress.gov/v3/bill/119/sres/95?f...</td>\n",
       "      <td>95.0</td>\n",
       "      <td>A resolution expressing support for the design...</td>\n",
       "      <td>S001217</td>\n",
       "      <td>right_only</td>\n",
       "    </tr>\n",
       "    <tr>\n",
       "      <th>14375</th>\n",
       "      <td>NaN</td>\n",
       "      <td>NaN</td>\n",
       "      <td>NaN</td>\n",
       "      <td>NaN</td>\n",
       "      <td>NaN</td>\n",
       "      <td>NaN</td>\n",
       "      <td>NaN</td>\n",
       "      <td>NaN</td>\n",
       "      <td>NaN</td>\n",
       "      <td>2025-02-25</td>\n",
       "      <td>SRES</td>\n",
       "      <td>https://api.congress.gov/v3/bill/119/sres/97?f...</td>\n",
       "      <td>97.0</td>\n",
       "      <td>A resolution honoring the life of Nebraska com...</td>\n",
       "      <td>R000618</td>\n",
       "      <td>right_only</td>\n",
       "    </tr>\n",
       "  </tbody>\n",
       "</table>\n",
       "<p>11644 rows × 16 columns</p>\n",
       "</div>"
      ],
      "text/plain": [
       "       Unnamed: 0 bill_type  bill_number  bill_congress bill_originchamber  \\\n",
       "0             NaN       NaN          NaN            NaN                NaN   \n",
       "1             NaN       NaN          NaN            NaN                NaN   \n",
       "2             NaN       NaN          NaN            NaN                NaN   \n",
       "3             NaN       NaN          NaN            NaN                NaN   \n",
       "4             NaN       NaN          NaN            NaN                NaN   \n",
       "...           ...       ...          ...            ...                ...   \n",
       "14369         NaN       NaN          NaN            NaN                NaN   \n",
       "14371         NaN       NaN          NaN            NaN                NaN   \n",
       "14372         NaN       NaN          NaN            NaN                NaN   \n",
       "14373         NaN       NaN          NaN            NaN                NaN   \n",
       "14375         NaN       NaN          NaN            NaN                NaN   \n",
       "\n",
       "      bill_originchambercode bill_title bill_updatedateincludingtext bill_url  \\\n",
       "0                        NaN        NaN                          NaN      NaN   \n",
       "1                        NaN        NaN                          NaN      NaN   \n",
       "2                        NaN        NaN                          NaN      NaN   \n",
       "3                        NaN        NaN                          NaN      NaN   \n",
       "4                        NaN        NaN                          NaN      NaN   \n",
       "...                      ...        ...                          ...      ...   \n",
       "14369                    NaN        NaN                          NaN      NaN   \n",
       "14371                    NaN        NaN                          NaN      NaN   \n",
       "14372                    NaN        NaN                          NaN      NaN   \n",
       "14373                    NaN        NaN                          NaN      NaN   \n",
       "14375                    NaN        NaN                          NaN      NaN   \n",
       "\n",
       "      introducedDate  type                                                url  \\\n",
       "0         2025-09-10   NaN  https://api.congress.gov/v3/amendment/119/hamd...   \n",
       "1         2025-09-10   NaN  https://api.congress.gov/v3/amendment/119/hamd...   \n",
       "2         2025-03-25   NaN  https://api.congress.gov/v3/amendment/119/hamd...   \n",
       "3         2025-03-25   NaN  https://api.congress.gov/v3/amendment/119/hamd...   \n",
       "4         2025-03-25   NaN  https://api.congress.gov/v3/amendment/119/hamd...   \n",
       "...              ...   ...                                                ...   \n",
       "14369     2025-02-24  SRES  https://api.congress.gov/v3/bill/119/sres/91?f...   \n",
       "14371     2025-02-25  SRES  https://api.congress.gov/v3/bill/119/sres/93?f...   \n",
       "14372     2025-02-25  SRES  https://api.congress.gov/v3/bill/119/sres/94?f...   \n",
       "14373     2025-02-25  SRES  https://api.congress.gov/v3/bill/119/sres/95?f...   \n",
       "14375     2025-02-25  SRES  https://api.congress.gov/v3/bill/119/sres/97?f...   \n",
       "\n",
       "       number                                              title bioguide_id  \\\n",
       "0         NaN                                                NaN     R000612   \n",
       "1         NaN                                                NaN     R000575   \n",
       "2         NaN                                                NaN     O000175   \n",
       "3         NaN                                                NaN     O000175   \n",
       "4         NaN                                                NaN     S000185   \n",
       "...       ...                                                ...         ...   \n",
       "14369    91.0  A resolution acknowledging the third anniversa...     S001181   \n",
       "14371    93.0  A resolution expressing the sense of the Senat...     D000563   \n",
       "14372    94.0  An original resolution authorizing expenditure...     M000355   \n",
       "14373    95.0  A resolution expressing support for the design...     S001217   \n",
       "14375    97.0  A resolution honoring the life of Nebraska com...     R000618   \n",
       "\n",
       "          matched  \n",
       "0      right_only  \n",
       "1      right_only  \n",
       "2      right_only  \n",
       "3      right_only  \n",
       "4      right_only  \n",
       "...           ...  \n",
       "14369  right_only  \n",
       "14371  right_only  \n",
       "14372  right_only  \n",
       "14373  right_only  \n",
       "14375  right_only  \n",
       "\n",
       "[11644 rows x 16 columns]"
      ]
     },
     "execution_count": 47,
     "metadata": {},
     "output_type": "execute_result"
    }
   ],
   "source": [
    "bills2.query('matched == \"right_only\"')"
   ]
  },
  {
   "cell_type": "code",
   "execution_count": 48,
   "metadata": {},
   "outputs": [
    {
     "data": {
      "application/vnd.microsoft.datawrangler.viewer.v0+json": {
       "columns": [
        {
         "name": "index",
         "rawType": "bool",
         "type": "boolean"
        },
        {
         "name": "count",
         "rawType": "int64",
         "type": "integer"
        }
       ],
       "ref": "5b328e41-4118-44ab-9ae3-9921567d5447",
       "rows": [
        [
         "False",
         "10369"
        ],
        [
         "True",
         "4010"
        ]
       ],
       "shape": {
        "columns": 1,
        "rows": 2
       }
      },
      "text/plain": [
       "False    10369\n",
       "True      4010\n",
       "Name: count, dtype: int64"
      ]
     },
     "execution_count": 48,
     "metadata": {},
     "output_type": "execute_result"
    }
   ],
   "source": [
    "pd.Series(['amendment' in x for x in bills2['url']]).value_counts()"
   ]
  },
  {
   "cell_type": "code",
   "execution_count": 55,
   "metadata": {},
   "outputs": [],
   "source": [
    "bills2 = bills2[['bill_type', 'bill_number', 'bill_congress',\n",
    "       'bill_originchamber', 'bill_originchambercode', 'bill_title',\n",
    "       'bill_updatedateincludingtext', 'introducedDate',\n",
    "       'url', 'bioguide_id']]"
   ]
  },
  {
   "cell_type": "code",
   "execution_count": 56,
   "metadata": {},
   "outputs": [],
   "source": [
    "bills2.to_csv('../data/thirdNF/bills.csv', index=False)"
   ]
  },
  {
   "cell_type": "code",
   "execution_count": 57,
   "metadata": {},
   "outputs": [],
   "source": [
    "terms.to_csv('../data/thirdNF/terms.csv', index=False)"
   ]
  },
  {
   "cell_type": "code",
   "execution_count": 58,
   "metadata": {},
   "outputs": [
    {
     "data": {
      "application/vnd.microsoft.datawrangler.viewer.v0+json": {
       "columns": [
        {
         "name": "congress",
         "rawType": "int64",
         "type": "integer"
        },
        {
         "name": "startYear",
         "rawType": "float64",
         "type": "float"
        },
        {
         "name": "endYear",
         "rawType": "float64",
         "type": "float"
        }
       ],
       "ref": "f0b51ad2-3a39-4867-864a-cf10f35a0c0d",
       "rows": [
        [
         "94",
         null,
         null
        ],
        [
         "95",
         "0.0",
         "0.0"
        ],
        [
         "96",
         "0.0",
         "0.0"
        ],
        [
         "97",
         "0.0",
         "0.0"
        ],
        [
         "98",
         "0.0",
         "0.0"
        ],
        [
         "99",
         "0.0",
         "0.0"
        ],
        [
         "100",
         "0.0",
         "0.0"
        ],
        [
         "101",
         "0.0",
         "0.0"
        ],
        [
         "102",
         "0.0",
         "0.0"
        ],
        [
         "103",
         "0.0",
         "0.0"
        ],
        [
         "104",
         "0.1690308509457056",
         "0.16903085094570552"
        ],
        [
         "105",
         "0.0",
         "0.0"
        ],
        [
         "106",
         "0.0",
         "0.0"
        ],
        [
         "107",
         "0.21803894974650562",
         "0.0"
        ],
        [
         "108",
         "0.0",
         "0.0"
        ],
        [
         "109",
         "0.0",
         "0.0"
        ],
        [
         "110",
         "0.16979208910778046",
         "0.1980295085953355"
        ],
        [
         "111",
         "0.12648281272371398",
         "0.17960530202677943"
        ],
        [
         "112",
         "0.16112189454156345",
         "0.0"
        ],
        [
         "113",
         "0.100755908059512",
         "0.14285714285714618"
        ],
        [
         "114",
         "0.11395402831834114",
         "0.0"
        ],
        [
         "115",
         "0.15835218590628916",
         "0.12104550653374999"
        ],
        [
         "116",
         "0.09534359200825074",
         "0.0"
        ],
        [
         "117",
         "0.11250141174131031",
         "0.0"
        ],
        [
         "118",
         "0.1292178560000993",
         "0.0650253163784988"
        ],
        [
         "119",
         "0.0",
         "0.22540962293386613"
        ]
       ],
       "shape": {
        "columns": 2,
        "rows": 26
       }
      },
      "text/html": [
       "<div>\n",
       "<style scoped>\n",
       "    .dataframe tbody tr th:only-of-type {\n",
       "        vertical-align: middle;\n",
       "    }\n",
       "\n",
       "    .dataframe tbody tr th {\n",
       "        vertical-align: top;\n",
       "    }\n",
       "\n",
       "    .dataframe thead th {\n",
       "        text-align: right;\n",
       "    }\n",
       "</style>\n",
       "<table border=\"1\" class=\"dataframe\">\n",
       "  <thead>\n",
       "    <tr style=\"text-align: right;\">\n",
       "      <th></th>\n",
       "      <th>startYear</th>\n",
       "      <th>endYear</th>\n",
       "    </tr>\n",
       "    <tr>\n",
       "      <th>congress</th>\n",
       "      <th></th>\n",
       "      <th></th>\n",
       "    </tr>\n",
       "  </thead>\n",
       "  <tbody>\n",
       "    <tr>\n",
       "      <th>94</th>\n",
       "      <td>NaN</td>\n",
       "      <td>NaN</td>\n",
       "    </tr>\n",
       "    <tr>\n",
       "      <th>95</th>\n",
       "      <td>0.000000</td>\n",
       "      <td>0.000000</td>\n",
       "    </tr>\n",
       "    <tr>\n",
       "      <th>96</th>\n",
       "      <td>0.000000</td>\n",
       "      <td>0.000000</td>\n",
       "    </tr>\n",
       "    <tr>\n",
       "      <th>97</th>\n",
       "      <td>0.000000</td>\n",
       "      <td>0.000000</td>\n",
       "    </tr>\n",
       "    <tr>\n",
       "      <th>98</th>\n",
       "      <td>0.000000</td>\n",
       "      <td>0.000000</td>\n",
       "    </tr>\n",
       "    <tr>\n",
       "      <th>99</th>\n",
       "      <td>0.000000</td>\n",
       "      <td>0.000000</td>\n",
       "    </tr>\n",
       "    <tr>\n",
       "      <th>100</th>\n",
       "      <td>0.000000</td>\n",
       "      <td>0.000000</td>\n",
       "    </tr>\n",
       "    <tr>\n",
       "      <th>101</th>\n",
       "      <td>0.000000</td>\n",
       "      <td>0.000000</td>\n",
       "    </tr>\n",
       "    <tr>\n",
       "      <th>102</th>\n",
       "      <td>0.000000</td>\n",
       "      <td>0.000000</td>\n",
       "    </tr>\n",
       "    <tr>\n",
       "      <th>103</th>\n",
       "      <td>0.000000</td>\n",
       "      <td>0.000000</td>\n",
       "    </tr>\n",
       "    <tr>\n",
       "      <th>104</th>\n",
       "      <td>0.169031</td>\n",
       "      <td>0.169031</td>\n",
       "    </tr>\n",
       "    <tr>\n",
       "      <th>105</th>\n",
       "      <td>0.000000</td>\n",
       "      <td>0.000000</td>\n",
       "    </tr>\n",
       "    <tr>\n",
       "      <th>106</th>\n",
       "      <td>0.000000</td>\n",
       "      <td>0.000000</td>\n",
       "    </tr>\n",
       "    <tr>\n",
       "      <th>107</th>\n",
       "      <td>0.218039</td>\n",
       "      <td>0.000000</td>\n",
       "    </tr>\n",
       "    <tr>\n",
       "      <th>108</th>\n",
       "      <td>0.000000</td>\n",
       "      <td>0.000000</td>\n",
       "    </tr>\n",
       "    <tr>\n",
       "      <th>109</th>\n",
       "      <td>0.000000</td>\n",
       "      <td>0.000000</td>\n",
       "    </tr>\n",
       "    <tr>\n",
       "      <th>110</th>\n",
       "      <td>0.169792</td>\n",
       "      <td>0.198030</td>\n",
       "    </tr>\n",
       "    <tr>\n",
       "      <th>111</th>\n",
       "      <td>0.126483</td>\n",
       "      <td>0.179605</td>\n",
       "    </tr>\n",
       "    <tr>\n",
       "      <th>112</th>\n",
       "      <td>0.161122</td>\n",
       "      <td>0.000000</td>\n",
       "    </tr>\n",
       "    <tr>\n",
       "      <th>113</th>\n",
       "      <td>0.100756</td>\n",
       "      <td>0.142857</td>\n",
       "    </tr>\n",
       "    <tr>\n",
       "      <th>114</th>\n",
       "      <td>0.113954</td>\n",
       "      <td>0.000000</td>\n",
       "    </tr>\n",
       "    <tr>\n",
       "      <th>115</th>\n",
       "      <td>0.158352</td>\n",
       "      <td>0.121046</td>\n",
       "    </tr>\n",
       "    <tr>\n",
       "      <th>116</th>\n",
       "      <td>0.095344</td>\n",
       "      <td>0.000000</td>\n",
       "    </tr>\n",
       "    <tr>\n",
       "      <th>117</th>\n",
       "      <td>0.112501</td>\n",
       "      <td>0.000000</td>\n",
       "    </tr>\n",
       "    <tr>\n",
       "      <th>118</th>\n",
       "      <td>0.129218</td>\n",
       "      <td>0.065025</td>\n",
       "    </tr>\n",
       "    <tr>\n",
       "      <th>119</th>\n",
       "      <td>0.000000</td>\n",
       "      <td>0.225410</td>\n",
       "    </tr>\n",
       "  </tbody>\n",
       "</table>\n",
       "</div>"
      ],
      "text/plain": [
       "          startYear   endYear\n",
       "congress                     \n",
       "94              NaN       NaN\n",
       "95         0.000000  0.000000\n",
       "96         0.000000  0.000000\n",
       "97         0.000000  0.000000\n",
       "98         0.000000  0.000000\n",
       "99         0.000000  0.000000\n",
       "100        0.000000  0.000000\n",
       "101        0.000000  0.000000\n",
       "102        0.000000  0.000000\n",
       "103        0.000000  0.000000\n",
       "104        0.169031  0.169031\n",
       "105        0.000000  0.000000\n",
       "106        0.000000  0.000000\n",
       "107        0.218039  0.000000\n",
       "108        0.000000  0.000000\n",
       "109        0.000000  0.000000\n",
       "110        0.169792  0.198030\n",
       "111        0.126483  0.179605\n",
       "112        0.161122  0.000000\n",
       "113        0.100756  0.142857\n",
       "114        0.113954  0.000000\n",
       "115        0.158352  0.121046\n",
       "116        0.095344  0.000000\n",
       "117        0.112501  0.000000\n",
       "118        0.129218  0.065025\n",
       "119        0.000000  0.225410"
      ]
     },
     "execution_count": 58,
     "metadata": {},
     "output_type": "execute_result"
    }
   ],
   "source": [
    "terms.groupby('congress').agg({'startYear': 'std', 'endYear': 'std'})"
   ]
  },
  {
   "cell_type": "code",
   "execution_count": 59,
   "metadata": {},
   "outputs": [
    {
     "data": {
      "application/vnd.microsoft.datawrangler.viewer.v0+json": {
       "columns": [
        {
         "name": "index",
         "rawType": "int64",
         "type": "integer"
        },
        {
         "name": "contributor_name",
         "rawType": "object",
         "type": "string"
        },
        {
         "name": "contributor_aggregate_ytd",
         "rawType": "float64",
         "type": "float"
        },
        {
         "name": "memo_text",
         "rawType": "object",
         "type": "unknown"
        },
        {
         "name": "pdf_url",
         "rawType": "object",
         "type": "string"
        },
        {
         "name": "fec_committee_id",
         "rawType": "object",
         "type": "unknown"
        },
        {
         "name": "fec_id",
         "rawType": "object",
         "type": "string"
        }
       ],
       "ref": "fc424d27-bb02-4f2f-8efe-42e8556941ba",
       "rows": [
        [
         "0",
         "FARMER'S & MERCHANTS BANK",
         "920.34",
         null,
         "http://docquery.fec.gov/cgi-bin/fecimg/?13960645844",
         null,
         "H2AL03032"
        ],
        [
         "1",
         "MCLAUGHLIN AND ASSOCIATES",
         "40869.75",
         null,
         "http://docquery.fec.gov/cgi-bin/fecimg/?25971010132",
         null,
         "H2AL03032"
        ],
        [
         "2",
         "DRUCKER LAWHON, LLP",
         "38500.0",
         null,
         "https://docquery.fec.gov/cgi-bin/fecimg/?202210319546694475",
         null,
         "H2AL03032"
        ]
       ],
       "shape": {
        "columns": 6,
        "rows": 3
       }
      },
      "text/html": [
       "<div>\n",
       "<style scoped>\n",
       "    .dataframe tbody tr th:only-of-type {\n",
       "        vertical-align: middle;\n",
       "    }\n",
       "\n",
       "    .dataframe tbody tr th {\n",
       "        vertical-align: top;\n",
       "    }\n",
       "\n",
       "    .dataframe thead th {\n",
       "        text-align: right;\n",
       "    }\n",
       "</style>\n",
       "<table border=\"1\" class=\"dataframe\">\n",
       "  <thead>\n",
       "    <tr style=\"text-align: right;\">\n",
       "      <th></th>\n",
       "      <th>contributor_name</th>\n",
       "      <th>contributor_aggregate_ytd</th>\n",
       "      <th>memo_text</th>\n",
       "      <th>pdf_url</th>\n",
       "      <th>fec_committee_id</th>\n",
       "      <th>fec_id</th>\n",
       "    </tr>\n",
       "  </thead>\n",
       "  <tbody>\n",
       "    <tr>\n",
       "      <th>0</th>\n",
       "      <td>FARMER'S &amp; MERCHANTS BANK</td>\n",
       "      <td>920.34</td>\n",
       "      <td>NaN</td>\n",
       "      <td>http://docquery.fec.gov/cgi-bin/fecimg/?139606...</td>\n",
       "      <td>NaN</td>\n",
       "      <td>H2AL03032</td>\n",
       "    </tr>\n",
       "    <tr>\n",
       "      <th>1</th>\n",
       "      <td>MCLAUGHLIN AND ASSOCIATES</td>\n",
       "      <td>40869.75</td>\n",
       "      <td>NaN</td>\n",
       "      <td>http://docquery.fec.gov/cgi-bin/fecimg/?259710...</td>\n",
       "      <td>NaN</td>\n",
       "      <td>H2AL03032</td>\n",
       "    </tr>\n",
       "    <tr>\n",
       "      <th>2</th>\n",
       "      <td>DRUCKER LAWHON, LLP</td>\n",
       "      <td>38500.00</td>\n",
       "      <td>NaN</td>\n",
       "      <td>https://docquery.fec.gov/cgi-bin/fecimg/?20221...</td>\n",
       "      <td>NaN</td>\n",
       "      <td>H2AL03032</td>\n",
       "    </tr>\n",
       "  </tbody>\n",
       "</table>\n",
       "</div>"
      ],
      "text/plain": [
       "            contributor_name  contributor_aggregate_ytd memo_text  \\\n",
       "0  FARMER'S & MERCHANTS BANK                     920.34       NaN   \n",
       "1  MCLAUGHLIN AND ASSOCIATES                   40869.75       NaN   \n",
       "2        DRUCKER LAWHON, LLP                   38500.00       NaN   \n",
       "\n",
       "                                             pdf_url fec_committee_id  \\\n",
       "0  http://docquery.fec.gov/cgi-bin/fecimg/?139606...              NaN   \n",
       "1  http://docquery.fec.gov/cgi-bin/fecimg/?259710...              NaN   \n",
       "2  https://docquery.fec.gov/cgi-bin/fecimg/?20221...              NaN   \n",
       "\n",
       "      fec_id  \n",
       "0  H2AL03032  \n",
       "1  H2AL03032  \n",
       "2  H2AL03032  "
      ]
     },
     "execution_count": 59,
     "metadata": {},
     "output_type": "execute_result"
    }
   ],
   "source": [
    "contrib.head(3)"
   ]
  },
  {
   "cell_type": "code",
   "execution_count": 60,
   "metadata": {},
   "outputs": [],
   "source": [
    "contrib.to_csv('../data/thirdNF/contrib.csv', index=False)"
   ]
  },
  {
   "cell_type": "code",
   "execution_count": 61,
   "metadata": {},
   "outputs": [],
   "source": [
    "def pandas_df_to_dbml(df: pd.DataFrame, table_name: str) -> str:\n",
    "    \"\"\"\n",
    "    Converts a pandas DataFrame to a DBML string.\n",
    "\n",
    "    Args:\n",
    "        df: The pandas DataFrame to convert.\n",
    "        table_name: The name of the table in the DBML schema.\n",
    "\n",
    "    Returns:\n",
    "        A DBML string representing the DataFrame schema.\n",
    "    \"\"\"\n",
    "\n",
    "    dbml_string = f\"Table {table_name} {{\\n\"\n",
    "\n",
    "    for column_name, column_type in df.dtypes.items():\n",
    "        dbml_type = map_pandas_dtype_to_dbml_type(column_type)\n",
    "        dbml_string += f\"  {column_name} {dbml_type}\\n\"\n",
    "\n",
    "    dbml_string += \"}\\n\"\n",
    "    return dbml_string"
   ]
  },
  {
   "cell_type": "code",
   "execution_count": 62,
   "metadata": {},
   "outputs": [],
   "source": [
    "def map_pandas_dtype_to_dbml_type(dtype) -> str:\n",
    "    \"\"\"Maps a pandas dtype to a DBML type.\"\"\"\n",
    "    dtype_name = str(dtype)\n",
    "    if \"int\" in dtype_name:\n",
    "      return \"int\"\n",
    "    if \"float\" in dtype_name:\n",
    "      return \"float\"\n",
    "    if \"datetime\" in dtype_name:\n",
    "        return \"datetime\"\n",
    "    return \"varchar\""
   ]
  },
  {
   "cell_type": "code",
   "execution_count": 63,
   "metadata": {},
   "outputs": [],
   "source": [
    "bill_versions = pd.read_csv('../data/thirdNF/bill_versions.csv')"
   ]
  },
  {
   "cell_type": "code",
   "execution_count": 64,
   "metadata": {},
   "outputs": [
    {
     "name": "stdout",
     "output_type": "stream",
     "text": [
      "Table bill_versions {\n",
      "  Unnamed: 0 int\n",
      "  actiondate varchar\n",
      "  actiondesc varchar\n",
      "  currentchamber varchar\n",
      "  currentchambercode varchar\n",
      "  lastsummaryupdatedate varchar\n",
      "  text varchar\n",
      "  updatedate varchar\n",
      "  versioncode int\n",
      "  bill_number int\n",
      "  bill_type varchar\n",
      "}\n",
      "\n"
     ]
    }
   ],
   "source": [
    "print(pandas_df_to_dbml(bill_versions, 'bill_versions'))"
   ]
  },
  {
   "cell_type": "code",
   "execution_count": 66,
   "metadata": {},
   "outputs": [],
   "source": [
    "bills = pd.read_csv('../data/thirdNF/bills.csv')"
   ]
  },
  {
   "cell_type": "code",
   "execution_count": 67,
   "metadata": {},
   "outputs": [
    {
     "name": "stdout",
     "output_type": "stream",
     "text": [
      "Table bills {\n",
      "  bill_type varchar\n",
      "  bill_number float\n",
      "  bill_congress float\n",
      "  bill_originchamber varchar\n",
      "  bill_originchambercode varchar\n",
      "  bill_title varchar\n",
      "  bill_updatedateincludingtext varchar\n",
      "  introducedDate varchar\n",
      "  url varchar\n",
      "  bioguide_id varchar\n",
      "}\n",
      "\n"
     ]
    }
   ],
   "source": [
    "print(pandas_df_to_dbml(bills, 'bills'))"
   ]
  },
  {
   "cell_type": "code",
   "execution_count": 68,
   "metadata": {},
   "outputs": [
    {
     "name": "stdout",
     "output_type": "stream",
     "text": [
      "Table members {\n",
      "  bioguide_id varchar\n",
      "  full_name varchar\n",
      "  chamber varchar\n",
      "  birthyear float\n",
      "  image varchar\n",
      "  office_address varchar\n",
      "  phone varchar\n",
      "  website varchar\n",
      "  fec_id varchar\n",
      "  left_right_ideology float\n",
      "  state_abbrev varchar\n",
      "  district_code int\n",
      "  icpsr int\n",
      "  party varchar\n",
      "}\n",
      "\n"
     ]
    }
   ],
   "source": [
    "members = pd.read_csv('../data/thirdNF/members.csv')\n",
    "\n",
    "print(pandas_df_to_dbml(members, 'members'))"
   ]
  },
  {
   "cell_type": "code",
   "execution_count": 69,
   "metadata": {},
   "outputs": [
    {
     "name": "stdout",
     "output_type": "stream",
     "text": [
      "Table terms {\n",
      "  bioguide_id varchar\n",
      "  chamber varchar\n",
      "  congress int\n",
      "  stateCode varchar\n",
      "  startYear int\n",
      "  endYear int\n",
      "  district float\n",
      "}\n",
      "\n"
     ]
    }
   ],
   "source": [
    "terms = pd.read_csv('../data/thirdNF/terms.csv')\n",
    "\n",
    "print(pandas_df_to_dbml(terms, 'terms'))"
   ]
  },
  {
   "cell_type": "code",
   "execution_count": 70,
   "metadata": {},
   "outputs": [
    {
     "name": "stdout",
     "output_type": "stream",
     "text": [
      "Table vote_compare {\n",
      "  bioname varchar\n",
      "  comparison_member varchar\n",
      "  agree float\n",
      "}\n",
      "\n"
     ]
    }
   ],
   "source": [
    "vote_compare = pd.read_csv('../data/thirdNF/vote_compare.csv')\n",
    "\n",
    "print(pandas_df_to_dbml(vote_compare, 'vote_compare'))"
   ]
  }
 ],
 "metadata": {
  "kernelspec": {
   "display_name": "ds6600",
   "language": "python",
   "name": "python3"
  },
  "language_info": {
   "codemirror_mode": {
    "name": "ipython",
    "version": 3
   },
   "file_extension": ".py",
   "mimetype": "text/x-python",
   "name": "python",
   "nbconvert_exporter": "python",
   "pygments_lexer": "ipython3",
   "version": "3.13.5"
  }
 },
 "nbformat": 4,
 "nbformat_minor": 2
}
