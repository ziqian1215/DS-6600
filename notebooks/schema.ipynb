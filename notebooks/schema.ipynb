{
 "cells": [
  {
   "cell_type": "code",
   "execution_count": 8,
   "metadata": {},
   "outputs": [],
   "source": [
    "import numpy as np \n",
    "import pandas as pd"
   ]
  },
  {
   "cell_type": "code",
   "execution_count": 9,
   "metadata": {},
   "outputs": [],
   "source": [
    "bill_summaries = pd.read_csv('../data/bill_summaries.csv')\n",
    "bioinfo = pd.read_csv('../data/bioinfo.csv')\n",
    "fec_ids = pd.read_csv('../data/fec_ids.csv')\n",
    "ideology = pd.read_csv('../data/ideology.csv')\n",
    "sponsored_legislation = pd.read_csv('../data/sponsored_legislation.csv')\n",
    "terms = pd.read_csv('../data/terms.csv')\n",
    "vote_compare = pd.read_csv('../data/vote_compare.csv')\n",
    "contrib = pd.read_csv('../data/contrib.csv')"
   ]
  },
  {
   "cell_type": "markdown",
   "metadata": {},
   "source": [
    "1. Do each of the CSVs have a primary key? If so, what?"
   ]
  },
  {
   "cell_type": "code",
   "execution_count": 10,
   "metadata": {},
   "outputs": [
    {
     "data": {
      "text/plain": [
       "Index(['actionDate', 'actionDesc', 'currentChamber', 'currentChamberCode',\n",
       "       'lastSummaryUpdateDate', 'text', 'updateDate', 'versionCode',\n",
       "       'bill.congress', 'bill.number', 'bill.originChamber',\n",
       "       'bill.originChamberCode', 'bill.title', 'bill.type',\n",
       "       'bill.updateDateIncludingText', 'bill.url'],\n",
       "      dtype='object')"
      ]
     },
     "execution_count": 10,
     "metadata": {},
     "output_type": "execute_result"
    }
   ],
   "source": [
    "bill_summaries.columns"
   ]
  },
  {
   "cell_type": "code",
   "execution_count": 11,
   "metadata": {},
   "outputs": [
    {
     "data": {
      "application/vnd.microsoft.datawrangler.viewer.v0+json": {
       "columns": [
        {
         "name": "index",
         "rawType": "bool",
         "type": "boolean"
        },
        {
         "name": "count",
         "rawType": "int64",
         "type": "integer"
        }
       ],
       "ref": "9ce66ff6-e64b-40f0-96de-cb05db273e90",
       "rows": [
        [
         "False",
         "2751"
        ]
       ],
       "shape": {
        "columns": 1,
        "rows": 1
       }
      },
      "text/plain": [
       "False    2751\n",
       "Name: count, dtype: int64"
      ]
     },
     "execution_count": 11,
     "metadata": {},
     "output_type": "execute_result"
    }
   ],
   "source": [
    "bill_summaries[['bill.type', 'bill.number', 'versionCode']].duplicated().value_counts()\n"
   ]
  },
  {
   "cell_type": "code",
   "execution_count": 12,
   "metadata": {},
   "outputs": [
    {
     "data": {
      "text/plain": [
       "Index(['bioguide_id', 'Full name', 'Chamber', 'State', 'Party', 'District',\n",
       "       'birthYear', 'image', 'Office address', 'Phone', 'Website'],\n",
       "      dtype='object')"
      ]
     },
     "execution_count": 12,
     "metadata": {},
     "output_type": "execute_result"
    }
   ],
   "source": [
    "bioinfo.columns"
   ]
  },
  {
   "cell_type": "code",
   "execution_count": 13,
   "metadata": {},
   "outputs": [
    {
     "data": {
      "text/plain": [
       "Index(['bioguide_id', 'Full name', 'Chamber', 'State', 'Party', 'District',\n",
       "       'birthYear', 'image', 'Office address', 'Phone', 'Website'],\n",
       "      dtype='object')"
      ]
     },
     "execution_count": 13,
     "metadata": {},
     "output_type": "execute_result"
    }
   ],
   "source": [
    "bioinfo.columns"
   ]
  },
  {
   "cell_type": "code",
   "execution_count": 14,
   "metadata": {},
   "outputs": [
    {
     "data": {
      "application/vnd.microsoft.datawrangler.viewer.v0+json": {
       "columns": [
        {
         "name": "index",
         "rawType": "bool",
         "type": "boolean"
        },
        {
         "name": "count",
         "rawType": "int64",
         "type": "integer"
        }
       ],
       "ref": "b48c4b17-607a-46b2-83ac-d5c7e1bb4429",
       "rows": [
        [
         "False",
         "545"
        ]
       ],
       "shape": {
        "columns": 1,
        "rows": 1
       }
      },
      "text/plain": [
       "False    545\n",
       "Name: count, dtype: int64"
      ]
     },
     "execution_count": 14,
     "metadata": {},
     "output_type": "execute_result"
    }
   ],
   "source": [
    "bioinfo[['bioguide_id']].duplicated().value_counts()"
   ]
  },
  {
   "cell_type": "code",
   "execution_count": 15,
   "metadata": {},
   "outputs": [
    {
     "data": {
      "text/plain": [
       "Index(['bioguide_id', 'fec_id'], dtype='object')"
      ]
     },
     "execution_count": 15,
     "metadata": {},
     "output_type": "execute_result"
    }
   ],
   "source": [
    "fec_ids.columns "
   ]
  },
  {
   "cell_type": "code",
   "execution_count": 16,
   "metadata": {},
   "outputs": [
    {
     "data": {
      "application/vnd.microsoft.datawrangler.viewer.v0+json": {
       "columns": [
        {
         "name": "index",
         "rawType": "bool",
         "type": "boolean"
        },
        {
         "name": "count",
         "rawType": "int64",
         "type": "integer"
        }
       ],
       "ref": "dd33f0fe-e903-4bf9-ae57-77c0a3d66ff9",
       "rows": [
        [
         "False",
         "545"
        ]
       ],
       "shape": {
        "columns": 1,
        "rows": 1
       }
      },
      "text/plain": [
       "False    545\n",
       "Name: count, dtype: int64"
      ]
     },
     "execution_count": 16,
     "metadata": {},
     "output_type": "execute_result"
    }
   ],
   "source": [
    "fec_ids[['bioguide_id']].duplicated().value_counts()"
   ]
  },
  {
   "cell_type": "code",
   "execution_count": 17,
   "metadata": {},
   "outputs": [
    {
     "data": {
      "text/plain": [
       "Index(['bioname', 'chamber', 'left_right_ideology', 'state_abbrev',\n",
       "       'district_code', 'icpsr', 'bioguide_id', 'party'],\n",
       "      dtype='object')"
      ]
     },
     "execution_count": 17,
     "metadata": {},
     "output_type": "execute_result"
    }
   ],
   "source": [
    "ideology.columns"
   ]
  },
  {
   "cell_type": "code",
   "execution_count": 18,
   "metadata": {},
   "outputs": [
    {
     "data": {
      "application/vnd.microsoft.datawrangler.viewer.v0+json": {
       "columns": [
        {
         "name": "index",
         "rawType": "bool",
         "type": "boolean"
        },
        {
         "name": "count",
         "rawType": "int64",
         "type": "integer"
        }
       ],
       "ref": "e29c3ead-2b0b-4d59-af80-60bc9987d559",
       "rows": [
        [
         "False",
         "545"
        ]
       ],
       "shape": {
        "columns": 1,
        "rows": 1
       }
      },
      "text/plain": [
       "False    545\n",
       "Name: count, dtype: int64"
      ]
     },
     "execution_count": 18,
     "metadata": {},
     "output_type": "execute_result"
    }
   ],
   "source": [
    "ideology[['bioguide_id']].duplicated().value_counts()"
   ]
  },
  {
   "cell_type": "code",
   "execution_count": 19,
   "metadata": {},
   "outputs": [
    {
     "data": {
      "text/plain": [
       "Index(['introducedDate', 'type', 'url', 'number', 'title', 'bioguide_id'], dtype='object')"
      ]
     },
     "execution_count": 19,
     "metadata": {},
     "output_type": "execute_result"
    }
   ],
   "source": [
    "sponsored_legislation.columns"
   ]
  },
  {
   "cell_type": "code",
   "execution_count": 20,
   "metadata": {},
   "outputs": [
    {
     "data": {
      "application/vnd.microsoft.datawrangler.viewer.v0+json": {
       "columns": [
        {
         "name": "index",
         "rawType": "bool",
         "type": "boolean"
        },
        {
         "name": "count",
         "rawType": "int64",
         "type": "integer"
        }
       ],
       "ref": "08cf8057-9c82-4527-bd04-ae4eff468fcc",
       "rows": [
        [
         "False",
         "14379"
        ]
       ],
       "shape": {
        "columns": 1,
        "rows": 1
       }
      },
      "text/plain": [
       "False    14379\n",
       "Name: count, dtype: int64"
      ]
     },
     "execution_count": 20,
     "metadata": {},
     "output_type": "execute_result"
    }
   ],
   "source": [
    "sponsored_legislation[['url']].duplicated().value_counts()"
   ]
  },
  {
   "cell_type": "code",
   "execution_count": 21,
   "metadata": {},
   "outputs": [
    {
     "data": {
      "text/plain": [
       "Index(['bioguide_id', 'chamber', 'congress', 'stateCode', 'startYear',\n",
       "       'endYear', 'district'],\n",
       "      dtype='object')"
      ]
     },
     "execution_count": 21,
     "metadata": {},
     "output_type": "execute_result"
    }
   ],
   "source": [
    "terms.columns"
   ]
  },
  {
   "cell_type": "code",
   "execution_count": 22,
   "metadata": {},
   "outputs": [
    {
     "data": {
      "application/vnd.microsoft.datawrangler.viewer.v0+json": {
       "columns": [
        {
         "name": "index",
         "rawType": "bool",
         "type": "boolean"
        },
        {
         "name": "count",
         "rawType": "int64",
         "type": "integer"
        }
       ],
       "ref": "2ef2abcd-a192-4475-828f-dfe49fe727cd",
       "rows": [
        [
         "False",
         "3257"
        ]
       ],
       "shape": {
        "columns": 1,
        "rows": 1
       }
      },
      "text/plain": [
       "False    3257\n",
       "Name: count, dtype: int64"
      ]
     },
     "execution_count": 22,
     "metadata": {},
     "output_type": "execute_result"
    }
   ],
   "source": [
    "terms[['bioguide_id', 'chamber', 'congress']].duplicated().value_counts()"
   ]
  },
  {
   "cell_type": "code",
   "execution_count": 23,
   "metadata": {},
   "outputs": [
    {
     "data": {
      "text/plain": [
       "Index(['bioname', 'comparison_member', 'agree'], dtype='object')"
      ]
     },
     "execution_count": 23,
     "metadata": {},
     "output_type": "execute_result"
    }
   ],
   "source": [
    "vote_compare.columns"
   ]
  },
  {
   "cell_type": "code",
   "execution_count": 24,
   "metadata": {},
   "outputs": [
    {
     "data": {
      "application/vnd.microsoft.datawrangler.viewer.v0+json": {
       "columns": [
        {
         "name": "index",
         "rawType": "bool",
         "type": "boolean"
        },
        {
         "name": "count",
         "rawType": "int64",
         "type": "integer"
        }
       ],
       "ref": "b8cece19-5d9e-44c4-ab6f-2a1ee12283a5",
       "rows": [
        [
         "False",
         "206040"
        ]
       ],
       "shape": {
        "columns": 1,
        "rows": 1
       }
      },
      "text/plain": [
       "False    206040\n",
       "Name: count, dtype: int64"
      ]
     },
     "execution_count": 24,
     "metadata": {},
     "output_type": "execute_result"
    }
   ],
   "source": [
    "vote_compare[['bioname', 'comparison_member']].duplicated().value_counts()"
   ]
  },
  {
   "cell_type": "code",
   "execution_count": 25,
   "metadata": {},
   "outputs": [
    {
     "data": {
      "text/plain": [
       "Index(['contributor_name', 'contributor_aggregate_ytd', 'memo_text', 'pdf_url',\n",
       "       'fec_committee_id', 'fec_id'],\n",
       "      dtype='object')"
      ]
     },
     "execution_count": 25,
     "metadata": {},
     "output_type": "execute_result"
    }
   ],
   "source": [
    "contrib.columns"
   ]
  },
  {
   "cell_type": "code",
   "execution_count": 33,
   "metadata": {},
   "outputs": [
    {
     "data": {
      "application/vnd.microsoft.datawrangler.viewer.v0+json": {
       "columns": [
        {
         "name": "index",
         "rawType": "int64",
         "type": "integer"
        },
        {
         "name": "contributor_name",
         "rawType": "object",
         "type": "string"
        },
        {
         "name": "contributor_aggregate_ytd",
         "rawType": "float64",
         "type": "float"
        },
        {
         "name": "memo_text",
         "rawType": "object",
         "type": "unknown"
        },
        {
         "name": "pdf_url",
         "rawType": "object",
         "type": "string"
        },
        {
         "name": "fec_committee_id",
         "rawType": "object",
         "type": "string"
        },
        {
         "name": "fec_id",
         "rawType": "object",
         "type": "string"
        }
       ],
       "ref": "03a37670-232f-437d-8b10-b845bdc07df3",
       "rows": [
        [
         "595599",
         "LOUKAS, GEORGE",
         "2500.0",
         null,
         "http://docquery.fec.gov/cgi-bin/fecimg/?10930084703",
         "C00457556",
         "H0IL05096"
        ],
        [
         "602339",
         "LOUKAS, GEORGE",
         "2500.0",
         null,
         "http://docquery.fec.gov/cgi-bin/fecimg/?10930084703",
         "C00457556",
         "H0IL05096"
        ],
        [
         "601825",
         "NOWOTNY, DONALD",
         "300.0",
         null,
         "http://docquery.fec.gov/cgi-bin/fecimg/?10930084708",
         "C00457556",
         "H0IL05096"
        ],
        [
         "601824",
         "NOWOTNY, DONALD",
         "300.0",
         null,
         "http://docquery.fec.gov/cgi-bin/fecimg/?10930084708",
         "C00457556",
         "H0IL05096"
        ],
        [
         "142219",
         "FETHERSTON, BARBARA",
         "2900.0",
         null,
         "http://docquery.fec.gov/cgi-bin/fecimg/?10930386846",
         "C00462697",
         "H0CA10149"
        ],
        [
         "136996",
         "FETHERSTON, BARBARA",
         "2900.0",
         null,
         "http://docquery.fec.gov/cgi-bin/fecimg/?10930386846",
         "C00462697",
         "H0CA10149"
        ],
        [
         "136985",
         "GREENSPAN, ROBB T.",
         "4800.0",
         null,
         "http://docquery.fec.gov/cgi-bin/fecimg/?10930386856",
         "C00462697",
         "H0CA10149"
        ],
        [
         "136986",
         "GREENSPAN, ROBB T.",
         "4800.0",
         null,
         "http://docquery.fec.gov/cgi-bin/fecimg/?10930386856",
         "C00462697",
         "H0CA10149"
        ],
        [
         "142212",
         "GREWAL, KULDIP",
         "700.0",
         null,
         "http://docquery.fec.gov/cgi-bin/fecimg/?10930386857",
         "C00462697",
         "H0CA10149"
        ],
        [
         "144091",
         "GREWAL, KULDIP",
         "700.0",
         null,
         "http://docquery.fec.gov/cgi-bin/fecimg/?10930386857",
         "C00462697",
         "H0CA10149"
        ]
       ],
       "shape": {
        "columns": 6,
        "rows": 10
       }
      },
      "text/html": [
       "<div>\n",
       "<style scoped>\n",
       "    .dataframe tbody tr th:only-of-type {\n",
       "        vertical-align: middle;\n",
       "    }\n",
       "\n",
       "    .dataframe tbody tr th {\n",
       "        vertical-align: top;\n",
       "    }\n",
       "\n",
       "    .dataframe thead th {\n",
       "        text-align: right;\n",
       "    }\n",
       "</style>\n",
       "<table border=\"1\" class=\"dataframe\">\n",
       "  <thead>\n",
       "    <tr style=\"text-align: right;\">\n",
       "      <th></th>\n",
       "      <th>contributor_name</th>\n",
       "      <th>contributor_aggregate_ytd</th>\n",
       "      <th>memo_text</th>\n",
       "      <th>pdf_url</th>\n",
       "      <th>fec_committee_id</th>\n",
       "      <th>fec_id</th>\n",
       "    </tr>\n",
       "  </thead>\n",
       "  <tbody>\n",
       "    <tr>\n",
       "      <th>595599</th>\n",
       "      <td>LOUKAS, GEORGE</td>\n",
       "      <td>2500.0</td>\n",
       "      <td>NaN</td>\n",
       "      <td>http://docquery.fec.gov/cgi-bin/fecimg/?109300...</td>\n",
       "      <td>C00457556</td>\n",
       "      <td>H0IL05096</td>\n",
       "    </tr>\n",
       "    <tr>\n",
       "      <th>602339</th>\n",
       "      <td>LOUKAS, GEORGE</td>\n",
       "      <td>2500.0</td>\n",
       "      <td>NaN</td>\n",
       "      <td>http://docquery.fec.gov/cgi-bin/fecimg/?109300...</td>\n",
       "      <td>C00457556</td>\n",
       "      <td>H0IL05096</td>\n",
       "    </tr>\n",
       "    <tr>\n",
       "      <th>601825</th>\n",
       "      <td>NOWOTNY, DONALD</td>\n",
       "      <td>300.0</td>\n",
       "      <td>NaN</td>\n",
       "      <td>http://docquery.fec.gov/cgi-bin/fecimg/?109300...</td>\n",
       "      <td>C00457556</td>\n",
       "      <td>H0IL05096</td>\n",
       "    </tr>\n",
       "    <tr>\n",
       "      <th>601824</th>\n",
       "      <td>NOWOTNY, DONALD</td>\n",
       "      <td>300.0</td>\n",
       "      <td>NaN</td>\n",
       "      <td>http://docquery.fec.gov/cgi-bin/fecimg/?109300...</td>\n",
       "      <td>C00457556</td>\n",
       "      <td>H0IL05096</td>\n",
       "    </tr>\n",
       "    <tr>\n",
       "      <th>142219</th>\n",
       "      <td>FETHERSTON, BARBARA</td>\n",
       "      <td>2900.0</td>\n",
       "      <td>NaN</td>\n",
       "      <td>http://docquery.fec.gov/cgi-bin/fecimg/?109303...</td>\n",
       "      <td>C00462697</td>\n",
       "      <td>H0CA10149</td>\n",
       "    </tr>\n",
       "    <tr>\n",
       "      <th>136996</th>\n",
       "      <td>FETHERSTON, BARBARA</td>\n",
       "      <td>2900.0</td>\n",
       "      <td>NaN</td>\n",
       "      <td>http://docquery.fec.gov/cgi-bin/fecimg/?109303...</td>\n",
       "      <td>C00462697</td>\n",
       "      <td>H0CA10149</td>\n",
       "    </tr>\n",
       "    <tr>\n",
       "      <th>136985</th>\n",
       "      <td>GREENSPAN, ROBB T.</td>\n",
       "      <td>4800.0</td>\n",
       "      <td>NaN</td>\n",
       "      <td>http://docquery.fec.gov/cgi-bin/fecimg/?109303...</td>\n",
       "      <td>C00462697</td>\n",
       "      <td>H0CA10149</td>\n",
       "    </tr>\n",
       "    <tr>\n",
       "      <th>136986</th>\n",
       "      <td>GREENSPAN, ROBB T.</td>\n",
       "      <td>4800.0</td>\n",
       "      <td>NaN</td>\n",
       "      <td>http://docquery.fec.gov/cgi-bin/fecimg/?109303...</td>\n",
       "      <td>C00462697</td>\n",
       "      <td>H0CA10149</td>\n",
       "    </tr>\n",
       "    <tr>\n",
       "      <th>142212</th>\n",
       "      <td>GREWAL, KULDIP</td>\n",
       "      <td>700.0</td>\n",
       "      <td>NaN</td>\n",
       "      <td>http://docquery.fec.gov/cgi-bin/fecimg/?109303...</td>\n",
       "      <td>C00462697</td>\n",
       "      <td>H0CA10149</td>\n",
       "    </tr>\n",
       "    <tr>\n",
       "      <th>144091</th>\n",
       "      <td>GREWAL, KULDIP</td>\n",
       "      <td>700.0</td>\n",
       "      <td>NaN</td>\n",
       "      <td>http://docquery.fec.gov/cgi-bin/fecimg/?109303...</td>\n",
       "      <td>C00462697</td>\n",
       "      <td>H0CA10149</td>\n",
       "    </tr>\n",
       "  </tbody>\n",
       "</table>\n",
       "</div>"
      ],
      "text/plain": [
       "           contributor_name  contributor_aggregate_ytd memo_text  \\\n",
       "595599       LOUKAS, GEORGE                     2500.0       NaN   \n",
       "602339       LOUKAS, GEORGE                     2500.0       NaN   \n",
       "601825      NOWOTNY, DONALD                      300.0       NaN   \n",
       "601824      NOWOTNY, DONALD                      300.0       NaN   \n",
       "142219  FETHERSTON, BARBARA                     2900.0       NaN   \n",
       "136996  FETHERSTON, BARBARA                     2900.0       NaN   \n",
       "136985   GREENSPAN, ROBB T.                     4800.0       NaN   \n",
       "136986   GREENSPAN, ROBB T.                     4800.0       NaN   \n",
       "142212       GREWAL, KULDIP                      700.0       NaN   \n",
       "144091       GREWAL, KULDIP                      700.0       NaN   \n",
       "\n",
       "                                                  pdf_url fec_committee_id  \\\n",
       "595599  http://docquery.fec.gov/cgi-bin/fecimg/?109300...        C00457556   \n",
       "602339  http://docquery.fec.gov/cgi-bin/fecimg/?109300...        C00457556   \n",
       "601825  http://docquery.fec.gov/cgi-bin/fecimg/?109300...        C00457556   \n",
       "601824  http://docquery.fec.gov/cgi-bin/fecimg/?109300...        C00457556   \n",
       "142219  http://docquery.fec.gov/cgi-bin/fecimg/?109303...        C00462697   \n",
       "136996  http://docquery.fec.gov/cgi-bin/fecimg/?109303...        C00462697   \n",
       "136985  http://docquery.fec.gov/cgi-bin/fecimg/?109303...        C00462697   \n",
       "136986  http://docquery.fec.gov/cgi-bin/fecimg/?109303...        C00462697   \n",
       "142212  http://docquery.fec.gov/cgi-bin/fecimg/?109303...        C00462697   \n",
       "144091  http://docquery.fec.gov/cgi-bin/fecimg/?109303...        C00462697   \n",
       "\n",
       "           fec_id  \n",
       "595599  H0IL05096  \n",
       "602339  H0IL05096  \n",
       "601825  H0IL05096  \n",
       "601824  H0IL05096  \n",
       "142219  H0CA10149  \n",
       "136996  H0CA10149  \n",
       "136985  H0CA10149  \n",
       "136986  H0CA10149  \n",
       "142212  H0CA10149  \n",
       "144091  H0CA10149  "
      ]
     },
     "execution_count": 33,
     "metadata": {},
     "output_type": "execute_result"
    }
   ],
   "source": [
    "contrib.loc[contrib.duplicated(keep=False)].sort_values('pdf_url').head(10)\n"
   ]
  },
  {
   "cell_type": "code",
   "execution_count": 34,
   "metadata": {},
   "outputs": [
    {
     "data": {
      "application/vnd.microsoft.datawrangler.viewer.v0+json": {
       "columns": [
        {
         "name": "index",
         "rawType": "bool",
         "type": "boolean"
        },
        {
         "name": "count",
         "rawType": "int64",
         "type": "integer"
        }
       ],
       "ref": "529d060f-8ec8-48d1-842b-a1528ad79775",
       "rows": [
        [
         "True",
         "431028"
        ],
        [
         "False",
         "217665"
        ]
       ],
       "shape": {
        "columns": 1,
        "rows": 2
       }
      },
      "text/plain": [
       "True     431028\n",
       "False    217665\n",
       "Name: count, dtype: int64"
      ]
     },
     "execution_count": 34,
     "metadata": {},
     "output_type": "execute_result"
    }
   ],
   "source": [
    "contrib[['pdf_url']].duplicated().value_counts()"
   ]
  },
  {
   "cell_type": "markdown",
   "metadata": {},
   "source": [
    "2. Do any of the tables need to because multiple tables, or combind into one table?\n",
    "\n",
    "Should be combinded into one table (share with same primary key): bioinfo, fec_ids, ideology"
   ]
  },
  {
   "cell_type": "code",
   "execution_count": 66,
   "metadata": {},
   "outputs": [],
   "source": [
    "members = pd. merge(bioinfo, fec_ids,\n",
    "                    on='bioguide_id',\n",
    "                    how='outer',\n",
    "                    validate='one_to_one',\n",
    "                    indicator='matched')"
   ]
  },
  {
   "cell_type": "code",
   "execution_count": 68,
   "metadata": {},
   "outputs": [
    {
     "data": {
      "application/vnd.microsoft.datawrangler.viewer.v0+json": {
       "columns": [
        {
         "name": "matched",
         "rawType": "category",
         "type": "unknown"
        },
        {
         "name": "count",
         "rawType": "int64",
         "type": "integer"
        }
       ],
       "ref": "dfc30acb-c737-41ae-bc4d-65870b241e36",
       "rows": [
        [
         "both",
         "545"
        ],
        [
         "left_only",
         "0"
        ],
        [
         "right_only",
         "0"
        ]
       ],
       "shape": {
        "columns": 1,
        "rows": 3
       }
      },
      "text/plain": [
       "matched\n",
       "both          545\n",
       "left_only       0\n",
       "right_only      0\n",
       "Name: count, dtype: int64"
      ]
     },
     "execution_count": 68,
     "metadata": {},
     "output_type": "execute_result"
    }
   ],
   "source": [
    "members['matched'].value_counts()"
   ]
  },
  {
   "cell_type": "code",
   "execution_count": 69,
   "metadata": {},
   "outputs": [],
   "source": [
    "members = members.drop('matched', axis=1)"
   ]
  },
  {
   "cell_type": "code",
   "execution_count": 70,
   "metadata": {},
   "outputs": [],
   "source": [
    "members = pd.merge(members, ideology,\n",
    "                   on='bioguide_id',\n",
    "                   how='outer',\n",
    "                   validate='one_to_one',\n",
    "                   indicator='matched')"
   ]
  },
  {
   "cell_type": "code",
   "execution_count": 71,
   "metadata": {},
   "outputs": [
    {
     "data": {
      "application/vnd.microsoft.datawrangler.viewer.v0+json": {
       "columns": [
        {
         "name": "matched",
         "rawType": "category",
         "type": "unknown"
        },
        {
         "name": "count",
         "rawType": "int64",
         "type": "integer"
        }
       ],
       "ref": "82640430-19d0-474e-a0dc-907d1f9d883a",
       "rows": [
        [
         "both",
         "545"
        ],
        [
         "left_only",
         "0"
        ],
        [
         "right_only",
         "0"
        ]
       ],
       "shape": {
        "columns": 1,
        "rows": 3
       }
      },
      "text/plain": [
       "matched\n",
       "both          545\n",
       "left_only       0\n",
       "right_only      0\n",
       "Name: count, dtype: int64"
      ]
     },
     "execution_count": 71,
     "metadata": {},
     "output_type": "execute_result"
    }
   ],
   "source": [
    "members['matched'].value_counts()"
   ]
  },
  {
   "cell_type": "code",
   "execution_count": 72,
   "metadata": {},
   "outputs": [],
   "source": [
    "members = members.drop('matched', axis=1)"
   ]
  },
  {
   "cell_type": "code",
   "execution_count": 73,
   "metadata": {},
   "outputs": [
    {
     "data": {
      "text/plain": [
       "Index(['bioguide_id', 'Full name', 'Chamber', 'State', 'Party', 'District',\n",
       "       'birthYear', 'image', 'Office address', 'Phone', 'Website', 'fec_id',\n",
       "       'bioname', 'chamber', 'left_right_ideology', 'state_abbrev',\n",
       "       'district_code', 'icpsr', 'party'],\n",
       "      dtype='object')"
      ]
     },
     "execution_count": 73,
     "metadata": {},
     "output_type": "execute_result"
    }
   ],
   "source": [
    "members.columns"
   ]
  },
  {
   "cell_type": "code",
   "execution_count": 74,
   "metadata": {},
   "outputs": [
    {
     "data": {
      "application/vnd.microsoft.datawrangler.viewer.v0+json": {
       "columns": [
        {
         "name": "index",
         "rawType": "object",
         "type": "string"
        },
        {
         "name": "0",
         "rawType": "object",
         "type": "unknown"
        },
        {
         "name": "1",
         "rawType": "object",
         "type": "unknown"
        },
        {
         "name": "2",
         "rawType": "object",
         "type": "unknown"
        }
       ],
       "ref": "38a79b29-c996-4af9-ace8-ebd84dfd16fb",
       "rows": [
        [
         "bioguide_id",
         "A000055",
         "A000148",
         "A000369"
        ],
        [
         "Full name",
         "Robert B. Aderholt",
         "Jake Auchincloss",
         "Mark E. Amodei"
        ],
        [
         "Chamber",
         "House of Representatives",
         "House of Representatives",
         "House of Representatives"
        ],
        [
         "State",
         "Alabama",
         "Massachusetts",
         "Nevada"
        ],
        [
         "Party",
         "Republican",
         "Democratic",
         "Republican"
        ],
        [
         "District",
         "4.0",
         "4.0",
         "2.0"
        ],
        [
         "birthYear",
         "1965.0",
         "1988.0",
         "1958.0"
        ],
        [
         "image",
         "https://www.congress.gov/img/member/a000055_200.jpg",
         "https://www.congress.gov/img/member/67817e391f9ad6ea6fb1ebda_200.jpg",
         "https://www.congress.gov/img/member/a000369_200.jpg"
        ],
        [
         "Office address",
         "272 Cannon House Office Building, Washington, DC 20515",
         "1524 Longworth House Office Building, Washington, DC 20515",
         "104 Cannon House Office Building, Washington, DC 20515"
        ],
        [
         "Phone",
         "(202) 225-4876",
         "(202) 225-5931",
         "(202) 225-6155"
        ],
        [
         "Website",
         "https://aderholt.house.gov/",
         "https://auchincloss.house.gov",
         "https://amodei.house.gov"
        ],
        [
         "fec_id",
         "H6AL04098",
         "H0MA04192",
         "H2NV02395"
        ],
        [
         "bioname",
         "ADERHOLT, Robert",
         "AUCHINCLOSS, Jake",
         "AMODEI, Mark E."
        ],
        [
         "chamber",
         "House",
         "House",
         "House"
        ],
        [
         "left_right_ideology",
         "0.405",
         "-0.288",
         "0.384"
        ],
        [
         "state_abbrev",
         "AL",
         "MA",
         "NV"
        ],
        [
         "district_code",
         "4",
         "4",
         "2"
        ],
        [
         "icpsr",
         "29701",
         "22100",
         "21196"
        ],
        [
         "party",
         "Republican",
         "Democrat",
         "Republican"
        ]
       ],
       "shape": {
        "columns": 3,
        "rows": 19
       }
      },
      "text/html": [
       "<div>\n",
       "<style scoped>\n",
       "    .dataframe tbody tr th:only-of-type {\n",
       "        vertical-align: middle;\n",
       "    }\n",
       "\n",
       "    .dataframe tbody tr th {\n",
       "        vertical-align: top;\n",
       "    }\n",
       "\n",
       "    .dataframe thead th {\n",
       "        text-align: right;\n",
       "    }\n",
       "</style>\n",
       "<table border=\"1\" class=\"dataframe\">\n",
       "  <thead>\n",
       "    <tr style=\"text-align: right;\">\n",
       "      <th></th>\n",
       "      <th>0</th>\n",
       "      <th>1</th>\n",
       "      <th>2</th>\n",
       "    </tr>\n",
       "  </thead>\n",
       "  <tbody>\n",
       "    <tr>\n",
       "      <th>bioguide_id</th>\n",
       "      <td>A000055</td>\n",
       "      <td>A000148</td>\n",
       "      <td>A000369</td>\n",
       "    </tr>\n",
       "    <tr>\n",
       "      <th>Full name</th>\n",
       "      <td>Robert B. Aderholt</td>\n",
       "      <td>Jake Auchincloss</td>\n",
       "      <td>Mark E. Amodei</td>\n",
       "    </tr>\n",
       "    <tr>\n",
       "      <th>Chamber</th>\n",
       "      <td>House of Representatives</td>\n",
       "      <td>House of Representatives</td>\n",
       "      <td>House of Representatives</td>\n",
       "    </tr>\n",
       "    <tr>\n",
       "      <th>State</th>\n",
       "      <td>Alabama</td>\n",
       "      <td>Massachusetts</td>\n",
       "      <td>Nevada</td>\n",
       "    </tr>\n",
       "    <tr>\n",
       "      <th>Party</th>\n",
       "      <td>Republican</td>\n",
       "      <td>Democratic</td>\n",
       "      <td>Republican</td>\n",
       "    </tr>\n",
       "    <tr>\n",
       "      <th>District</th>\n",
       "      <td>4.0</td>\n",
       "      <td>4.0</td>\n",
       "      <td>2.0</td>\n",
       "    </tr>\n",
       "    <tr>\n",
       "      <th>birthYear</th>\n",
       "      <td>1965.0</td>\n",
       "      <td>1988.0</td>\n",
       "      <td>1958.0</td>\n",
       "    </tr>\n",
       "    <tr>\n",
       "      <th>image</th>\n",
       "      <td>https://www.congress.gov/img/member/a000055_20...</td>\n",
       "      <td>https://www.congress.gov/img/member/67817e391f...</td>\n",
       "      <td>https://www.congress.gov/img/member/a000369_20...</td>\n",
       "    </tr>\n",
       "    <tr>\n",
       "      <th>Office address</th>\n",
       "      <td>272 Cannon House Office Building, Washington, ...</td>\n",
       "      <td>1524 Longworth House Office Building, Washingt...</td>\n",
       "      <td>104 Cannon House Office Building, Washington, ...</td>\n",
       "    </tr>\n",
       "    <tr>\n",
       "      <th>Phone</th>\n",
       "      <td>(202) 225-4876</td>\n",
       "      <td>(202) 225-5931</td>\n",
       "      <td>(202) 225-6155</td>\n",
       "    </tr>\n",
       "    <tr>\n",
       "      <th>Website</th>\n",
       "      <td>https://aderholt.house.gov/</td>\n",
       "      <td>https://auchincloss.house.gov</td>\n",
       "      <td>https://amodei.house.gov</td>\n",
       "    </tr>\n",
       "    <tr>\n",
       "      <th>fec_id</th>\n",
       "      <td>H6AL04098</td>\n",
       "      <td>H0MA04192</td>\n",
       "      <td>H2NV02395</td>\n",
       "    </tr>\n",
       "    <tr>\n",
       "      <th>bioname</th>\n",
       "      <td>ADERHOLT, Robert</td>\n",
       "      <td>AUCHINCLOSS, Jake</td>\n",
       "      <td>AMODEI, Mark E.</td>\n",
       "    </tr>\n",
       "    <tr>\n",
       "      <th>chamber</th>\n",
       "      <td>House</td>\n",
       "      <td>House</td>\n",
       "      <td>House</td>\n",
       "    </tr>\n",
       "    <tr>\n",
       "      <th>left_right_ideology</th>\n",
       "      <td>0.405</td>\n",
       "      <td>-0.288</td>\n",
       "      <td>0.384</td>\n",
       "    </tr>\n",
       "    <tr>\n",
       "      <th>state_abbrev</th>\n",
       "      <td>AL</td>\n",
       "      <td>MA</td>\n",
       "      <td>NV</td>\n",
       "    </tr>\n",
       "    <tr>\n",
       "      <th>district_code</th>\n",
       "      <td>4</td>\n",
       "      <td>4</td>\n",
       "      <td>2</td>\n",
       "    </tr>\n",
       "    <tr>\n",
       "      <th>icpsr</th>\n",
       "      <td>29701</td>\n",
       "      <td>22100</td>\n",
       "      <td>21196</td>\n",
       "    </tr>\n",
       "    <tr>\n",
       "      <th>party</th>\n",
       "      <td>Republican</td>\n",
       "      <td>Democrat</td>\n",
       "      <td>Republican</td>\n",
       "    </tr>\n",
       "  </tbody>\n",
       "</table>\n",
       "</div>"
      ],
      "text/plain": [
       "                                                                     0  \\\n",
       "bioguide_id                                                    A000055   \n",
       "Full name                                           Robert B. Aderholt   \n",
       "Chamber                                       House of Representatives   \n",
       "State                                                          Alabama   \n",
       "Party                                                       Republican   \n",
       "District                                                           4.0   \n",
       "birthYear                                                       1965.0   \n",
       "image                https://www.congress.gov/img/member/a000055_20...   \n",
       "Office address       272 Cannon House Office Building, Washington, ...   \n",
       "Phone                                                   (202) 225-4876   \n",
       "Website                                    https://aderholt.house.gov/   \n",
       "fec_id                                                       H6AL04098   \n",
       "bioname                                               ADERHOLT, Robert   \n",
       "chamber                                                          House   \n",
       "left_right_ideology                                              0.405   \n",
       "state_abbrev                                                        AL   \n",
       "district_code                                                        4   \n",
       "icpsr                                                            29701   \n",
       "party                                                       Republican   \n",
       "\n",
       "                                                                     1  \\\n",
       "bioguide_id                                                    A000148   \n",
       "Full name                                             Jake Auchincloss   \n",
       "Chamber                                       House of Representatives   \n",
       "State                                                    Massachusetts   \n",
       "Party                                                       Democratic   \n",
       "District                                                           4.0   \n",
       "birthYear                                                       1988.0   \n",
       "image                https://www.congress.gov/img/member/67817e391f...   \n",
       "Office address       1524 Longworth House Office Building, Washingt...   \n",
       "Phone                                                   (202) 225-5931   \n",
       "Website                                  https://auchincloss.house.gov   \n",
       "fec_id                                                       H0MA04192   \n",
       "bioname                                              AUCHINCLOSS, Jake   \n",
       "chamber                                                          House   \n",
       "left_right_ideology                                             -0.288   \n",
       "state_abbrev                                                        MA   \n",
       "district_code                                                        4   \n",
       "icpsr                                                            22100   \n",
       "party                                                         Democrat   \n",
       "\n",
       "                                                                     2  \n",
       "bioguide_id                                                    A000369  \n",
       "Full name                                               Mark E. Amodei  \n",
       "Chamber                                       House of Representatives  \n",
       "State                                                           Nevada  \n",
       "Party                                                       Republican  \n",
       "District                                                           2.0  \n",
       "birthYear                                                       1958.0  \n",
       "image                https://www.congress.gov/img/member/a000369_20...  \n",
       "Office address       104 Cannon House Office Building, Washington, ...  \n",
       "Phone                                                   (202) 225-6155  \n",
       "Website                                       https://amodei.house.gov  \n",
       "fec_id                                                       H2NV02395  \n",
       "bioname                                                AMODEI, Mark E.  \n",
       "chamber                                                          House  \n",
       "left_right_ideology                                              0.384  \n",
       "state_abbrev                                                        NV  \n",
       "district_code                                                        2  \n",
       "icpsr                                                            21196  \n",
       "party                                                       Republican  "
      ]
     },
     "execution_count": 74,
     "metadata": {},
     "output_type": "execute_result"
    }
   ],
   "source": [
    "members.head(3).T"
   ]
  },
  {
   "cell_type": "code",
   "execution_count": 75,
   "metadata": {},
   "outputs": [],
   "source": [
    "members = members.drop(['chamber', 'Party', 'bioname', 'District', 'State'], axis=1)"
   ]
  },
  {
   "cell_type": "code",
   "execution_count": 78,
   "metadata": {},
   "outputs": [],
   "source": [
    "\n",
    "members.columns = [c.lower().replace(' ', '_') for c in members.columns]\n"
   ]
  },
  {
   "cell_type": "code",
   "execution_count": 79,
   "metadata": {},
   "outputs": [
    {
     "data": {
      "application/vnd.microsoft.datawrangler.viewer.v0+json": {
       "columns": [
        {
         "name": "index",
         "rawType": "object",
         "type": "string"
        },
        {
         "name": "0",
         "rawType": "object",
         "type": "unknown"
        },
        {
         "name": "1",
         "rawType": "object",
         "type": "unknown"
        },
        {
         "name": "2",
         "rawType": "object",
         "type": "unknown"
        }
       ],
       "ref": "1a106fcf-7a4c-461c-b154-96735f3fe828",
       "rows": [
        [
         "bioguide_id",
         "A000055",
         "A000148",
         "A000369"
        ],
        [
         "full_name",
         "Robert B. Aderholt",
         "Jake Auchincloss",
         "Mark E. Amodei"
        ],
        [
         "chamber",
         "House of Representatives",
         "House of Representatives",
         "House of Representatives"
        ],
        [
         "birthyear",
         "1965.0",
         "1988.0",
         "1958.0"
        ],
        [
         "image",
         "https://www.congress.gov/img/member/a000055_200.jpg",
         "https://www.congress.gov/img/member/67817e391f9ad6ea6fb1ebda_200.jpg",
         "https://www.congress.gov/img/member/a000369_200.jpg"
        ],
        [
         "office_address",
         "272 Cannon House Office Building, Washington, DC 20515",
         "1524 Longworth House Office Building, Washington, DC 20515",
         "104 Cannon House Office Building, Washington, DC 20515"
        ],
        [
         "phone",
         "(202) 225-4876",
         "(202) 225-5931",
         "(202) 225-6155"
        ],
        [
         "website",
         "https://aderholt.house.gov/",
         "https://auchincloss.house.gov",
         "https://amodei.house.gov"
        ],
        [
         "fec_id",
         "H6AL04098",
         "H0MA04192",
         "H2NV02395"
        ],
        [
         "left_right_ideology",
         "0.405",
         "-0.288",
         "0.384"
        ],
        [
         "state_abbrev",
         "AL",
         "MA",
         "NV"
        ],
        [
         "district_code",
         "4",
         "4",
         "2"
        ],
        [
         "icpsr",
         "29701",
         "22100",
         "21196"
        ],
        [
         "party",
         "Republican",
         "Democrat",
         "Republican"
        ]
       ],
       "shape": {
        "columns": 3,
        "rows": 14
       }
      },
      "text/html": [
       "<div>\n",
       "<style scoped>\n",
       "    .dataframe tbody tr th:only-of-type {\n",
       "        vertical-align: middle;\n",
       "    }\n",
       "\n",
       "    .dataframe tbody tr th {\n",
       "        vertical-align: top;\n",
       "    }\n",
       "\n",
       "    .dataframe thead th {\n",
       "        text-align: right;\n",
       "    }\n",
       "</style>\n",
       "<table border=\"1\" class=\"dataframe\">\n",
       "  <thead>\n",
       "    <tr style=\"text-align: right;\">\n",
       "      <th></th>\n",
       "      <th>0</th>\n",
       "      <th>1</th>\n",
       "      <th>2</th>\n",
       "    </tr>\n",
       "  </thead>\n",
       "  <tbody>\n",
       "    <tr>\n",
       "      <th>bioguide_id</th>\n",
       "      <td>A000055</td>\n",
       "      <td>A000148</td>\n",
       "      <td>A000369</td>\n",
       "    </tr>\n",
       "    <tr>\n",
       "      <th>full_name</th>\n",
       "      <td>Robert B. Aderholt</td>\n",
       "      <td>Jake Auchincloss</td>\n",
       "      <td>Mark E. Amodei</td>\n",
       "    </tr>\n",
       "    <tr>\n",
       "      <th>chamber</th>\n",
       "      <td>House of Representatives</td>\n",
       "      <td>House of Representatives</td>\n",
       "      <td>House of Representatives</td>\n",
       "    </tr>\n",
       "    <tr>\n",
       "      <th>birthyear</th>\n",
       "      <td>1965.0</td>\n",
       "      <td>1988.0</td>\n",
       "      <td>1958.0</td>\n",
       "    </tr>\n",
       "    <tr>\n",
       "      <th>image</th>\n",
       "      <td>https://www.congress.gov/img/member/a000055_20...</td>\n",
       "      <td>https://www.congress.gov/img/member/67817e391f...</td>\n",
       "      <td>https://www.congress.gov/img/member/a000369_20...</td>\n",
       "    </tr>\n",
       "    <tr>\n",
       "      <th>office_address</th>\n",
       "      <td>272 Cannon House Office Building, Washington, ...</td>\n",
       "      <td>1524 Longworth House Office Building, Washingt...</td>\n",
       "      <td>104 Cannon House Office Building, Washington, ...</td>\n",
       "    </tr>\n",
       "    <tr>\n",
       "      <th>phone</th>\n",
       "      <td>(202) 225-4876</td>\n",
       "      <td>(202) 225-5931</td>\n",
       "      <td>(202) 225-6155</td>\n",
       "    </tr>\n",
       "    <tr>\n",
       "      <th>website</th>\n",
       "      <td>https://aderholt.house.gov/</td>\n",
       "      <td>https://auchincloss.house.gov</td>\n",
       "      <td>https://amodei.house.gov</td>\n",
       "    </tr>\n",
       "    <tr>\n",
       "      <th>fec_id</th>\n",
       "      <td>H6AL04098</td>\n",
       "      <td>H0MA04192</td>\n",
       "      <td>H2NV02395</td>\n",
       "    </tr>\n",
       "    <tr>\n",
       "      <th>left_right_ideology</th>\n",
       "      <td>0.405</td>\n",
       "      <td>-0.288</td>\n",
       "      <td>0.384</td>\n",
       "    </tr>\n",
       "    <tr>\n",
       "      <th>state_abbrev</th>\n",
       "      <td>AL</td>\n",
       "      <td>MA</td>\n",
       "      <td>NV</td>\n",
       "    </tr>\n",
       "    <tr>\n",
       "      <th>district_code</th>\n",
       "      <td>4</td>\n",
       "      <td>4</td>\n",
       "      <td>2</td>\n",
       "    </tr>\n",
       "    <tr>\n",
       "      <th>icpsr</th>\n",
       "      <td>29701</td>\n",
       "      <td>22100</td>\n",
       "      <td>21196</td>\n",
       "    </tr>\n",
       "    <tr>\n",
       "      <th>party</th>\n",
       "      <td>Republican</td>\n",
       "      <td>Democrat</td>\n",
       "      <td>Republican</td>\n",
       "    </tr>\n",
       "  </tbody>\n",
       "</table>\n",
       "</div>"
      ],
      "text/plain": [
       "                                                                     0  \\\n",
       "bioguide_id                                                    A000055   \n",
       "full_name                                           Robert B. Aderholt   \n",
       "chamber                                       House of Representatives   \n",
       "birthyear                                                       1965.0   \n",
       "image                https://www.congress.gov/img/member/a000055_20...   \n",
       "office_address       272 Cannon House Office Building, Washington, ...   \n",
       "phone                                                   (202) 225-4876   \n",
       "website                                    https://aderholt.house.gov/   \n",
       "fec_id                                                       H6AL04098   \n",
       "left_right_ideology                                              0.405   \n",
       "state_abbrev                                                        AL   \n",
       "district_code                                                        4   \n",
       "icpsr                                                            29701   \n",
       "party                                                       Republican   \n",
       "\n",
       "                                                                     1  \\\n",
       "bioguide_id                                                    A000148   \n",
       "full_name                                             Jake Auchincloss   \n",
       "chamber                                       House of Representatives   \n",
       "birthyear                                                       1988.0   \n",
       "image                https://www.congress.gov/img/member/67817e391f...   \n",
       "office_address       1524 Longworth House Office Building, Washingt...   \n",
       "phone                                                   (202) 225-5931   \n",
       "website                                  https://auchincloss.house.gov   \n",
       "fec_id                                                       H0MA04192   \n",
       "left_right_ideology                                             -0.288   \n",
       "state_abbrev                                                        MA   \n",
       "district_code                                                        4   \n",
       "icpsr                                                            22100   \n",
       "party                                                         Democrat   \n",
       "\n",
       "                                                                     2  \n",
       "bioguide_id                                                    A000369  \n",
       "full_name                                               Mark E. Amodei  \n",
       "chamber                                       House of Representatives  \n",
       "birthyear                                                       1958.0  \n",
       "image                https://www.congress.gov/img/member/a000369_20...  \n",
       "office_address       104 Cannon House Office Building, Washington, ...  \n",
       "phone                                                   (202) 225-6155  \n",
       "website                                       https://amodei.house.gov  \n",
       "fec_id                                                       H2NV02395  \n",
       "left_right_ideology                                              0.384  \n",
       "state_abbrev                                                        NV  \n",
       "district_code                                                        2  \n",
       "icpsr                                                            21196  \n",
       "party                                                       Republican  "
      ]
     },
     "execution_count": 79,
     "metadata": {},
     "output_type": "execute_result"
    }
   ],
   "source": [
    "members.head(3).T"
   ]
  },
  {
   "cell_type": "code",
   "execution_count": 98,
   "metadata": {},
   "outputs": [],
   "source": [
    "members.to_csv('../data/thirdNF/members.csv', index=False)  "
   ]
  },
  {
   "cell_type": "code",
   "execution_count": 99,
   "metadata": {},
   "outputs": [
    {
     "data": {
      "application/vnd.microsoft.datawrangler.viewer.v0+json": {
       "columns": [
        {
         "name": "index",
         "rawType": "object",
         "type": "string"
        },
        {
         "name": "0",
         "rawType": "object",
         "type": "unknown"
        },
        {
         "name": "1",
         "rawType": "object",
         "type": "unknown"
        },
        {
         "name": "2",
         "rawType": "object",
         "type": "unknown"
        }
       ],
       "ref": "33bf6fe0-99b5-464a-832a-bafac7e5ac12",
       "rows": [
        [
         "actionDate",
         "2025-10-15",
         "2025-10-08",
         "2025-10-08"
        ],
        [
         "actionDesc",
         "Introduced in Senate",
         "Introduced in House",
         "Introduced in House"
        ],
        [
         "currentChamber",
         "Senate",
         "House",
         "House"
        ],
        [
         "currentChamberCode",
         "S",
         "H",
         "H"
        ],
        [
         "lastSummaryUpdateDate",
         "2025-10-20T19:23:02Z",
         "2025-10-20T14:56:29Z",
         "2025-10-20T14:06:32Z"
        ],
        [
         "text",
         "<p><strong>Shutdown Fairness Act</strong></p><p>This bill provides appropriations to pay federal employees who work during a government shutdown.</p><p>Specifically, the bill provides appropriations for federal agencies to provide standard rates of pay, allowances, pay differentials, benefits, and other payments to excepted employees for work performed during any period in which interim continuing appropriations or full-year appropriations are not in effect for a fiscal year (i.e., a government shutdown). An excepted employee is an employee who is required to work during a government shutdown.</p><p>Under current law, excepted employees are not paid until the government shutdown is over. This bill provides appropriations to pay excepted employees during a government shutdown. The bill also specifies that the term&nbsp;<em>excepted employee </em>includes certain contractors who support federal employees during a government shutdown and members of the Armed Forces who are on active duty.&nbsp;</p><p>A federal agency may not use the funds provided by this bill during any period in which continuing appropriations are in effect for the purpose of paying&nbsp;excepted employees of the agency.</p><p>The bill must take effect as if it had been enacted on September 30, 2025.&nbsp;</p>",
         "<p><strong>Federal Worker Childcare Protection Act of 2025</strong></p><p>This bill authorizes certain federal employees to be reimbursed for childcare expenses paid during the government shutdown that began on October 1, 2025.</p><p>Under the bill, any federal employee who was furloughed or worked without receiving a paycheck during the lapse in appropriations (i.e., government shutdown)&nbsp;that began on October 1, 2025, and paid for childcare during the lapse is eligible to be reimbursed for the childcare expenses if (1) appropriations are provided for this purpose, and (2) the employee submits a receipt from a childcare provider to the General Services Administration.&nbsp;</p>",
         "<p>This bill requires the federal government to reimburse state agencies that use state funds to carry out operations necessary to maintain participation in the Special Supplemental Nutrition Program for Women, Infants, and Children (WIC) during a lapse in discretionary appropriations (i.e., government shutdown). WIC&nbsp;provides nutrition-rich foods, nutrition education, and health care and social services referrals to eligible low-income women, infants, and children.</p>"
        ],
        [
         "updateDate",
         "2025-10-20T19:23:15Z",
         "2025-10-20T14:56:58Z",
         "2025-10-20T14:07:00Z"
        ],
        [
         "versionCode",
         "0",
         "0",
         "0"
        ],
        [
         "bill.congress",
         "119",
         "119",
         "119"
        ],
        [
         "bill.number",
         "3012",
         "5720",
         "5705"
        ],
        [
         "bill.originChamber",
         "Senate",
         "House",
         "House"
        ],
        [
         "bill.originChamberCode",
         "S",
         "H",
         "H"
        ],
        [
         "bill.title",
         "Shutdown Fairness Act",
         "Federal Worker Childcare Protection Act of 2025",
         "To authorize the reimbursement by the Federal Government of State funds used to maintain participation in the Special Supplemental Nutrition Program for Women, Infants, and Children in the event of a Government shutdown."
        ],
        [
         "bill.type",
         "S",
         "HR",
         "HR"
        ],
        [
         "bill.updateDateIncludingText",
         "2025-10-21",
         "2025-10-20",
         "2025-10-20"
        ],
        [
         "bill.url",
         "https://api.congress.gov/v3/bill/119/s/3012?format=json",
         "https://api.congress.gov/v3/bill/119/hr/5720?format=json",
         "https://api.congress.gov/v3/bill/119/hr/5705?format=json"
        ]
       ],
       "shape": {
        "columns": 3,
        "rows": 16
       }
      },
      "text/html": [
       "<div>\n",
       "<style scoped>\n",
       "    .dataframe tbody tr th:only-of-type {\n",
       "        vertical-align: middle;\n",
       "    }\n",
       "\n",
       "    .dataframe tbody tr th {\n",
       "        vertical-align: top;\n",
       "    }\n",
       "\n",
       "    .dataframe thead th {\n",
       "        text-align: right;\n",
       "    }\n",
       "</style>\n",
       "<table border=\"1\" class=\"dataframe\">\n",
       "  <thead>\n",
       "    <tr style=\"text-align: right;\">\n",
       "      <th></th>\n",
       "      <th>0</th>\n",
       "      <th>1</th>\n",
       "      <th>2</th>\n",
       "    </tr>\n",
       "  </thead>\n",
       "  <tbody>\n",
       "    <tr>\n",
       "      <th>actionDate</th>\n",
       "      <td>2025-10-15</td>\n",
       "      <td>2025-10-08</td>\n",
       "      <td>2025-10-08</td>\n",
       "    </tr>\n",
       "    <tr>\n",
       "      <th>actionDesc</th>\n",
       "      <td>Introduced in Senate</td>\n",
       "      <td>Introduced in House</td>\n",
       "      <td>Introduced in House</td>\n",
       "    </tr>\n",
       "    <tr>\n",
       "      <th>currentChamber</th>\n",
       "      <td>Senate</td>\n",
       "      <td>House</td>\n",
       "      <td>House</td>\n",
       "    </tr>\n",
       "    <tr>\n",
       "      <th>currentChamberCode</th>\n",
       "      <td>S</td>\n",
       "      <td>H</td>\n",
       "      <td>H</td>\n",
       "    </tr>\n",
       "    <tr>\n",
       "      <th>lastSummaryUpdateDate</th>\n",
       "      <td>2025-10-20T19:23:02Z</td>\n",
       "      <td>2025-10-20T14:56:29Z</td>\n",
       "      <td>2025-10-20T14:06:32Z</td>\n",
       "    </tr>\n",
       "    <tr>\n",
       "      <th>text</th>\n",
       "      <td>&lt;p&gt;&lt;strong&gt;Shutdown Fairness Act&lt;/strong&gt;&lt;/p&gt;&lt;...</td>\n",
       "      <td>&lt;p&gt;&lt;strong&gt;Federal Worker Childcare Protection...</td>\n",
       "      <td>&lt;p&gt;This bill requires the federal government t...</td>\n",
       "    </tr>\n",
       "    <tr>\n",
       "      <th>updateDate</th>\n",
       "      <td>2025-10-20T19:23:15Z</td>\n",
       "      <td>2025-10-20T14:56:58Z</td>\n",
       "      <td>2025-10-20T14:07:00Z</td>\n",
       "    </tr>\n",
       "    <tr>\n",
       "      <th>versionCode</th>\n",
       "      <td>0</td>\n",
       "      <td>0</td>\n",
       "      <td>0</td>\n",
       "    </tr>\n",
       "    <tr>\n",
       "      <th>bill.congress</th>\n",
       "      <td>119</td>\n",
       "      <td>119</td>\n",
       "      <td>119</td>\n",
       "    </tr>\n",
       "    <tr>\n",
       "      <th>bill.number</th>\n",
       "      <td>3012</td>\n",
       "      <td>5720</td>\n",
       "      <td>5705</td>\n",
       "    </tr>\n",
       "    <tr>\n",
       "      <th>bill.originChamber</th>\n",
       "      <td>Senate</td>\n",
       "      <td>House</td>\n",
       "      <td>House</td>\n",
       "    </tr>\n",
       "    <tr>\n",
       "      <th>bill.originChamberCode</th>\n",
       "      <td>S</td>\n",
       "      <td>H</td>\n",
       "      <td>H</td>\n",
       "    </tr>\n",
       "    <tr>\n",
       "      <th>bill.title</th>\n",
       "      <td>Shutdown Fairness Act</td>\n",
       "      <td>Federal Worker Childcare Protection Act of 2025</td>\n",
       "      <td>To authorize the reimbursement by the Federal ...</td>\n",
       "    </tr>\n",
       "    <tr>\n",
       "      <th>bill.type</th>\n",
       "      <td>S</td>\n",
       "      <td>HR</td>\n",
       "      <td>HR</td>\n",
       "    </tr>\n",
       "    <tr>\n",
       "      <th>bill.updateDateIncludingText</th>\n",
       "      <td>2025-10-21</td>\n",
       "      <td>2025-10-20</td>\n",
       "      <td>2025-10-20</td>\n",
       "    </tr>\n",
       "    <tr>\n",
       "      <th>bill.url</th>\n",
       "      <td>https://api.congress.gov/v3/bill/119/s/3012?fo...</td>\n",
       "      <td>https://api.congress.gov/v3/bill/119/hr/5720?f...</td>\n",
       "      <td>https://api.congress.gov/v3/bill/119/hr/5705?f...</td>\n",
       "    </tr>\n",
       "  </tbody>\n",
       "</table>\n",
       "</div>"
      ],
      "text/plain": [
       "                                                                              0  \\\n",
       "actionDate                                                           2025-10-15   \n",
       "actionDesc                                                 Introduced in Senate   \n",
       "currentChamber                                                           Senate   \n",
       "currentChamberCode                                                            S   \n",
       "lastSummaryUpdateDate                                      2025-10-20T19:23:02Z   \n",
       "text                          <p><strong>Shutdown Fairness Act</strong></p><...   \n",
       "updateDate                                                 2025-10-20T19:23:15Z   \n",
       "versionCode                                                                   0   \n",
       "bill.congress                                                               119   \n",
       "bill.number                                                                3012   \n",
       "bill.originChamber                                                       Senate   \n",
       "bill.originChamberCode                                                        S   \n",
       "bill.title                                                Shutdown Fairness Act   \n",
       "bill.type                                                                     S   \n",
       "bill.updateDateIncludingText                                         2025-10-21   \n",
       "bill.url                      https://api.congress.gov/v3/bill/119/s/3012?fo...   \n",
       "\n",
       "                                                                              1  \\\n",
       "actionDate                                                           2025-10-08   \n",
       "actionDesc                                                  Introduced in House   \n",
       "currentChamber                                                            House   \n",
       "currentChamberCode                                                            H   \n",
       "lastSummaryUpdateDate                                      2025-10-20T14:56:29Z   \n",
       "text                          <p><strong>Federal Worker Childcare Protection...   \n",
       "updateDate                                                 2025-10-20T14:56:58Z   \n",
       "versionCode                                                                   0   \n",
       "bill.congress                                                               119   \n",
       "bill.number                                                                5720   \n",
       "bill.originChamber                                                        House   \n",
       "bill.originChamberCode                                                        H   \n",
       "bill.title                      Federal Worker Childcare Protection Act of 2025   \n",
       "bill.type                                                                    HR   \n",
       "bill.updateDateIncludingText                                         2025-10-20   \n",
       "bill.url                      https://api.congress.gov/v3/bill/119/hr/5720?f...   \n",
       "\n",
       "                                                                              2  \n",
       "actionDate                                                           2025-10-08  \n",
       "actionDesc                                                  Introduced in House  \n",
       "currentChamber                                                            House  \n",
       "currentChamberCode                                                            H  \n",
       "lastSummaryUpdateDate                                      2025-10-20T14:06:32Z  \n",
       "text                          <p>This bill requires the federal government t...  \n",
       "updateDate                                                 2025-10-20T14:07:00Z  \n",
       "versionCode                                                                   0  \n",
       "bill.congress                                                               119  \n",
       "bill.number                                                                5705  \n",
       "bill.originChamber                                                        House  \n",
       "bill.originChamberCode                                                        H  \n",
       "bill.title                    To authorize the reimbursement by the Federal ...  \n",
       "bill.type                                                                    HR  \n",
       "bill.updateDateIncludingText                                         2025-10-20  \n",
       "bill.url                      https://api.congress.gov/v3/bill/119/hr/5705?f...  "
      ]
     },
     "execution_count": 99,
     "metadata": {},
     "output_type": "execute_result"
    }
   ],
   "source": [
    "bill_summaries.head(3).T"
   ]
  },
  {
   "cell_type": "code",
   "execution_count": 100,
   "metadata": {},
   "outputs": [
    {
     "name": "stdout",
     "output_type": "stream",
     "text": [
      "actionDate\n",
      "False\n",
      "actionDesc\n",
      "False\n",
      "currentChamber\n",
      "False\n",
      "currentChamberCode\n",
      "False\n",
      "lastSummaryUpdateDate\n",
      "False\n",
      "text\n",
      "False\n",
      "updateDate\n",
      "False\n",
      "versionCode\n",
      "False\n",
      "bill.congress\n",
      "True\n",
      "bill.number\n",
      "True\n",
      "bill.originChamber\n",
      "True\n",
      "bill.originChamberCode\n",
      "True\n",
      "bill.title\n",
      "True\n",
      "bill.type\n",
      "True\n",
      "bill.updateDateIncludingText\n",
      "True\n",
      "bill.url\n",
      "True\n"
     ]
    }
   ],
   "source": [
    "for c in bill_summaries.columns:\n",
    "        print(c)\n",
    "        d = bill_summaries.groupby(['bill.type', 'bill.number']).agg({c: 'nunique'})\n",
    "        print(np.mean(d[c]) == 1)\n"
   ]
  },
  {
   "cell_type": "code",
   "execution_count": 101,
   "metadata": {},
   "outputs": [],
   "source": [
    "bills = bill_summaries[['bill.type', 'bill.number', 'bill.congress', 'bill.originChamber', \n",
    "                       'bill.originChamberCode', 'bill.title', 'bill.updateDateIncludingText',\n",
    "                       'bill.url']].drop_duplicates()\n",
    "bills.columns = [c.lower().replace('.', '_') for c in bills.columns]\n",
    "bills.to_csv('../data/thirdNF/bills.csv')\n"
   ]
  },
  {
   "cell_type": "code",
   "execution_count": 102,
   "metadata": {},
   "outputs": [],
   "source": [
    "bill_versions = bill_summaries.drop(['bill.congress', 'bill.originChamber', \n",
    "                       'bill.originChamberCode', 'bill.title', 'bill.updateDateIncludingText',\n",
    "                       'bill.url'], axis=1)"
   ]
  },
  {
   "cell_type": "code",
   "execution_count": 103,
   "metadata": {},
   "outputs": [],
   "source": [
    "bill_versions .columns = [c.lower().replace('.', '_') for c in bill_versions.columns]\n",
    "bill_versions.to_csv('../data/thirdNF/bill_versions.csv')"
   ]
  },
  {
   "cell_type": "code",
   "execution_count": 94,
   "metadata": {},
   "outputs": [
    {
     "data": {
      "application/vnd.microsoft.datawrangler.viewer.v0+json": {
       "columns": [
        {
         "name": "index",
         "rawType": "object",
         "type": "string"
        },
        {
         "name": "0",
         "rawType": "object",
         "type": "unknown"
        },
        {
         "name": "1",
         "rawType": "object",
         "type": "unknown"
        },
        {
         "name": "2",
         "rawType": "object",
         "type": "unknown"
        }
       ],
       "ref": "c2531510-2830-4993-8976-f9ce2817fba6",
       "rows": [
        [
         "bioname",
         "GRASSLEY, Charles Ernest",
         "GRASSLEY, Charles Ernest",
         "GRASSLEY, Charles Ernest"
        ],
        [
         "comparison_member",
         "MARKEY, Edward John",
         "SCHUMER, Charles Ellis (Chuck)",
         "WYDEN, Ronald Lee"
        ],
        [
         "agree",
         "0.0210526315789473",
         "0.0719298245614035",
         "0.0526315789473684"
        ]
       ],
       "shape": {
        "columns": 3,
        "rows": 3
       }
      },
      "text/html": [
       "<div>\n",
       "<style scoped>\n",
       "    .dataframe tbody tr th:only-of-type {\n",
       "        vertical-align: middle;\n",
       "    }\n",
       "\n",
       "    .dataframe tbody tr th {\n",
       "        vertical-align: top;\n",
       "    }\n",
       "\n",
       "    .dataframe thead th {\n",
       "        text-align: right;\n",
       "    }\n",
       "</style>\n",
       "<table border=\"1\" class=\"dataframe\">\n",
       "  <thead>\n",
       "    <tr style=\"text-align: right;\">\n",
       "      <th></th>\n",
       "      <th>0</th>\n",
       "      <th>1</th>\n",
       "      <th>2</th>\n",
       "    </tr>\n",
       "  </thead>\n",
       "  <tbody>\n",
       "    <tr>\n",
       "      <th>bioname</th>\n",
       "      <td>GRASSLEY, Charles Ernest</td>\n",
       "      <td>GRASSLEY, Charles Ernest</td>\n",
       "      <td>GRASSLEY, Charles Ernest</td>\n",
       "    </tr>\n",
       "    <tr>\n",
       "      <th>comparison_member</th>\n",
       "      <td>MARKEY, Edward John</td>\n",
       "      <td>SCHUMER, Charles Ellis (Chuck)</td>\n",
       "      <td>WYDEN, Ronald Lee</td>\n",
       "    </tr>\n",
       "    <tr>\n",
       "      <th>agree</th>\n",
       "      <td>0.021053</td>\n",
       "      <td>0.07193</td>\n",
       "      <td>0.052632</td>\n",
       "    </tr>\n",
       "  </tbody>\n",
       "</table>\n",
       "</div>"
      ],
      "text/plain": [
       "                                          0                               1  \\\n",
       "bioname            GRASSLEY, Charles Ernest        GRASSLEY, Charles Ernest   \n",
       "comparison_member       MARKEY, Edward John  SCHUMER, Charles Ellis (Chuck)   \n",
       "agree                              0.021053                         0.07193   \n",
       "\n",
       "                                          2  \n",
       "bioname            GRASSLEY, Charles Ernest  \n",
       "comparison_member         WYDEN, Ronald Lee  \n",
       "agree                              0.052632  "
      ]
     },
     "execution_count": 94,
     "metadata": {},
     "output_type": "execute_result"
    }
   ],
   "source": [
    "vote_compare.head(3).T"
   ]
  },
  {
   "cell_type": "code",
   "execution_count": 104,
   "metadata": {},
   "outputs": [],
   "source": [
    "vote_compare.to_csv('../data/thirdNF/vote_compare.csv', index=False)"
   ]
  }
 ],
 "metadata": {
  "kernelspec": {
   "display_name": "ds6600",
   "language": "python",
   "name": "python3"
  },
  "language_info": {
   "codemirror_mode": {
    "name": "ipython",
    "version": 3
   },
   "file_extension": ".py",
   "mimetype": "text/x-python",
   "name": "python",
   "nbconvert_exporter": "python",
   "pygments_lexer": "ipython3",
   "version": "3.13.5"
  }
 },
 "nbformat": 4,
 "nbformat_minor": 2
}
